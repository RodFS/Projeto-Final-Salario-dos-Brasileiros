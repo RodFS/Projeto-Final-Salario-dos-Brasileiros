{
 "cells": [
  {
   "cell_type": "markdown",
   "id": "be803057-65ec-4903-bdbe-d2f560de157c",
   "metadata": {},
   "source": [
    "# Importando bibliotecas"
   ]
  },
  {
   "cell_type": "code",
   "execution_count": 1,
   "id": "df997279-eeca-4618-a5c0-9b9012858c3e",
   "metadata": {},
   "outputs": [],
   "source": [
    "from pyspark.sql import SparkSession\n",
    "from pyspark.sql.functions import *\n",
    "from pyspark.sql.window import Window as W\n",
    "from pyspark.sql.types import *"
   ]
  },
  {
   "cell_type": "markdown",
   "id": "e3d1cb75-547b-47f6-aec7-be4605acab1b",
   "metadata": {},
   "source": [
    "# Criando Spark session"
   ]
  },
  {
   "cell_type": "code",
   "execution_count": 2,
   "id": "3229b4c0-c5b4-4178-bd3a-3f34bdc38548",
   "metadata": {},
   "outputs": [],
   "source": [
    "spark = (SparkSession\n",
    "        .builder\n",
    "        .master('local')\n",
    "        .appName('Pyspark_MG')\n",
    "        .config('spark.ui.port', '4050')\n",
    "        .getOrCreate()\n",
    "        )"
   ]
  },
  {
   "cell_type": "markdown",
   "id": "fbab7b6e-c177-4b22-b136-036110ecb67e",
   "metadata": {
    "tags": []
   },
   "source": [
    "# Extração de dados - Minas Gerais"
   ]
  },
  {
   "cell_type": "code",
   "execution_count": 3,
   "id": "d3b66da9-a21c-447b-87f2-4379256321dd",
   "metadata": {},
   "outputs": [
    {
     "name": "stderr",
     "output_type": "stream",
     "text": [
      "                                                                                \r"
     ]
    }
   ],
   "source": [
    "# Leitura do arquivo do bucket em formato parquet\n",
    "df = spark.read.parquet('gs://projeto_final_2021/pandas_to_parquet/MG_parquet/df_optimized.snappy')"
   ]
  },
  {
   "cell_type": "code",
   "execution_count": 4,
   "id": "16e22deb-bbda-4033-9a29-c53c5845e4ce",
   "metadata": {},
   "outputs": [
    {
     "name": "stdout",
     "output_type": "stream",
     "text": [
      "root\n",
      " |-- masp: double (nullable = true)\n",
      " |-- nome: string (nullable = true)\n",
      " |-- descsitser: string (nullable = true)\n",
      " |-- nmefet: string (nullable = true)\n",
      " |-- tem_apost: string (nullable = true)\n",
      " |-- desccomi: string (nullable = true)\n",
      " |-- descinst: string (nullable = true)\n",
      " |-- descunid: string (nullable = true)\n",
      " |-- carga_hora: double (nullable = true)\n",
      " |-- remuner: double (nullable = true)\n",
      " |-- teto: double (nullable = true)\n",
      " |-- judic: string (nullable = true)\n",
      " |-- ferias: double (nullable = true)\n",
      " |-- decter: double (nullable = true)\n",
      " |-- premio: long (nullable = true)\n",
      " |-- feriasprem: double (nullable = true)\n",
      " |-- jetons: double (nullable = true)\n",
      " |-- eventual: double (nullable = true)\n",
      " |-- ir: double (nullable = true)\n",
      " |-- prev: double (nullable = true)\n",
      " |-- rem_pos: double (nullable = true)\n",
      " |-- bdmg: double (nullable = true)\n",
      " |-- cemig: double (nullable = true)\n",
      " |-- codemig: long (nullable = true)\n",
      " |-- cohab: double (nullable = true)\n",
      " |-- copasa: double (nullable = true)\n",
      " |-- emater: double (nullable = true)\n",
      " |-- epamig: double (nullable = true)\n",
      " |-- funpemg: long (nullable = true)\n",
      " |-- gasmig: double (nullable = true)\n",
      " |-- mgi: double (nullable = true)\n",
      " |-- mgs: double (nullable = true)\n",
      " |-- prodemge: long (nullable = true)\n",
      " |-- prominas: long (nullable = true)\n",
      " |-- emip: long (nullable = true)\n",
      " |-- ano: long (nullable = true)\n",
      " |-- mes: long (nullable = true)\n",
      " |-- codemge: double (nullable = true)\n",
      " |-- emc: double (nullable = true)\n",
      "\n"
     ]
    }
   ],
   "source": [
    "# Visualização do schema e tipo de dados\n",
    "df.printSchema()"
   ]
  },
  {
   "cell_type": "markdown",
   "id": "e357317a-e6c3-40c9-b81a-b00997a96860",
   "metadata": {},
   "source": [
    "## Transformações"
   ]
  },
  {
   "cell_type": "code",
   "execution_count": 15,
   "id": "9cf4dccd-3fa5-4756-b9d8-e8aae7ebfcf5",
   "metadata": {},
   "outputs": [],
   "source": [
    "# Selecionando colunas para manter no data frame\n",
    "cols_to_keep = {'mes', 'ano', 'nome', 'descsitser', 'nmefet', 'remuner', 'rem_pos'}\n",
    "# Selecionando colunas para exluir do data frame \n",
    "cols_to_drop = list(set(df.schema.names).difference(cols_to_keep))\n",
    "# Definido valor padrão para coluna estado\n",
    "value = 'MG'\n",
    "# Realizando drop das colunas não desejáveis e adicionando a coluna estado\n",
    "df_mg = df.drop(*cols_to_drop).withColumn('estado', lit(value).cast('string'))"
   ]
  },
  {
   "cell_type": "code",
   "execution_count": 16,
   "id": "d789d9cf-4199-4d3a-baa7-fc304a19a624",
   "metadata": {},
   "outputs": [
    {
     "name": "stderr",
     "output_type": "stream",
     "text": [
      "[Stage 10:>                                                         (0 + 1) / 1]\r"
     ]
    },
    {
     "name": "stdout",
     "output_type": "stream",
     "text": [
      "+--------------------+--------+--------------------+------------+--------------+----+---+------+\n",
      "|                nome|situacao|               cargo|salarioBruto|salarioLiquido| ano|mes|estado|\n",
      "+--------------------+--------+--------------------+------------+--------------+----+---+------+\n",
      "|   AARAO LOPES COSTA|   ATIVO|                CABO|      5692.0|       4668.11|2020|  1|    MG|\n",
      "|AARAO MARQUES DA ...|   ATIVO|AGENTE DE SEGURAN...|      4778.5|       4117.18|2020|  1|    MG|\n",
      "|  AARON DUARTE DALLA|   ATIVO|ESPEC.EM POLITICA...|     20490.7|      16217.44|2020|  1|    MG|\n",
      "|AARON FERRAREZ BO...|   ATIVO|             SD 1 CL|     4508.26|       3728.25|2020|  1|    MG|\n",
      "|AARON FRANCA TEOFILO|   ATIVO|PROFESSOR DE EDUC...|     3124.36|       3875.45|2020|  1|    MG|\n",
      "|ABADIA APARECIDA ...|   ATIVO|AUXILIAR DE SERVI...|     1091.13|       1338.45|2020|  1|    MG|\n",
      "|ABADIA APARECIDA ...|   ATIVO|AUXILIAR DE SERVI...|     1128.76|       1384.61|2020|  1|    MG|\n",
      "|ABADIA APARECIDA ...|   ATIVO|PROFESSOR DE EDUC...|     1601.72|       1438.16|2020|  1|    MG|\n",
      "|ABADIA APARECIDA ...|   ATIVO|AUXILIAR DE SERVI...|     1128.76|       1384.61|2020|  1|    MG|\n",
      "|ABADIA APARECIDA ...|   ATIVO|PROFESSOR DE EDUC...|      1463.3|       1775.47|2020|  1|    MG|\n",
      "|ABADIA APARECIDA ...|   ATIVO|PROFESSOR DE EDUC...|      711.87|        863.74|2020|  1|    MG|\n",
      "|ABADIA APARECIDA ...|   ATIVO|PROFESSOR DE EDUC...|     3084.28|       4004.53|2020|  1|    MG|\n",
      "|ABADIA CALDAS TEI...|   ATIVO|AUXILIAR DE SERVI...|     1128.76|       1384.61|2020|  1|    MG|\n",
      "| ABADIA CAMILA ROCHA|   ATIVO|PROFESSOR DE EDUC...|      2185.2|       1961.67|2020|  1|    MG|\n",
      "|ABADIA CONSUELO P...| INATIVO|PROFESSOR DE EDUC...|     2629.02|       2373.42|2020|  1|    MG|\n",
      "|ABADIA CONSUELO P...|   ATIVO|PROFESSOR DE EDUC...|     2649.75|       2924.54|2020|  1|    MG|\n",
      "|ABADIA DE FATIMA ...|   ATIVO|ASSISTENTE TECNIC...|      3422.6|       3037.23|2020|  1|    MG|\n",
      "|ABADIA DE FATIMA ...| INATIVO|PROFESSOR DE EDUC...|     4821.71|       4015.49|2020|  1|    MG|\n",
      "|ABADIA DE FATIMA ...|   ATIVO|PROFESSOR DE EDUC...|     3625.31|       2701.06|2020|  1|    MG|\n",
      "|ABADIA DE FATIMA ...|   ATIVO|PROFESSOR DE EDUC...|     2899.16|        2549.0|2020|  1|    MG|\n",
      "+--------------------+--------+--------------------+------------+--------------+----+---+------+\n",
      "only showing top 20 rows\n",
      "\n"
     ]
    },
    {
     "name": "stderr",
     "output_type": "stream",
     "text": [
      "                                                                                \r"
     ]
    }
   ],
   "source": [
    "# Renomeando colunas para melhor identificação\n",
    "df_mg = (df_mg.withColumnRenamed('descsitser','situacao')\n",
    "              .withColumnRenamed('nmefet','cargo')\n",
    "              .withColumnRenamed('remuner','salarioBruto')\n",
    "              .withColumnRenamed('rem_pos','salarioLiquido'))\n",
    "\n",
    "# Gerando visualização\n",
    "df_mg.show()"
   ]
  },
  {
   "cell_type": "markdown",
   "id": "58cb0048-db94-4f01-9014-79efae59462c",
   "metadata": {},
   "source": [
    "# Salvar arquivo"
   ]
  },
  {
   "cell_type": "code",
   "execution_count": 14,
   "id": "6d793dc8-1d64-4023-a9e6-9bfa27960120",
   "metadata": {},
   "outputs": [
    {
     "name": "stderr",
     "output_type": "stream",
     "text": [
      "                                                                                \r"
     ]
    }
   ],
   "source": [
    "# Salvando em formato parquet\n",
    "(df_mg.write.format(\"parquet\")\n",
    ".option(\"header\", \"true\")\n",
    ".option(\"inferschema\", \"true\")\n",
    ".save(\"gs://projeto_final_2021/parquet_to_bq/MG/\")\n",
    ")"
   ]
  }
 ],
 "metadata": {
  "kernelspec": {
   "display_name": "PySpark",
   "language": "python",
   "name": "pyspark"
  },
  "language_info": {
   "codemirror_mode": {
    "name": "ipython",
    "version": 3
   },
   "file_extension": ".py",
   "mimetype": "text/x-python",
   "name": "python",
   "nbconvert_exporter": "python",
   "pygments_lexer": "ipython3",
   "version": "3.8.12"
  },
  "toc-autonumbering": false
 },
 "nbformat": 4,
 "nbformat_minor": 5
}