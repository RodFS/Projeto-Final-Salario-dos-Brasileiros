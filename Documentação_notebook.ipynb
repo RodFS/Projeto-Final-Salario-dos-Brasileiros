{
 "cells": [
  {
   "cell_type": "markdown",
   "id": "2dca6911-7dc0-4c0c-af99-825e0cd5c5ed",
   "metadata": {},
   "source": [
    "# Salário dos brasileiros\n",
    "###           projeto final\n",
    "##### SoulCode Academy - 2021"
   ]
  },
  {
   "cell_type": "raw",
   "id": "bd7b48a0-13cb-406e-8f20-e2fe00e41f2f",
   "metadata": {},
   "source": [
    "Débora Mendes de Azevedo;\n",
    "Igor de Freitas Cruz;\n",
    "Rodrigo Ferreira da Silva;\n",
    "Sabrina Lopes da Costa."
   ]
  },
  {
   "cell_type": "markdown",
   "id": "1c8a85ca-24ce-408c-ac21-d1aafbf7eecd",
   "metadata": {},
   "source": [
    "# Arquivos:"
   ]
  },
  {
   "cell_type": "code",
   "execution_count": null,
   "id": "2c92da15-2ee3-444e-ac98-c43ec3159f51",
   "metadata": {},
   "outputs": [],
   "source": [
    "#Arquivos dos municípios dos estados da região sudeste já concatenados.\n",
    "gs://projeto_final_2021/pandas_to_parquet/ES_parquet/ES_completo.snappy \n",
    "gs://projeto_final_2021/pandas_to_parquet/MG_parquet/df_optimized.snappy\n",
    "gs://projeto_final_2021/pandas_to_parquet/RJ_parquet/df_completo.snappy\n",
    "gs://projeto_final_2021/pandas_to_parquet/SP_parquet/df_SP.snappy\n",
    "gs://projeto_final_2021/pandas_to_parquet/IPCA_parquet/IPCA_prod_serv.snappy\n",
    "gs://projeto_final_2021/pandas_to_parquet/IPCA_parquet/df_ipca_estadual.snappy\n",
    "gs://projeto_final_2021/pandas_to_parquet/IPCA_parquet/df_ipca_nacional.snappy\n",
    "gs://projeto_final_2021/pandas_to_parquet/PIB_parquet/df_PIB.snappy"
   ]
  },
  {
   "cell_type": "markdown",
   "id": "a26ae9a2-917a-4c40-9a9a-80f1dec76714",
   "metadata": {},
   "source": [
    "# PANDAS "
   ]
  },
  {
   "cell_type": "raw",
   "id": "a67836c7-62f4-4129-818b-c7bc2a795410",
   "metadata": {},
   "source": [
    "Este processo tomou cerca de 40% do tempo total do projeto, considerando o tamanho das das tabelas e a quantidade astronômica de inconsistências que cada integrante encontrou em seu dataset. "
   ]
  },
  {
   "cell_type": "markdown",
   "id": "79325056-5ab8-48de-a1f4-9b214f3e59e1",
   "metadata": {},
   "source": [
    "## Importação de bibliotecas "
   ]
  },
  {
   "cell_type": "code",
   "execution_count": null,
   "id": "0bd17334-38a8-4304-b304-003f6a648259",
   "metadata": {},
   "outputs": [],
   "source": [
    "import pandas as pd"
   ]
  },
  {
   "cell_type": "code",
   "execution_count": null,
   "id": "c8e9fbff-dccf-4dca-bdec-a6872645b07d",
   "metadata": {},
   "outputs": [],
   "source": [
    "# Para realizar cálculos\n",
    "import numpy as np"
   ]
  },
  {
   "cell_type": "code",
   "execution_count": null,
   "id": "9a03564f-01e0-4330-80f1-b7378c3f7d1b",
   "metadata": {},
   "outputs": [],
   "source": [
    "# Para Validação de dados\n",
    "import pandera as pa"
   ]
  },
  {
   "cell_type": "code",
   "execution_count": null,
   "id": "f155f60b-d0f1-4052-8d66-d90666e89c10",
   "metadata": {},
   "outputs": [],
   "source": [
    "# Para aompanhar o andamento de uma função \"for\"\n",
    "from tqdm import tqdm "
   ]
  },
  {
   "cell_type": "code",
   "execution_count": null,
   "id": "1f5ffd07-1fcf-43c0-acc7-8c04291c27e8",
   "metadata": {},
   "outputs": [],
   "source": [
    "# Para ler arquivos CSV\n",
    "import csv"
   ]
  },
  {
   "cell_type": "code",
   "execution_count": null,
   "id": "637a7765-732e-40c5-a12f-c6b51a55b68f",
   "metadata": {},
   "outputs": [],
   "source": [
    "# Para leitura de caracteres como \"ç\" e acentos.\n",
    "import locale"
   ]
  },
  {
   "cell_type": "markdown",
   "id": "c1f1d9d6-a933-4986-9c8a-d16f4ad93f0e",
   "metadata": {},
   "source": [
    "## Extração de arquivos do bucket"
   ]
  },
  {
   "cell_type": "raw",
   "id": "b6bcd4b7-eed2-49f3-933d-121416955121",
   "metadata": {},
   "source": [
    "Foi relizado de duas formas:"
   ]
  },
  {
   "cell_type": "markdown",
   "id": "2f90b15f-2722-43ee-9aca-f22e14e32584",
   "metadata": {},
   "source": [
    "### Modo A:"
   ]
  },
  {
   "cell_type": "code",
   "execution_count": null,
   "id": "f50a4415-7e20-43b2-a5e4-d5fd50549cae",
   "metadata": {},
   "outputs": [],
   "source": [
    "#Criando um arquivo txt com o caminho absoluto dos arquivos csv\n",
    "!gsutil list gs://projeto_final_2021/entrada/Espirito Santo/*.xlsx > path_to_files.txt"
   ]
  },
  {
   "cell_type": "code",
   "execution_count": null,
   "id": "b13663fa-db96-49d9-a9be-91d6648adfc3",
   "metadata": {},
   "outputs": [],
   "source": [
    "#Criando uma lista com o caminho dos arquivos csv\n",
    "with open('caminho_arquivos_2020.txt', 'r') as path:\n",
    "    paths = csv.reader(path)\n",
    "    df = []\n",
    "    for row in paths:\n",
    "        df.append(*row)\n",
    "\n",
    "with open('caminho_arquivos_2021.txt', 'r') as path:\n",
    "    paths = csv.reader(path)\n",
    "    df = []\n",
    "    for row in paths:\n",
    "        df.append(*row)\n"
   ]
  },
  {
   "cell_type": "code",
   "execution_count": null,
   "id": "9ab3082e-2f15-4972-a469-27b2e4c495e6",
   "metadata": {},
   "outputs": [],
   "source": [
    "#Criação de um novo Dataframe. \n",
    "df = pd.DataFrame()\n",
    "#Atribuição de itens da lista ao dataframe e concatenação de cada um dos itens.\n",
    "for i in ES_try:\n",
    "    tab_all = pd.read_excel(i)\n",
    "    df = pd.concat([df, tab_all], axis=0, ignore_index=True)"
   ]
  },
  {
   "cell_type": "markdown",
   "id": "fc381434-22f9-44d7-9468-e82f82c5da04",
   "metadata": {},
   "source": [
    "### Modo B"
   ]
  },
  {
   "cell_type": "code",
   "execution_count": null,
   "id": "2249d34f-48df-4fd7-8620-301c15f758c9",
   "metadata": {},
   "outputs": [],
   "source": [
    "#Extração de arquivos de forma unitária.\n",
    "df1 = pd.read_excel('gs://projeto_final_2021/entrada/RJ/2021/Planilha_19112021_182835.xlsx')\n",
    "df2 = pd.read_excel('gs://projeto_final_2021/entrada/RJ/2021/Planilha_19112021_182904.xlsx')\n",
    "df3 = pd.read_excel('gs://projeto_final_2021/entrada/RJ/2021/Planilha_19112021_182926.xlsx')\n",
    "df4 = pd.read_excel('gs://projeto_final_2021/entrada/RJ/2021/Planilha_19112021_182941.xlsx')\n",
    "df5 = pd.read_excel('gs://projeto_final_2021/entrada/RJ/2021/Planilha_19112021_182956.xlsx')\n",
    "df6 = pd.read_excel('gs://projeto_final_2021/entrada/RJ/2021/Planilha_19112021_183016.xlsx')\n",
    "df7 = pd.read_excel('gs://projeto_final_2021/entrada/RJ/2021/Planilha_27112021_081425.xlsx')\n",
    "df8 = pd.read_excel('gs://projeto_final_2021/entrada/RJ/2021/Planilha_19112021_183043.xlsx')\n",
    "df9 = pd.read_excel('gs://projeto_final_2021/entrada/RJ/2020/Planilha_19112021_183356.xlsx')\n",
    "df10 = pd.read_excel('gs://projeto_final_2021/entrada/RJ/2020/Planilha_19112021_183426.xlsx')\n",
    "df11 = pd.read_excel('gs://projeto_final_2021/entrada/RJ/2020/Planilha_19112021_183444.xlsx')\n",
    "df12 = pd.read_excel('gs://projeto_final_2021/entrada/RJ/2020/Planilha_19112021_183524.xlsx')\n",
    "df13 = pd.read_excel('gs://projeto_final_2021/entrada/RJ/2020/Planilha_19112021_183541.xlsx')\n",
    "df14 = pd.read_excel('gs://projeto_final_2021/entrada/RJ/2020/Planilha_19112021_183558.xlsx')\n",
    "df15 = pd.read_excel('gs://projeto_final_2021/entrada/RJ/2020/Planilha_19112021_183612.xlsx')\n",
    "df16 = pd.read_excel('gs://projeto_final_2021/entrada/RJ/2020/Planilha_19112021_183627.xlsx')\n",
    "df17 = pd.read_excel('gs://projeto_final_2021/entrada/RJ/2020/Planilha_19112021_183640.xlsx')\n",
    "df18 = pd.read_excel('gs://projeto_final_2021/entrada/RJ/2020/Planilha_19112021_183653.xlsx')\n",
    "df19 = pd.read_excel('gs://projeto_final_2021/entrada/RJ/2020/Planilha_19112021_183708.xlsx')\n",
    "df20 = pd.read_excel('gs://projeto_final_2021/entrada/RJ/2020/Planilha_19112021_183738.xlsx')\n"
   ]
  },
  {
   "cell_type": "code",
   "execution_count": null,
   "id": "19b08a94-020e-4746-a9ca-095587f90302",
   "metadata": {},
   "outputs": [],
   "source": [
    "#concatenação com .concat()\n",
    "df= pd.concat([df1, df2, df3, df4, df5, df6, df7, df8, df9, df10, df11, df12, df13, df14, df15, df16,df17,df18,df19,df20], axis=0, ignore_index=True)"
   ]
  },
  {
   "cell_type": "markdown",
   "id": "9cfb509d-9902-415b-8be8-425b1e2f49e1",
   "metadata": {},
   "source": [
    "### Modo C"
   ]
  },
  {
   "cell_type": "raw",
   "id": "059130c8-21a4-4d58-8e22-7e3d3d81cf57",
   "metadata": {},
   "source": [
    "Importante ressaltar que cada extração foi realizada de acordo com as peculiaridade dos arquivos. O modo C foi aplicado para extrair os sheets do excel e concatená-los."
   ]
  },
  {
   "cell_type": "code",
   "execution_count": null,
   "id": "8d7f6d35-a2f2-46e4-9a82-afec77a65591",
   "metadata": {},
   "outputs": [],
   "source": [
    "#CAMINHO DO ARQUIVO\n",
    "xls = pd.ExcelFile('gs://projeto_final_2021/entrada/SP/folhas-de-pagamento-da-administracao-indireta-2020.xlsx')\n",
    "\n",
    "#CRIAÇÃO DO DATAFRAME\n",
    "df = pd.DataFrame()\n",
    "\n",
    "#CONCATENAÇÃO DE TODAS AS TABELAS (ANO DE 2020) POR MEIO DE UM LOOP\n",
    "for i in range(0,20):\n",
    "    tabela = pd.read_excel(xls, sheet_name=i)\n",
    "    df = pd.concat([df, tabela], axis=0, ignore_index=True)\n",
    "\n",
    "#COM SHEET_NAME FOI POSSÍVEL CHAMAR CADA ABA DO EXCEL POR MEIO DE ÍNDICES\n",
    "#AXIS = 0 INDICA QUE A CONCATENAÇÃO SERÁ FEITA PELO EIXO X (LINHAS)"
   ]
  },
  {
   "cell_type": "code",
   "execution_count": null,
   "id": "1a3b4dbf-9564-47bf-8b20-5fbb20bd75f9",
   "metadata": {},
   "outputs": [],
   "source": [
    "#CAMINHO DO ARQUIVO\n",
    "xls2 = pd.ExcelFile('gs://projeto_final_2021/entrada/SP/entes-unificadosateagosto2021.xlsx')\n",
    "\n",
    "#TABELA (ANO DE 2021) PARA DATAFRAME\n",
    "df2 = pd.read_excel(xls2, sheet_name=0)"
   ]
  },
  {
   "cell_type": "code",
   "execution_count": null,
   "id": "7039ed88-cc32-4458-a5c5-3a1d4660ad4b",
   "metadata": {},
   "outputs": [],
   "source": [
    "#CONCATENAR DATAFRAMES\n",
    "df_tds = pd.concat([df,df2], axis=0, ignore_index=True)"
   ]
  },
  {
   "cell_type": "markdown",
   "id": "57e3c25f-76ac-4c64-ad54-0ecc16f25e34",
   "metadata": {},
   "source": [
    "## Limpeza"
   ]
  },
  {
   "cell_type": "raw",
   "id": "fdb38735-8a6d-4c59-9b6d-2310302eeab1",
   "metadata": {},
   "source": [
    "A limpeza e normalização dos datasets foi feita de forma padronizada previamente decidida pelo grupo, já que cada um dos integrantes ficou responsável por um dataset.\n"
   ]
  },
  {
   "cell_type": "code",
   "execution_count": null,
   "id": "d99319b7-4488-4e5a-879f-6d4fe1541940",
   "metadata": {},
   "outputs": [],
   "source": [
    "# Foram verificados os nulos\n",
    "df.isna().sum()"
   ]
  },
  {
   "cell_type": "code",
   "execution_count": null,
   "id": "893e32b0-4c46-440d-bbce-33240c4dc236",
   "metadata": {},
   "outputs": [],
   "source": [
    "# Adicionada a coluna de seu respectivo estado\n",
    "df['Estado'] = 'UF'"
   ]
  },
  {
   "cell_type": "code",
   "execution_count": null,
   "id": "27a72f6b-50bf-4f58-b39a-5fe8b51f2e46",
   "metadata": {},
   "outputs": [],
   "source": [
    "# Verificação e normalização do tipo de dados de cada coluna\n",
    "df.dtypes\n",
    "#TRANSFORMAR COLUNAS PARA INT\n",
    "colunas_int = [\"MÊS\",\"ANO\",\"NASCIMENTO\"]\n",
    "\n",
    "for C in colunas_int:\n",
    "    df_tds[C] = pd.to_numeric(df_tds[C])\n",
    "    \n",
    "#COLUNAS PARA FLOAT\n",
    "colunas_float = [\"VENCIMENTOS\",\"ENCARGOS\",\"BENEFÍCIOS\",\"OUTRAS_REMUNERAÇÕES\"]\n",
    "\n",
    "for C in colunas_float:\n",
    "    df_tds[C] = pd.to_numeric(df_tds[C])\n",
    "\n",
    "#COLUNA PARA DATATIME\n",
    "df_tds[\"ADMISSÃO\"] = pd.to_datetime(df_tds[\"ADMISSÃO\"])\n"
   ]
  },
  {
   "cell_type": "code",
   "execution_count": null,
   "id": "5aa9f7b8-c7a2-4f9c-97ec-515079373acc",
   "metadata": {},
   "outputs": [],
   "source": [
    "# Verificação de inconsistências\n",
    "sorted(pd.unique(df['coluna x']))"
   ]
  },
  {
   "cell_type": "code",
   "execution_count": null,
   "id": "8a3e3069-a745-439d-b6dc-c480eda51fa8",
   "metadata": {},
   "outputs": [],
   "source": [
    "# Normalização de espaçamento\n",
    "ES_completo[\"QuadroNome\"].replace([\"ACT - Temporário              \",\n",
    "                                   \"Aposentadoria                 \", \n",
    "                                   \"Bolsista                      \", \n",
    "                                   \"CLT                           \", \n",
    "                                   \"Cedidos                       \", \n",
    "                                   \"Estagiario                    \", \n",
    "                                   \"Estatutário-RGPS              \", \n",
    "                                   \"Estatutário-RPPS              \", \n",
    "                                   \"Inat/Pens Moléstia Grave      \", \n",
    "                                   \"Pensao                        \",\n",
    "                                   \"Residente                     \"], [\"ACT - Temporário\", \"Aposentadoria\", \"Bolsista\", \"CLT\", \"Cedidos\", \"Estagiario\", \"Estatuário-RGPS\", \"Estatuário-RPPS\", \"Inat/Pens Moléstia Grave\", \"Pensao\", \"Residente\"], inplace=True)"
   ]
  },
  {
   "cell_type": "code",
   "execution_count": null,
   "id": "c49c681c-06b1-4875-b356-41b3b885def3",
   "metadata": {},
   "outputs": [],
   "source": [
    "# Renomeação de colunas com caracteres especiais ou espaçamento \n",
    "df_tds.rename(\n",
    "    columns={\n",
    "        \"OUTRAS REMUNERAÇÕES\":\"OUTRAS_REMUNERAÇÕES\",\n",
    "        \"DETALHE VÍNCULO\":\"DETALHE_VÍNCULO\"\n",
    "    }, inplace=True)"
   ]
  },
  {
   "cell_type": "code",
   "execution_count": null,
   "id": "61587b91-3a8e-45c8-a4cb-cda58ae85966",
   "metadata": {},
   "outputs": [],
   "source": [
    "# Substiuição de vírgula para ponto\n",
    "for c in tqdm(cols_to_replace):\n",
    "    df[c] = df[c].astype(str)\n",
    "    df[c] = df[c].map(lambda x: x.replace(',','.'))\n",
    "    df[c] = df[c].astype(float)"
   ]
  },
  {
   "cell_type": "markdown",
   "id": "e86110fb-a3c2-4588-9cbb-54f35240ad44",
   "metadata": {},
   "source": [
    "## Validação de Dados "
   ]
  },
  {
   "cell_type": "code",
   "execution_count": null,
   "id": "ccaae669-72ea-4200-83e1-cbbdc7a25dc9",
   "metadata": {},
   "outputs": [],
   "source": [
    "# Com Pandera\n",
    "schema = pa.DataFrameSchema(\n",
    "    columns = {\n",
    "        \"EMPRESA\":pa.Column(pa.String,pa.Check.str_length(2,15)),\n",
    "        \"MÊS\":pa.Column(pa.Int),\n",
    "        \"ANO\":pa.Column(pa.Int),\n",
    "        \"NOME\":pa.Column(pa.String,pa.Check.str_length(0,150), nullable=True),\n",
    "        \"CARGO\":pa.Column(pa.String,pa.Check.str_length(0,100), nullable=True),\n",
    "        \"LOTAÇÃO\":pa.Column(pa.String,pa.Check.str_length(0,100), nullable=True),\n",
    "        \"ADMISSÃO\":pa.Column(pa.DateTime, nullable=True),\n",
    "        \"NASCIMENTO\":pa.Column(pa.Int, nullable=True),\n",
    "        \"VENCIMENTOS\":pa.Column(pa.Float, nullable=True),\n",
    "        \"ENCARGOS\":pa.Column(pa.Float, nullable=True),\n",
    "        \"BENEFÍCIOS\":pa.Column(pa.Float, nullable=True),\n",
    "        \"OUTRAS_REMUNERAÇÕES\":pa.Column(pa.Float, nullable=True),\n",
    "        \"VÍNCULO\":pa.Column(pa.String,pa.Check.str_length(0,100), nullable=True),\n",
    "        \"DETALHE_VÍNCULO\":pa.Column(pa.String,pa.Check.str_length(0,100), nullable=True),\n",
    "        \"LIMINAR\":pa.Column(pa.String,pa.Check.str_length(0,100), nullable=True),\n",
    "    }"
   ]
  },
  {
   "cell_type": "code",
   "execution_count": null,
   "id": "27aff1c4-40cc-4ac5-9a62-48465d99c20f",
   "metadata": {},
   "outputs": [],
   "source": [
    "#Validação do Schema\n",
    "schema.validate(df_tds)"
   ]
  },
  {
   "cell_type": "markdown",
   "id": "072d0c05-40d7-4597-861b-4d0a0ed49ac0",
   "metadata": {},
   "source": [
    "## Otimização de memória"
   ]
  },
  {
   "cell_type": "code",
   "execution_count": null,
   "id": "6e884d4c-5a1a-4c4a-8427-9bffddcf5ef7",
   "metadata": {},
   "outputs": [],
   "source": [
    "# Instanciando um novo DF\n",
    "converted_obj = pd.DataFrame()\n",
    "# Iterar em cada coluna no DF de dtype = OBJECT\n",
    "for col in df_obj.columns:\n",
    "    # Contar numero de valores unicos\n",
    "    num_unique_values = len(df_obj[col].unique())\n",
    "    # Contar o numero total de valores\n",
    "    num_total_values = len(df_obj[col])\n",
    "    # Se os valores unicos forem menores que 50% do total...\n",
    "    if num_unique_values / num_total_values < 0.5:\n",
    "        converted_obj.loc[:,col] = df_obj[col].astype('category')\n",
    "    # Se nao forem, permanecem os mesmos."
   ]
  },
  {
   "cell_type": "code",
   "execution_count": null,
   "id": "c0fa54a6-6d34-4f5b-b802-d68955db7d43",
   "metadata": {},
   "outputs": [],
   "source": [
    "# Total de memória reduzida\n",
    "def mem_usage(pandas_obj:pd.DataFrame)->float:\n",
    "    '''\n",
    "    Esta função retorna a memória do dataframe.\n",
    "    '''\n",
    "    if isinstance(pandas_obj,pd.DataFrame):\n",
    "        usage_b = pandas_obj.memory_usage(deep=True).sum()\n",
    "    else: # Assumindo que se não for um DF é uma série\n",
    "        usage_b = pandas_obj.memory_usage(deep=True)\n",
    "    usage_mb = usage_b / 1024 ** 2 # Convertendo bits para megabytes\n",
    "    return \"{:03.2f} MB\".format(usage_mb)"
   ]
  },
  {
   "cell_type": "code",
   "execution_count": null,
   "id": "b2fcbe05-40a1-43a1-b6f5-000529a605be",
   "metadata": {},
   "outputs": [],
   "source": [
    "# Comparação entre \"antes\" e \"depois\"\n",
    "print(mem_usage(df_obj))\n",
    "print(mem_usage(converted_obj))\n",
    "compare_obj = pd.concat([df_obj.dtypes,converted_obj.dtypes],axis=1)\n",
    "compare_obj.columns = ['before','after']\n",
    "compare_obj.apply(pd.Series.value_counts)"
   ]
  },
  {
   "cell_type": "code",
   "execution_count": null,
   "id": "d8807d5b-4a2f-4a8f-810e-3b396d123123",
   "metadata": {},
   "outputs": [],
   "source": [
    "#OTIMIZAR COLUNAS INT\n",
    "colunas_int = [\"MÊS\",\"ANO\",\"NASCIMENTO\"]\n",
    "\n",
    "for C in colunas_int:\n",
    "    df_otimizado[C] = pd.to_numeric(df_otimizado[C], downcast='integer')\n",
    "    \n",
    "#OTIMIZAR COLUNAS FLOAT\n",
    "colunas_otimizado = [\"VENCIMENTOS\",\"ENCARGOS\",\"BENEFÍCIOS\",\"OUTRAS_REMUNERAÇÕES\"]\n",
    "\n",
    "for C in colunas_float:\n",
    "    df_otimizado[C] = pd.to_numeric(df_otimizado[C], downcast='float')"
   ]
  },
  {
   "cell_type": "markdown",
   "id": "a8bf20cd-228f-4035-8f62-95558c1fd527",
   "metadata": {},
   "source": [
    "## Plot "
   ]
  },
  {
   "cell_type": "raw",
   "id": "0ebc9efa-aa03-4ed2-b55a-475ecbd3301d",
   "metadata": {},
   "source": [
    "Foram realizados plots de forma diversificada entre os integrantes com boxplot e plot.bar."
   ]
  },
  {
   "cell_type": "code",
   "execution_count": null,
   "id": "b5f4e7a0-e133-461f-bc8a-de2565901173",
   "metadata": {},
   "outputs": [],
   "source": [
    "df_optimized['remuner'].plot(kind='hist', \n",
    "                             xlabel='Salário', \n",
    "                             ylabel='Frequência',\n",
    "                             title='Distribuição de salário dos servidores',\n",
    "                             fontsize=16,\n",
    "                             figsize=(12,6))"
   ]
  },
  {
   "cell_type": "code",
   "execution_count": null,
   "id": "f687a795-04f6-40a7-b434-a1c5c12caae6",
   "metadata": {},
   "outputs": [],
   "source": [
    "df_completo_ipca.plot(x=\"Mês\", y=[\"Brasil\", \"Belo_Horizonte_MG\"], kind=\"bar\") "
   ]
  },
  {
   "cell_type": "markdown",
   "id": "c3cb5fe0-2d3b-4461-930d-a173fe7e5a7e",
   "metadata": {},
   "source": [
    "## Salvar em Parquet"
   ]
  },
  {
   "cell_type": "code",
   "execution_count": null,
   "id": "a230f096-481a-4941-9d3f-d0bb6ee90067",
   "metadata": {},
   "outputs": [],
   "source": [
    "df_completo.to_parquet('gs://projeto_final_2021/pandas_to_parquet/IPCA_parquet/df_ipca_estadual.snappy', compression='snappy')"
   ]
  },
  {
   "cell_type": "code",
   "execution_count": null,
   "id": "eb5f2cca-805a-44ac-881d-a94e7bc50f52",
   "metadata": {},
   "outputs": [],
   "source": []
  }
 ],
 "metadata": {
  "kernelspec": {
   "display_name": "Python 3",
   "language": "python",
   "name": "python3"
  },
  "language_info": {
   "codemirror_mode": {
    "name": "ipython",
    "version": 3
   },
   "file_extension": ".py",
   "mimetype": "text/x-python",
   "name": "python",
   "nbconvert_exporter": "python",
   "pygments_lexer": "ipython3",
   "version": "3.8.12"
  },
  "toc-autonumbering": false
 },
 "nbformat": 4,
 "nbformat_minor": 5
}
