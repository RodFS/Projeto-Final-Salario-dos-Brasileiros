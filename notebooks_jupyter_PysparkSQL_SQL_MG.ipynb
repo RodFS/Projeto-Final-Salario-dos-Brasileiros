{
 "cells": [
  {
   "cell_type": "code",
   "execution_count": 1,
   "id": "1c485612-f103-4a8f-950d-402fb122d603",
   "metadata": {},
   "outputs": [
    {
     "name": "stdout",
     "output_type": "stream",
     "text": [
      "\u001b[33mWARNING: Running pip as the 'root' user can result in broken permissions and conflicting behaviour with the system package manager. It is recommended to use a virtual environment instead: https://pip.pypa.io/warnings/venv\u001b[0m\n",
      "Note: you may need to restart the kernel to use updated packages.\n"
     ]
    }
   ],
   "source": [
    "pip install --quiet ipython-sql"
   ]
  },
  {
   "cell_type": "code",
   "execution_count": 2,
   "id": "61a1d670-faee-477c-a339-d753f5017f50",
   "metadata": {},
   "outputs": [],
   "source": [
    "from pyspark.sql import SparkSession\n",
    "from pyspark.sql.functions import *\n",
    "from pyspark.sql.types import *\n",
    "from pyspark.sql.window import Window as W"
   ]
  },
  {
   "cell_type": "code",
   "execution_count": 3,
   "id": "5caab572-1729-4b75-8b0b-5b9193930b97",
   "metadata": {},
   "outputs": [],
   "source": [
    "spark = (SparkSession.builder\n",
    "        .master(\"local\")\n",
    "        .appName(\"PysparkSQL_SP\")\n",
    "        .config(\"spark.ui.port\", \"4050\")\n",
    "        .getOrCreate()\n",
    "        )"
   ]
  },
  {
   "cell_type": "code",
   "execution_count": 4,
   "id": "60a1a675-0eca-4d84-99ab-bf37abb971ac",
   "metadata": {},
   "outputs": [
    {
     "name": "stderr",
     "output_type": "stream",
     "text": [
      "                                                                                \r"
     ]
    }
   ],
   "source": [
    "df = (spark.read.format(\"parquet\")\n",
    "  .option(\"inferSchema\", \"true\")\n",
    "  .option(\"header\", \"true\")\n",
    "  .load(\"gs://projeto_final_2021/parquet_to_bq/MG/part-00000-9d8558ed-a2f8-4115-ba0f-29a4713d8605-c000.snappy.parquet\")\n",
    "  .createOrReplaceTempView(\"mg\")\n",
    "     )"
   ]
  },
  {
   "cell_type": "code",
   "execution_count": 5,
   "id": "d0fcfdfb-750d-44f1-abfd-852fcd9e4846",
   "metadata": {},
   "outputs": [
    {
     "name": "stderr",
     "output_type": "stream",
     "text": [
      "[Stage 2:=======================================>                   (2 + 1) / 3]\r"
     ]
    },
    {
     "name": "stdout",
     "output_type": "stream",
     "text": [
      "+--------------------+--------+--------------------+------------+--------------+----+---+------+\n",
      "|                nome|situacao|               cargo|salarioBruto|salarioLiquido| ano|mes|estado|\n",
      "+--------------------+--------+--------------------+------------+--------------+----+---+------+\n",
      "|   AARAO LOPES COSTA|   ATIVO|                CABO|      5692.0|       4668.11|2020|  1|    MG|\n",
      "|AARAO MARQUES DA ...|   ATIVO|AGENTE DE SEGURAN...|      4778.5|       4117.18|2020|  1|    MG|\n",
      "|  AARON DUARTE DALLA|   ATIVO|ESPEC.EM POLITICA...|     20490.7|      16217.44|2020|  1|    MG|\n",
      "|AARON FERRAREZ BO...|   ATIVO|             SD 1 CL|     4508.26|       3728.25|2020|  1|    MG|\n",
      "|AARON FRANCA TEOFILO|   ATIVO|PROFESSOR DE EDUC...|     3124.36|       3875.45|2020|  1|    MG|\n",
      "|ABADIA APARECIDA ...|   ATIVO|AUXILIAR DE SERVI...|     1091.13|       1338.45|2020|  1|    MG|\n",
      "|ABADIA APARECIDA ...|   ATIVO|AUXILIAR DE SERVI...|     1128.76|       1384.61|2020|  1|    MG|\n",
      "|ABADIA APARECIDA ...|   ATIVO|PROFESSOR DE EDUC...|     1601.72|       1438.16|2020|  1|    MG|\n",
      "|ABADIA APARECIDA ...|   ATIVO|AUXILIAR DE SERVI...|     1128.76|       1384.61|2020|  1|    MG|\n",
      "|ABADIA APARECIDA ...|   ATIVO|PROFESSOR DE EDUC...|      1463.3|       1775.47|2020|  1|    MG|\n",
      "|ABADIA APARECIDA ...|   ATIVO|PROFESSOR DE EDUC...|      711.87|        863.74|2020|  1|    MG|\n",
      "|ABADIA APARECIDA ...|   ATIVO|PROFESSOR DE EDUC...|     3084.28|       4004.53|2020|  1|    MG|\n",
      "|ABADIA CALDAS TEI...|   ATIVO|AUXILIAR DE SERVI...|     1128.76|       1384.61|2020|  1|    MG|\n",
      "| ABADIA CAMILA ROCHA|   ATIVO|PROFESSOR DE EDUC...|      2185.2|       1961.67|2020|  1|    MG|\n",
      "|ABADIA CONSUELO P...| INATIVO|PROFESSOR DE EDUC...|     2629.02|       2373.42|2020|  1|    MG|\n",
      "|ABADIA CONSUELO P...|   ATIVO|PROFESSOR DE EDUC...|     2649.75|       2924.54|2020|  1|    MG|\n",
      "|ABADIA DE FATIMA ...|   ATIVO|ASSISTENTE TECNIC...|      3422.6|       3037.23|2020|  1|    MG|\n",
      "|ABADIA DE FATIMA ...| INATIVO|PROFESSOR DE EDUC...|     4821.71|       4015.49|2020|  1|    MG|\n",
      "|ABADIA DE FATIMA ...|   ATIVO|PROFESSOR DE EDUC...|     3625.31|       2701.06|2020|  1|    MG|\n",
      "|ABADIA DE FATIMA ...|   ATIVO|PROFESSOR DE EDUC...|     2899.16|        2549.0|2020|  1|    MG|\n",
      "+--------------------+--------+--------------------+------------+--------------+----+---+------+\n",
      "only showing top 20 rows\n",
      "\n"
     ]
    },
    {
     "name": "stderr",
     "output_type": "stream",
     "text": [
      "                                                                                \r"
     ]
    }
   ],
   "source": [
    "# Consulta da tabela inteira \n",
    "spark.sql(\"SELECT * FROM mg\").show()"
   ]
  },
  {
   "cell_type": "code",
   "execution_count": 6,
   "id": "e88bc098-305c-4d73-afd3-580585ed199e",
   "metadata": {},
   "outputs": [
    {
     "name": "stderr",
     "output_type": "stream",
     "text": [
      "ivysettings.xml file not found in HIVE_HOME or HIVE_CONF_DIR,/etc/hive/conf.dist/ivysettings.xml will be used\n"
     ]
    },
    {
     "name": "stdout",
     "output_type": "stream",
     "text": [
      "+--------------+---------+-------+\n",
      "|      col_name|data_type|comment|\n",
      "+--------------+---------+-------+\n",
      "|          nome|   string|   null|\n",
      "|      situacao|   string|   null|\n",
      "|         cargo|   string|   null|\n",
      "|  salarioBruto|   double|   null|\n",
      "|salarioLiquido|   double|   null|\n",
      "|           ano|   bigint|   null|\n",
      "|           mes|   bigint|   null|\n",
      "|        estado|   string|   null|\n",
      "+--------------+---------+-------+\n",
      "\n"
     ]
    }
   ],
   "source": [
    "# Descrição de dados da tabela \n",
    "spark.sql('DESCRIBE MG').show(30)"
   ]
  },
  {
   "cell_type": "code",
   "execution_count": 15,
   "id": "b4b532e1-4bd2-48d3-9246-a91e6bc494f6",
   "metadata": {},
   "outputs": [
    {
     "name": "stderr",
     "output_type": "stream",
     "text": [
      "[Stage 28:=============================>                            (1 + 1) / 2]\r"
     ]
    },
    {
     "name": "stdout",
     "output_type": "stream",
     "text": [
      "+--------------------+--------------+\n",
      "|               cargo|Qtd_servidores|\n",
      "+--------------------+--------------+\n",
      "|TECNICO DE GESTAO...|           413|\n",
      "|ANALISTA DE DESEN...|           256|\n",
      "|PROFESSOR DE EDUC...|         37038|\n",
      "|          3 SARGENTO|         67307|\n",
      "|ASSISTENTE ADMINI...|         17864|\n",
      "|             SD 2 CL|         13209|\n",
      "|CONTRATO AGENTE D...|          9449|\n",
      "|ANALISTA DE GESTA...|            36|\n",
      "|ANALISTA DA POLIC...|          5749|\n",
      "|MUSICO INSTRUMENT...|          1092|\n",
      "|CONT. ADM. PROF. ...|           252|\n",
      "|AUXILIAR DE APOIO...|         13918|\n",
      "|      ANALISTA DE TV|          1389|\n",
      "|AUXILIAR DE SERVI...|          1903|\n",
      "|MEDICO DA AREA DE...|          1063|\n",
      "|CONTRATO ASSISTEN...|          3298|\n",
      "|TECNICO DE DESENV...|           644|\n",
      "|TECNICO DE GESTAO...|           139|\n",
      "|           MOTORISTA|            14|\n",
      "|CONTRATO ADM MEDI...|           627|\n",
      "+--------------------+--------------+\n",
      "only showing top 20 rows\n",
      "\n"
     ]
    },
    {
     "name": "stderr",
     "output_type": "stream",
     "text": [
      "                                                                                \r"
     ]
    }
   ],
   "source": [
    "#Quantidade de servidores por cargo\n",
    "\n",
    "spark.sql('''SELECT cargo, COUNT(nome) AS Qtd_servidores FROM mg GROUP BY cargo''').show()"
   ]
  },
  {
   "cell_type": "code",
   "execution_count": 16,
   "id": "72a17c4b-b93a-486c-b819-88cd5edf279f",
   "metadata": {},
   "outputs": [
    {
     "name": "stdout",
     "output_type": "stream",
     "text": [
      "+----+--------------------+--------------+\n",
      "| ano|               cargo|salarioLiquido|\n",
      "+----+--------------------+--------------+\n",
      "|2021|ESPEC.EM POLITICA...|      16523.95|\n",
      "|2021|ESCRIVAO DE POLIC...|      10113.15|\n",
      "|2021| ADVOGADO AUTARQUICO|      18800.38|\n",
      "|2021|INVESTIGADOR DE P...|      12615.31|\n",
      "|2021|               MAJOR|       13064.1|\n",
      "|2021|             CAPITAO|      11304.24|\n",
      "|2021|     PERITO CRIMINAL|      12056.75|\n",
      "|2021|          1 SARGENTO|      16465.45|\n",
      "|2021|               MAJOR|      15408.22|\n",
      "|2021|PROFESSOR DE EDUC...|      12855.11|\n",
      "|2021|          2 SARGENTO|      11479.38|\n",
      "|2021|          3 SARGENTO|      10534.12|\n",
      "|2021|INVESTIGADOR DE P...|      18192.64|\n",
      "|2021|             CAPITAO|      12217.27|\n",
      "|2021| DELEGADO DE POLICIA|      21456.92|\n",
      "|2021|          2 SARGENTO|      11179.86|\n",
      "|2021|AGENTE DE SEGURAN...|       11964.2|\n",
      "|2021|ESCRIVAO DE POLIC...|      14187.42|\n",
      "|2021|             CAPITAO|      21007.15|\n",
      "|2021|          1 SARGENTO|      12179.79|\n",
      "|2021|INVESTIGADOR DE P...|      17857.19|\n",
      "|2021|          SUBTENENTE|      13809.08|\n",
      "|2021|AGENTE DE SEGURAN...|      11056.61|\n",
      "|2021|          3 SARGENTO|       10335.9|\n",
      "|2021|          2 SARGENTO|       12734.9|\n",
      "|2021|          SUBTENENTE|      13006.87|\n",
      "|2021|          2 SARGENTO|       11233.3|\n",
      "|2021|          2 SARGENTO|      11091.58|\n",
      "|2021|   GESTOR FAZENDARIO|       15383.3|\n",
      "|2021|             CAPITAO|      12003.69|\n",
      "+----+--------------------+--------------+\n",
      "only showing top 30 rows\n",
      "\n"
     ]
    },
    {
     "name": "stderr",
     "output_type": "stream",
     "text": [
      "                                                                                \r"
     ]
    }
   ],
   "source": [
    "# Verificar ano, cargo e salario maior que 10000 no ano de 2021\n",
    "spark.sql(\"\"\"\n",
    "SELECT\n",
    "    ano, cargo, salarioLiquido \n",
    "FROM \n",
    "    mg\n",
    "WHERE\n",
    "    salarioLiquido > 10000 AND ano = 2021\n",
    "\n",
    "\"\"\").show(30)\n"
   ]
  },
  {
   "cell_type": "code",
   "execution_count": 18,
   "id": "c56a564f-e40e-4736-94f0-7c44bff8b5e7",
   "metadata": {},
   "outputs": [
    {
     "name": "stderr",
     "output_type": "stream",
     "text": [
      "[Stage 35:=============================>                            (1 + 1) / 2]\r"
     ]
    },
    {
     "name": "stdout",
     "output_type": "stream",
     "text": [
      "+--------------------------------------------------+-------------+----+---+\n",
      "|                                             cargo|media_salario| ano|mes|\n",
      "+--------------------------------------------------+-------------+----+---+\n",
      "|           PROFESSOR DE ENSINO MEDIO E TECNOLOGICO|      1264.49|2020|  1|\n",
      "|                      PROFESSOR DE ARTE E RESTAURO|      1713.86|2020|  1|\n",
      "|                      PROFESSOR DE EDUCACAO BASICA|      2383.58|2020|  1|\n",
      "|                        PROFISSIONAL DE ENFERMAGEM|       4062.5|2020|  1|\n",
      "|            CONT. ADM. PROF. DE ENSI. MEDIO E TEC.|       456.49|2020|  1|\n",
      "|                               PROFESSOR DESIGNADO|       984.52|2020|  1|\n",
      "|                                 PROFESSOR DE ARTE|      1841.58|2020|  1|\n",
      "|                         PROFESSOR DE EDUCACAO BAS|      2935.83|2020|  1|\n",
      "|                                         PROFESSOR|      1431.83|2020|  1|\n",
      "|                    PROFESSOR DE EDUCACAO SUPERIOR|      5370.87|2020|  1|\n",
      "|CONTRATO PROFISSIONAL DE ENFERMAGEM LEI 18185/2009|      3692.36|2020|  1|\n",
      "|                                 PROFESSOR DE ARTE|      1983.43|2020|  2|\n",
      "|                               PROFESSOR DESIGNADO|      1463.12|2020|  2|\n",
      "|                      PROFESSOR DE ARTE E RESTAURO|      1777.25|2020|  2|\n",
      "|                      PROFESSOR DE EDUCACAO BASICA|      2150.67|2020|  2|\n",
      "|                        PROFISSIONAL DE ENFERMAGEM|      4084.63|2020|  2|\n",
      "|                         PROFESSOR DE EDUCACAO BAS|      2489.85|2020|  2|\n",
      "|                                         PROFESSOR|      1001.05|2020|  2|\n",
      "|            CONT. ADM. PROF. DE ENSI. MEDIO E TEC.|       976.24|2020|  2|\n",
      "|                    PROFESSOR DE EDUCACAO SUPERIOR|      5035.54|2020|  2|\n",
      "+--------------------------------------------------+-------------+----+---+\n",
      "only showing top 20 rows\n",
      "\n"
     ]
    },
    {
     "name": "stderr",
     "output_type": "stream",
     "text": [
      "                                                                                \r"
     ]
    }
   ],
   "source": [
    "#Média salarial dos servidores no cargo de professor durante o decorrer do ano de 2020\n",
    "spark.sql(\n",
    "\"\"\"\n",
    "SELECT\n",
    "    cargo,\n",
    "    ROUND(AVG(salarioLiquido),2) AS media_salario,\n",
    "    ano,\n",
    "    mes \n",
    "FROM\n",
    "    mg\n",
    "WHERE\n",
    "    cargo LIKE \"%PROF%\" AND ano == 2020\n",
    "GROUP BY\n",
    "    mes, ano, cargo\n",
    "ORDER BY\n",
    "    mes\n",
    "\"\"\"\n",
    ").show(truncate=50)"
   ]
  },
  {
   "cell_type": "code",
   "execution_count": 19,
   "id": "bae5aae0-b865-4378-aced-1edddb0f677e",
   "metadata": {},
   "outputs": [
    {
     "name": "stderr",
     "output_type": "stream",
     "text": [
      "[Stage 38:=============================>                            (1 + 1) / 2]\r"
     ]
    },
    {
     "name": "stdout",
     "output_type": "stream",
     "text": [
      "+--------------------+---------------------+\n",
      "|                nome|count(salarioLiquido)|\n",
      "+--------------------+---------------------+\n",
      "|ABADIA APARECIDA ...|                   20|\n",
      "|  ABILIO MIGUEL NETO|                   20|\n",
      "|ACACIA DE PAULA C...|                   38|\n",
      "|ADALBERTO CARLOS ...|                   20|\n",
      "|ADAMO SOUZA NASCI...|                   20|\n",
      "|ADELANIA DOS REIS...|                   20|\n",
      "|ADELIA FELICIO GO...|                   20|\n",
      "|ADELSON BARBOSA A...|                   20|\n",
      "|ADENICIO FELISBER...|                   20|\n",
      "|ADESIO MESQUITA B...|                   20|\n",
      "+--------------------+---------------------+\n",
      "only showing top 10 rows\n",
      "\n"
     ]
    },
    {
     "name": "stderr",
     "output_type": "stream",
     "text": [
      "                                                                                \r"
     ]
    }
   ],
   "source": [
    "# Verificar a quantidade de pagamento efetuado para cada servidor \n",
    "spark.sql('''\n",
    "            SELECT \n",
    "                nome,\n",
    "            COUNT\n",
    "                (salarioLiquido) \n",
    "            FROM \n",
    "                mg \n",
    "            GROUP BY \n",
    "                nome \n",
    "            ''').show(10)"
   ]
  },
  {
   "cell_type": "code",
   "execution_count": 7,
   "id": "c6bd8c02-de6f-4786-85a8-0cb97b68a386",
   "metadata": {},
   "outputs": [
    {
     "name": "stderr",
     "output_type": "stream",
     "text": [
      "[Stage 3:============================================>              (3 + 1) / 4]\r"
     ]
    },
    {
     "name": "stdout",
     "output_type": "stream",
     "text": [
      "+--------------------+-------------------+\n",
      "|               cargo|media_salario_cargo|\n",
      "+--------------------+-------------------+\n",
      "|           MOTORISTA|             571.48|\n",
      "|CONT. ADM. PROF. ...|             853.63|\n",
      "|    SERVENTE-ESCOLAR|              902.7|\n",
      "|MINAS CAIXA - APO...|             906.15|\n",
      "|GRATIF. ENCARGO C...|             979.83|\n",
      "+--------------------+-------------------+\n",
      "\n"
     ]
    },
    {
     "name": "stderr",
     "output_type": "stream",
     "text": [
      "                                                                                \r"
     ]
    }
   ],
   "source": [
    "#Top 5 menores médias salariais por cargo \n",
    "spark.sql(\"SELECT cargo, ROUND(AVG(salarioLiquido),2) AS media_salario_cargo FROM mg GROUP BY cargo ORDER BY media_salario_cargo limit 5\").show() "
   ]
  },
  {
   "cell_type": "code",
   "execution_count": 8,
   "id": "0366bf38-cd36-4a9b-a6f8-933488a12a33",
   "metadata": {},
   "outputs": [
    {
     "name": "stderr",
     "output_type": "stream",
     "text": [
      "[Stage 7:============================================>              (3 + 1) / 4]\r"
     ]
    },
    {
     "name": "stdout",
     "output_type": "stream",
     "text": [
      "+----+---------------+\n",
      "| ano|count(situacao)|\n",
      "+----+---------------+\n",
      "|2021|        2621814|\n",
      "|2020|        4000943|\n",
      "+----+---------------+\n",
      "\n"
     ]
    },
    {
     "name": "stderr",
     "output_type": "stream",
     "text": [
      "                                                                                \r"
     ]
    }
   ],
   "source": [
    "#Descobrir o número total de registros de cada ano\n",
    "spark.sql(\"select ano, count(situacao) from mg group by ano\").show() "
   ]
  },
  {
   "cell_type": "code",
   "execution_count": 9,
   "id": "f6a72d17-0e1d-4f23-acb0-084574b7c701",
   "metadata": {},
   "outputs": [
    {
     "name": "stderr",
     "output_type": "stream",
     "text": [
      "[Stage 12:===========================================>              (3 + 1) / 4]\r"
     ]
    },
    {
     "name": "stdout",
     "output_type": "stream",
     "text": [
      "+----+---------------+\n",
      "| ano|count(situacao)|\n",
      "+----+---------------+\n",
      "|2021|        2556483|\n",
      "|2020|        3881693|\n",
      "+----+---------------+\n",
      "\n"
     ]
    },
    {
     "name": "stderr",
     "output_type": "stream",
     "text": [
      "                                                                                \r"
     ]
    }
   ],
   "source": [
    "#Descobrir o número total de registros de cada ano de servidores ativos\n",
    "spark.sql(\n",
    "\"\"\"\n",
    "SELECT \n",
    "    ano, count(situacao)\n",
    "FROM \n",
    "    mg \n",
    "WHERE \n",
    "    situacao LIKE 'ATIVO'\n",
    "GROUP BY \n",
    "    ano\n",
    "\"\"\"\n",
    "         ).show()"
   ]
  },
  {
   "cell_type": "code",
   "execution_count": 10,
   "id": "ac4e9673-fed5-430b-ad62-d6ebdadbb0e9",
   "metadata": {},
   "outputs": [
    {
     "name": "stderr",
     "output_type": "stream",
     "text": [
      "[Stage 17:===========================================>              (3 + 1) / 4]\r"
     ]
    },
    {
     "name": "stdout",
     "output_type": "stream",
     "text": [
      "+------------------------+\n",
      "|contagem_nomes_distintos|\n",
      "+------------------------+\n",
      "|    ABADIA APARECIDA ...|\n",
      "|      ABILIO MIGUEL NETO|\n",
      "|    ACACIA DE PAULA C...|\n",
      "|    ADALBERTO CARLOS ...|\n",
      "|    ADAMO SOUZA NASCI...|\n",
      "+------------------------+\n",
      "only showing top 5 rows\n",
      "\n"
     ]
    },
    {
     "name": "stderr",
     "output_type": "stream",
     "text": [
      "                                                                                \r"
     ]
    }
   ],
   "source": [
    "spark.sql(\"SELECT DISTINCT(NOME) AS contagem_nomes_distintos FROM mg\").show(5) "
   ]
  },
  {
   "cell_type": "code",
   "execution_count": 11,
   "id": "2276d54b-89c0-4960-8c63-feca5c603e3c",
   "metadata": {},
   "outputs": [
    {
     "name": "stderr",
     "output_type": "stream",
     "text": [
      "[Stage 21:======================================>                   (2 + 1) / 3]\r"
     ]
    },
    {
     "name": "stdout",
     "output_type": "stream",
     "text": [
      "+------------------+--------------------+--------+---+----+\n",
      "|              nome|               cargo|situacao|mes| ano|\n",
      "+------------------+--------------------+--------+---+----+\n",
      "|ABILIO MIGUEL NETO|PROFESSOR DE EDUC...|   ATIVO|  1|2020|\n",
      "|ABILIO MIGUEL NETO|PROFESSOR DE EDUC...|   ATIVO|  2|2020|\n",
      "|ABILIO MIGUEL NETO|PROFESSOR DE EDUC...|   ATIVO|  3|2020|\n",
      "|ABILIO MIGUEL NETO|PROFESSOR DE EDUC...|   ATIVO|  4|2020|\n",
      "|ABILIO MIGUEL NETO|PROFESSOR DE EDUC...|   ATIVO|  5|2020|\n",
      "|ABILIO MIGUEL NETO|PROFESSOR DE EDUC...|   ATIVO|  6|2020|\n",
      "|ABILIO MIGUEL NETO|PROFESSOR DE EDUC...|   ATIVO|  7|2020|\n",
      "|ABILIO MIGUEL NETO|PROFESSOR DE EDUC...|   ATIVO|  8|2020|\n",
      "|ABILIO MIGUEL NETO|PROFESSOR DE EDUC...|   ATIVO|  9|2020|\n",
      "|ABILIO MIGUEL NETO|PROFESSOR DE EDUC...|   ATIVO| 10|2020|\n",
      "|ABILIO MIGUEL NETO|PROFESSOR DE EDUC...|   ATIVO| 11|2020|\n",
      "|ABILIO MIGUEL NETO|PROFESSOR DE EDUC...|   ATIVO| 12|2020|\n",
      "+------------------+--------------------+--------+---+----+\n",
      "\n"
     ]
    },
    {
     "name": "stderr",
     "output_type": "stream",
     "text": [
      "                                                                                \r"
     ]
    }
   ],
   "source": [
    "spark.sql(\"SELECT nome,cargo,situacao,mes,ano FROM mg WHERE nome LIKE 'ABILIO MIGUEL NETO' AND ano == 2020\").show()"
   ]
  },
  {
   "cell_type": "code",
   "execution_count": 12,
   "id": "dfa00f3c-0609-4b10-b62d-8a65c0265d79",
   "metadata": {},
   "outputs": [
    {
     "name": "stderr",
     "output_type": "stream",
     "text": [
      "[Stage 22:===========================================>              (3 + 1) / 4]\r"
     ]
    },
    {
     "name": "stdout",
     "output_type": "stream",
     "text": [
      "+-----------+\n",
      "|count(NOME)|\n",
      "+-----------+\n",
      "|    6622757|\n",
      "+-----------+\n",
      "\n"
     ]
    },
    {
     "name": "stderr",
     "output_type": "stream",
     "text": [
      "                                                                                \r"
     ]
    }
   ],
   "source": [
    "spark.sql(\"SELECT COUNT(NOME) FROM mg\").show() "
   ]
  },
  {
   "cell_type": "code",
   "execution_count": 13,
   "id": "98b9319a-9170-4621-bce3-32f0ea04cbb5",
   "metadata": {},
   "outputs": [
    {
     "name": "stderr",
     "output_type": "stream",
     "text": [
      "[Stage 25:===========================================>              (3 + 1) / 4]\r"
     ]
    },
    {
     "name": "stdout",
     "output_type": "stream",
     "text": [
      "+---------------------------------------------+-------------+----+---+\n",
      "|                                        cargo|media_salario| ano|mes|\n",
      "+---------------------------------------------+-------------+----+---+\n",
      "|                   GESTOR DE TELECOMUNICACOES|      5627.52|2020|  1|\n",
      "|ASSISTENTE ADMINISTRATIVO DE TELECOMUNICACOES|      5399.94|2020|  1|\n",
      "|  AUXILIAR ADMINISTRATIVO DE TELECOMUNICACOES|      3174.99|2020|  1|\n",
      "|ASSISTENTE ADMINISTRATIVO DE TELECOMUNICACOES|      5800.09|2020|  2|\n",
      "|  AUXILIAR ADMINISTRATIVO DE TELECOMUNICACOES|      2593.12|2020|  2|\n",
      "|                   GESTOR DE TELECOMUNICACOES|      5223.89|2020|  2|\n",
      "|ASSISTENTE ADMINISTRATIVO DE TELECOMUNICACOES|      5814.21|2020|  3|\n",
      "|                   GESTOR DE TELECOMUNICACOES|      5541.95|2020|  3|\n",
      "|  AUXILIAR ADMINISTRATIVO DE TELECOMUNICACOES|      2604.95|2020|  3|\n",
      "|                   GESTOR DE TELECOMUNICACOES|      5310.77|2020|  4|\n",
      "|ASSISTENTE ADMINISTRATIVO DE TELECOMUNICACOES|       5630.0|2020|  4|\n",
      "|  AUXILIAR ADMINISTRATIVO DE TELECOMUNICACOES|      2727.21|2020|  4|\n",
      "|                   GESTOR DE TELECOMUNICACOES|      5418.44|2020|  5|\n",
      "|  AUXILIAR ADMINISTRATIVO DE TELECOMUNICACOES|      2569.64|2020|  5|\n",
      "|ASSISTENTE ADMINISTRATIVO DE TELECOMUNICACOES|      5747.33|2020|  5|\n",
      "|  AUXILIAR ADMINISTRATIVO DE TELECOMUNICACOES|      2583.21|2020|  6|\n",
      "|                   GESTOR DE TELECOMUNICACOES|      5418.44|2020|  6|\n",
      "|ASSISTENTE ADMINISTRATIVO DE TELECOMUNICACOES|       5760.9|2020|  6|\n",
      "|ASSISTENTE ADMINISTRATIVO DE TELECOMUNICACOES|      5942.71|2020|  7|\n",
      "|                   GESTOR DE TELECOMUNICACOES|      5586.44|2020|  7|\n",
      "+---------------------------------------------+-------------+----+---+\n",
      "only showing top 20 rows\n",
      "\n"
     ]
    },
    {
     "name": "stderr",
     "output_type": "stream",
     "text": [
      "                                                                                \r"
     ]
    }
   ],
   "source": [
    "spark.sql(\n",
    "\"\"\"\n",
    "SELECT\n",
    "    cargo,\n",
    "    ROUND(AVG(salarioLiquido),2) AS media_salario,\n",
    "    ano,\n",
    "    mes \n",
    "FROM\n",
    "    mg\n",
    "WHERE\n",
    "    cargo LIKE \"%TELE%\" AND ano = 2020\n",
    "GROUP BY\n",
    "    mes, ano, cargo\n",
    "ORDER BY\n",
    "    mes\n",
    "\"\"\"\n",
    ").show(truncate=50)"
   ]
  },
  {
   "cell_type": "code",
   "execution_count": 20,
   "id": "09c2b9af-1fc3-45c5-88ff-58148c6656e3",
   "metadata": {},
   "outputs": [
    {
     "name": "stderr",
     "output_type": "stream",
     "text": [
      "[Stage 41:=============================>                            (1 + 1) / 2]\r"
     ]
    },
    {
     "name": "stdout",
     "output_type": "stream",
     "text": [
      "+--------------------+\n",
      "|               cargo|\n",
      "+--------------------+\n",
      "|TECNICO DE GESTAO...|\n",
      "|ANALISTA DE DESEN...|\n",
      "|PROFESSOR DE EDUC...|\n",
      "|          3 SARGENTO|\n",
      "|ASSISTENTE ADMINI...|\n",
      "|             SD 2 CL|\n",
      "|CONTRATO AGENTE D...|\n",
      "|ANALISTA DE GESTA...|\n",
      "|ANALISTA DA POLIC...|\n",
      "|MUSICO INSTRUMENT...|\n",
      "|CONT. ADM. PROF. ...|\n",
      "|AUXILIAR DE APOIO...|\n",
      "|      ANALISTA DE TV|\n",
      "|AUXILIAR DE SERVI...|\n",
      "|MEDICO DA AREA DE...|\n",
      "|CONTRATO ASSISTEN...|\n",
      "|TECNICO DE DESENV...|\n",
      "|TECNICO DE GESTAO...|\n",
      "|           MOTORISTA|\n",
      "|CONTRATO ADM MEDI...|\n",
      "+--------------------+\n",
      "only showing top 20 rows\n",
      "\n"
     ]
    },
    {
     "name": "stderr",
     "output_type": "stream",
     "text": [
      "                                                                                \r"
     ]
    }
   ],
   "source": [
    "# Verificar os cargos existentes\n",
    "spark.sql(\n",
    "'''\n",
    "SELECT\n",
    "    cargo\n",
    "FROM\n",
    "    mg\n",
    "GROUP By\n",
    "cargo\n",
    "\n",
    "'''\n",
    "\n",
    ").show()"
   ]
  },
  {
   "cell_type": "code",
   "execution_count": 21,
   "id": "8122d8fb-3f33-4ed2-bdcc-d07aa71fcee7",
   "metadata": {},
   "outputs": [
    {
     "name": "stderr",
     "output_type": "stream",
     "text": [
      "[Stage 44:=============================>                            (1 + 1) / 2]\r"
     ]
    },
    {
     "name": "stdout",
     "output_type": "stream",
     "text": [
      "+--------------------+--------------+\n",
      "|               cargo|Qtd_servidores|\n",
      "+--------------------+--------------+\n",
      "|TECNICO DE GESTAO...|           413|\n",
      "|ANALISTA DE DESEN...|           256|\n",
      "|PROFESSOR DE EDUC...|         37038|\n",
      "|          3 SARGENTO|         67307|\n",
      "|ASSISTENTE ADMINI...|         17864|\n",
      "|             SD 2 CL|         13209|\n",
      "|CONTRATO AGENTE D...|          9449|\n",
      "|ANALISTA DE GESTA...|            36|\n",
      "|ANALISTA DA POLIC...|          5749|\n",
      "|MUSICO INSTRUMENT...|          1092|\n",
      "|CONT. ADM. PROF. ...|           252|\n",
      "|AUXILIAR DE APOIO...|         13918|\n",
      "|      ANALISTA DE TV|          1389|\n",
      "|AUXILIAR DE SERVI...|          1903|\n",
      "|MEDICO DA AREA DE...|          1063|\n",
      "|CONTRATO ASSISTEN...|          3298|\n",
      "|TECNICO DE DESENV...|           644|\n",
      "|TECNICO DE GESTAO...|           139|\n",
      "|           MOTORISTA|            14|\n",
      "|CONTRATO ADM MEDI...|           627|\n",
      "+--------------------+--------------+\n",
      "only showing top 20 rows\n",
      "\n"
     ]
    },
    {
     "name": "stderr",
     "output_type": "stream",
     "text": [
      "                                                                                \r"
     ]
    }
   ],
   "source": [
    "#Quantidade de servidores por cargo\n",
    "\n",
    "spark.sql('''SELECT cargo, COUNT(nome) AS Qtd_servidores FROM mg GROUP BY cargo''').show()"
   ]
  },
  {
   "cell_type": "code",
   "execution_count": 22,
   "id": "841855ea-d556-4b9a-b269-7e1fc8b969fd",
   "metadata": {},
   "outputs": [
    {
     "name": "stderr",
     "output_type": "stream",
     "text": [
      "[Stage 47:=============================>                            (1 + 1) / 2]\r"
     ]
    },
    {
     "name": "stdout",
     "output_type": "stream",
     "text": [
      "+--------------+------+\n",
      "|media_salarial|estado|\n",
      "+--------------+------+\n",
      "|       3640.67|    MG|\n",
      "+--------------+------+\n",
      "\n"
     ]
    },
    {
     "name": "stderr",
     "output_type": "stream",
     "text": [
      "                                                                                \r"
     ]
    }
   ],
   "source": [
    "# média salarial por estado dos servidores ativos \n",
    "spark.sql(\n",
    "'''\n",
    "SELECT \n",
    "    ROUND(AVG(salarioLiquido),2) AS media_salarial ,\n",
    "    estado\n",
    "FROM \n",
    "    mg\n",
    "WHERE\n",
    "    situacao = \"ATIVO\"\n",
    "GROUP BY\n",
    "    estado\n",
    "'''\n",
    ").show()"
   ]
  },
  {
   "cell_type": "code",
   "execution_count": 23,
   "id": "3d4af3a5-5c60-481d-ad76-883562ba4b71",
   "metadata": {},
   "outputs": [
    {
     "name": "stderr",
     "output_type": "stream",
     "text": [
      "[Stage 50:>                                                         (0 + 1) / 1]\r"
     ]
    },
    {
     "name": "stdout",
     "output_type": "stream",
     "text": [
      "+--------------------+--------+--------------------+------------+--------------+----+---+------+\n",
      "|                nome|situacao|               cargo|salarioBruto|salarioLiquido| ano|mes|estado|\n",
      "+--------------------+--------+--------------------+------------+--------------+----+---+------+\n",
      "|   AARAO LOPES COSTA|   ATIVO|                CABO|     6431.96|       5199.32|2021|  2|    MG|\n",
      "|AARAO MARQUES DA ...|   ATIVO|AGENTE DE SEGURAN...|     5564.72|       4646.91|2021|  2|    MG|\n",
      "|AARON CROSARA MAG...|   ATIVO|PROFESSOR DE EDUC...|     1937.89|       2356.39|2021|  2|    MG|\n",
      "|  AARON DUARTE DALLA|   ATIVO|ESPEC.EM POLITICA...|    21295.76|      16523.97|2021|  2|    MG|\n",
      "|AARON FERRAREZ BO...|   ATIVO| SOLDADO DE 1 CLASSE|     5094.33|       4848.92|2021|  2|    MG|\n",
      "|AARON FRANCA TEOFILO|   ATIVO|PROFESSOR DE EDUC...|     2412.49|       2168.93|2021|  2|    MG|\n",
      "|ABADIA APARECIDA ...|   ATIVO|AUXILIAR DE SERVI...|     1128.76|       1386.06|2021|  2|    MG|\n",
      "|ABADIA APARECIDA ...|   ATIVO|AUXILIAR DE SERVI...|     1128.76|       1386.06|2021|  2|    MG|\n",
      "|ABADIA APARECIDA ...|   ATIVO|PROFESSOR DE EDUC...|     2394.12|       2206.07|2021|  2|    MG|\n",
      "|ABADIA APARECIDA ...|   ATIVO|AUXILIAR DE SERVI...|     1128.76|       1386.06|2021|  2|    MG|\n",
      "|ABADIA APARECIDA ...|   ATIVO|PROFESSOR DE EDUC...|      810.75|        999.92|2021|  2|    MG|\n",
      "|ABADIA CALDAS TEI...|   ATIVO|AUXILIAR DE SERVI...|     1128.76|       1386.06|2021|  2|    MG|\n",
      "| ABADIA CAMILA ROCHA|   ATIVO|PROFESSOR DE EDUC...|      2444.3|       2164.09|2021|  2|    MG|\n",
      "|ABADIA CONSUELO P...| INATIVO|PROFESSOR DE EDUC...|     2754.36|       2457.14|2021|  2|    MG|\n",
      "|ABADIA CONSUELO P...|   ATIVO|PROFESSOR DE EDUC...|     2827.72|       3126.93|2021|  2|    MG|\n",
      "|ABADIA CRISTINA G...|   ATIVO|PROFESSOR DE EDUC...|     1858.79|       2263.58|2021|  2|    MG|\n",
      "|ABADIA DE FATIMA ...|   ATIVO|ASSISTENTE TECNIC...|     3483.24|       3075.41|2021|  2|    MG|\n",
      "|ABADIA DE FATIMA ...|   ATIVO|PROFESSOR DE EDUC...|     3538.86|       3033.01|2021|  2|    MG|\n",
      "|ABADIA DE FATIMA ...|   ATIVO|PROFESSOR DE EDUC...|      3842.9|       3476.33|2021|  2|    MG|\n",
      "|ABADIA DE FATIMA ...|   ATIVO|PROFESSOR DE EDUC...|     3432.11|       3997.98|2021|  2|    MG|\n",
      "+--------------------+--------+--------------------+------------+--------------+----+---+------+\n",
      "only showing top 20 rows\n",
      "\n"
     ]
    },
    {
     "name": "stderr",
     "output_type": "stream",
     "text": [
      "                                                                                \r"
     ]
    }
   ],
   "source": [
    "#verificar dados no mês de fevereiro de 2021\n",
    "spark.sql(\"SELECT * FROM mg WHERE mes = 2 AND ano = 2021\").show()"
   ]
  },
  {
   "cell_type": "code",
   "execution_count": 24,
   "id": "9478e49e-a34c-46e3-a776-fa91d1bb35e6",
   "metadata": {},
   "outputs": [
    {
     "name": "stderr",
     "output_type": "stream",
     "text": [
      "[Stage 51:=============================>                            (1 + 1) / 2]\r"
     ]
    },
    {
     "name": "stdout",
     "output_type": "stream",
     "text": [
      "+---+---------------+\n",
      "|mes|   soma_salario|\n",
      "+---+---------------+\n",
      "|  1| 1.2400598493E9|\n",
      "|  2|1.22365755559E9|\n",
      "|  3| 1.0961267572E9|\n",
      "|  4|1.26313728345E9|\n",
      "|  5|1.15904614923E9|\n",
      "|  6|1.15581799958E9|\n",
      "|  7|1.22169791787E9|\n",
      "|  8|1.17879162649E9|\n",
      "+---+---------------+\n",
      "\n"
     ]
    },
    {
     "name": "stderr",
     "output_type": "stream",
     "text": [
      "                                                                                \r"
     ]
    }
   ],
   "source": [
    "#Valores gastos com o sálario ao longo dos mês ao longo do ano de 2021\n",
    "spark.sql(\n",
    "'''\n",
    "SELECT\n",
    "    mes,\n",
    "    ROUND(Sum(salarioLiquido),2) AS soma_salario\n",
    "FROM\n",
    "    mg\n",
    "WHERE \n",
    "    ano = 2021\n",
    "GROUP BY \n",
    "    mes\n",
    "ORDER BY\n",
    "    mes ASC\n",
    " \n",
    "''').show()"
   ]
  },
  {
   "cell_type": "code",
   "execution_count": 25,
   "id": "e0575991-8d82-4452-a19d-d7a699699d28",
   "metadata": {},
   "outputs": [
    {
     "name": "stderr",
     "output_type": "stream",
     "text": [
      "[Stage 54:=============================>                            (1 + 1) / 2]\r"
     ]
    },
    {
     "name": "stdout",
     "output_type": "stream",
     "text": [
      "+--------------------+-------------+----+---+--------+\n",
      "|               cargo|media_salario| ano|mes|situacao|\n",
      "+--------------------+-------------+----+---+--------+\n",
      "|TECNICO DA INDUST...|      6769.74|2021|  1|   ATIVO|\n",
      "|CONTRATO ANALISTA...|      5065.72|2021|  1|   ATIVO|\n",
      "|MEDICO DA AREA DE...|      9874.66|2021|  1|   ATIVO|\n",
      "|ANALISTA EXECUTIV...|      5439.28|2021|  1|   ATIVO|\n",
      "|AUXILIAR DE HEMAT...|      4744.97|2021|  1|   ATIVO|\n",
      "|     AUDITOR INTERNO|     13378.33|2021|  1|   ATIVO|\n",
      "|CONTRATO PROFISSI...|      4015.13|2021|  1|   ATIVO|\n",
      "|TECNICO EM EDUCAC...|      3422.77|2021|  1|   ATIVO|\n",
      "|             CAPITAO|     13492.51|2021|  1|   ATIVO|\n",
      "|          3 SARGENTO|      6933.27|2021|  1|   ATIVO|\n",
      "|      ANALISTA DE TV|      4000.38|2021|  1|   ATIVO|\n",
      "|ESPECIALISTA EM E...|      3276.63|2021|  1|   ATIVO|\n",
      "|FISCAL DE TRANSPO...|      6590.09|2021|  1|   ATIVO|\n",
      "|CONTRATO ADMINIST...|      2179.09|2021|  1|   ATIVO|\n",
      "|CONTRATO ADM. ANA...|      5016.56|2021|  1|   ATIVO|\n",
      "|ANALISTA DE GESTA...|      3761.42|2021|  1|   ATIVO|\n",
      "|CONTRATO ANALISTA...|      3331.92|2021|  1|   ATIVO|\n",
      "|       MUSICO CANTOR|      4411.28|2021|  1|   ATIVO|\n",
      "|           1 TENENTE|     12306.18|2021|  1|   ATIVO|\n",
      "|     PERITO CRIMINAL|     15643.25|2021|  1|   ATIVO|\n",
      "+--------------------+-------------+----+---+--------+\n",
      "only showing top 20 rows\n",
      "\n"
     ]
    },
    {
     "name": "stderr",
     "output_type": "stream",
     "text": [
      "                                                                                \r"
     ]
    }
   ],
   "source": [
    "# Média salarial dos servidores ativos no ano de 2021\n",
    "spark.sql(\n",
    "\"\"\"\n",
    "SELECT\n",
    "    cargo,\n",
    "    ROUND(AVG(salarioLiquido),2) AS media_salario,\n",
    "    ano,\n",
    "    mes,\n",
    "    situacao\n",
    "FROM\n",
    "    mg\n",
    "WHERE\n",
    "    situacao = \"ATIVO\" AND ano = 2021\n",
    "GROUP BY\n",
    "    mes, ano, cargo, situacao\n",
    "ORDER BY\n",
    "    mes\n",
    "\"\"\"\n",
    ").show()"
   ]
  },
  {
   "cell_type": "code",
   "execution_count": null,
   "id": "89b7d506-dba9-4afb-b840-7d6e3157fb09",
   "metadata": {},
   "outputs": [],
   "source": []
  }
 ],
 "metadata": {
  "kernelspec": {
   "display_name": "PySpark",
   "language": "python",
   "name": "pyspark"
  },
  "language_info": {
   "codemirror_mode": {
    "name": "ipython",
    "version": 3
   },
   "file_extension": ".py",
   "mimetype": "text/x-python",
   "name": "python",
   "nbconvert_exporter": "python",
   "pygments_lexer": "ipython3",
   "version": "3.8.12"
  }
 },
 "nbformat": 4,
 "nbformat_minor": 5
}