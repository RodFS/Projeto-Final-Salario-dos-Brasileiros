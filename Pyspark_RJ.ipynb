{
 "cells": [
  {
   "cell_type": "markdown",
   "id": "45f1f8a3-3a8f-49be-9ca7-a7314d0b6ef4",
   "metadata": {},
   "source": [
    "# Importando as Bibliotecas"
   ]
  },
  {
   "cell_type": "code",
   "execution_count": 1,
   "id": "c2dbddde-465e-4862-8f3b-fbffc2769d29",
   "metadata": {},
   "outputs": [],
   "source": [
    "from pyspark.sql import SparkSession\n",
    "from pyspark.sql.functions import *\n",
    "from pyspark.sql.types import *\n",
    "from pyspark.sql.window import Window as W"
   ]
  },
  {
   "cell_type": "markdown",
   "id": "024c43a8-b2d2-4704-a240-10d8a7364415",
   "metadata": {},
   "source": [
    "# Criando o Spark Session"
   ]
  },
  {
   "cell_type": "code",
   "execution_count": 2,
   "id": "3d1ae98d-f3d9-4cf3-8136-cd86f6741f65",
   "metadata": {},
   "outputs": [
    {
     "name": "stderr",
     "output_type": "stream",
     "text": [
      "Setting default log level to \"WARN\".\n",
      "To adjust logging level use sc.setLogLevel(newLevel). For SparkR, use setLogLevel(newLevel).\n"
     ]
    }
   ],
   "source": [
    "spark = (SparkSession.builder\n",
    "        .master(\"local\")\n",
    "        .appName(\"Pyspark_RJ\")\n",
    "        .config(\"spark.ui.port\", \"4050\")\n",
    "        .getOrCreate()\n",
    "        )"
   ]
  },
  {
   "cell_type": "code",
   "execution_count": 3,
   "id": "6aa2ad4b-5e1c-499d-8dd3-6a4f20689a62",
   "metadata": {},
   "outputs": [
    {
     "data": {
      "text/html": [
       "\n",
       "            <div>\n",
       "                <p><b>SparkSession - hive</b></p>\n",
       "                \n",
       "        <div>\n",
       "            <p><b>SparkContext</b></p>\n",
       "\n",
       "            <p><a href=\"http://pyspark-cluster-m.southamerica-east1-a.c.salario-brasileiro.internal:4050\">Spark UI</a></p>\n",
       "\n",
       "            <dl>\n",
       "              <dt>Version</dt>\n",
       "                <dd><code>v3.1.2</code></dd>\n",
       "              <dt>Master</dt>\n",
       "                <dd><code>local</code></dd>\n",
       "              <dt>AppName</dt>\n",
       "                <dd><code>Pyspark_RJ</code></dd>\n",
       "            </dl>\n",
       "        </div>\n",
       "        \n",
       "            </div>\n",
       "        "
      ],
      "text/plain": [
       "<pyspark.sql.session.SparkSession at 0x7fa8ce69d730>"
      ]
     },
     "execution_count": 3,
     "metadata": {},
     "output_type": "execute_result"
    }
   ],
   "source": [
    "spark"
   ]
  },
  {
   "cell_type": "markdown",
   "id": "63fd1438-0187-4cb1-8648-db7f1298f8e4",
   "metadata": {},
   "source": [
    "# Extração de dados - Rio de Janeiro"
   ]
  },
  {
   "cell_type": "code",
   "execution_count": 4,
   "id": "bff96699-908c-4061-9314-725b76afabc9",
   "metadata": {},
   "outputs": [
    {
     "name": "stderr",
     "output_type": "stream",
     "text": [
      "                                                                                \r"
     ]
    }
   ],
   "source": [
    "df = spark.read.parquet('gs://projeto_final_2021/pandas_to_parquet/RJ_parquet/df_completo.snappy')"
   ]
  },
  {
   "cell_type": "code",
   "execution_count": 5,
   "id": "c66c4ec8-a034-4acd-beef-bda79774be66",
   "metadata": {},
   "outputs": [
    {
     "name": "stdout",
     "output_type": "stream",
     "text": [
      "root\n",
      " |-- Matrícula: integer (nullable = true)\n",
      " |-- Nome: string (nullable = true)\n",
      " |-- Data_Admissão: timestamp (nullable = true)\n",
      " |-- Cargo: string (nullable = true)\n",
      " |-- Unidade: string (nullable = true)\n",
      " |-- Local_de_Trabalho: string (nullable = true)\n",
      " |-- Número_do_ATO: string (nullable = true)\n",
      " |-- Data_Publicação: timestamp (nullable = true)\n",
      " |-- Concursado: string (nullable = true)\n",
      " |-- Comissionado: string (nullable = true)\n",
      " |-- Função_de_Confiança: string (nullable = true)\n",
      " |-- Vencimento_Bruto: float (nullable = true)\n",
      " |-- Desconto_de_Imposto_IR: float (nullable = true)\n",
      " |-- Desconto_Previdenciário: float (nullable = true)\n",
      " |-- Outros_Descontos: float (nullable = true)\n",
      " |-- Vencimento_Líquido: float (nullable = true)\n",
      " |-- Mês: byte (nullable = true)\n",
      " |-- ANO: short (nullable = true)\n",
      " |-- Tipo_de_Folha: string (nullable = true)\n",
      " |-- Regime: string (nullable = true)\n",
      " |-- Contratado: string (nullable = true)\n",
      " |-- Estado: string (nullable = true)\n",
      "\n"
     ]
    }
   ],
   "source": [
    "# Visualização do schema e tipo de dados\n",
    "df.printSchema()"
   ]
  },
  {
   "cell_type": "code",
   "execution_count": 6,
   "id": "f799d671-2aec-40b2-b4d8-8a6757c1db3b",
   "metadata": {},
   "outputs": [
    {
     "name": "stderr",
     "output_type": "stream",
     "text": [
      "                                                                                \r"
     ]
    },
    {
     "name": "stdout",
     "output_type": "stream",
     "text": [
      "+---------+--------------------+-------------------+--------------------+--------------------+--------------------+-------------+-------------------+----------+------------+-------------------+----------------+----------------------+-----------------------+----------------+------------------+---+----+-------------+--------------------+----------+------+\n",
      "|Matrícula|                Nome|      Data_Admissão|               Cargo|             Unidade|   Local_de_Trabalho|Número_do_ATO|    Data_Publicação|Concursado|Comissionado|Função_de_Confiança|Vencimento_Bruto|Desconto_de_Imposto_IR|Desconto_Previdenciário|Outros_Descontos|Vencimento_Líquido|Mês| ANO|Tipo_de_Folha|              Regime|Contratado|Estado|\n",
      "+---------+--------------------+-------------------+--------------------+--------------------+--------------------+-------------+-------------------+----------+------------+-------------------+----------------+----------------------+-----------------------+----------------+------------------+---+----+-------------+--------------------+----------+------+\n",
      "|    82325|ABEIGAIR DE ALENC...|2009-01-15 00:00:00|    ENFERMEIRO - ESF|SMS - ESF - ESTRA...|Prefeitura Munici...|         0655|2017-10-06 00:00:00|       Não|         Não|                Não|         5975.91|                515.17|                  687.2|          491.93|           4281.61|  8|2021|   1 - Normal|         Estatutário|       Não|    RJ|\n",
      "|    80550|ADAIL JULIO DO NA...|2006-09-23 00:00:00|    GUARDA MUNICIPAL|SMSEG - SM DE SEG...|Prefeitura Munici...|         0252|2006-09-23 00:00:00|       Não|         Não|                Não|         4857.34|                336.21|                 281.79|           225.5|           4013.84|  8|2021|   1 - Normal|         Estatutário|       Não|    RJ|\n",
      "|    85415|ADALBERTO CURVELO...|2017-01-01 00:00:00|SUBSECRETÁRIO DE ...|SMTTOP - SM DE TR...|Prefeitura Munici...|         null|               null|       Não|         Não|                Não|         4572.63|                282.13|                 491.44|             0.0|           3799.06|  8|2021|   1 - Normal|     Agente Político|       Não|    RJ|\n",
      "|     1731|ADEILTON ALVES DE...|2004-04-03 00:00:00|    GUARDA MUNICIPAL|SMSEG - SM DE SEG...|Prefeitura Munici...|         0075|2004-04-03 00:00:00|       Sim|         Não|                Não|         2446.76|                   0.0|                 295.92|          930.66|           1220.18|  8|2021|   1 - Normal|         Estatutário|       Não|    RJ|\n",
      "|    82491|ADEMILTON DE OLIV...|2009-01-07 00:00:00|  TRABALHADOR BRAÇAL|SMMA - SM DE MEIO...|Prefeitura Munici...|         0370|2009-01-07 00:00:00|       Não|         Não|                Não|         2556.51|                 17.47|                 165.42|          146.64|           2226.98|  8|2021|   1 - Normal|         Estatutário|       Não|    RJ|\n",
      "|    86177|ADERLANE  CRISTIN...|2021-05-24 00:00:00|TECNICO EM ENFERM...|SMS - UNIDADES DE...|Prefeitura Munici...|         null|               null|       Não|         Não|                Não|         1486.35|                   0.0|                 114.04|             0.0|           1372.31|  8|2021|   1 - Normal|Contrato Administ...|       Sim|    RJ|\n",
      "|      200|ADILSON MACHADO M...|1989-03-04 00:00:00|AUXILIAR DE ARTIFICE|SMOSP - SM DE OBR...|Prefeitura Munici...|     CONTRATO|2014-10-01 00:00:00|       Sim|         Não|                Não|         3069.17|                 60.68|                 291.57|          205.77|           2511.15|  8|2021|   1 - Normal|         Estatutário|       Não|    RJ|\n",
      "|     1231|ADJANE BASILIO FA...|2000-01-02 00:00:00|         PROFESSOR I|        SME - FUNDEB|Prefeitura Munici...|         4934|2000-01-02 00:00:00|       Sim|         Não|                Não|         3893.92|                110.76|                 536.12|         3064.11|            182.93|  8|2021|   1 - Normal|         Estatutário|       Não|    RJ|\n",
      "|    85440|ADRIANA APARECIDA...|2017-01-01 00:00:00|ASSESSOR DE INTEG...|SMDDH - SM DE DES...|Prefeitura Munici...|         null|               null|       Não|         Sim|                Não|         2144.58|                   0.0|                 170.71|             0.0|           1973.87|  8|2021|   1 - Normal|   Cargo em Comissão|       Não|    RJ|\n",
      "|     1353|ADRIANA CHAGAS DO...|2000-03-07 00:00:00|CHEFE DO POSTO DE...|SMS - SECRETARIA ...|Prefeitura Munici...|         5174|2000-03-07 00:00:00|       Sim|         Não|                Sim|          3439.8|                 81.31|                 310.56|         1641.44|           1406.49|  8|2021|   1 - Normal|         Estatutário|       Não|    RJ|\n",
      "|    82191|ADRIANA DA CONCEI...|2009-05-01 00:00:00|AUXILIAR ADMINIST...|SMTDIC - TURISMO,...|Prefeitura Munici...|         0884|2009-05-01 00:00:00|       Não|         Não|                Não|          4537.4|                143.08|                 270.58|         1215.86|           2907.88|  8|2021|   1 - Normal|         Estatutário|       Não|    RJ|\n",
      "|     1351|ADRIANA DE CARVAL...|2000-06-19 00:00:00|         PROFESSOR I|        SME - FUNDEB|Prefeitura Munici...|         5154|2000-06-29 00:00:00|       Sim|         Não|                Não|         3893.92|                110.76|                 536.12|          326.33|           2920.71|  8|2021|   1 - Normal|         Estatutário|       Não|    RJ|\n",
      "|    82929|ADRIANA DE JESUS ...|2011-04-04 00:00:00|          MERENDEIRA|SME - SM DE EDUCAÇÃO|Prefeitura Munici...|        POSSE|2011-04-04 00:00:00|       Não|         Não|                Não|         1235.28|                   0.0|                 163.91|          538.93|            532.44|  8|2021|   1 - Normal|         Estatutário|       Não|    RJ|\n",
      "|    82304|ADRIANA DRUMMOND ...|2009-05-01 00:00:00|CHEFE DA SEÇÃO DE...|SMS - VS - VIGILÂ...|Prefeitura Munici...|     CONTRATO|2017-10-06 00:00:00|       Não|         Não|                Sim|         6448.93|                697.39|                  687.2|             0.0|           5064.34|  8|2021|   1 - Normal|         Estatutário|       Não|    RJ|\n",
      "|    85632|ADRIANA FERREIRA ...|2017-03-04 00:00:00|AUXILIAR DE SERVI...|SMDDH - SM DE DES...|Prefeitura Munici...|         null|               null|       Não|         Não|                Não|         1170.83|                   0.0|                 154.89|          782.53|            233.41|  8|2021|   1 - Normal|         Estatutário|       Não|    RJ|\n",
      "|    85821|ADRIANA MARIA ROD...|2019-01-02 00:00:00|SERVIDOR CEDIDO O...|SME - SM DE EDUCAÇÃO|Prefeitura Munici...|         null|               null|       Não|         Não|                Não|          743.13|                   0.0|                    0.0|             0.0|            743.13|  8|2021|   1 - Normal|Servidor Cedido o...|       Não|    RJ|\n",
      "|    85769|ADRIANA MARLEY FE...|2018-01-08 00:00:00|AGENTE COMUNITARI...|SMS - ACS - AGENT...|Prefeitura Munici...|         null|               null|       Não|         Não|                Não|          2639.2|                 38.65|                 219.74|           15.54|           2365.27|  8|2021|   1 - Normal|         Estatutário|       Não|    RJ|\n",
      "|     1055|ADRIANA OLIVEIRA ...|1998-01-07 00:00:00|         PROFESSOR I|        SME - FUNDEB|Prefeitura Munici...|         4372|1998-01-07 00:00:00|       Sim|         Não|                Não|         3608.68|                339.13|                 496.19|         2528.49|            244.87|  8|2021|   1 - Normal|         Estatutário|       Não|    RJ|\n",
      "|    83074|ADRIANA OLIVEIRA ...|2011-09-15 00:00:00|         PROFESSOR I|        SME - FUNDEB|Prefeitura Munici...|         0331|2011-09-15 00:00:00|       Não|         Não|                Não|         3064.35|                287.05|                 419.98|         1649.14|            708.18|  8|2021|   1 - Normal|         Estatutário|       Não|    RJ|\n",
      "|    86100|ADRIANA PINTO DE ...|2021-01-01 00:00:00|SECRETÁRIO DE PLA...|SECRETARIA DE PLA...|Prefeitura Munici...|         null|               null|       Não|         Não|                Não|         9271.99|               1473.64|                 751.97|             0.0|           7046.38|  8|2021|   1 - Normal|     Agente Político|       Não|    RJ|\n",
      "+---------+--------------------+-------------------+--------------------+--------------------+--------------------+-------------+-------------------+----------+------------+-------------------+----------------+----------------------+-----------------------+----------------+------------------+---+----+-------------+--------------------+----------+------+\n",
      "only showing top 20 rows\n",
      "\n"
     ]
    }
   ],
   "source": [
    "df.show()"
   ]
  },
  {
   "cell_type": "code",
   "execution_count": 7,
   "id": "35fbda79-06ef-43d3-8d17-83ef44392450",
   "metadata": {},
   "outputs": [
    {
     "data": {
      "text/plain": [
       "['Matrícula',\n",
       " 'Nome',\n",
       " 'Data_Admissão',\n",
       " 'Cargo',\n",
       " 'Unidade',\n",
       " 'Local_de_Trabalho',\n",
       " 'Número_do_ATO',\n",
       " 'Data_Publicação',\n",
       " 'Concursado',\n",
       " 'Comissionado',\n",
       " 'Função_de_Confiança',\n",
       " 'Vencimento_Bruto',\n",
       " 'Desconto_de_Imposto_IR',\n",
       " 'Desconto_Previdenciário',\n",
       " 'Outros_Descontos',\n",
       " 'Vencimento_Líquido',\n",
       " 'Mês',\n",
       " 'ANO',\n",
       " 'Tipo_de_Folha',\n",
       " 'Regime',\n",
       " 'Contratado',\n",
       " 'Estado']"
      ]
     },
     "execution_count": 7,
     "metadata": {},
     "output_type": "execute_result"
    }
   ],
   "source": [
    "#verificar nomes das colunas \n",
    "df.schema.names"
   ]
  },
  {
   "cell_type": "code",
   "execution_count": 8,
   "id": "a5e0836d-3516-4b94-966d-885c8e1991de",
   "metadata": {},
   "outputs": [
    {
     "name": "stdout",
     "output_type": "stream",
     "text": [
      "+---------+--------------------+-------------------+--------------------+--------------------+--------------------+-------------+-------------------+----------+------------+-------------------+------------+----------------------+-----------------------+----------------+--------------+---+----+-------------+--------------------+----------+------+\n",
      "|Matrícula|                nome|      Data_Admissão|               cargo|             Unidade|   Local_de_Trabalho|Número_do_ATO|    Data_Publicação|Concursado|Comissionado|Função_de_Confiança|salarioBruto|Desconto_de_Imposto_IR|Desconto_Previdenciário|Outros_Descontos|salarioLiquido|mes| ano|Tipo_de_Folha|              Regime|contratado|estado|\n",
      "+---------+--------------------+-------------------+--------------------+--------------------+--------------------+-------------+-------------------+----------+------------+-------------------+------------+----------------------+-----------------------+----------------+--------------+---+----+-------------+--------------------+----------+------+\n",
      "|    82325|ABEIGAIR DE ALENC...|2009-01-15 00:00:00|    ENFERMEIRO - ESF|SMS - ESF - ESTRA...|Prefeitura Munici...|         0655|2017-10-06 00:00:00|       Não|         Não|                Não|     5975.91|                515.17|                  687.2|          491.93|       4281.61|  8|2021|   1 - Normal|         Estatutário|       Não|    RJ|\n",
      "|    80550|ADAIL JULIO DO NA...|2006-09-23 00:00:00|    GUARDA MUNICIPAL|SMSEG - SM DE SEG...|Prefeitura Munici...|         0252|2006-09-23 00:00:00|       Não|         Não|                Não|     4857.34|                336.21|                 281.79|           225.5|       4013.84|  8|2021|   1 - Normal|         Estatutário|       Não|    RJ|\n",
      "|    85415|ADALBERTO CURVELO...|2017-01-01 00:00:00|SUBSECRETÁRIO DE ...|SMTTOP - SM DE TR...|Prefeitura Munici...|         null|               null|       Não|         Não|                Não|     4572.63|                282.13|                 491.44|             0.0|       3799.06|  8|2021|   1 - Normal|     Agente Político|       Não|    RJ|\n",
      "|     1731|ADEILTON ALVES DE...|2004-04-03 00:00:00|    GUARDA MUNICIPAL|SMSEG - SM DE SEG...|Prefeitura Munici...|         0075|2004-04-03 00:00:00|       Sim|         Não|                Não|     2446.76|                   0.0|                 295.92|          930.66|       1220.18|  8|2021|   1 - Normal|         Estatutário|       Não|    RJ|\n",
      "|    82491|ADEMILTON DE OLIV...|2009-01-07 00:00:00|  TRABALHADOR BRAÇAL|SMMA - SM DE MEIO...|Prefeitura Munici...|         0370|2009-01-07 00:00:00|       Não|         Não|                Não|     2556.51|                 17.47|                 165.42|          146.64|       2226.98|  8|2021|   1 - Normal|         Estatutário|       Não|    RJ|\n",
      "|    86177|ADERLANE  CRISTIN...|2021-05-24 00:00:00|TECNICO EM ENFERM...|SMS - UNIDADES DE...|Prefeitura Munici...|         null|               null|       Não|         Não|                Não|     1486.35|                   0.0|                 114.04|             0.0|       1372.31|  8|2021|   1 - Normal|Contrato Administ...|       Sim|    RJ|\n",
      "|      200|ADILSON MACHADO M...|1989-03-04 00:00:00|AUXILIAR DE ARTIFICE|SMOSP - SM DE OBR...|Prefeitura Munici...|     CONTRATO|2014-10-01 00:00:00|       Sim|         Não|                Não|     3069.17|                 60.68|                 291.57|          205.77|       2511.15|  8|2021|   1 - Normal|         Estatutário|       Não|    RJ|\n",
      "|     1231|ADJANE BASILIO FA...|2000-01-02 00:00:00|         PROFESSOR I|        SME - FUNDEB|Prefeitura Munici...|         4934|2000-01-02 00:00:00|       Sim|         Não|                Não|     3893.92|                110.76|                 536.12|         3064.11|        182.93|  8|2021|   1 - Normal|         Estatutário|       Não|    RJ|\n",
      "|    85440|ADRIANA APARECIDA...|2017-01-01 00:00:00|ASSESSOR DE INTEG...|SMDDH - SM DE DES...|Prefeitura Munici...|         null|               null|       Não|         Sim|                Não|     2144.58|                   0.0|                 170.71|             0.0|       1973.87|  8|2021|   1 - Normal|   Cargo em Comissão|       Não|    RJ|\n",
      "|     1353|ADRIANA CHAGAS DO...|2000-03-07 00:00:00|CHEFE DO POSTO DE...|SMS - SECRETARIA ...|Prefeitura Munici...|         5174|2000-03-07 00:00:00|       Sim|         Não|                Sim|      3439.8|                 81.31|                 310.56|         1641.44|       1406.49|  8|2021|   1 - Normal|         Estatutário|       Não|    RJ|\n",
      "|    82191|ADRIANA DA CONCEI...|2009-05-01 00:00:00|AUXILIAR ADMINIST...|SMTDIC - TURISMO,...|Prefeitura Munici...|         0884|2009-05-01 00:00:00|       Não|         Não|                Não|      4537.4|                143.08|                 270.58|         1215.86|       2907.88|  8|2021|   1 - Normal|         Estatutário|       Não|    RJ|\n",
      "|     1351|ADRIANA DE CARVAL...|2000-06-19 00:00:00|         PROFESSOR I|        SME - FUNDEB|Prefeitura Munici...|         5154|2000-06-29 00:00:00|       Sim|         Não|                Não|     3893.92|                110.76|                 536.12|          326.33|       2920.71|  8|2021|   1 - Normal|         Estatutário|       Não|    RJ|\n",
      "|    82929|ADRIANA DE JESUS ...|2011-04-04 00:00:00|          MERENDEIRA|SME - SM DE EDUCAÇÃO|Prefeitura Munici...|        POSSE|2011-04-04 00:00:00|       Não|         Não|                Não|     1235.28|                   0.0|                 163.91|          538.93|        532.44|  8|2021|   1 - Normal|         Estatutário|       Não|    RJ|\n",
      "|    82304|ADRIANA DRUMMOND ...|2009-05-01 00:00:00|CHEFE DA SEÇÃO DE...|SMS - VS - VIGILÂ...|Prefeitura Munici...|     CONTRATO|2017-10-06 00:00:00|       Não|         Não|                Sim|     6448.93|                697.39|                  687.2|             0.0|       5064.34|  8|2021|   1 - Normal|         Estatutário|       Não|    RJ|\n",
      "|    85632|ADRIANA FERREIRA ...|2017-03-04 00:00:00|AUXILIAR DE SERVI...|SMDDH - SM DE DES...|Prefeitura Munici...|         null|               null|       Não|         Não|                Não|     1170.83|                   0.0|                 154.89|          782.53|        233.41|  8|2021|   1 - Normal|         Estatutário|       Não|    RJ|\n",
      "|    85821|ADRIANA MARIA ROD...|2019-01-02 00:00:00|SERVIDOR CEDIDO O...|SME - SM DE EDUCAÇÃO|Prefeitura Munici...|         null|               null|       Não|         Não|                Não|      743.13|                   0.0|                    0.0|             0.0|        743.13|  8|2021|   1 - Normal|Servidor Cedido o...|       Não|    RJ|\n",
      "|    85769|ADRIANA MARLEY FE...|2018-01-08 00:00:00|AGENTE COMUNITARI...|SMS - ACS - AGENT...|Prefeitura Munici...|         null|               null|       Não|         Não|                Não|      2639.2|                 38.65|                 219.74|           15.54|       2365.27|  8|2021|   1 - Normal|         Estatutário|       Não|    RJ|\n",
      "|     1055|ADRIANA OLIVEIRA ...|1998-01-07 00:00:00|         PROFESSOR I|        SME - FUNDEB|Prefeitura Munici...|         4372|1998-01-07 00:00:00|       Sim|         Não|                Não|     3608.68|                339.13|                 496.19|         2528.49|        244.87|  8|2021|   1 - Normal|         Estatutário|       Não|    RJ|\n",
      "|    83074|ADRIANA OLIVEIRA ...|2011-09-15 00:00:00|         PROFESSOR I|        SME - FUNDEB|Prefeitura Munici...|         0331|2011-09-15 00:00:00|       Não|         Não|                Não|     3064.35|                287.05|                 419.98|         1649.14|        708.18|  8|2021|   1 - Normal|         Estatutário|       Não|    RJ|\n",
      "|    86100|ADRIANA PINTO DE ...|2021-01-01 00:00:00|SECRETÁRIO DE PLA...|SECRETARIA DE PLA...|Prefeitura Munici...|         null|               null|       Não|         Não|                Não|     9271.99|               1473.64|                 751.97|             0.0|       7046.38|  8|2021|   1 - Normal|     Agente Político|       Não|    RJ|\n",
      "+---------+--------------------+-------------------+--------------------+--------------------+--------------------+-------------+-------------------+----------+------------+-------------------+------------+----------------------+-----------------------+----------------+--------------+---+----+-------------+--------------------+----------+------+\n",
      "only showing top 20 rows\n",
      "\n"
     ]
    }
   ],
   "source": [
    "#Alterar nome da coluna\n",
    "df = (df.withColumnRenamed('Mês', 'mes')\n",
    "  .withColumnRenamed('ANO', 'ano')\n",
    "  .withColumnRenamed('Cargo', 'cargo')\n",
    "  .withColumnRenamed('Vencimento_Bruto', 'salarioBruto')\n",
    "  .withColumnRenamed('Vencimento_Líquido', 'salarioLiquido')\n",
    "  .withColumnRenamed('Estado', 'estado')\n",
    "  .withColumnRenamed('Contratado', 'contratado')\n",
    "  .withColumnRenamed('Nome', 'nome')\n",
    "\n",
    ")\n",
    "df.show()"
   ]
  },
  {
   "cell_type": "code",
   "execution_count": 9,
   "id": "91ded154-841c-41b6-8c9c-e565bf35f936",
   "metadata": {},
   "outputs": [],
   "source": [
    "# Inclusão de coluna\n",
    "value = 'ATIVO'\n",
    "\n",
    "df = df.withColumn('situacao', lit(value).cast('string'))"
   ]
  },
  {
   "cell_type": "code",
   "execution_count": 10,
   "id": "57fefa87-8223-4347-88c8-8f12c4f45eaa",
   "metadata": {},
   "outputs": [],
   "source": [
    "# Remoção de colunas \n",
    "\n",
    "coletar_colunas = {'mes','ano','cargo','situacao','salarioLiquido','nome', 'estado'}\n",
    "\n",
    "remover_colunas = list(set(df.schema.names).difference(coletar_colunas))\n",
    "\n",
    "df_rj = df.drop(*remover_colunas)"
   ]
  },
  {
   "cell_type": "code",
   "execution_count": 11,
   "id": "f085abd0-fffa-4790-ba9e-a202187916dc",
   "metadata": {},
   "outputs": [],
   "source": [
    "# Colocar as colunas em ordem correta \n",
    "coletar_colunas = ('mes','ano','nome','cargo','situacao','salarioLiquido', 'estado')\n",
    "df_rj = df_rj.select(*coletar_colunas)"
   ]
  },
  {
   "cell_type": "code",
   "execution_count": 12,
   "id": "0d66aa1b-50ec-4d43-a750-655a6767083b",
   "metadata": {},
   "outputs": [
    {
     "name": "stdout",
     "output_type": "stream",
     "text": [
      "+---+----+--------------------+--------------------+--------+--------------+------+\n",
      "|mes| ano|                nome|               cargo|situacao|salarioLiquido|estado|\n",
      "+---+----+--------------------+--------------------+--------+--------------+------+\n",
      "|  8|2021|ABEIGAIR DE ALENC...|    ENFERMEIRO - ESF|   ATIVO|       4281.61|    RJ|\n",
      "|  8|2021|ADAIL JULIO DO NA...|    GUARDA MUNICIPAL|   ATIVO|       4013.84|    RJ|\n",
      "|  8|2021|ADALBERTO CURVELO...|SUBSECRETÁRIO DE ...|   ATIVO|       3799.06|    RJ|\n",
      "|  8|2021|ADEILTON ALVES DE...|    GUARDA MUNICIPAL|   ATIVO|       1220.18|    RJ|\n",
      "|  8|2021|ADEMILTON DE OLIV...|  TRABALHADOR BRAÇAL|   ATIVO|       2226.98|    RJ|\n",
      "|  8|2021|ADERLANE  CRISTIN...|TECNICO EM ENFERM...|   ATIVO|       1372.31|    RJ|\n",
      "|  8|2021|ADILSON MACHADO M...|AUXILIAR DE ARTIFICE|   ATIVO|       2511.15|    RJ|\n",
      "|  8|2021|ADJANE BASILIO FA...|         PROFESSOR I|   ATIVO|        182.93|    RJ|\n",
      "|  8|2021|ADRIANA APARECIDA...|ASSESSOR DE INTEG...|   ATIVO|       1973.87|    RJ|\n",
      "|  8|2021|ADRIANA CHAGAS DO...|CHEFE DO POSTO DE...|   ATIVO|       1406.49|    RJ|\n",
      "|  8|2021|ADRIANA DA CONCEI...|AUXILIAR ADMINIST...|   ATIVO|       2907.88|    RJ|\n",
      "|  8|2021|ADRIANA DE CARVAL...|         PROFESSOR I|   ATIVO|       2920.71|    RJ|\n",
      "|  8|2021|ADRIANA DE JESUS ...|          MERENDEIRA|   ATIVO|        532.44|    RJ|\n",
      "|  8|2021|ADRIANA DRUMMOND ...|CHEFE DA SEÇÃO DE...|   ATIVO|       5064.34|    RJ|\n",
      "|  8|2021|ADRIANA FERREIRA ...|AUXILIAR DE SERVI...|   ATIVO|        233.41|    RJ|\n",
      "|  8|2021|ADRIANA MARIA ROD...|SERVIDOR CEDIDO O...|   ATIVO|        743.13|    RJ|\n",
      "|  8|2021|ADRIANA MARLEY FE...|AGENTE COMUNITARI...|   ATIVO|       2365.27|    RJ|\n",
      "|  8|2021|ADRIANA OLIVEIRA ...|         PROFESSOR I|   ATIVO|        244.87|    RJ|\n",
      "|  8|2021|ADRIANA OLIVEIRA ...|         PROFESSOR I|   ATIVO|        708.18|    RJ|\n",
      "|  8|2021|ADRIANA PINTO DE ...|SECRETÁRIO DE PLA...|   ATIVO|       7046.38|    RJ|\n",
      "+---+----+--------------------+--------------------+--------+--------------+------+\n",
      "only showing top 20 rows\n",
      "\n"
     ]
    }
   ],
   "source": [
    "df_rj.show()"
   ]
  },
  {
   "cell_type": "code",
   "execution_count": 13,
   "id": "0c3c3279-c619-445a-8092-1279def17e1b",
   "metadata": {},
   "outputs": [
    {
     "name": "stdout",
     "output_type": "stream",
     "text": [
      "+---+----+--------------------+--------------------+--------+--------------+------+\n",
      "|mes| ano|                nome|               cargo|situacao|salarioLiquido|estado|\n",
      "+---+----+--------------------+--------------------+--------+--------------+------+\n",
      "|  2|2021|ABEIGAIR DE ALENC...|    ENFERMEIRO - ESF|   ATIVO|       5672.84|    RJ|\n",
      "|  2|2021|ADAIL JULIO DO NA...|    GUARDA MUNICIPAL|   ATIVO|        7751.5|    RJ|\n",
      "|  2|2021|ADALBERTO CURVELO...|SUBSECRETÁRIO DE ...|   ATIVO|       3799.06|    RJ|\n",
      "|  2|2021|ADEILTON ALVES DE...|    GUARDA MUNICIPAL|   ATIVO|       1980.26|    RJ|\n",
      "|  2|2021|ADEMILTON DE OLIV...|  TRABALHADOR BRAÇAL|   ATIVO|       1986.65|    RJ|\n",
      "|  2|2021|ADILSON MACHADO M...|AUXILIAR DE ARTIFICE|   ATIVO|       3046.69|    RJ|\n",
      "|  2|2021|ADJANE BASILIO FA...|         PROFESSOR I|   ATIVO|       1172.24|    RJ|\n",
      "|  2|2021|ADRIANA APARECIDA...|AUXILIAR OPERACIO...|   ATIVO|        1696.2|    RJ|\n",
      "|  2|2021|ADRIANA CHAGAS DO...|AUXILIAR DE ENFER...|   ATIVO|       1772.16|    RJ|\n",
      "|  2|2021|ADRIANA DA CONCEI...|AUXILIAR ADMINIST...|   ATIVO|       1902.47|    RJ|\n",
      "|  2|2021|ADRIANA DE CARVAL...|         PROFESSOR I|   ATIVO|       2920.71|    RJ|\n",
      "|  2|2021|ADRIANA DE JESUS ...|          MERENDEIRA|   ATIVO|        499.31|    RJ|\n",
      "|  2|2021|ADRIANA DRUMMOND ...|MEDICO VETERINARI...|   ATIVO|        7192.5|    RJ|\n",
      "|  2|2021|ADRIANA FERREIRA ...|AUXILIAR DE SERVI...|   ATIVO|        637.84|    RJ|\n",
      "|  2|2021|ADRIANA MARIA DA ...|ASSESSOR EXECUTIV...|   ATIVO|       2035.93|    RJ|\n",
      "|  2|2021|ADRIANA MARIA ROD...|SERVIDOR CEDIDO O...|   ATIVO|        743.13|    RJ|\n",
      "|  2|2021|ADRIANA MARLEY FE...|AGENTE COMUNITARI...|   ATIVO|       1613.62|    RJ|\n",
      "|  2|2021|ADRIANA OLIVEIRA ...|         PROFESSOR I|   ATIVO|        698.28|    RJ|\n",
      "|  2|2021|ADRIANA OLIVEIRA ...|         PROFESSOR I|   ATIVO|          5.83|    RJ|\n",
      "|  2|2021|ADRIANA PINTO DE ...|SECRETÁRIO DE PLA...|   ATIVO|       7046.38|    RJ|\n",
      "+---+----+--------------------+--------------------+--------+--------------+------+\n",
      "only showing top 20 rows\n",
      "\n"
     ]
    }
   ],
   "source": [
    "df_rj.filter(df_rj.estado == \"RJ\").filter(df_rj.ano == 2021).filter(df_rj.mes == 2).show()"
   ]
  },
  {
   "cell_type": "code",
   "execution_count": 14,
   "id": "dac72637-c0ef-4973-896f-0383e1c87d08",
   "metadata": {},
   "outputs": [
    {
     "ename": "AnalysisException",
     "evalue": "path gs://projeto_final_2021/parquet_to_bq/RJ already exists.",
     "output_type": "error",
     "traceback": [
      "\u001b[0;31m---------------------------------------------------------------------------\u001b[0m",
      "\u001b[0;31mAnalysisException\u001b[0m                         Traceback (most recent call last)",
      "\u001b[0;32m/tmp/ipykernel_2662/2233987543.py\u001b[0m in \u001b[0;36m<module>\u001b[0;34m\u001b[0m\n\u001b[1;32m      1\u001b[0m \u001b[0;31m#Salvar dados\u001b[0m\u001b[0;34m\u001b[0m\u001b[0;34m\u001b[0m\u001b[0;34m\u001b[0m\u001b[0m\n\u001b[0;32m----> 2\u001b[0;31m (df_rj.write.format(\"parquet\")\n\u001b[0m\u001b[1;32m      3\u001b[0m \u001b[0;34m.\u001b[0m\u001b[0moption\u001b[0m\u001b[0;34m(\u001b[0m\u001b[0;34m\"header\"\u001b[0m\u001b[0;34m,\u001b[0m \u001b[0;34m\"true\"\u001b[0m\u001b[0;34m)\u001b[0m\u001b[0;34m\u001b[0m\u001b[0;34m\u001b[0m\u001b[0m\n\u001b[1;32m      4\u001b[0m \u001b[0;34m.\u001b[0m\u001b[0moption\u001b[0m\u001b[0;34m(\u001b[0m\u001b[0;34m\"inferschema\"\u001b[0m\u001b[0;34m,\u001b[0m \u001b[0;34m\"true\"\u001b[0m\u001b[0;34m)\u001b[0m\u001b[0;34m\u001b[0m\u001b[0;34m\u001b[0m\u001b[0m\n\u001b[1;32m      5\u001b[0m \u001b[0;34m.\u001b[0m\u001b[0msave\u001b[0m\u001b[0;34m(\u001b[0m\u001b[0;34m\"gs://projeto_final_2021/parquet_to_bq/RJ\"\u001b[0m\u001b[0;34m)\u001b[0m\u001b[0;34m\u001b[0m\u001b[0;34m\u001b[0m\u001b[0m\n",
      "\u001b[0;32m/usr/lib/spark/python/pyspark/sql/readwriter.py\u001b[0m in \u001b[0;36msave\u001b[0;34m(self, path, format, mode, partitionBy, **options)\u001b[0m\n\u001b[1;32m   1107\u001b[0m             \u001b[0mself\u001b[0m\u001b[0;34m.\u001b[0m\u001b[0m_jwrite\u001b[0m\u001b[0;34m.\u001b[0m\u001b[0msave\u001b[0m\u001b[0;34m(\u001b[0m\u001b[0;34m)\u001b[0m\u001b[0;34m\u001b[0m\u001b[0;34m\u001b[0m\u001b[0m\n\u001b[1;32m   1108\u001b[0m         \u001b[0;32melse\u001b[0m\u001b[0;34m:\u001b[0m\u001b[0;34m\u001b[0m\u001b[0;34m\u001b[0m\u001b[0m\n\u001b[0;32m-> 1109\u001b[0;31m             \u001b[0mself\u001b[0m\u001b[0;34m.\u001b[0m\u001b[0m_jwrite\u001b[0m\u001b[0;34m.\u001b[0m\u001b[0msave\u001b[0m\u001b[0;34m(\u001b[0m\u001b[0mpath\u001b[0m\u001b[0;34m)\u001b[0m\u001b[0;34m\u001b[0m\u001b[0;34m\u001b[0m\u001b[0m\n\u001b[0m\u001b[1;32m   1110\u001b[0m \u001b[0;34m\u001b[0m\u001b[0m\n\u001b[1;32m   1111\u001b[0m     \u001b[0;34m@\u001b[0m\u001b[0msince\u001b[0m\u001b[0;34m(\u001b[0m\u001b[0;36m1.4\u001b[0m\u001b[0;34m)\u001b[0m\u001b[0;34m\u001b[0m\u001b[0;34m\u001b[0m\u001b[0m\n",
      "\u001b[0;32m/opt/conda/miniconda3/lib/python3.8/site-packages/py4j/java_gateway.py\u001b[0m in \u001b[0;36m__call__\u001b[0;34m(self, *args)\u001b[0m\n\u001b[1;32m   1302\u001b[0m \u001b[0;34m\u001b[0m\u001b[0m\n\u001b[1;32m   1303\u001b[0m         \u001b[0manswer\u001b[0m \u001b[0;34m=\u001b[0m \u001b[0mself\u001b[0m\u001b[0;34m.\u001b[0m\u001b[0mgateway_client\u001b[0m\u001b[0;34m.\u001b[0m\u001b[0msend_command\u001b[0m\u001b[0;34m(\u001b[0m\u001b[0mcommand\u001b[0m\u001b[0;34m)\u001b[0m\u001b[0;34m\u001b[0m\u001b[0;34m\u001b[0m\u001b[0m\n\u001b[0;32m-> 1304\u001b[0;31m         return_value = get_return_value(\n\u001b[0m\u001b[1;32m   1305\u001b[0m             answer, self.gateway_client, self.target_id, self.name)\n\u001b[1;32m   1306\u001b[0m \u001b[0;34m\u001b[0m\u001b[0m\n",
      "\u001b[0;32m/usr/lib/spark/python/pyspark/sql/utils.py\u001b[0m in \u001b[0;36mdeco\u001b[0;34m(*a, **kw)\u001b[0m\n\u001b[1;32m    115\u001b[0m                 \u001b[0;31m# Hide where the exception came from that shows a non-Pythonic\u001b[0m\u001b[0;34m\u001b[0m\u001b[0;34m\u001b[0m\u001b[0;34m\u001b[0m\u001b[0m\n\u001b[1;32m    116\u001b[0m                 \u001b[0;31m# JVM exception message.\u001b[0m\u001b[0;34m\u001b[0m\u001b[0;34m\u001b[0m\u001b[0;34m\u001b[0m\u001b[0m\n\u001b[0;32m--> 117\u001b[0;31m                 \u001b[0;32mraise\u001b[0m \u001b[0mconverted\u001b[0m \u001b[0;32mfrom\u001b[0m \u001b[0;32mNone\u001b[0m\u001b[0;34m\u001b[0m\u001b[0;34m\u001b[0m\u001b[0m\n\u001b[0m\u001b[1;32m    118\u001b[0m             \u001b[0;32melse\u001b[0m\u001b[0;34m:\u001b[0m\u001b[0;34m\u001b[0m\u001b[0;34m\u001b[0m\u001b[0m\n\u001b[1;32m    119\u001b[0m                 \u001b[0;32mraise\u001b[0m\u001b[0;34m\u001b[0m\u001b[0;34m\u001b[0m\u001b[0m\n",
      "\u001b[0;31mAnalysisException\u001b[0m: path gs://projeto_final_2021/parquet_to_bq/RJ already exists."
     ]
    }
   ],
   "source": [
    "#Salvar dados \n",
    "(df_rj.write.format(\"parquet\")\n",
    ".option(\"header\", \"true\")\n",
    ".option(\"inferschema\", \"true\")\n",
    ".save(\"gs://projeto_final_2021/parquet_to_bq/RJ\")\n",
    ")\n"
   ]
  },
  {
   "cell_type": "code",
   "execution_count": null,
   "id": "538f3413-86f2-4c55-81d2-a7649e7bac87",
   "metadata": {},
   "outputs": [],
   "source": [
    "df.filter(df.estado == \"RJ\").filter(df.ano == 2021).filter(df.mes == 2).show()"
   ]
  },
  {
   "cell_type": "code",
   "execution_count": null,
   "id": "b50a54ee-1d8c-444c-9b4d-dcc33ed7583f",
   "metadata": {},
   "outputs": [],
   "source": []
  }
 ],
 "metadata": {
  "kernelspec": {
   "display_name": "Python 3",
   "language": "python",
   "name": "python3"
  },
  "language_info": {
   "codemirror_mode": {
    "name": "ipython",
    "version": 3
   },
   "file_extension": ".py",
   "mimetype": "text/x-python",
   "name": "python",
   "nbconvert_exporter": "python",
   "pygments_lexer": "ipython3",
   "version": "3.8.12"
  }
 },
 "nbformat": 4,
 "nbformat_minor": 5
}
