{
 "cells": [
  {
   "cell_type": "markdown",
   "id": "3a82c21b-31e7-444f-ba3c-22401e645935",
   "metadata": {},
   "source": [
    "# Importação de bibliotecas"
   ]
  },
  {
   "cell_type": "code",
   "execution_count": 7,
   "id": "bd7bb7b3-facc-45c3-a9c0-4b1bf40a27e1",
   "metadata": {},
   "outputs": [],
   "source": [
    "from pyspark.sql import SparkSession\n",
    "from pyspark.sql.functions import *\n",
    "from pyspark.sql.types import *"
   ]
  },
  {
   "cell_type": "markdown",
   "id": "b76de3e4-1e0f-4f43-a1cd-705faf453030",
   "metadata": {},
   "source": [
    "# Criando SparkSession"
   ]
  },
  {
   "cell_type": "code",
   "execution_count": 6,
   "id": "d44b1645-f883-4875-bd4a-5db23f7c1c86",
   "metadata": {},
   "outputs": [],
   "source": [
    "spark = (\n",
    "    SparkSession.builder\n",
    "      .master('local')\n",
    "      .appName('ES')\n",
    "      .config('spark.ui.port','4050')\n",
    "      .getOrCreate()\n",
    ")"
   ]
  },
  {
   "cell_type": "code",
   "execution_count": 7,
   "id": "44aed425-8460-4932-8a34-6f322abf08cc",
   "metadata": {
    "tags": []
   },
   "outputs": [
    {
     "data": {
      "text/html": [
       "\n",
       "            <div>\n",
       "                <p><b>SparkSession - hive</b></p>\n",
       "                \n",
       "        <div>\n",
       "            <p><b>SparkContext</b></p>\n",
       "\n",
       "            <p><a href=\"http://pyspark-cluster-m.southamerica-east1-a.c.salario-brasileiro.internal:44831\">Spark UI</a></p>\n",
       "\n",
       "            <dl>\n",
       "              <dt>Version</dt>\n",
       "                <dd><code>v3.1.2</code></dd>\n",
       "              <dt>Master</dt>\n",
       "                <dd><code>yarn</code></dd>\n",
       "              <dt>AppName</dt>\n",
       "                <dd><code>PySparkShell</code></dd>\n",
       "            </dl>\n",
       "        </div>\n",
       "        \n",
       "            </div>\n",
       "        "
      ],
      "text/plain": [
       "<pyspark.sql.session.SparkSession at 0x7f6e6cf25430>"
      ]
     },
     "execution_count": 7,
     "metadata": {},
     "output_type": "execute_result"
    },
    {
     "name": "stderr",
     "output_type": "stream",
     "text": [
      "21/11/23 18:22:27 WARN org.apache.spark.scheduler.cluster.YarnScheduler: Initial job has not accepted any resources; check your cluster UI to ensure that workers are registered and have sufficient resources\n"
     ]
    }
   ],
   "source": [
    "spark"
   ]
  },
  {
   "cell_type": "markdown",
   "id": "ae1cd081-e347-4822-b867-c881748f5d61",
   "metadata": {},
   "source": [
    "# Extração dos dados do Espírito Santo"
   ]
  },
  {
   "cell_type": "code",
   "execution_count": 16,
   "id": "ce9d963a-d384-4fab-ab07-261e5d9f3272",
   "metadata": {},
   "outputs": [],
   "source": [
    "df_ES = spark.read.parquet('gs://projeto_final_2021/pandas_to_parquet/ES_parquet/ES_completo.snappy')"
   ]
  },
  {
   "cell_type": "code",
   "execution_count": 17,
   "id": "905a2b70-a023-4f10-b191-cda66462f198",
   "metadata": {},
   "outputs": [
    {
     "name": "stdout",
     "output_type": "stream",
     "text": [
      "root\n",
      " |-- Matricula: string (nullable = true)\n",
      " |-- ServidorNome: string (nullable = true)\n",
      " |-- ServidorCpf: string (nullable = true)\n",
      " |-- QuadroNome: string (nullable = true)\n",
      " |-- LotacaoNome: string (nullable = true)\n",
      " |-- DataAdmissao: timestamp (nullable = true)\n",
      " |-- CargaHoraria: short (nullable = true)\n",
      " |-- PlanoCargos: string (nullable = true)\n",
      " |-- Mes: byte (nullable = true)\n",
      " |-- Ano: short (nullable = true)\n",
      " |-- Rubrica: string (nullable = true)\n",
      " |-- Valor: float (nullable = true)\n",
      " |-- Tipo: string (nullable = true)\n",
      " |-- Estado: string (nullable = true)\n",
      "\n"
     ]
    }
   ],
   "source": [
    "#imprimindo o  esquema\n",
    "df_ES.printSchema()"
   ]
  },
  {
   "cell_type": "code",
   "execution_count": 18,
   "id": "724f6fe1-159a-48ff-ab01-360c10b9e8b7",
   "metadata": {
    "tags": []
   },
   "outputs": [
    {
     "name": "stdout",
     "output_type": "stream",
     "text": [
      "+-----------+--------------------+--------------+----------------+--------------------+-------------------+------------+-----------+---+----+--------------------+------+----+------+\n",
      "|  Matricula|        ServidorNome|   ServidorCpf|      QuadroNome|         LotacaoNome|       DataAdmissao|CargaHoraria|PlanoCargos|Mes| Ano|             Rubrica| Valor|Tipo|Estado|\n",
      "+-----------+--------------------+--------------+----------------+--------------------+-------------------+------------+-----------+---+----+--------------------+------+----+------+\n",
      "|95893/61781|Adelimar C. Caeta...|***.*81.927-**|ACT - Temporário|Secretaria M. de ...|2019-05-07 00:00:00|         125|     PROF V|  1|2020|                INSS| 252.0|   D|    ES|\n",
      "|95893/61781|Adelimar C. Caeta...|***.*81.927-**|ACT - Temporário|Secretaria M. de ...|2019-05-07 00:00:00|         125|     PROF V|  1|2020|  AUXÍLIO-TRANSPORTE| 64.04|   V|    ES|\n",
      "|95893/61781|Adelimar C. Caeta...|***.*81.927-**|ACT - Temporário|Secretaria M. de ...|2019-05-07 00:00:00|         125|     PROF V|  1|2020|CARGA HORARIA ESP...|857.39|   V|    ES|\n",
      "|95893/61781|Adelimar C. Caeta...|***.*81.927-**|ACT - Temporário|Secretaria M. de ...|2019-05-07 00:00:00|         125|     PROF V|  1|2020|AUX. ALIMENT. LEI...| 150.0|   V|    ES|\n",
      "+-----------+--------------------+--------------+----------------+--------------------+-------------------+------------+-----------+---+----+--------------------+------+----+------+\n",
      "only showing top 4 rows\n",
      "\n"
     ]
    }
   ],
   "source": [
    "df_ES.show(4)"
   ]
  },
  {
   "cell_type": "markdown",
   "id": "bf58a8d9-bfab-4f1f-b019-3bb138ca4d1e",
   "metadata": {},
   "source": [
    "# Alteração de colunas e ordenação"
   ]
  },
  {
   "cell_type": "code",
   "execution_count": 19,
   "id": "67046a51-ec2d-499d-9d77-68ecd6c75782",
   "metadata": {},
   "outputs": [
    {
     "data": {
      "text/plain": [
       "['Matricula',\n",
       " 'ServidorNome',\n",
       " 'ServidorCpf',\n",
       " 'QuadroNome',\n",
       " 'LotacaoNome',\n",
       " 'DataAdmissao',\n",
       " 'CargaHoraria',\n",
       " 'PlanoCargos',\n",
       " 'Mes',\n",
       " 'Ano',\n",
       " 'Rubrica',\n",
       " 'Valor',\n",
       " 'Tipo',\n",
       " 'Estado']"
      ]
     },
     "execution_count": 19,
     "metadata": {},
     "output_type": "execute_result"
    }
   ],
   "source": [
    "df_ES.schema.names"
   ]
  },
  {
   "cell_type": "code",
   "execution_count": 20,
   "id": "e3eabc5d-0769-475c-bd93-2ede3b81539b",
   "metadata": {},
   "outputs": [],
   "source": [
    "#Padronização dos dados para futura concatenação\n",
    "df_ES = (df_ES.withColumn(\"QuadroNome\",\n",
    "                             when(col(\"QuadroNome\") == \"Aposentadoria\", \"INATIVO\")\n",
    "                             .when(col(\"QuadroNome\") == \"Inat/Pens Moléstia Grave\", \"INATIVO\")\n",
    "                             .when(col(\"QuadroNome\") == \"Pensao\", \"INATIVO\")\n",
    "                             .otherwise('ATIVO'))\n",
    "        )"
   ]
  },
  {
   "cell_type": "code",
   "execution_count": 21,
   "id": "2bd8d2f2-e7f4-4ed2-9158-84985aa89c6b",
   "metadata": {
    "tags": []
   },
   "outputs": [
    {
     "name": "stdout",
     "output_type": "stream",
     "text": [
      "+------------+--------------------+--------------+----------+--------------------+-------------------+------------+--------------------+---+----+--------------------+-------+----+------+\n",
      "|   Matricula|        ServidorNome|   ServidorCpf|QuadroNome|         LotacaoNome|       DataAdmissao|CargaHoraria|         PlanoCargos|Mes| Ano|             Rubrica|  Valor|Tipo|Estado|\n",
      "+------------+--------------------+--------------+----------+--------------------+-------------------+------------+--------------------+---+----+--------------------+-------+----+------+\n",
      "| 95893/61781|Adelimar C. Caeta...|***.*81.927-**|     ATIVO|Secretaria M. de ...|2019-05-07 00:00:00|         125|              PROF V|  1|2020|                INSS|  252.0|   D|    ES|\n",
      "| 95893/61781|Adelimar C. Caeta...|***.*81.927-**|     ATIVO|Secretaria M. de ...|2019-05-07 00:00:00|         125|              PROF V|  1|2020|  AUXÍLIO-TRANSPORTE|  64.04|   V|    ES|\n",
      "| 95893/61781|Adelimar C. Caeta...|***.*81.927-**|     ATIVO|Secretaria M. de ...|2019-05-07 00:00:00|         125|              PROF V|  1|2020|CARGA HORARIA ESP...| 857.39|   V|    ES|\n",
      "| 95893/61781|Adelimar C. Caeta...|***.*81.927-**|     ATIVO|Secretaria M. de ...|2019-05-07 00:00:00|         125|              PROF V|  1|2020|AUX. ALIMENT. LEI...|  150.0|   V|    ES|\n",
      "| 95893/61781|Adelimar C. Caeta...|***.*81.927-**|     ATIVO|Secretaria M. de ...|2019-05-07 00:00:00|         125|              PROF V|  1|2020|VENCIMENTO CONTRA...|1792.72|   V|    ES|\n",
      "| 95893/61781|Adelimar C. Caeta...|***.*81.927-**|     ATIVO|Secretaria M. de ...|2019-05-07 00:00:00|         125|              PROF V|  1|2020|                IRRF|  37.06|   D|    ES|\n",
      "| 95893/61781|Adelimar C. Caeta...|***.*81.927-**|     ATIVO|Secretaria M. de ...|2019-05-07 00:00:00|         125|              PROF V|  1|2020|       TOTAL LIQUIDO|2575.09|   L|    ES|\n",
      "|825778/23188|Adelina de Jesus ...|***.*25.387-**|     ATIVO|Secretaria M. de ...|2016-03-05 00:00:00|         220| CONSELHEIRO TUTELAR|  1|2020|  FERIAS INDENIZADAS| 2535.0|   V|    ES|\n",
      "|825778/23188|Adelina de Jesus ...|***.*25.387-**|     ATIVO|Secretaria M. de ...|2016-03-05 00:00:00|         220| CONSELHEIRO TUTELAR|  1|2020|FERIAS PROPORCIONAIS| 1690.0|   V|    ES|\n",
      "|825778/23188|Adelina de Jesus ...|***.*25.387-**|     ATIVO|Secretaria M. de ...|2016-03-05 00:00:00|         220| CONSELHEIRO TUTELAR|  1|2020|  AUXÍLIO-TRANSPORTE|  19.35|   V|    ES|\n",
      "|825778/23188|Adelina de Jesus ...|***.*25.387-**|     ATIVO|Secretaria M. de ...|2016-03-05 00:00:00|         220| CONSELHEIRO TUTELAR|  1|2020|       TOTAL LIQUIDO|6401.63|   L|    ES|\n",
      "|825778/23188|Adelina de Jesus ...|***.*25.387-**|     ATIVO|Secretaria M. de ...|2016-03-05 00:00:00|         220| CONSELHEIRO TUTELAR|  1|2020|AUX. ALIMENT. LEI...|   45.0|   V|    ES|\n",
      "|825778/23188|Adelina de Jesus ...|***.*25.387-**|     ATIVO|Secretaria M. de ...|2016-03-05 00:00:00|         220| CONSELHEIRO TUTELAR|  1|2020|PLANTÃO P.L.5.7.2...|  750.0|   V|    ES|\n",
      "|825778/23188|Adelina de Jesus ...|***.*25.387-**|     ATIVO|Secretaria M. de ...|2016-03-05 00:00:00|         220| CONSELHEIRO TUTELAR|  1|2020|                INSS| 106.44|   D|    ES|\n",
      "|825778/23188|Adelina de Jesus ...|***.*25.387-**|     ATIVO|Secretaria M. de ...|2016-03-05 00:00:00|         220| CONSELHEIRO TUTELAR|  1|2020|FERIAS PROPORCION...| 563.33|   V|    ES|\n",
      "|825778/23188|Adelina de Jesus ...|***.*25.387-**|     ATIVO|Secretaria M. de ...|2016-03-05 00:00:00|         220| CONSELHEIRO TUTELAR|  1|2020|    SALDO DE SALARIO|  535.5|   V|    ES|\n",
      "|825778/23188|Adelina de Jesus ...|***.*25.387-**|     ATIVO|Secretaria M. de ...|2016-03-05 00:00:00|         220| CONSELHEIRO TUTELAR|  1|2020|FERIAS INDENIZADA...|  845.0|   V|    ES|\n",
      "|  71056/8738|Ademir Nogueira Lyra|***.*70.717-**|     ATIVO|Secretaria Munici...|1992-12-16 00:00:00|         220|GR 1002 REF I - S...|  1|2020|          IPVV/FUFIN| 124.28|   D|    ES|\n",
      "|  71056/8738|Ademir Nogueira Lyra|***.*70.717-**|     ATIVO|Secretaria Munici...|1992-12-16 00:00:00|         220|GR 1002 REF I - S...|  1|2020|          TRIENIO DC| 102.03|   V|    ES|\n",
      "|  71056/8738|Ademir Nogueira Lyra|***.*70.717-**|     ATIVO|Secretaria Munici...|1992-12-16 00:00:00|         220|GR 1002 REF I - S...|  1|2020|  VENCIMENTO EFETIVO|1020.32|   V|    ES|\n",
      "+------------+--------------------+--------------+----------+--------------------+-------------------+------------+--------------------+---+----+--------------------+-------+----+------+\n",
      "only showing top 20 rows\n",
      "\n"
     ]
    }
   ],
   "source": [
    "df_ES.filter(col('QuadroNome')== 'ATIVO').show()"
   ]
  },
  {
   "cell_type": "code",
   "execution_count": 22,
   "id": "c4dd9373-4a08-4216-b394-da57fc6f07b0",
   "metadata": {},
   "outputs": [],
   "source": [
    "#filtrando os valores pelo salário Liquido\n",
    "df_ES = (df_ES.where(col(\"Rubrica\") == 'TOTAL LIQUIDO')\n",
    "         .where(col(\"Tipo\")== 'L')\n",
    "        \n",
    "        )"
   ]
  },
  {
   "cell_type": "code",
   "execution_count": 23,
   "id": "6b1d080f-0108-4c57-a6d7-8011f6e9cda7",
   "metadata": {
    "tags": []
   },
   "outputs": [
    {
     "name": "stdout",
     "output_type": "stream",
     "text": [
      "+--------------+--------------------+--------------+----------+--------------------+-------------------+------------+--------------------+---+----+-------------+-------+----+------+\n",
      "|     Matricula|        ServidorNome|   ServidorCpf|QuadroNome|         LotacaoNome|       DataAdmissao|CargaHoraria|         PlanoCargos|Mes| Ano|      Rubrica|  Valor|Tipo|Estado|\n",
      "+--------------+--------------------+--------------+----------+--------------------+-------------------+------------+--------------------+---+----+-------------+-------+----+------+\n",
      "|   95893/61781|Adelimar C. Caeta...|***.*81.927-**|     ATIVO|Secretaria M. de ...|2019-05-07 00:00:00|         125|              PROF V|  1|2020|TOTAL LIQUIDO|2575.09|   L|    ES|\n",
      "|  825778/23188|Adelina de Jesus ...|***.*25.387-**|     ATIVO|Secretaria M. de ...|2016-03-05 00:00:00|         220| CONSELHEIRO TUTELAR|  1|2020|TOTAL LIQUIDO|6401.63|   L|    ES|\n",
      "|    71056/8738|Ademir Nogueira Lyra|***.*70.717-**|     ATIVO|Secretaria Munici...|1992-12-16 00:00:00|         220|GR 1002 REF I - S...|  1|2020|TOTAL LIQUIDO| 860.45|   L|    ES|\n",
      "|    24325/2971|Adenice Sanson de...|***.*28.257-**|     ATIVO|Secretaria M. de ...|2018-04-25 00:00:00|         120|              PROF V|  1|2020|TOTAL LIQUIDO|2938.73|   L|    ES|\n",
      "|  985449/38593|Adriana de F. R. ...|***.*54.927-**|     ATIVO|Secretaria M. de ...|2005-10-01 00:00:00|         120|              PROF V|  1|2020|TOTAL LIQUIDO|3319.12|   L|    ES|\n",
      "|  989860/39283|Adriana de Medeir...|***.*72.247-**|     ATIVO|Secretaria M. de ...|2005-01-09 00:00:00|         120|              PROF V|  1|2020|TOTAL LIQUIDO|5664.27|   L|    ES|\n",
      "|  995398/40200|Adriana Garcia M....|***.*67.287-**|     ATIVO|Secretaria M. de ...|2005-01-03 00:00:00|         120|              PROF V|  1|2020|TOTAL LIQUIDO|3666.43|   L|    ES|\n",
      "| 9996249/62032|Adriana J. Ferrei...|***.*92.087-**|     ATIVO|Secretaria M. de ...|2019-02-09 00:00:00|         200|GR 1010 REF I - S...|  1|2020|TOTAL LIQUIDO|1315.93|   L|    ES|\n",
      "|10000403/61321|ADRIANA TEIXEIRA ...|***.*46.747-**|     ATIVO|Secretaria M. de ...|2019-08-05 00:00:00|           0|GR 1092 REF I - S...|  1|2020|TOTAL LIQUIDO| 1314.1|   L|    ES|\n",
      "| 9931562/48243|Adriane Nasciment...|***.*13.427-**|     ATIVO|Secretaria M. de ...|2009-03-08 00:00:00|         120|              PROF V|  1|2020|TOTAL LIQUIDO|1533.38|   L|    ES|\n",
      "| 9931562/48246|Adriane Nasciment...|***.*13.427-**|     ATIVO|Secretaria M. de ...|2015-02-02 00:00:00|         120|              PROF V|  1|2020|TOTAL LIQUIDO|1336.54|   L|    ES|\n",
      "| 9923950/46393|Adriano Cintra Co...|***.*04.267-**|     ATIVO|Secretaria M. de ...|2009-03-03 00:00:00|         220|GUARDA MUNICIPAL ...|  1|2020|TOTAL LIQUIDO|3534.13|   L|    ES|\n",
      "|    78174/9560|Adriano Edgar Sou...|***.*52.737-**|     ATIVO|Secretaria M Pl e...|2018-11-05 00:00:00|         220|      C.C PADRÃO CC1|  1|2020|TOTAL LIQUIDO|4417.44|   L|    ES|\n",
      "|  132454/15894|Aida Gizela Trava...|***.*48.937-**|     ATIVO|Secretaria M. de ...|2018-02-19 00:00:00|         100|GR 500 REF I - Se...|  1|2020|TOTAL LIQUIDO|  721.6|   L|    ES|\n",
      "| 9928790/47652|Ailton Araujo Pei...|***.*74.556-**|     ATIVO|Secretaria de Mei...|2009-08-06 00:00:00|         200|GR 1014 REF I - S...|  1|2020|TOTAL LIQUIDO| 1073.5|   L|    ES|\n",
      "|    66524/8244|Airton Sibien Rub...|***.*11.947-**|     ATIVO|Procuradoria Gera...|2015-03-31 00:00:00|         220|  PROCURADOR NIVEL I|  1|2020|TOTAL LIQUIDO|8117.11|   L|    ES|\n",
      "|  985473/38597|Alailce de Fatima...|***.*38.267-**|     ATIVO|Secretaria M. de ...|2005-10-01 00:00:00|         120|              PROF V|  1|2020|TOTAL LIQUIDO|1592.25|   L|    ES|\n",
      "| 9954341/52903|Alair Fatima de Deus|***.*88.797-**|     ATIVO|Secretaria M. de ...|2015-02-02 00:00:00|         120|              PROF V|  1|2020|TOTAL LIQUIDO|1936.29|   L|    ES|\n",
      "|    47678/5985|Alda L. Dos Santo...|***.*11.477-**|     ATIVO|Secretaria M. de ...|2018-03-09 00:00:00|         220|GR 1092 REF I - S...|  1|2020|TOTAL LIQUIDO|1067.53|   L|    ES|\n",
      "|   95230/12129|Alda Ramos Rosa B...|***.*09.647-**|     ATIVO|Secretaria M. de ...|2018-07-20 00:00:00|         220|GR 1092 REF I - S...|  1|2020|TOTAL LIQUIDO|1529.94|   L|    ES|\n",
      "+--------------+--------------------+--------------+----------+--------------------+-------------------+------------+--------------------+---+----+-------------+-------+----+------+\n",
      "only showing top 20 rows\n",
      "\n"
     ]
    }
   ],
   "source": [
    "#Vizualização de modificação\n",
    "df_ES.filter(col('Tipo') == 'L' ).show()"
   ]
  },
  {
   "cell_type": "code",
   "execution_count": 24,
   "id": "7c012c40-3c11-4066-b2b9-c15996d2d34e",
   "metadata": {
    "tags": []
   },
   "outputs": [],
   "source": [
    "#Exclusão de colunas que não serão utilizadas\n",
    "cols_to_keep = {'Mes','Ano', 'ServidorNome','PlanoCargos', 'QuadroNome', 'Valor', 'Estado'}\n",
    "cols_to_drop = list(set(df_ES.schema.names).difference(cols_to_keep))\n",
    "   \n",
    "df_ES = df_ES.drop(*cols_to_drop)"
   ]
  },
  {
   "cell_type": "code",
   "execution_count": 25,
   "id": "6514083c-6641-4ba5-8c39-3b51b6b5b3b5",
   "metadata": {},
   "outputs": [
    {
     "name": "stdout",
     "output_type": "stream",
     "text": [
      "+--------------------+--------+--------------------+---+----+--------------+------+\n",
      "|                nome|situacao|               cargo|Mes| ano|salarioLiquido|estado|\n",
      "+--------------------+--------+--------------------+---+----+--------------+------+\n",
      "|Adelimar C. Caeta...|   ATIVO|              PROF V|  1|2020|       2575.09|    ES|\n",
      "|Adelina de Jesus ...|   ATIVO| CONSELHEIRO TUTELAR|  1|2020|       6401.63|    ES|\n",
      "|Ademir Nogueira Lyra|   ATIVO|GR 1002 REF I - S...|  1|2020|        860.45|    ES|\n",
      "|Adenice Sanson de...|   ATIVO|              PROF V|  1|2020|       2938.73|    ES|\n",
      "|Adriana de F. R. ...|   ATIVO|              PROF V|  1|2020|       3319.12|    ES|\n",
      "|Adriana de Medeir...|   ATIVO|              PROF V|  1|2020|       5664.27|    ES|\n",
      "|Adriana Garcia M....|   ATIVO|              PROF V|  1|2020|       3666.43|    ES|\n",
      "|Adriana J. Ferrei...|   ATIVO|GR 1010 REF I - S...|  1|2020|       1315.93|    ES|\n",
      "|ADRIANA TEIXEIRA ...|   ATIVO|GR 1092 REF I - S...|  1|2020|        1314.1|    ES|\n",
      "|Adriane Nasciment...|   ATIVO|              PROF V|  1|2020|       1533.38|    ES|\n",
      "|Adriane Nasciment...|   ATIVO|              PROF V|  1|2020|       1336.54|    ES|\n",
      "|Adriano Cintra Co...|   ATIVO|GUARDA MUNICIPAL ...|  1|2020|       3534.13|    ES|\n",
      "|Adriano Edgar Sou...|   ATIVO|      C.C PADRÃO CC1|  1|2020|       4417.44|    ES|\n",
      "|Aida Gizela Trava...|   ATIVO|GR 500 REF I - Se...|  1|2020|         721.6|    ES|\n",
      "|Ailton Araujo Pei...|   ATIVO|GR 1014 REF I - S...|  1|2020|        1073.5|    ES|\n",
      "|Airton Sibien Rub...|   ATIVO|  PROCURADOR NIVEL I|  1|2020|       8117.11|    ES|\n",
      "|Alailce de Fatima...|   ATIVO|              PROF V|  1|2020|       1592.25|    ES|\n",
      "|Alair Fatima de Deus|   ATIVO|              PROF V|  1|2020|       1936.29|    ES|\n",
      "|Alda L. Dos Santo...|   ATIVO|GR 1092 REF I - S...|  1|2020|       1067.53|    ES|\n",
      "|Alda Ramos Rosa B...|   ATIVO|GR 1092 REF I - S...|  1|2020|       1529.94|    ES|\n",
      "+--------------------+--------+--------------------+---+----+--------------+------+\n",
      "only showing top 20 rows\n",
      "\n"
     ]
    }
   ],
   "source": [
    "#Rename de colunas para padronização pensando na futura concatenação\n",
    "df_ES = (df_ES.withColumnRenamed('Mês', 'mes')\n",
    "  .withColumnRenamed('Ano', 'ano')\n",
    "  .withColumnRenamed('PlanoCargos', 'cargo')\n",
    "  .withColumnRenamed('ServidorNome', 'nome')\n",
    "  .withColumnRenamed('Valor', 'salarioLiquido')\n",
    "  .withColumnRenamed('Estado', 'estado')\n",
    "  .withColumnRenamed('QuadroNome', 'situacao')\n",
    "         \n",
    "  \n",
    ")\n",
    "df_ES.show()"
   ]
  },
  {
   "cell_type": "code",
   "execution_count": 26,
   "id": "069e6fe5-937f-4914-b134-3f4bb0858514",
   "metadata": {},
   "outputs": [
    {
     "name": "stdout",
     "output_type": "stream",
     "text": [
      "+---+----+--------------------+-------------------+--------+--------------+------+\n",
      "|mes| ano|                nome|              cargo|situacao|salarioLiquido|estado|\n",
      "+---+----+--------------------+-------------------+--------+--------------+------+\n",
      "|  1|2020|Adelimar C. Caeta...|             PROF V|   ATIVO|       2575.09|    ES|\n",
      "|  1|2020|Adelina de Jesus ...|CONSELHEIRO TUTELAR|   ATIVO|       6401.63|    ES|\n",
      "+---+----+--------------------+-------------------+--------+--------------+------+\n",
      "only showing top 2 rows\n",
      "\n"
     ]
    }
   ],
   "source": [
    "#Ordenação de colunas\n",
    "coletar_colunas = ('mes','ano','nome','cargo','situacao','salarioLiquido', 'estado')\n",
    "df_ES.select(*coletar_colunas).show(2)"
   ]
  },
  {
   "cell_type": "markdown",
   "id": "d445bdb3-5598-43cd-8a01-28dc2fa445f7",
   "metadata": {},
   "source": [
    "# Salvar Arquivo "
   ]
  },
  {
   "cell_type": "code",
   "execution_count": 28,
   "id": "956494f7-a088-400b-8525-99550ab808e6",
   "metadata": {},
   "outputs": [
    {
     "name": "stderr",
     "output_type": "stream",
     "text": [
      "                                                                                \r"
     ]
    }
   ],
   "source": [
    "(df_ES.write.format(\"parquet\")\n",
    ".option(\"header\", \"true\")\n",
    ".option(\"inferschema\", \"true\")\n",
    ".save(\"gs://projeto_final_2021/parquet_to_bq/ES/\")\n",
    ")"
   ]
  },
  {
   "cell_type": "code",
   "execution_count": null,
   "id": "f34aa787-3ed9-4098-b3be-e84b45748bd1",
   "metadata": {},
   "outputs": [],
   "source": []
  }
 ],
 "metadata": {
  "kernelspec": {
   "display_name": "PySpark",
   "language": "python",
   "name": "pyspark"
  },
  "language_info": {
   "codemirror_mode": {
    "name": "ipython",
    "version": 3
   },
   "file_extension": ".py",
   "mimetype": "text/x-python",
   "name": "python",
   "nbconvert_exporter": "python",
   "pygments_lexer": "ipython3",
   "version": "3.8.12"
  }
 },
 "nbformat": 4,
 "nbformat_minor": 5
}