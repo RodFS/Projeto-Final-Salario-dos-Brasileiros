{
 "cells": [
  {
   "cell_type": "markdown",
   "id": "9ba84d90-cd6a-425f-8af7-b16ad3e7ef26",
   "metadata": {
    "tags": []
   },
   "source": [
    "# Bibliotecas"
   ]
  },
  {
   "cell_type": "code",
   "execution_count": 1,
   "id": "5d6e5cbe-7cf6-45ad-9cfe-5c7eb279f070",
   "metadata": {},
   "outputs": [
    {
     "name": "stdout",
     "output_type": "stream",
     "text": [
      "\u001b[33mWARNING: Running pip as the 'root' user can result in broken permissions and conflicting behaviour with the system package manager. It is recommended to use a virtual environment instead: https://pip.pypa.io/warnings/venv\u001b[0m\n",
      "Note: you may need to restart the kernel to use updated packages.\n"
     ]
    }
   ],
   "source": [
    "pip install --quiet pandera"
   ]
  },
  {
   "cell_type": "code",
   "execution_count": 2,
   "id": "9bf6a4a6-860e-45be-8374-cbb661361162",
   "metadata": {},
   "outputs": [],
   "source": [
    "import pandas as pd\n",
    "import pandera as pa\n",
    "import locale\n",
    "import numpy as np\n"
   ]
  },
  {
   "cell_type": "code",
   "execution_count": 3,
   "id": "a0c716d4-de65-4de0-aa2f-8276cf13e8c7",
   "metadata": {},
   "outputs": [
    {
     "name": "stdout",
     "output_type": "stream",
     "text": [
      "\u001b[33mWARNING: Running pip as the 'root' user can result in broken permissions and conflicting behaviour with the system package manager. It is recommended to use a virtual environment instead: https://pip.pypa.io/warnings/venv\u001b[0m\n",
      "Note: you may need to restart the kernel to use updated packages.\n"
     ]
    }
   ],
   "source": [
    "pip install --quiet openpyxl"
   ]
  },
  {
   "cell_type": "code",
   "execution_count": 4,
   "id": "62d1dd39-9b53-421d-ba02-f2f5a1e771e5",
   "metadata": {},
   "outputs": [],
   "source": [
    "from datetime import datetime"
   ]
  },
  {
   "cell_type": "markdown",
   "id": "2bce8867-1014-432b-9750-c49ef1a56fdd",
   "metadata": {
    "tags": []
   },
   "source": [
    "# Importação de dados"
   ]
  },
  {
   "cell_type": "code",
   "execution_count": 15,
   "id": "e4144b32-9523-4e43-a5df-d3c534fa17ec",
   "metadata": {
    "tags": []
   },
   "outputs": [
    {
     "name": "stderr",
     "output_type": "stream",
     "text": [
      "/opt/conda/miniconda3/lib/python3.8/site-packages/openpyxl/styles/stylesheet.py:226: UserWarning: Workbook contains no default style, apply openpyxl's default\n",
      "  warn(\"Workbook contains no default style, apply openpyxl's default\")\n"
     ]
    }
   ],
   "source": [
    "df1 = pd.read_excel('gs://projeto_final_2021/entrada/RJ/2021/Planilha_19112021_182835.xlsx')\n",
    "df2 = pd.read_excel('gs://projeto_final_2021/entrada/RJ/2021/Planilha_19112021_182904.xlsx')\n",
    "df3 = pd.read_excel('gs://projeto_final_2021/entrada/RJ/2021/Planilha_19112021_182926.xlsx')\n",
    "df4 = pd.read_excel('gs://projeto_final_2021/entrada/RJ/2021/Planilha_19112021_182941.xlsx')\n",
    "df5 = pd.read_excel('gs://projeto_final_2021/entrada/RJ/2021/Planilha_19112021_182956.xlsx')\n",
    "df6 = pd.read_excel('gs://projeto_final_2021/entrada/RJ/2021/Planilha_19112021_183016.xlsx')\n",
    "df7 = pd.read_excel('gs://projeto_final_2021/entrada/RJ/2021/Planilha_27112021_081425.xlsx')\n",
    "df8 = pd.read_excel('gs://projeto_final_2021/entrada/RJ/2021/Planilha_19112021_183043.xlsx')\n",
    "df9 = pd.read_excel('gs://projeto_final_2021/entrada/RJ/2020/Planilha_19112021_183356.xlsx')\n",
    "df10 = pd.read_excel('gs://projeto_final_2021/entrada/RJ/2020/Planilha_19112021_183426.xlsx')\n",
    "df11 = pd.read_excel('gs://projeto_final_2021/entrada/RJ/2020/Planilha_19112021_183444.xlsx')\n",
    "df12 = pd.read_excel('gs://projeto_final_2021/entrada/RJ/2020/Planilha_19112021_183524.xlsx')\n",
    "df13 = pd.read_excel('gs://projeto_final_2021/entrada/RJ/2020/Planilha_19112021_183541.xlsx')\n",
    "df14 = pd.read_excel('gs://projeto_final_2021/entrada/RJ/2020/Planilha_19112021_183558.xlsx')\n",
    "df15 = pd.read_excel('gs://projeto_final_2021/entrada/RJ/2020/Planilha_19112021_183612.xlsx')\n",
    "df16 = pd.read_excel('gs://projeto_final_2021/entrada/RJ/2020/Planilha_19112021_183627.xlsx')\n",
    "df17 = pd.read_excel('gs://projeto_final_2021/entrada/RJ/2020/Planilha_19112021_183640.xlsx')\n",
    "df18 = pd.read_excel('gs://projeto_final_2021/entrada/RJ/2020/Planilha_19112021_183653.xlsx')\n",
    "df19 = pd.read_excel('gs://projeto_final_2021/entrada/RJ/2020/Planilha_19112021_183708.xlsx')\n",
    "df20 = pd.read_excel('gs://projeto_final_2021/entrada/RJ/2020/Planilha_19112021_183738.xlsx')"
   ]
  },
  {
   "cell_type": "code",
   "execution_count": 16,
   "id": "d56d9ae6-0fd9-4707-ba9d-eb8c558a1aa0",
   "metadata": {},
   "outputs": [
    {
     "data": {
      "text/html": [
       "<div>\n",
       "<style scoped>\n",
       "    .dataframe tbody tr th:only-of-type {\n",
       "        vertical-align: middle;\n",
       "    }\n",
       "\n",
       "    .dataframe tbody tr th {\n",
       "        vertical-align: top;\n",
       "    }\n",
       "\n",
       "    .dataframe thead th {\n",
       "        text-align: right;\n",
       "    }\n",
       "</style>\n",
       "<table border=\"1\" class=\"dataframe\">\n",
       "  <thead>\n",
       "    <tr style=\"text-align: right;\">\n",
       "      <th></th>\n",
       "      <th>Matrícula</th>\n",
       "      <th>Nome</th>\n",
       "      <th>Data Admissão</th>\n",
       "      <th>Cargo</th>\n",
       "      <th>Unidade</th>\n",
       "      <th>Local de Trabalho</th>\n",
       "      <th>Número do ATO</th>\n",
       "      <th>Data Publicação</th>\n",
       "      <th>Concursado</th>\n",
       "      <th>Comissionado</th>\n",
       "      <th>...</th>\n",
       "      <th>Vencimento Bruto</th>\n",
       "      <th>Desconto de Imposto (IR)</th>\n",
       "      <th>Desconto Previdenciário</th>\n",
       "      <th>Outros Descontos</th>\n",
       "      <th>Vencimento Líquido</th>\n",
       "      <th>Mês</th>\n",
       "      <th>ANO</th>\n",
       "      <th>Tipo de Folha</th>\n",
       "      <th>Regime</th>\n",
       "      <th>Contratado</th>\n",
       "    </tr>\n",
       "  </thead>\n",
       "  <tbody>\n",
       "    <tr>\n",
       "      <th>0</th>\n",
       "      <td>82325</td>\n",
       "      <td>ABEIGAIR DE ALENCAR BORGES</td>\n",
       "      <td>15/01/2009</td>\n",
       "      <td>ENFERMEIRO - ESF</td>\n",
       "      <td>SMS - ESF - ESTRATÉGIA DE SAÚDE DA FAMÍLIA</td>\n",
       "      <td>Prefeitura Municipal de Miguel Pereira</td>\n",
       "      <td>0655</td>\n",
       "      <td>10/06/2017</td>\n",
       "      <td>Não</td>\n",
       "      <td>Não</td>\n",
       "      <td>...</td>\n",
       "      <td>7894.85</td>\n",
       "      <td>1042.88</td>\n",
       "      <td>687.20</td>\n",
       "      <td>491.93</td>\n",
       "      <td>5672.84</td>\n",
       "      <td>2</td>\n",
       "      <td>2021</td>\n",
       "      <td>1 - Normal</td>\n",
       "      <td>Estatutário</td>\n",
       "      <td>Não</td>\n",
       "    </tr>\n",
       "    <tr>\n",
       "      <th>1</th>\n",
       "      <td>80550</td>\n",
       "      <td>ADAIL JULIO DO NASCIMENTO</td>\n",
       "      <td>23/09/2006</td>\n",
       "      <td>GUARDA MUNICIPAL</td>\n",
       "      <td>SMSEG - SM DE SEGURANÇA</td>\n",
       "      <td>Prefeitura Municipal de Miguel Pereira</td>\n",
       "      <td>0252</td>\n",
       "      <td>23/09/2006</td>\n",
       "      <td>Não</td>\n",
       "      <td>Não</td>\n",
       "      <td>...</td>\n",
       "      <td>8611.03</td>\n",
       "      <td>352.24</td>\n",
       "      <td>281.79</td>\n",
       "      <td>225.50</td>\n",
       "      <td>7751.50</td>\n",
       "      <td>2</td>\n",
       "      <td>2021</td>\n",
       "      <td>1 - Normal</td>\n",
       "      <td>Estatutário</td>\n",
       "      <td>Não</td>\n",
       "    </tr>\n",
       "  </tbody>\n",
       "</table>\n",
       "<p>2 rows × 21 columns</p>\n",
       "</div>"
      ],
      "text/plain": [
       "   Matrícula                        Nome Data Admissão             Cargo  \\\n",
       "0      82325  ABEIGAIR DE ALENCAR BORGES    15/01/2009  ENFERMEIRO - ESF   \n",
       "1      80550   ADAIL JULIO DO NASCIMENTO    23/09/2006  GUARDA MUNICIPAL   \n",
       "\n",
       "                                      Unidade  \\\n",
       "0  SMS - ESF - ESTRATÉGIA DE SAÚDE DA FAMÍLIA   \n",
       "1                     SMSEG - SM DE SEGURANÇA   \n",
       "\n",
       "                        Local de Trabalho Número do ATO Data Publicação  \\\n",
       "0  Prefeitura Municipal de Miguel Pereira          0655      10/06/2017   \n",
       "1  Prefeitura Municipal de Miguel Pereira          0252      23/09/2006   \n",
       "\n",
       "  Concursado Comissionado  ... Vencimento Bruto  Desconto de Imposto (IR)  \\\n",
       "0        Não          Não  ...          7894.85                   1042.88   \n",
       "1        Não          Não  ...          8611.03                    352.24   \n",
       "\n",
       "   Desconto Previdenciário  Outros Descontos  Vencimento Líquido  Mês   ANO  \\\n",
       "0                   687.20            491.93             5672.84    2  2021   \n",
       "1                   281.79            225.50             7751.50    2  2021   \n",
       "\n",
       "   Tipo de Folha       Regime Contratado  \n",
       "0     1 - Normal  Estatutário        Não  \n",
       "1     1 - Normal  Estatutário        Não  \n",
       "\n",
       "[2 rows x 21 columns]"
      ]
     },
     "execution_count": 16,
     "metadata": {},
     "output_type": "execute_result"
    }
   ],
   "source": [
    "df7.head(2)"
   ]
  },
  {
   "cell_type": "markdown",
   "id": "49d8b634-2365-4332-a2ba-b6e4d1fb0927",
   "metadata": {
    "tags": []
   },
   "source": [
    "# Concatenação de dados "
   ]
  },
  {
   "cell_type": "code",
   "execution_count": 17,
   "id": "fe45273c-8117-4476-ab06-ebd0ab34373b",
   "metadata": {},
   "outputs": [],
   "source": [
    "df= pd.concat([df1, df2, df3, df4, df5, df6, df7, df8, df9, df10, df11, df12, df13, df14, df15, df16,df17,df18,df19,df20], axis=0, ignore_index=True)"
   ]
  },
  {
   "cell_type": "code",
   "execution_count": 18,
   "id": "8a852a5e-6dfd-4dec-9877-fda0d9c0a135",
   "metadata": {},
   "outputs": [
    {
     "data": {
      "text/html": [
       "<div>\n",
       "<style scoped>\n",
       "    .dataframe tbody tr th:only-of-type {\n",
       "        vertical-align: middle;\n",
       "    }\n",
       "\n",
       "    .dataframe tbody tr th {\n",
       "        vertical-align: top;\n",
       "    }\n",
       "\n",
       "    .dataframe thead th {\n",
       "        text-align: right;\n",
       "    }\n",
       "</style>\n",
       "<table border=\"1\" class=\"dataframe\">\n",
       "  <thead>\n",
       "    <tr style=\"text-align: right;\">\n",
       "      <th></th>\n",
       "      <th>Matrícula</th>\n",
       "      <th>Nome</th>\n",
       "      <th>Data Admissão</th>\n",
       "      <th>Cargo</th>\n",
       "      <th>Unidade</th>\n",
       "      <th>Local de Trabalho</th>\n",
       "      <th>Número do ATO</th>\n",
       "      <th>Data Publicação</th>\n",
       "      <th>Concursado</th>\n",
       "      <th>Comissionado</th>\n",
       "      <th>...</th>\n",
       "      <th>Vencimento Bruto</th>\n",
       "      <th>Desconto de Imposto (IR)</th>\n",
       "      <th>Desconto Previdenciário</th>\n",
       "      <th>Outros Descontos</th>\n",
       "      <th>Vencimento Líquido</th>\n",
       "      <th>Mês</th>\n",
       "      <th>ANO</th>\n",
       "      <th>Tipo de Folha</th>\n",
       "      <th>Regime</th>\n",
       "      <th>Contratado</th>\n",
       "    </tr>\n",
       "  </thead>\n",
       "  <tbody>\n",
       "    <tr>\n",
       "      <th>0</th>\n",
       "      <td>82325</td>\n",
       "      <td>ABEIGAIR DE ALENCAR BORGES</td>\n",
       "      <td>15/01/2009</td>\n",
       "      <td>ENFERMEIRO - ESF</td>\n",
       "      <td>SMS - ESF - ESTRATÉGIA DE SAÚDE DA FAMÍLIA</td>\n",
       "      <td>Prefeitura Municipal de Miguel Pereira</td>\n",
       "      <td>0655</td>\n",
       "      <td>10/06/2017</td>\n",
       "      <td>Não</td>\n",
       "      <td>Não</td>\n",
       "      <td>...</td>\n",
       "      <td>5975.91</td>\n",
       "      <td>515.17</td>\n",
       "      <td>687.20</td>\n",
       "      <td>491.93</td>\n",
       "      <td>4281.61</td>\n",
       "      <td>8</td>\n",
       "      <td>2021</td>\n",
       "      <td>1 - Normal</td>\n",
       "      <td>Estatutário</td>\n",
       "      <td>Não</td>\n",
       "    </tr>\n",
       "    <tr>\n",
       "      <th>1</th>\n",
       "      <td>80550</td>\n",
       "      <td>ADAIL JULIO DO NASCIMENTO</td>\n",
       "      <td>23/09/2006</td>\n",
       "      <td>GUARDA MUNICIPAL</td>\n",
       "      <td>SMSEG - SM DE SEGURANÇA</td>\n",
       "      <td>Prefeitura Municipal de Miguel Pereira</td>\n",
       "      <td>0252</td>\n",
       "      <td>23/09/2006</td>\n",
       "      <td>Não</td>\n",
       "      <td>Não</td>\n",
       "      <td>...</td>\n",
       "      <td>4857.34</td>\n",
       "      <td>336.21</td>\n",
       "      <td>281.79</td>\n",
       "      <td>225.50</td>\n",
       "      <td>4013.84</td>\n",
       "      <td>8</td>\n",
       "      <td>2021</td>\n",
       "      <td>1 - Normal</td>\n",
       "      <td>Estatutário</td>\n",
       "      <td>Não</td>\n",
       "    </tr>\n",
       "  </tbody>\n",
       "</table>\n",
       "<p>2 rows × 21 columns</p>\n",
       "</div>"
      ],
      "text/plain": [
       "   Matrícula                        Nome Data Admissão             Cargo  \\\n",
       "0      82325  ABEIGAIR DE ALENCAR BORGES    15/01/2009  ENFERMEIRO - ESF   \n",
       "1      80550   ADAIL JULIO DO NASCIMENTO    23/09/2006  GUARDA MUNICIPAL   \n",
       "\n",
       "                                      Unidade  \\\n",
       "0  SMS - ESF - ESTRATÉGIA DE SAÚDE DA FAMÍLIA   \n",
       "1                     SMSEG - SM DE SEGURANÇA   \n",
       "\n",
       "                        Local de Trabalho Número do ATO Data Publicação  \\\n",
       "0  Prefeitura Municipal de Miguel Pereira          0655      10/06/2017   \n",
       "1  Prefeitura Municipal de Miguel Pereira          0252      23/09/2006   \n",
       "\n",
       "  Concursado Comissionado  ... Vencimento Bruto  Desconto de Imposto (IR)  \\\n",
       "0        Não          Não  ...          5975.91                    515.17   \n",
       "1        Não          Não  ...          4857.34                    336.21   \n",
       "\n",
       "   Desconto Previdenciário  Outros Descontos  Vencimento Líquido  Mês   ANO  \\\n",
       "0                   687.20            491.93             4281.61    8  2021   \n",
       "1                   281.79            225.50             4013.84    8  2021   \n",
       "\n",
       "   Tipo de Folha       Regime Contratado  \n",
       "0     1 - Normal  Estatutário        Não  \n",
       "1     1 - Normal  Estatutário        Não  \n",
       "\n",
       "[2 rows x 21 columns]"
      ]
     },
     "execution_count": 18,
     "metadata": {},
     "output_type": "execute_result"
    }
   ],
   "source": [
    "df.head(2)\n"
   ]
  },
  {
   "cell_type": "markdown",
   "id": "983240d1-9e35-44a0-9744-cabecbe4d778",
   "metadata": {
    "tags": []
   },
   "source": [
    "# Backup do dataframe"
   ]
  },
  {
   "cell_type": "code",
   "execution_count": 19,
   "id": "4f123591-36d8-4dfc-86e4-e84b9ad111b1",
   "metadata": {},
   "outputs": [],
   "source": [
    "backup_df = df.copy()"
   ]
  },
  {
   "cell_type": "markdown",
   "id": "b0a0cbb9-6aa3-4ffb-b0fd-5190ab633209",
   "metadata": {
    "tags": []
   },
   "source": [
    "# Verificar tipos de dados e dados nulos"
   ]
  },
  {
   "cell_type": "code",
   "execution_count": 20,
   "id": "01e501ed-709a-4755-8431-adc8e5b1864c",
   "metadata": {},
   "outputs": [
    {
     "data": {
      "text/plain": [
       "Matrícula                     int64\n",
       "Nome                         object\n",
       "Data Admissão                object\n",
       "Cargo                        object\n",
       "Unidade                      object\n",
       "Local de Trabalho            object\n",
       "Número do ATO                object\n",
       "Data Publicação              object\n",
       "Concursado                   object\n",
       "Comissionado                 object\n",
       "Função de Confiança          object\n",
       "Vencimento Bruto            float64\n",
       "Desconto de Imposto (IR)    float64\n",
       "Desconto Previdenciário     float64\n",
       "Outros Descontos            float64\n",
       "Vencimento Líquido          float64\n",
       "Mês                           int64\n",
       "ANO                           int64\n",
       "Tipo de Folha                object\n",
       "Regime                       object\n",
       "Contratado                   object\n",
       "dtype: object"
      ]
     },
     "execution_count": 20,
     "metadata": {},
     "output_type": "execute_result"
    }
   ],
   "source": [
    "df.dtypes"
   ]
  },
  {
   "cell_type": "code",
   "execution_count": 21,
   "id": "d28fc325-4abf-48f4-95b3-29f59c304a36",
   "metadata": {},
   "outputs": [
    {
     "data": {
      "text/plain": [
       "Matrícula                       0\n",
       "Nome                            0\n",
       "Data Admissão                   0\n",
       "Cargo                           0\n",
       "Unidade                         0\n",
       "Local de Trabalho               0\n",
       "Número do ATO                9846\n",
       "Data Publicação             10140\n",
       "Concursado                      0\n",
       "Comissionado                    0\n",
       "Função de Confiança             0\n",
       "Vencimento Bruto                0\n",
       "Desconto de Imposto (IR)        0\n",
       "Desconto Previdenciário         0\n",
       "Outros Descontos                0\n",
       "Vencimento Líquido              0\n",
       "Mês                             0\n",
       "ANO                             0\n",
       "Tipo de Folha                   0\n",
       "Regime                          0\n",
       "Contratado                      0\n",
       "dtype: int64"
      ]
     },
     "execution_count": 21,
     "metadata": {},
     "output_type": "execute_result"
    }
   ],
   "source": [
    "df.isna().sum() #Retorna o total de vazios em cada coluna"
   ]
  },
  {
   "cell_type": "code",
   "execution_count": 22,
   "id": "1be950ed-d13e-4e40-97e3-c0f4f2b14e8e",
   "metadata": {},
   "outputs": [
    {
     "data": {
      "text/plain": [
       "Matrícula                       0\n",
       "Nome                            0\n",
       "Data Admissão                   0\n",
       "Cargo                           0\n",
       "Unidade                         0\n",
       "Local de Trabalho               0\n",
       "Número do ATO                9846\n",
       "Data Publicação             10140\n",
       "Concursado                      0\n",
       "Comissionado                    0\n",
       "Função de Confiança             0\n",
       "Vencimento Bruto                0\n",
       "Desconto de Imposto (IR)        0\n",
       "Desconto Previdenciário         0\n",
       "Outros Descontos                0\n",
       "Vencimento Líquido              0\n",
       "Mês                             0\n",
       "ANO                             0\n",
       "Tipo de Folha                   0\n",
       "Regime                          0\n",
       "Contratado                      0\n",
       "dtype: int64"
      ]
     },
     "execution_count": 22,
     "metadata": {},
     "output_type": "execute_result"
    }
   ],
   "source": [
    "df.isnull().sum()"
   ]
  },
  {
   "cell_type": "code",
   "execution_count": 23,
   "id": "e966c5d6-8e84-4e63-8268-b7b4ca4ecc88",
   "metadata": {},
   "outputs": [
    {
     "name": "stdout",
     "output_type": "stream",
     "text": [
      "<class 'pandas.core.frame.DataFrame'>\n",
      "RangeIndex: 32333 entries, 0 to 32332\n",
      "Data columns (total 21 columns):\n",
      " #   Column                    Non-Null Count  Dtype  \n",
      "---  ------                    --------------  -----  \n",
      " 0   Matrícula                 32333 non-null  int64  \n",
      " 1   Nome                      32333 non-null  object \n",
      " 2   Data Admissão             32333 non-null  object \n",
      " 3   Cargo                     32333 non-null  object \n",
      " 4   Unidade                   32333 non-null  object \n",
      " 5   Local de Trabalho         32333 non-null  object \n",
      " 6   Número do ATO             22487 non-null  object \n",
      " 7   Data Publicação           22193 non-null  object \n",
      " 8   Concursado                32333 non-null  object \n",
      " 9   Comissionado              32333 non-null  object \n",
      " 10  Função de Confiança       32333 non-null  object \n",
      " 11  Vencimento Bruto          32333 non-null  float64\n",
      " 12  Desconto de Imposto (IR)  32333 non-null  float64\n",
      " 13  Desconto Previdenciário   32333 non-null  float64\n",
      " 14  Outros Descontos          32333 non-null  float64\n",
      " 15  Vencimento Líquido        32333 non-null  float64\n",
      " 16  Mês                       32333 non-null  int64  \n",
      " 17  ANO                       32333 non-null  int64  \n",
      " 18  Tipo de Folha             32333 non-null  object \n",
      " 19  Regime                    32333 non-null  object \n",
      " 20  Contratado                32333 non-null  object \n",
      "dtypes: float64(5), int64(3), object(13)\n",
      "memory usage: 5.2+ MB\n"
     ]
    }
   ],
   "source": [
    "df.info()\n"
   ]
  },
  {
   "cell_type": "markdown",
   "id": "d73ea2d9-7185-4729-8f85-b657cf83e005",
   "metadata": {
    "tags": []
   },
   "source": [
    "# Inclusão de coluna"
   ]
  },
  {
   "cell_type": "code",
   "execution_count": null,
   "id": "45d7c666-363a-48a4-bd3c-6e1fa366816f",
   "metadata": {},
   "outputs": [],
   "source": [
    "df['Estado'] = 'RJ'"
   ]
  },
  {
   "cell_type": "markdown",
   "id": "3448d314-fc2a-4497-9dde-ca82a8abfebc",
   "metadata": {},
   "source": [
    "# Inconsistências \n",
    "\n",
    "Matrícula                     int64\n",
    "Data Admissão                object\n",
    "Data Publicação              object\n",
    "Vencimento Bruto            float64\n",
    "Desconto de Imposto (IR)    float64\n",
    "Desconto Previdenciário     float64\n",
    "Outros Descontos            float64\n",
    "Vencimento Líquido          float64\n",
    "Mês                         float64\n",
    "ANO                         float64\n"
   ]
  },
  {
   "cell_type": "code",
   "execution_count": null,
   "id": "9f1fb220-e129-4913-9e2f-bf92862cdd66",
   "metadata": {},
   "outputs": [],
   "source": [
    "#Trocar para consumir menos espaço\n",
    "\n",
    "\n",
    "\n",
    "df['Data Admissão'] = pd.to_datetime(df['Data Admissão'])\n",
    "df['Data Publicação'] = pd.to_datetime(df['Data Publicação'])\n",
    "df[\"Matrícula\"] = pd.to_numeric(df[\"Matrícula\"])\n",
    "df[\"Vencimento Bruto\"] = pd.to_numeric(df[\"Vencimento Bruto\"])\n",
    "df[\"Desconto de Imposto (IR)\"] = pd.to_numeric(df[\"Desconto de Imposto (IR)\"])\n",
    "df[\"Desconto Previdenciário\"] = pd.to_numeric(df[\"Desconto Previdenciário\"])\n",
    "df[\"Vencimento Líquido\"] = pd.to_numeric(df[\"Vencimento Líquido\"])\n",
    "df[\"Outros Descontos\"] = pd.to_numeric(df[\"Outros Descontos\"])\n",
    "df['Mês'] = df['Mês'].astype(int)\n",
    "df['ANO'] = df['ANO'].astype(int)"
   ]
  },
  {
   "cell_type": "code",
   "execution_count": null,
   "id": "2ed281e7-f569-4307-bf62-14d1e5335ffe",
   "metadata": {},
   "outputs": [],
   "source": [
    "# confirmar a mudança\n",
    "df.dtypes\n"
   ]
  },
  {
   "cell_type": "code",
   "execution_count": null,
   "id": "b174ce2c-c15b-4f5f-b3c9-f677d7b30758",
   "metadata": {},
   "outputs": [],
   "source": [
    "df.head(5)"
   ]
  },
  {
   "cell_type": "code",
   "execution_count": null,
   "id": "d20adc2b-618f-4bdd-b387-d57a3a90a416",
   "metadata": {},
   "outputs": [],
   "source": [
    "df.dtypes"
   ]
  },
  {
   "cell_type": "markdown",
   "id": "f42db2c0-c29b-4e1c-93d2-4f109c0d8a40",
   "metadata": {},
   "source": [
    "# Pandera"
   ]
  },
  {
   "cell_type": "code",
   "execution_count": null,
   "id": "45719d8d-fb3a-4160-b6fe-adb690c3c990",
   "metadata": {},
   "outputs": [],
   "source": [
    "schema = pa.DataFrameSchema(\n",
    "    columns = {\n",
    "        \"Matrícula\":pa.Column(pa.Int),\n",
    "        \"Nome\":pa.Column(pa.String,pa.Check.str_length(0,150), nullable=True),\n",
    "        \"Data Admissão\":pa.Column(pa.DateTime, nullable=True),\n",
    "        \"Cargo\":pa.Column(pa.String,pa.Check.str_length(0,150), nullable=True),  \n",
    "        \"Unidade\":pa.Column(pa.String,pa.Check.str_length(0,100), nullable=True),\n",
    "        \"Local de Trabalho\":pa.Column(pa.String,pa.Check.str_length(0,100), nullable=True),\n",
    "        \"Número do ATO\":pa.Column(pa.String,pa.Check.str_length(0,20), nullable=True),\n",
    "        \"Data Publicação\":pa.Column(pa.DateTime, nullable=True),\n",
    "        \"Concursado\":pa.Column(pa.String,pa.Check.str_length(0,5), nullable=True),\n",
    "        \"Comissionado\":pa.Column(pa.String,pa.Check.str_length(0,5), nullable=True),\n",
    "        \"Função de Confiança\":pa.Column(pa.String,pa.Check.str_length(0,5), nullable=True),\n",
    "        \"Vencimento Bruto\":pa.Column(pa.Float, nullable=True),\n",
    "        \"Desconto de Imposto (IR)\":pa.Column(pa.Float, nullable=True),\n",
    "        \"Desconto Previdenciário\":pa.Column(pa.Float, nullable=True),\n",
    "        \"Outros Descontos\":pa.Column(pa.Float, nullable=True),\n",
    "        \"Vencimento Líquido\":pa.Column(pa.Float, nullable=True),\n",
    "        \"Mês\":pa.Column(pa.Int),\n",
    "        \"ANO\":pa.Column(pa.Int),\n",
    "        \"Tipo de Folha\":pa.Column(pa.String,pa.Check.str_length(0,50), nullable=True),\n",
    "        \"Regime\":pa.Column(pa.String,pa.Check.str_length(0,50), nullable=True),\n",
    "        \"Contratado\":pa.Column(pa.String,pa.Check.str_length(0,5), nullable=True),\n",
    "        \"Estado\":pa.Column(pa.String,pa.Check.str_length(0,2), nullable=True)\n",
    "     \n",
    "    }\n",
    "    \n",
    ")"
   ]
  },
  {
   "cell_type": "code",
   "execution_count": null,
   "id": "e034e136-0a18-427f-bd3b-677189d44dfd",
   "metadata": {},
   "outputs": [],
   "source": [
    "schema.validate(df)\n"
   ]
  },
  {
   "cell_type": "code",
   "execution_count": null,
   "id": "aa48834f-bcba-4c52-b340-5f08c26af774",
   "metadata": {},
   "outputs": [],
   "source": [
    "\"\"\"\n",
    "df_obj = df.select_dtypes(include=['object']).copy()\n",
    "df_obj.describe()\n",
    "# Instanciando um novo DF\n",
    "converted_obj = pd.DataFrame()\n",
    "# Iterar em cada coluna no DF de dtype = OBJECT\n",
    "for col in df_obj.columns:\n",
    "    # Contar numero de valores unicos\n",
    "    num_unique_values = len(df_obj[col].unique())\n",
    "    # Contar o numero total de valores\n",
    "    num_total_values = len(df_obj[col])\n",
    "    # Se os valores unicos forem menores que 50% do total...\n",
    "    if num_unique_values / num_total_values < 0.5:\n",
    "        converted_obj.loc[:,col] = df_obj[col].astype('category')\n",
    "    # Se nao foram perm\n",
    "\n",
    "print(mem_usage(df_obj))\n",
    "print(mem_usage(converted_obj))\n",
    "compare_obj = pd.concat([df_obj.dtypes,converted_obj.dtypes],axis=1)\n",
    "compare_obj.columns = ['before','after']\n",
    "compare_obj.apply(pd.Series.value_counts)\n",
    "\n",
    "\"\"\"\n"
   ]
  },
  {
   "cell_type": "code",
   "execution_count": null,
   "id": "dd279e0b-292d-49a7-8081-8c436a9f4fb8",
   "metadata": {},
   "outputs": [],
   "source": []
  },
  {
   "cell_type": "markdown",
   "id": "3773227a-2e82-48d3-a42f-15cd02c646d3",
   "metadata": {},
   "source": [
    "## Otimizar espaço"
   ]
  },
  {
   "cell_type": "code",
   "execution_count": null,
   "id": "a532f641-64dd-456f-8f4b-18ab7f8a5d95",
   "metadata": {},
   "outputs": [],
   "source": []
  },
  {
   "cell_type": "code",
   "execution_count": null,
   "id": "02898929-fb3e-4cb0-bf8b-d6e6df7aeeed",
   "metadata": {},
   "outputs": [],
   "source": [
    "#Trocar para consumir menos espaço\n",
    "\n",
    "\n",
    "\n",
    "df['Data Admissão'] = pd.to_datetime(df['Data Admissão'])\n",
    "df['Data Publicação'] = pd.to_datetime(df['Data Publicação'])\n",
    "df[\"Matrícula\"] = pd.to_numeric(df[\"Matrícula\"], downcast='unsigned')\n",
    "df[\"Vencimento Bruto\"] = pd.to_numeric(df[\"Vencimento Bruto\"], downcast='float')\n",
    "df[\"Desconto de Imposto (IR)\"] = pd.to_numeric(df[\"Desconto de Imposto (IR)\"], downcast='float')\n",
    "df[\"Desconto Previdenciário\"] = pd.to_numeric(df[\"Desconto Previdenciário\"], downcast='float')\n",
    "df[\"Vencimento Líquido\"] = pd.to_numeric(df[\"Vencimento Líquido\"], downcast='float')\n",
    "df[\"Outros Descontos\"] = pd.to_numeric(df[\"Outros Descontos\"], downcast='float')\n",
    "df[\"Mês\"] = pd.to_numeric(df[\"Mês\"], downcast='unsigned')\n",
    "df[\"ANO\"] = pd.to_numeric(df[\"ANO\"], downcast='unsigned')"
   ]
  }
 ],
 "metadata": {
  "environment": {
   "kernel": "python3",
   "name": "tf2-gpu.2-6.m84",
   "type": "gcloud",
   "uri": "gcr.io/deeplearning-platform-release/tf2-gpu.2-6:m84"
  },
  "kernelspec": {
   "display_name": "Python 3",
   "language": "python",
   "name": "python3"
  },
  "language_info": {
   "codemirror_mode": {
    "name": "ipython",
    "version": 3
   },
   "file_extension": ".py",
   "mimetype": "text/x-python",
   "name": "python",
   "nbconvert_exporter": "python",
   "pygments_lexer": "ipython3",
   "version": "3.8.12"
  },
  "toc-autonumbering": true,
  "toc-showcode": true,
  "toc-showmarkdowntxt": true,
  "toc-showtags": false
 },
 "nbformat": 4,
 "nbformat_minor": 5
}
