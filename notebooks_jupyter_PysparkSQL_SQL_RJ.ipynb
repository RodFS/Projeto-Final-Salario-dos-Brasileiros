{
 "cells": [
  {
   "cell_type": "code",
   "execution_count": 1,
   "id": "72993021-8635-4e29-9d3e-f88e0dae3d93",
   "metadata": {},
   "outputs": [],
   "source": [
    "from pyspark.sql import SparkSession\n",
    "from pyspark.sql.functions import *\n",
    "from pyspark.sql.types import *\n",
    "from pyspark.sql.window import Window as W"
   ]
  },
  {
   "cell_type": "code",
   "execution_count": 2,
   "id": "647d8b0d-cad4-4b90-b83c-a9c04fc6ca5e",
   "metadata": {},
   "outputs": [
    {
     "name": "stderr",
     "output_type": "stream",
     "text": [
      "Setting default log level to \"WARN\".\n",
      "To adjust logging level use sc.setLogLevel(newLevel). For SparkR, use setLogLevel(newLevel).\n"
     ]
    }
   ],
   "source": [
    "spark = (SparkSession.builder\n",
    "        .master(\"local\")\n",
    "        .appName(\"PysparkSQL_RJ\")\n",
    "        .config(\"spark.ui.port\", \"4050\")\n",
    "        .getOrCreate()\n",
    "        )"
   ]
  },
  {
   "cell_type": "code",
   "execution_count": 3,
   "id": "c8c889c6-b5b8-4d09-9f0f-76644b722da2",
   "metadata": {},
   "outputs": [
    {
     "data": {
      "text/html": [
       "\n",
       "            <div>\n",
       "                <p><b>SparkSession - hive</b></p>\n",
       "                \n",
       "        <div>\n",
       "            <p><b>SparkContext</b></p>\n",
       "\n",
       "            <p><a href=\"http://pyspark-cluster-m.southamerica-east1-a.c.salario-brasileiro.internal:4050\">Spark UI</a></p>\n",
       "\n",
       "            <dl>\n",
       "              <dt>Version</dt>\n",
       "                <dd><code>v3.1.2</code></dd>\n",
       "              <dt>Master</dt>\n",
       "                <dd><code>local</code></dd>\n",
       "              <dt>AppName</dt>\n",
       "                <dd><code>PysparkSQL_RJ</code></dd>\n",
       "            </dl>\n",
       "        </div>\n",
       "        \n",
       "            </div>\n",
       "        "
      ],
      "text/plain": [
       "<pyspark.sql.session.SparkSession at 0x7f8b590e3790>"
      ]
     },
     "execution_count": 3,
     "metadata": {},
     "output_type": "execute_result"
    }
   ],
   "source": [
    "spark"
   ]
  },
  {
   "cell_type": "code",
   "execution_count": 4,
   "id": "ced9fde6-b8f5-4452-a085-e26abed0d595",
   "metadata": {},
   "outputs": [
    {
     "name": "stderr",
     "output_type": "stream",
     "text": [
      "                                                                                \r"
     ]
    }
   ],
   "source": [
    "df = (spark.read.format(\"parquet\")\n",
    "  .option(\"inferSchema\", \"true\")\n",
    "  .option(\"header\", \"true\")\n",
    "  .load(\"gs://projeto_final_2021/parquet_to_bq/RJ/part-00000-9403edb2-d06c-4fc2-aa5f-555a889b8f6f-c000.snappy.parquet\")\n",
    "  .createOrReplaceTempView(\"rj\")\n",
    "     )"
   ]
  },
  {
   "cell_type": "code",
   "execution_count": 5,
   "id": "799d771b-99a7-4eea-9a9d-5ecf6ffb974e",
   "metadata": {},
   "outputs": [
    {
     "name": "stderr",
     "output_type": "stream",
     "text": [
      "ivysettings.xml file not found in HIVE_HOME or HIVE_CONF_DIR,/etc/hive/conf.dist/ivysettings.xml will be used\n"
     ]
    },
    {
     "name": "stdout",
     "output_type": "stream",
     "text": [
      "+--------------+---------+-------+\n",
      "|      col_name|data_type|comment|\n",
      "+--------------+---------+-------+\n",
      "|           mes|  tinyint|   null|\n",
      "|           ano| smallint|   null|\n",
      "|          nome|   string|   null|\n",
      "|         cargo|   string|   null|\n",
      "|      situacao|   string|   null|\n",
      "|salarioLiquido|    float|   null|\n",
      "|        estado|   string|   null|\n",
      "+--------------+---------+-------+\n",
      "\n"
     ]
    }
   ],
   "source": [
    "# Descrição de dados da tabela \n",
    "spark.sql('DESCRIBE RJ').show(30)"
   ]
  },
  {
   "cell_type": "code",
   "execution_count": 6,
   "id": "84c1556f-5412-4a22-930e-34664663eef3",
   "metadata": {},
   "outputs": [
    {
     "name": "stdout",
     "output_type": "stream",
     "text": [
      "+---+----+--------------------+--------------------+--------+--------------+------+\n",
      "|mes| ano|                nome|               cargo|situacao|salarioLiquido|estado|\n",
      "+---+----+--------------------+--------------------+--------+--------------+------+\n",
      "|  8|2021|ABEIGAIR DE ALENC...|    ENFERMEIRO - ESF|   ATIVO|       4281.61|    RJ|\n",
      "|  8|2021|ADAIL JULIO DO NA...|    GUARDA MUNICIPAL|   ATIVO|       4013.84|    RJ|\n",
      "|  8|2021|ADALBERTO CURVELO...|SUBSECRETÁRIO DE ...|   ATIVO|       3799.06|    RJ|\n",
      "|  8|2021|ADEILTON ALVES DE...|    GUARDA MUNICIPAL|   ATIVO|       1220.18|    RJ|\n",
      "|  8|2021|ADEMILTON DE OLIV...|  TRABALHADOR BRAÇAL|   ATIVO|       2226.98|    RJ|\n",
      "|  8|2021|ADERLANE  CRISTIN...|TECNICO EM ENFERM...|   ATIVO|       1372.31|    RJ|\n",
      "|  8|2021|ADILSON MACHADO M...|AUXILIAR DE ARTIFICE|   ATIVO|       2511.15|    RJ|\n",
      "|  8|2021|ADJANE BASILIO FA...|         PROFESSOR I|   ATIVO|        182.93|    RJ|\n",
      "|  8|2021|ADRIANA APARECIDA...|ASSESSOR DE INTEG...|   ATIVO|       1973.87|    RJ|\n",
      "|  8|2021|ADRIANA CHAGAS DO...|CHEFE DO POSTO DE...|   ATIVO|       1406.49|    RJ|\n",
      "|  8|2021|ADRIANA DA CONCEI...|AUXILIAR ADMINIST...|   ATIVO|       2907.88|    RJ|\n",
      "|  8|2021|ADRIANA DE CARVAL...|         PROFESSOR I|   ATIVO|       2920.71|    RJ|\n",
      "|  8|2021|ADRIANA DE JESUS ...|          MERENDEIRA|   ATIVO|        532.44|    RJ|\n",
      "|  8|2021|ADRIANA DRUMMOND ...|CHEFE DA SEÇÃO DE...|   ATIVO|       5064.34|    RJ|\n",
      "|  8|2021|ADRIANA FERREIRA ...|AUXILIAR DE SERVI...|   ATIVO|        233.41|    RJ|\n",
      "|  8|2021|ADRIANA MARIA ROD...|SERVIDOR CEDIDO O...|   ATIVO|        743.13|    RJ|\n",
      "|  8|2021|ADRIANA MARLEY FE...|AGENTE COMUNITARI...|   ATIVO|       2365.27|    RJ|\n",
      "|  8|2021|ADRIANA OLIVEIRA ...|         PROFESSOR I|   ATIVO|        244.87|    RJ|\n",
      "|  8|2021|ADRIANA OLIVEIRA ...|         PROFESSOR I|   ATIVO|        708.18|    RJ|\n",
      "|  8|2021|ADRIANA PINTO DE ...|SECRETÁRIO DE PLA...|   ATIVO|       7046.38|    RJ|\n",
      "|  8|2021|ADRIANA RAMOS DA ...|ASSESSOR ADMINIST...|   ATIVO|       2969.86|    RJ|\n",
      "|  8|2021|ADRIANE DA SILVA ...|MOTORISTA DE VEIC...|   ATIVO|         14.37|    RJ|\n",
      "|  8|2021|ADRIANO CUNHA GUI...|PROFESSOR II - IN...|   ATIVO|       3021.81|    RJ|\n",
      "|  8|2021|ADRIANO DOS SANTO...|  TRABALHADOR BRAÇAL|   ATIVO|       2385.96|    RJ|\n",
      "|  8|2021|ADRIANO PINHEIRO ...|VISITADOR DO ?PRO...|   ATIVO|       1058.05|    RJ|\n",
      "|  8|2021|ADRIANO RANGEL DE...|SERVIDOR CEDIDO O...|   ATIVO|        1000.0|    RJ|\n",
      "|  8|2021|ALAN ALVES DOS SA...|  TRABALHADOR BRAÇAL|   ATIVO|         45.69|    RJ|\n",
      "|  8|2021|       ALAN DA CUNHA|    ENFERMEIRO - ESF|   ATIVO|       4986.85|    RJ|\n",
      "|  8|2021| ALAN ROGERIO BALDEZ|AUXILIAR DE SERVI...|   ATIVO|       1976.91|    RJ|\n",
      "|  8|2021|ALAN SCHNEIDER DU...|ASSESSOR EXECUTIV...|   ATIVO|       2386.33|    RJ|\n",
      "+---+----+--------------------+--------------------+--------+--------------+------+\n",
      "only showing top 30 rows\n",
      "\n"
     ]
    }
   ],
   "source": [
    "# Consulta da tabela inteira \n",
    "spark.sql('''\n",
    "            SELECT\n",
    "                *\n",
    "            FROM\n",
    "                rj\n",
    "              \n",
    "          ''').show(30)"
   ]
  },
  {
   "cell_type": "code",
   "execution_count": 20,
   "id": "a3039dbb-c44c-4d42-aeeb-a1a536f3660b",
   "metadata": {},
   "outputs": [
    {
     "name": "stdout",
     "output_type": "stream",
     "text": [
      "+--------------------+--------------+\n",
      "|               cargo|Qtd_servidores|\n",
      "+--------------------+--------------+\n",
      "|  TRABALHADOR BRAÇAL|          3703|\n",
      "|CHEFE DA SEÇÃO DE...|             4|\n",
      "|ASSESSOR FINANCEI...|            23|\n",
      "|CHEFE DA SEÇÃO DE...|             3|\n",
      "|ARTIFICE DE MECAN...|             8|\n",
      "|AUXILIAR DE SERVI...|           889|\n",
      "|ASSESSOR DE INTEG...|            90|\n",
      "|TECNICO EM ENFERM...|           227|\n",
      "|CHEFE DA SEÇÃO DE...|             4|\n",
      "|AUXILIAR DE PLANE...|            18|\n",
      "|DIRETOR DE UNIDAD...|             3|\n",
      "|AUXILIAR OPERACIO...|            54|\n",
      "|DIRETOR  ? E.M. P...|             3|\n",
      "|COORDENADOR DE AR...|            69|\n",
      "|DIRETOR ? C. M. E...|             3|\n",
      "|SECRETÁRIO MUNICI...|            12|\n",
      "|ASSESSOR DE INTEG...|            10|\n",
      "|SECRETÁRIO MUNICI...|            22|\n",
      "|CHEFE DA SEÇÃO DE...|             3|\n",
      "|TECNICO EM EDIFIC...|            42|\n",
      "+--------------------+--------------+\n",
      "only showing top 20 rows\n",
      "\n"
     ]
    }
   ],
   "source": [
    "#Quantidade de servidores por cargo\n",
    "\n",
    "spark.sql('''SELECT cargo, COUNT(nome) AS Qtd_servidores FROM rj GROUP BY cargo''').show()"
   ]
  },
  {
   "cell_type": "code",
   "execution_count": 7,
   "id": "2819b7fa-848b-4bae-8069-db1c122138e5",
   "metadata": {},
   "outputs": [
    {
     "name": "stdout",
     "output_type": "stream",
     "text": [
      "+----+--------------------+--------------+\n",
      "| ano|               cargo|salarioLiquido|\n",
      "+----+--------------------+--------------+\n",
      "|2021|SECRETÁRIO MUN EX...|      12135.13|\n",
      "|2021|  PREFEITO MUNICIPAL|      19877.41|\n",
      "|2021|SECRETÁRIO MUN EX...|      12135.13|\n",
      "|2021|  PREFEITO MUNICIPAL|      19877.41|\n",
      "|2021|SECRETÁRIO MUN EX...|      12135.13|\n",
      "|2021|  PREFEITO MUNICIPAL|      19877.41|\n",
      "|2021|  PREFEITO MUNICIPAL|      10787.98|\n",
      "|2021|SECRETÁRIO DE GOV...|      12135.13|\n",
      "|2021|  PREFEITO MUNICIPAL|      19877.41|\n",
      "|2021|SECRETÁRIO DE GOV...|      12135.13|\n",
      "|2021|  PREFEITO MUNICIPAL|      19877.41|\n",
      "|2021|SECRETÁRIO DE GOV...|      12135.13|\n",
      "|2021|  PREFEITO MUNICIPAL|      19877.41|\n",
      "|2021|  PREFEITO MUNICIPAL|      19877.41|\n",
      "|2021|  PREFEITO MUNICIPAL|      19877.41|\n",
      "+----+--------------------+--------------+\n",
      "\n"
     ]
    }
   ],
   "source": [
    "# Verificar ano, cargo e salario maior que 10000 no ano de 2021\n",
    "spark.sql(\"\"\"\n",
    "SELECT\n",
    "    ano, cargo, salarioLiquido \n",
    "FROM \n",
    "    rj\n",
    "WHERE\n",
    "    salarioLiquido > 10000 AND ano = 2021\n",
    "\n",
    "\"\"\").show(30)\n"
   ]
  },
  {
   "cell_type": "code",
   "execution_count": 34,
   "id": "c2045df6-ed1d-42bf-98d5-7d1923903c4d",
   "metadata": {},
   "outputs": [
    {
     "name": "stdout",
     "output_type": "stream",
     "text": [
      "+-------------------------------------------+-------------+----+---+\n",
      "|                                      cargo|media_salario| ano|mes|\n",
      "+-------------------------------------------+-------------+----+---+\n",
      "|           PROFESSOR II - LINGUA PORTUGUESA|      2408.45|2020|  1|\n",
      "|                    PROFESSOR II - HISTORIA|      1999.96|2020|  1|\n",
      "|          PROFESSOR II - EDUCAÇÃO ARTISTICA|      3383.69|2020|  1|\n",
      "|                  PROFESSOR II - MATEMATICA|      2721.87|2020|  1|\n",
      "|                                PROFESSOR I|      1858.86|2020|  1|\n",
      "|                      PROFESSOR II - INGLES|       2583.0|2020|  1|\n",
      "|                   PROFESSOR II - GEOGRAFIA|      2422.21|2020|  1|\n",
      "|PROFESSOR DE INFORMAÇÃO E EDUCAÇÃO EM SAÚDE|      2759.84|2020|  1|\n",
      "|             PROFESSOR II - EDUCAÇÃO FÍSICA|      2508.43|2020|  1|\n",
      "|                    PROFESSOR II - CIENCIAS|      2295.55|2020|  1|\n",
      "|                 PROFESSOR INSPETOR ESCOLAR|      2523.96|2020|  1|\n",
      "|                    PROFESSOR II - CIENCIAS|      2618.04|2020|  2|\n",
      "|          PROFESSOR II - EDUCAÇÃO ARTISTICA|      3444.49|2020|  2|\n",
      "|                 PROFESSOR INSPETOR ESCOLAR|       2139.2|2020|  2|\n",
      "|                  PROFESSOR II - MATEMATICA|      3071.51|2020|  2|\n",
      "|                                PROFESSOR I|      2125.24|2020|  2|\n",
      "|                      PROFESSOR II - INGLES|      3182.35|2020|  2|\n",
      "|           PROFESSOR II - LINGUA PORTUGUESA|      2537.09|2020|  2|\n",
      "|                    PROFESSOR II - HISTORIA|      2596.86|2020|  2|\n",
      "|PROFESSOR DE INFORMAÇÃO E EDUCAÇÃO EM SAÚDE|      2759.84|2020|  2|\n",
      "+-------------------------------------------+-------------+----+---+\n",
      "only showing top 20 rows\n",
      "\n"
     ]
    }
   ],
   "source": [
    "#Média salarial dos servidores no cargo de professor durante o decorrer do ano de 2020\n",
    "spark.sql(\n",
    "\"\"\"\n",
    "SELECT\n",
    "    cargo,\n",
    "    ROUND(AVG(salarioLiquido),2) AS media_salario,\n",
    "    ano,\n",
    "    mes \n",
    "FROM\n",
    "    rj\n",
    "WHERE\n",
    "    cargo LIKE \"%PROF%\" AND ano == 2020\n",
    "GROUP BY\n",
    "    mes, ano, cargo\n",
    "ORDER BY\n",
    "    mes\n",
    "\"\"\"\n",
    ").show(truncate=50)"
   ]
  },
  {
   "cell_type": "code",
   "execution_count": 23,
   "id": "31af6504-29dc-4460-849b-9fca4ea3ab8f",
   "metadata": {},
   "outputs": [
    {
     "name": "stdout",
     "output_type": "stream",
     "text": [
      "+--------------------+-------------------+\n",
      "|               cargo|media_salario_cargo|\n",
      "+--------------------+-------------------+\n",
      "|CHEFE DA SEÇÃO DE...|              41.87|\n",
      "|DIRETOR ADJUNTO ?...|             141.79|\n",
      "|CHEFE DA SEÇÃO DE...|             261.85|\n",
      "|CHEFE DA SEÇÃO DE...|             663.92|\n",
      "|          DESENHISTA|             666.08|\n",
      "+--------------------+-------------------+\n",
      "\n"
     ]
    }
   ],
   "source": [
    "#Top 5 menores médias salariais por cargo \n",
    "spark.sql(\"SELECT cargo, ROUND(AVG(salarioLiquido),2) AS media_salario_cargo FROM rj GROUP BY cargo ORDER BY media_salario_cargo limit 5\").show()"
   ]
  },
  {
   "cell_type": "code",
   "execution_count": 35,
   "id": "fe5909ab-61b2-4498-b69f-8485a4f8b7a0",
   "metadata": {},
   "outputs": [
    {
     "name": "stdout",
     "output_type": "stream",
     "text": [
      "+--------------------+---------------------+\n",
      "|                nome|count(salarioLiquido)|\n",
      "+--------------------+---------------------+\n",
      "| ALAN ROGERIO BALDEZ|                   23|\n",
      "|ANDREZA RAFAELA F...|                   24|\n",
      "|EDER DO AMARAL MA...|                   20|\n",
      "|ELTON JOSE SALGAD...|                   23|\n",
      "| FAGNER SOARES DIOGO|                   23|\n",
      "|FERNANDO JOSE PER...|                   23|\n",
      "|JAQUELINE FRAGA D...|                   23|\n",
      "|LILIANE MOREIRA B...|                   25|\n",
      "|MARIA SOUZA DA SILVA|                   23|\n",
      "|RAQUEL CRISNER DO...|                   23|\n",
      "+--------------------+---------------------+\n",
      "\n"
     ]
    }
   ],
   "source": [
    "# Verificar a quantidade de pagamento efetuado para cada servidor \n",
    "spark.sql('''\n",
    "            SELECT \n",
    "                nome,\n",
    "            COUNT\n",
    "                (salarioLiquido) \n",
    "            FROM \n",
    "                rj \n",
    "            GROUP BY \n",
    "                nome \n",
    "            LIMIT 10\n",
    "            ''').show()"
   ]
  },
  {
   "cell_type": "code",
   "execution_count": 9,
   "id": "85505242-1a15-4d9d-b35d-7a1619c3d3f6",
   "metadata": {},
   "outputs": [
    {
     "name": "stdout",
     "output_type": "stream",
     "text": [
      "+---------------+\n",
      "|nome_diferentes|\n",
      "+---------------+\n",
      "|          32333|\n",
      "+---------------+\n",
      "\n"
     ]
    }
   ],
   "source": [
    "spark.sql(\"SELECT DISTINCT(COUNT(nome)) AS nome_diferentes FROM rj\").show() "
   ]
  },
  {
   "cell_type": "code",
   "execution_count": 24,
   "id": "7e8ccf84-d13e-44a2-9dce-38511b88a549",
   "metadata": {},
   "outputs": [
    {
     "name": "stdout",
     "output_type": "stream",
     "text": [
      "+----+---------------+\n",
      "| ano|count(situacao)|\n",
      "+----+---------------+\n",
      "|2020|          19887|\n",
      "|2021|          12446|\n",
      "+----+---------------+\n",
      "\n"
     ]
    }
   ],
   "source": [
    "#Descobrir o número total de registros de cada ano\n",
    "spark.sql(\"select ano, count(situacao) as total_pagamentos from rj group by ano\").show() "
   ]
  },
  {
   "cell_type": "code",
   "execution_count": 10,
   "id": "5094dc91-b925-4723-95d1-fc10efc75a9b",
   "metadata": {},
   "outputs": [
    {
     "name": "stdout",
     "output_type": "stream",
     "text": [
      "+-----+\n",
      "| nome|\n",
      "+-----+\n",
      "|32333|\n",
      "+-----+\n",
      "\n"
     ]
    }
   ],
   "source": [
    "spark.sql(\"SELECT COUNT(nome) AS nome FROM rj\").show() \n"
   ]
  },
  {
   "cell_type": "code",
   "execution_count": 11,
   "id": "bedf96bb-249d-431b-8a12-24845e4f9076",
   "metadata": {},
   "outputs": [
    {
     "name": "stdout",
     "output_type": "stream",
     "text": [
      "+--------------------+--------------------+--------+\n",
      "|                nome|               cargo|situacao|\n",
      "+--------------------+--------------------+--------+\n",
      "|ABEIGAIR DE ALENC...|    ENFERMEIRO - ESF|   ATIVO|\n",
      "|ACACIA PEREIRA DA...|COORDENADOR DE CE...|   ATIVO|\n",
      "|ADAIL JULIO DO NA...|    GUARDA MUNICIPAL|   ATIVO|\n",
      "|ADALBERTO CURVELO...|SECRETÁRIO MUNICI...|   ATIVO|\n",
      "|ADEILTON ALVES DE...|    GUARDA MUNICIPAL|   ATIVO|\n",
      "|ADEMILTON DE OLIV...|  TRABALHADOR BRAÇAL|   ATIVO|\n",
      "|ADENIRA DA SILVEI...|ASSISTENTE OPERAC...|   ATIVO|\n",
      "|ADILSON MACHADO M...|AUXILIAR DE ARTIFICE|   ATIVO|\n",
      "|ADJANE BASILIO FA...|         PROFESSOR I|   ATIVO|\n",
      "|ADRIANA APARECIDA...|AUXILIAR OPERACIO...|   ATIVO|\n",
      "|ADRIANA CHAGAS DO...|AUXILIAR DE ENFER...|   ATIVO|\n",
      "|ADRIANA DA CONCEI...|AUXILIAR ADMINIST...|   ATIVO|\n",
      "|ADRIANA DE CARVAL...|         PROFESSOR I|   ATIVO|\n",
      "|ADRIANA DE JESUS ...|          MERENDEIRA|   ATIVO|\n",
      "|ADRIANA DRUMMOND ...|MEDICO VETERINARI...|   ATIVO|\n",
      "|ADRIANA FERREIRA ...|AUXILIAR DE SERVI...|   ATIVO|\n",
      "|ADRIANA MARIA DA ...|ASSESSOR EXECUTIV...|   ATIVO|\n",
      "|ADRIANA MARIA ROD...|SERVIDOR CEDIDO O...|   ATIVO|\n",
      "|ADRIANA MARLEY FE...|AGENTE COMUNITARI...|   ATIVO|\n",
      "|ADRIANA MOREIRA B...|COORDENADOR DE MA...|   ATIVO|\n",
      "+--------------------+--------------------+--------+\n",
      "only showing top 20 rows\n",
      "\n"
     ]
    }
   ],
   "source": [
    "# Verificar nome, cargo e situção, no mês de 4 de 2020\n",
    "spark.sql(\"SELECT nome,cargo,situacao FROM rj  where mes = 4 and ano = 2020\").show()"
   ]
  },
  {
   "cell_type": "code",
   "execution_count": 12,
   "id": "737d81b9-4a9d-4318-b26a-02922715ed57",
   "metadata": {},
   "outputs": [
    {
     "name": "stdout",
     "output_type": "stream",
     "text": [
      "+--------------------+\n",
      "|               cargo|\n",
      "+--------------------+\n",
      "|  TRABALHADOR BRAÇAL|\n",
      "|CHEFE DA SEÇÃO DE...|\n",
      "|ASSESSOR FINANCEI...|\n",
      "|CHEFE DA SEÇÃO DE...|\n",
      "|ARTIFICE DE MECAN...|\n",
      "|AUXILIAR DE SERVI...|\n",
      "|ASSESSOR DE INTEG...|\n",
      "|TECNICO EM ENFERM...|\n",
      "|CHEFE DA SEÇÃO DE...|\n",
      "|AUXILIAR DE PLANE...|\n",
      "|DIRETOR DE UNIDAD...|\n",
      "|AUXILIAR OPERACIO...|\n",
      "|DIRETOR  ? E.M. P...|\n",
      "|COORDENADOR DE AR...|\n",
      "|DIRETOR ? C. M. E...|\n",
      "|SECRETÁRIO MUNICI...|\n",
      "|ASSESSOR DE INTEG...|\n",
      "|SECRETÁRIO MUNICI...|\n",
      "|CHEFE DA SEÇÃO DE...|\n",
      "|TECNICO EM EDIFIC...|\n",
      "+--------------------+\n",
      "only showing top 20 rows\n",
      "\n"
     ]
    }
   ],
   "source": [
    "# Verificar os cargos existentes\n",
    "spark.sql(\n",
    "'''\n",
    "SELECT\n",
    "    cargo\n",
    "FROM\n",
    "    rj\n",
    "GROUP By\n",
    "cargo\n",
    "\n",
    "'''\n",
    "\n",
    ").show()"
   ]
  },
  {
   "cell_type": "code",
   "execution_count": 25,
   "id": "125fbb9d-98ea-4a3d-9962-258b7cd8ad7f",
   "metadata": {},
   "outputs": [
    {
     "name": "stdout",
     "output_type": "stream",
     "text": [
      "+--------------------+--------------+\n",
      "|               cargo|Qtd_servidores|\n",
      "+--------------------+--------------+\n",
      "|  TRABALHADOR BRAÇAL|          3703|\n",
      "|CHEFE DA SEÇÃO DE...|             4|\n",
      "|ASSESSOR FINANCEI...|            23|\n",
      "|CHEFE DA SEÇÃO DE...|             3|\n",
      "|ARTIFICE DE MECAN...|             8|\n",
      "|AUXILIAR DE SERVI...|           889|\n",
      "|ASSESSOR DE INTEG...|            90|\n",
      "|TECNICO EM ENFERM...|           227|\n",
      "|CHEFE DA SEÇÃO DE...|             4|\n",
      "|AUXILIAR DE PLANE...|            18|\n",
      "|DIRETOR DE UNIDAD...|             3|\n",
      "|AUXILIAR OPERACIO...|            54|\n",
      "|DIRETOR  ? E.M. P...|             3|\n",
      "|COORDENADOR DE AR...|            69|\n",
      "|DIRETOR ? C. M. E...|             3|\n",
      "|SECRETÁRIO MUNICI...|            12|\n",
      "|ASSESSOR DE INTEG...|            10|\n",
      "|SECRETÁRIO MUNICI...|            22|\n",
      "|CHEFE DA SEÇÃO DE...|             3|\n",
      "|TECNICO EM EDIFIC...|            42|\n",
      "+--------------------+--------------+\n",
      "only showing top 20 rows\n",
      "\n"
     ]
    }
   ],
   "source": [
    "#Quantidade de servidores por cargo\n",
    "\n",
    "spark.sql('''SELECT cargo, COUNT(nome) AS Qtd_servidores FROM rj GROUP BY cargo''').show()"
   ]
  },
  {
   "cell_type": "code",
   "execution_count": 14,
   "id": "8ff0d736-cd20-43ef-8438-c557be9dd425",
   "metadata": {},
   "outputs": [
    {
     "name": "stdout",
     "output_type": "stream",
     "text": [
      "+--------------------+\n",
      "|               cargo|\n",
      "+--------------------+\n",
      "|  TRABALHADOR BRAÇAL|\n",
      "|CHEFE DA SEÇÃO DE...|\n",
      "|ASSESSOR FINANCEI...|\n",
      "|CHEFE DA SEÇÃO DE...|\n",
      "|ARTIFICE DE MECAN...|\n",
      "|AUXILIAR DE SERVI...|\n",
      "|ASSESSOR DE INTEG...|\n",
      "|TECNICO EM ENFERM...|\n",
      "|CHEFE DA SEÇÃO DE...|\n",
      "|AUXILIAR DE PLANE...|\n",
      "|DIRETOR DE UNIDAD...|\n",
      "|AUXILIAR OPERACIO...|\n",
      "|DIRETOR  ? E.M. P...|\n",
      "|COORDENADOR DE AR...|\n",
      "|DIRETOR ? C. M. E...|\n",
      "|SECRETÁRIO MUNICI...|\n",
      "|ASSESSOR DE INTEG...|\n",
      "|SECRETÁRIO MUNICI...|\n",
      "|CHEFE DA SEÇÃO DE...|\n",
      "|TECNICO EM EDIFIC...|\n",
      "|CHEFE DA DIVISÃO ...|\n",
      "|   ARTIFICE MECANICA|\n",
      "|ASSESSOR OPERACIO...|\n",
      "|DIRETOR ? E. E. M...|\n",
      "|ASSISTENTE DE MAN...|\n",
      "|TECNICO EM ENFERM...|\n",
      "|ASSESSOR ADMINIST...|\n",
      "|PROFESSOR II - ED...|\n",
      "|SUBSECRETÁRIO DE ...|\n",
      "|AUXILIAR DE DESEN...|\n",
      "|COORDENADOR DO CR...|\n",
      "|SUBSECRETÁRIO MUN...|\n",
      "|COORDENADOR DA PR...|\n",
      "| AUXILIAR DE FAZENDA|\n",
      "|PROFESSOR II - LÍ...|\n",
      "|CHEFE DA DIVISÃO ...|\n",
      "|SUBSECRETÁRIO DE ...|\n",
      "|PROFESSOR I - CON...|\n",
      "|COORDENADOR DO FU...|\n",
      "|AGENTE DE SAUDE P...|\n",
      "|COORDENADOR DE TR...|\n",
      "|CHEFE DA SEÇÃO DE...|\n",
      "|OPERADOR DE TRANSITO|\n",
      "|CHEFE DO CENTRO D...|\n",
      "|CHEFE DA SEÇÃO DE...|\n",
      "|CHEFE DA DIVISÃO ...|\n",
      "|SECRETÁRIO MUN DE...|\n",
      "|CHEFE DO SETOR DE...|\n",
      "|ASSESSOR EXECUTIV...|\n",
      "|ASSISTENTE OPERAC...|\n",
      "|AUXILIAR DE LICIT...|\n",
      "|SECRETÁRIO MUNICI...|\n",
      "|DIRETOR ADJUNTO U...|\n",
      "| NUTRICIONISTA - PPI|\n",
      "|CHEFE DA COORD. D...|\n",
      "|ASSESSOR DE LICIT...|\n",
      "|AUXILIAR OPERACIO...|\n",
      "|DIRETOR DE PROTEÇ...|\n",
      "|      EDUCADOR CREAS|\n",
      "|SUBSECRETÁRIO DE ...|\n",
      "|ASSESSOR DE INTEG...|\n",
      "|DIRETOR  ? E.M. W...|\n",
      "|\"CHEFE DA COORDEN...|\n",
      "|ARTIFICE DE ALVEN...|\n",
      "|AUXILIAR DE PROGR...|\n",
      "|AUXILIAR OPERACIO...|\n",
      "|AUXILIAR DE LIMPE...|\n",
      "|AUXILIAR DE GABINETE|\n",
      "|ENGENHEIRO FLORESTAL|\n",
      "|CHEFE DA SEÇÃO DE...|\n",
      "|ARTIFICE  BOMBEIR...|\n",
      "|CHEFE DA SEÇÃO DE...|\n",
      "|MOTORISTA DE VEIC...|\n",
      "|            PEDAGOGO|\n",
      "|CHEFE DA DIVISÃO ...|\n",
      "|CHEFE DA SEÇÃO DE...|\n",
      "|COORDENADOR DE TU...|\n",
      "|PROFESSOR INSPETO...|\n",
      "|COORDENADOR DE MA...|\n",
      "|CHEFE DA SEÇÃO DE...|\n",
      "|COORDENADOR MUNIC...|\n",
      "|    TECNICO AGRICOLA|\n",
      "|SECRETÁRIO MUNICI...|\n",
      "| ASSISTENTE CONTÁBIL|\n",
      "|MOTORISTA VEÍCULO...|\n",
      "|PROFESSOR II - MA...|\n",
      "|COORDENADOR DE OB...|\n",
      "|SECRETÁRIO MUNICI...|\n",
      "|DIRETOR ADJUNTO -...|\n",
      "|PROFESSOR II - HI...|\n",
      "|          DESENHISTA|\n",
      "|AUXILIAR DE ARTIFICE|\n",
      "|DIRETOR ADJUNTO ?...|\n",
      "|CHEFE DA SEÇÃO DE...|\n",
      "|BIOLOGO - ANALISE...|\n",
      "|ASSISTENTE OPERAC...|\n",
      "|SECRETÁRIO MUNICI...|\n",
      "|SECRETÁRIO MUN DE...|\n",
      "|         DATILÓGRAFO|\n",
      "|COORDENADOR PEDAG...|\n",
      "+--------------------+\n",
      "only showing top 100 rows\n",
      "\n"
     ]
    }
   ],
   "source": [
    "# Verificar cargos distintos\n",
    "spark.sql(\n",
    "'''\n",
    "SELECT \n",
    "    DISTINCT(cargo)\n",
    "FROM\n",
    "    rj\n",
    "'''\n",
    ").show(100)"
   ]
  },
  {
   "cell_type": "code",
   "execution_count": 15,
   "id": "815347fa-4045-4bdb-8a49-574cf7c3d482",
   "metadata": {},
   "outputs": [
    {
     "name": "stdout",
     "output_type": "stream",
     "text": [
      "+--------------+------+\n",
      "|media_salarial|estado|\n",
      "+--------------+------+\n",
      "|       1975.01|    RJ|\n",
      "+--------------+------+\n",
      "\n"
     ]
    }
   ],
   "source": [
    "# média salarial por estado dos servidores ativos \n",
    "spark.sql(\n",
    "'''\n",
    "SELECT \n",
    "    ROUND(AVG(salarioLiquido),2) AS media_salarial ,\n",
    "    estado\n",
    "FROM \n",
    "    rj\n",
    "WHERE\n",
    "    situacao = \"ATIVO\"\n",
    "GROUP BY\n",
    "    estado\n",
    "'''\n",
    ").show()\n"
   ]
  },
  {
   "cell_type": "code",
   "execution_count": 16,
   "id": "c212543c-0637-422f-8ca2-44d2b37b5218",
   "metadata": {},
   "outputs": [
    {
     "name": "stdout",
     "output_type": "stream",
     "text": [
      "+---+----+--------------------+--------------------+--------+--------------+------+\n",
      "|mes| ano|                nome|               cargo|situacao|salarioLiquido|estado|\n",
      "+---+----+--------------------+--------------------+--------+--------------+------+\n",
      "|  2|2021|ABEIGAIR DE ALENC...|    ENFERMEIRO - ESF|   ATIVO|       5672.84|    RJ|\n",
      "|  2|2021|ADAIL JULIO DO NA...|    GUARDA MUNICIPAL|   ATIVO|        7751.5|    RJ|\n",
      "|  2|2021|ADALBERTO CURVELO...|SUBSECRETÁRIO DE ...|   ATIVO|       3799.06|    RJ|\n",
      "|  2|2021|ADEILTON ALVES DE...|    GUARDA MUNICIPAL|   ATIVO|       1980.26|    RJ|\n",
      "|  2|2021|ADEMILTON DE OLIV...|  TRABALHADOR BRAÇAL|   ATIVO|       1986.65|    RJ|\n",
      "|  2|2021|ADILSON MACHADO M...|AUXILIAR DE ARTIFICE|   ATIVO|       3046.69|    RJ|\n",
      "|  2|2021|ADJANE BASILIO FA...|         PROFESSOR I|   ATIVO|       1172.24|    RJ|\n",
      "|  2|2021|ADRIANA APARECIDA...|AUXILIAR OPERACIO...|   ATIVO|        1696.2|    RJ|\n",
      "|  2|2021|ADRIANA CHAGAS DO...|AUXILIAR DE ENFER...|   ATIVO|       1772.16|    RJ|\n",
      "|  2|2021|ADRIANA DA CONCEI...|AUXILIAR ADMINIST...|   ATIVO|       1902.47|    RJ|\n",
      "|  2|2021|ADRIANA DE CARVAL...|         PROFESSOR I|   ATIVO|       2920.71|    RJ|\n",
      "|  2|2021|ADRIANA DE JESUS ...|          MERENDEIRA|   ATIVO|        499.31|    RJ|\n",
      "|  2|2021|ADRIANA DRUMMOND ...|MEDICO VETERINARI...|   ATIVO|        7192.5|    RJ|\n",
      "|  2|2021|ADRIANA FERREIRA ...|AUXILIAR DE SERVI...|   ATIVO|        637.84|    RJ|\n",
      "|  2|2021|ADRIANA MARIA DA ...|ASSESSOR EXECUTIV...|   ATIVO|       2035.93|    RJ|\n",
      "|  2|2021|ADRIANA MARIA ROD...|SERVIDOR CEDIDO O...|   ATIVO|        743.13|    RJ|\n",
      "|  2|2021|ADRIANA MARLEY FE...|AGENTE COMUNITARI...|   ATIVO|       1613.62|    RJ|\n",
      "|  2|2021|ADRIANA OLIVEIRA ...|         PROFESSOR I|   ATIVO|        698.28|    RJ|\n",
      "|  2|2021|ADRIANA OLIVEIRA ...|         PROFESSOR I|   ATIVO|          5.83|    RJ|\n",
      "|  2|2021|ADRIANA PINTO DE ...|SECRETÁRIO DE PLA...|   ATIVO|       7046.38|    RJ|\n",
      "+---+----+--------------------+--------------------+--------+--------------+------+\n",
      "only showing top 20 rows\n",
      "\n"
     ]
    }
   ],
   "source": [
    "#verificar dados no mês de fevereiro de 2021\n",
    "spark.sql(\"SELECT * FROM rj WHERE mes = 2 AND ano = 2021\").show()"
   ]
  },
  {
   "cell_type": "code",
   "execution_count": 17,
   "id": "9313a863-da34-4936-b832-c9f4771c264f",
   "metadata": {},
   "outputs": [
    {
     "name": "stdout",
     "output_type": "stream",
     "text": [
      "+---+------------+\n",
      "|mes|soma_salario|\n",
      "+---+------------+\n",
      "|  1|  2748145.54|\n",
      "|  2|  2853094.06|\n",
      "|  3|  2856688.25|\n",
      "|  4|  2934039.26|\n",
      "|  5|  2955164.16|\n",
      "|  6|  4600505.18|\n",
      "|  7|  3032639.45|\n",
      "|  8|  3067498.47|\n",
      "+---+------------+\n",
      "\n"
     ]
    }
   ],
   "source": [
    "#Valores gastos com o sálario ao longo dos mês ao longo do ano de 2021\n",
    "spark.sql(\n",
    "'''\n",
    "SELECT\n",
    "    mes,\n",
    "    ROUND(Sum(salarioLiquido),2) AS soma_salario\n",
    "FROM\n",
    "    rj\n",
    "WHERE \n",
    "    ano = 2021\n",
    "GROUP BY \n",
    "    mes\n",
    "ORDER BY\n",
    "    mes ASC\n",
    " \n",
    "''').show()"
   ]
  },
  {
   "cell_type": "code",
   "execution_count": 33,
   "id": "68c1ad4e-8fbf-4912-900d-a95a5c6f7640",
   "metadata": {},
   "outputs": [
    {
     "name": "stdout",
     "output_type": "stream",
     "text": [
      "+----+-------------+\n",
      "| ano| soma_salario|\n",
      "+----+-------------+\n",
      "|2020|3.881027531E7|\n",
      "|2021|2.504777438E7|\n",
      "+----+-------------+\n",
      "\n"
     ]
    }
   ],
   "source": [
    "# Valores gastos com salário ao longo dos anos\n",
    "spark.sql('''\n",
    "SELECT\n",
    "    ano,\n",
    "    ROUND(Sum(salarioLiquido),2) as soma_salario\n",
    "FROM \n",
    "    rj\n",
    "GROUP BY\n",
    "    ano\n",
    "''').show()"
   ]
  },
  {
   "cell_type": "code",
   "execution_count": 27,
   "id": "5fc7fe92-7dda-4820-9d55-7ec9c3cdbfac",
   "metadata": {},
   "outputs": [
    {
     "name": "stdout",
     "output_type": "stream",
     "text": [
      "+--------------------+-------------+----+---+--------+\n",
      "|               cargo|media_salario| ano|mes|situacao|\n",
      "+--------------------+-------------+----+---+--------+\n",
      "|  PROCURADOR ADJUNTO|      3227.36|2021|  1|   ATIVO|\n",
      "|FISCAL DE OBRAS E...|      1307.47|2021|  1|   ATIVO|\n",
      "|TECNICO EM RADIOL...|       4907.8|2021|  1|   ATIVO|\n",
      "|DIRETOR DE OBRAS ...|      3906.15|2021|  1|   ATIVO|\n",
      "|  CIRURGIÃO DENTISTA|      2953.41|2021|  1|   ATIVO|\n",
      "|     CUIDADOR SOCIAL|       606.58|2021|  1|   ATIVO|\n",
      "|SUBSECRETÁRIO DE ...|      3841.71|2021|  1|   ATIVO|\n",
      "|SUBSECRETÁRIO DE ...|      3799.06|2021|  1|   ATIVO|\n",
      "| ASSISTENTE CONTÁBIL|      2423.63|2021|  1|   ATIVO|\n",
      "|COORDENADOR DO CR...|       2075.1|2021|  1|   ATIVO|\n",
      "|SECRETÁRIO MUN DE...|      7098.52|2021|  1|   ATIVO|\n",
      "|OPERADOR DE INFOR...|      1586.65|2021|  1|   ATIVO|\n",
      "|SECRETÁRIO MUNICI...|      7150.65|2021|  1|   ATIVO|\n",
      "|TECNICO EM EDIFIC...|       2168.4|2021|  1|   ATIVO|\n",
      "|SECRETÁRIO MUNICI...|      7046.38|2021|  1|   ATIVO|\n",
      "|PROFESSOR II - CI...|      2377.36|2021|  1|   ATIVO|\n",
      "|SECRETÁRIO MUNICI...|      7046.38|2021|  1|   ATIVO|\n",
      "|ARTIFICE DE CARPI...|      1749.47|2021|  1|   ATIVO|\n",
      "|  TRABALHADOR BRAÇAL|      1184.99|2021|  1|   ATIVO|\n",
      "|SECRETÁRIO DE PLA...|      7046.38|2021|  1|   ATIVO|\n",
      "+--------------------+-------------+----+---+--------+\n",
      "only showing top 20 rows\n",
      "\n"
     ]
    }
   ],
   "source": [
    "# Média salarial dos servidores ativos no ano de 2021\n",
    "spark.sql(\n",
    "\"\"\"\n",
    "SELECT\n",
    "    cargo,\n",
    "    ROUND(AVG(salarioLiquido),2) AS media_salario,\n",
    "    ano,\n",
    "    mes,\n",
    "    situacao\n",
    "FROM\n",
    "    rj\n",
    "WHERE\n",
    "    situacao = \"ATIVO\" AND ano = 2021\n",
    "GROUP BY\n",
    "    mes, ano, cargo, situacao\n",
    "ORDER BY\n",
    "    mes\n",
    "\"\"\"\n",
    ").show()"
   ]
  }
 ],
 "metadata": {
  "kernelspec": {
   "display_name": "Python 3",
   "language": "python",
   "name": "python3"
  },
  "language_info": {
   "codemirror_mode": {
    "name": "ipython",
    "version": 3
   },
   "file_extension": ".py",
   "mimetype": "text/x-python",
   "name": "python",
   "nbconvert_exporter": "python",
   "pygments_lexer": "ipython3",
   "version": "3.8.12"
  }
 },
 "nbformat": 4,
 "nbformat_minor": 5
}