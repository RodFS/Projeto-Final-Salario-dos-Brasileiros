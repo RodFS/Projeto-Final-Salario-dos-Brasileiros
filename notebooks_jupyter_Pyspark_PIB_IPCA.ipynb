{
 "cells": [
  {
   "cell_type": "markdown",
   "id": "9e8cd96a-043b-466c-8e2c-b17716faecb6",
   "metadata": {},
   "source": [
    "# Importando bibliotecas"
   ]
  },
  {
   "cell_type": "code",
   "execution_count": 1,
   "id": "98ddcfb0-e2ac-458d-9996-05293cabbce0",
   "metadata": {},
   "outputs": [],
   "source": [
    "from pyspark.sql import SparkSession\n",
    "from pyspark.sql.functions import *\n",
    "from pyspark.sql.window import Window as W\n",
    "from pyspark.sql.types import *"
   ]
  },
  {
   "cell_type": "markdown",
   "id": "4cfb59ab-18ae-45aa-a684-952ca06c3d79",
   "metadata": {},
   "source": [
    "# Criando Spark session"
   ]
  },
  {
   "cell_type": "code",
   "execution_count": 2,
   "id": "d8e8b874-2cb6-48a1-87e5-5367ebdc2da4",
   "metadata": {},
   "outputs": [
    {
     "name": "stderr",
     "output_type": "stream",
     "text": [
      "Setting default log level to \"WARN\".\n",
      "To adjust logging level use sc.setLogLevel(newLevel). For SparkR, use setLogLevel(newLevel).\n",
      "21/11/23 20:04:36 WARN org.apache.spark.util.Utils: Service 'SparkUI' could not bind on port 4050. Attempting port 4051.\n",
      "21/11/23 20:04:36 WARN org.apache.spark.util.Utils: Service 'SparkUI' could not bind on port 4051. Attempting port 4052.\n"
     ]
    }
   ],
   "source": [
    "spark = (SparkSession\n",
    "        .builder\n",
    "        .master('local')\n",
    "        .appName('PIB_IPCA')\n",
    "        .config('spark.ui.port', '4050')\n",
    "        .getOrCreate()\n",
    "        )"
   ]
  },
  {
   "cell_type": "markdown",
   "id": "120fb4d8-f85d-4fe1-8fa6-ee7d7f6f9ea9",
   "metadata": {},
   "source": [
    "# Tabela PIB Nacional"
   ]
  },
  {
   "cell_type": "code",
   "execution_count": 3,
   "id": "d804ae06-4373-4054-9c4c-0f171fccb506",
   "metadata": {},
   "outputs": [
    {
     "name": "stderr",
     "output_type": "stream",
     "text": [
      "                                                                                \r"
     ]
    }
   ],
   "source": [
    "# Leitura do arquivo do bucket em formato parquet\n",
    "df_pib = spark.read.parquet('gs://projeto_final_2021/pandas_to_parquet/PIB_parquet/df_PIB.snappy')"
   ]
  },
  {
   "cell_type": "code",
   "execution_count": 4,
   "id": "71852c45-f8f6-4b12-a32b-3ac7ece4ea00",
   "metadata": {},
   "outputs": [
    {
     "name": "stdout",
     "output_type": "stream",
     "text": [
      "root\n",
      " |-- PIB: float (nullable = true)\n",
      " |-- ano: short (nullable = true)\n",
      " |-- mes: byte (nullable = true)\n",
      "\n"
     ]
    }
   ],
   "source": [
    "# Visualização do schema e tipo de dados\n",
    "df_pib.printSchema()"
   ]
  },
  {
   "cell_type": "code",
   "execution_count": 5,
   "id": "9a0ef966-b0e3-4b03-a893-869c25196b61",
   "metadata": {},
   "outputs": [
    {
     "name": "stderr",
     "output_type": "stream",
     "text": [
      "                                                                                \r"
     ]
    },
    {
     "name": "stdout",
     "output_type": "stream",
     "text": [
      "+--------+----+---+\n",
      "|     PIB| ano|mes|\n",
      "+--------+----+---+\n",
      "|716186.5|2021|  9|\n",
      "|727121.7|2021|  8|\n",
      "|727346.1|2021|  7|\n",
      "|711254.2|2021|  6|\n",
      "|714313.1|2021|  5|\n",
      "|717796.8|2021|  4|\n",
      "|730633.7|2021|  3|\n",
      "|670296.5|2021|  2|\n",
      "|647092.5|2021|  1|\n",
      "|680491.7|2020| 12|\n",
      "|662599.5|2020| 11|\n",
      "|660409.1|2020| 10|\n",
      "|636933.0|2020|  9|\n",
      "|625101.4|2020|  8|\n",
      "|629700.9|2020|  7|\n",
      "|591537.3|2020|  6|\n",
      "|561628.4|2020|  5|\n",
      "|555387.4|2020|  4|\n",
      "|616335.3|2020|  3|\n",
      "|609810.8|2020|  2|\n",
      "+--------+----+---+\n",
      "only showing top 20 rows\n",
      "\n"
     ]
    }
   ],
   "source": [
    "# Visualização da tabala do PIB\n",
    "df_pib.show()"
   ]
  },
  {
   "cell_type": "markdown",
   "id": "0b871cbb-cab4-4023-b39e-c00979c86626",
   "metadata": {},
   "source": [
    "## Ordenando valores na tabela PIB para inserção da coluna ID"
   ]
  },
  {
   "cell_type": "code",
   "execution_count": 6,
   "id": "9637eac3-056c-42ba-935c-acd277e347a3",
   "metadata": {},
   "outputs": [
    {
     "name": "stdout",
     "output_type": "stream",
     "text": [
      "+---+----+--------+\n",
      "|mes| ano|     PIB|\n",
      "+---+----+--------+\n",
      "|  1|2020|617747.2|\n",
      "|  2|2020|609810.8|\n",
      "|  3|2020|616335.3|\n",
      "|  4|2020|555387.4|\n",
      "|  5|2020|561628.4|\n",
      "|  6|2020|591537.3|\n",
      "|  7|2020|629700.9|\n",
      "|  8|2020|625101.4|\n",
      "|  9|2020|636933.0|\n",
      "| 10|2020|660409.1|\n",
      "| 11|2020|662599.5|\n",
      "| 12|2020|680491.7|\n",
      "|  1|2021|647092.5|\n",
      "|  2|2021|670296.5|\n",
      "|  3|2021|730633.7|\n",
      "|  4|2021|717796.8|\n",
      "|  5|2021|714313.1|\n",
      "|  6|2021|711254.2|\n",
      "|  7|2021|727346.1|\n",
      "|  8|2021|727121.7|\n",
      "+---+----+--------+\n",
      "\n"
     ]
    }
   ],
   "source": [
    "# Reordenando as colunas do dataframe\n",
    "df_pib = df_pib.select(col('mes'), col('ano'), col('PIB'))\n",
    "# Excluindo o mes adicional 'setembro' para poder relacionar com a tabela IPCA\n",
    "df_pib_sort = df_pib.filter((col('ano') != 2021) | (col('mes') != 9)).orderBy(col('ano'), col('mes'))\n",
    "# Gerar visualização\n",
    "df_pib_sort.show(100)"
   ]
  },
  {
   "cell_type": "code",
   "execution_count": 7,
   "id": "099d49bc-7062-416c-bfbd-449ae9b2274e",
   "metadata": {},
   "outputs": [],
   "source": [
    "# Criando uma falsa particação para poder ordenar os dados por ano e mês\n",
    "w = W.orderBy(col('ano'), col('mes'))\n",
    "# Usando a partição par criar a coluna ID com numeração correta\n",
    "df_pib_sortId = df_pib_sort.withColumn('id', row_number().over(w))"
   ]
  },
  {
   "cell_type": "code",
   "execution_count": 8,
   "id": "ec6a458f-2520-4f02-85a6-9ca9338b03b5",
   "metadata": {},
   "outputs": [
    {
     "name": "stderr",
     "output_type": "stream",
     "text": [
      "21/11/23 20:04:47 WARN org.apache.spark.sql.execution.window.WindowExec: No Partition Defined for Window operation! Moving all data to a single partition, this can cause serious performance degradation.\n",
      "21/11/23 20:04:47 WARN org.apache.spark.sql.execution.window.WindowExec: No Partition Defined for Window operation! Moving all data to a single partition, this can cause serious performance degradation.\n",
      "21/11/23 20:04:48 WARN org.apache.spark.sql.execution.window.WindowExec: No Partition Defined for Window operation! Moving all data to a single partition, this can cause serious performance degradation.\n",
      "21/11/23 20:04:48 WARN org.apache.spark.sql.execution.window.WindowExec: No Partition Defined for Window operation! Moving all data to a single partition, this can cause serious performance degradation.\n",
      "21/11/23 20:04:48 WARN org.apache.spark.sql.execution.window.WindowExec: No Partition Defined for Window operation! Moving all data to a single partition, this can cause serious performance degradation.\n"
     ]
    },
    {
     "name": "stdout",
     "output_type": "stream",
     "text": [
      "+---+----+--------+---+\n",
      "|mes| ano|     PIB| id|\n",
      "+---+----+--------+---+\n",
      "|  1|2020|617747.2|  1|\n",
      "|  2|2020|609810.8|  2|\n",
      "|  3|2020|616335.3|  3|\n",
      "|  4|2020|555387.4|  4|\n",
      "|  5|2020|561628.4|  5|\n",
      "|  6|2020|591537.3|  6|\n",
      "|  7|2020|629700.9|  7|\n",
      "|  8|2020|625101.4|  8|\n",
      "|  9|2020|636933.0|  9|\n",
      "| 10|2020|660409.1| 10|\n",
      "| 11|2020|662599.5| 11|\n",
      "| 12|2020|680491.7| 12|\n",
      "|  1|2021|647092.5| 13|\n",
      "|  2|2021|670296.5| 14|\n",
      "|  3|2021|730633.7| 15|\n",
      "|  4|2021|717796.8| 16|\n",
      "|  5|2021|714313.1| 17|\n",
      "|  6|2021|711254.2| 18|\n",
      "|  7|2021|727346.1| 19|\n",
      "|  8|2021|727121.7| 20|\n",
      "+---+----+--------+---+\n",
      "\n"
     ]
    }
   ],
   "source": [
    "# Gerar visualização\n",
    "df_pib_sortId.show()"
   ]
  },
  {
   "cell_type": "markdown",
   "id": "191cc040-a673-4171-b740-e57849ade119",
   "metadata": {},
   "source": [
    "# IPCA Estadual"
   ]
  },
  {
   "cell_type": "code",
   "execution_count": 9,
   "id": "4abad914-f992-4232-8ba2-a14318787343",
   "metadata": {},
   "outputs": [],
   "source": [
    "# Leitura do arquivo do bucket em formato parquet\n",
    "df_ipca_est = spark.read.parquet('gs://projeto_final_2021/pandas_to_parquet/IPCA_parquet/df_ipca_estadual.snappy')"
   ]
  },
  {
   "cell_type": "code",
   "execution_count": 10,
   "id": "c9919dfc-f352-4222-94ed-a02e49fc215f",
   "metadata": {},
   "outputs": [
    {
     "name": "stdout",
     "output_type": "stream",
     "text": [
      "root\n",
      " |-- Mês: string (nullable = true)\n",
      " |-- Brasil: float (nullable = true)\n",
      " |-- Belém_PA: float (nullable = true)\n",
      " |-- Fortaleza_CE: float (nullable = true)\n",
      " |-- Recife_PE: float (nullable = true)\n",
      " |-- Salvador_BA: float (nullable = true)\n",
      " |-- Belo_Horizonte_MG: float (nullable = true)\n",
      " |-- Grande_Vitória_ES: float (nullable = true)\n",
      " |-- Rio_de_Janeiro_RJ: float (nullable = true)\n",
      " |-- São_Paulo_SP: float (nullable = true)\n",
      " |-- Curitiba_PR: float (nullable = true)\n",
      " |-- Porto_Alegre_RS: float (nullable = true)\n",
      "\n"
     ]
    }
   ],
   "source": [
    "# Visualização do schema e tipo de dados\n",
    "df_ipca_est.printSchema()"
   ]
  },
  {
   "cell_type": "code",
   "execution_count": 11,
   "id": "572fcf98-866e-432f-90ae-b0ff9d2e4d3c",
   "metadata": {},
   "outputs": [
    {
     "name": "stdout",
     "output_type": "stream",
     "text": [
      "+--------------+------+--------+------------+---------+-----------+-----------------+-----------------+-----------------+------------+-----------+---------------+\n",
      "|           Mês|Brasil|Belém_PA|Fortaleza_CE|Recife_PE|Salvador_BA|Belo_Horizonte_MG|Grande_Vitória_ES|Rio_de_Janeiro_RJ|São_Paulo_SP|Curitiba_PR|Porto_Alegre_RS|\n",
      "+--------------+------+--------+------------+---------+-----------+-----------------+-----------------+-----------------+------------+-----------+---------------+\n",
      "|  janeiro 2020|  0.21|    0.39|        0.28|      0.3|       0.34|              0.2|             0.29|             0.05|        0.33|       0.05|           0.17|\n",
      "|fevereiro 2020|  0.25|    0.21|         0.8|     0.38|       0.16|              0.5|             0.33|            -0.02|        0.23|       0.08|           0.16|\n",
      "|    março 2020|  0.07|   -0.16|        0.21|     0.31|       0.17|             0.05|             0.12|             0.46|        0.09|       0.13|          -0.32|\n",
      "|    abril 2020| -0.31|   -0.13|       -0.12|    -0.19|      -0.16|            -0.21|            -0.09|             0.18|       -0.37|      -1.16|          -0.05|\n",
      "|     maio 2020| -0.38|   -0.39|       -0.52|    -0.18|      -0.47|             -0.6|            -0.48|            -0.28|       -0.28|      -0.57|          -0.44|\n",
      "|    junho 2020|  0.26|   -0.18|        0.34|     0.51|       0.68|             0.05|             0.56|            -0.01|        0.29|        0.8|          -0.01|\n",
      "|    julho 2020|  0.36|    0.72|        0.56|      0.4|       0.62|             0.39|             0.21|             0.24|        0.24|       0.39|           0.37|\n",
      "|   agosto 2020|  0.24|   -0.04|       -0.23|     0.46|       0.13|             0.21|            -0.03|            -0.13|        0.31|        0.2|           0.33|\n",
      "| setembro 2020|  0.64|    0.95|        1.22|     0.78|       0.23|             0.76|             0.83|             0.62|        0.44|       0.71|           0.68|\n",
      "|  outubro 2020|  0.86|    1.18|        0.83|     0.82|       0.45|             1.08|             0.91|             0.59|        0.89|       1.02|           0.63|\n",
      "| novembro 2020|  0.89|    0.48|         0.8|     0.36|       1.17|             0.95|             0.97|             0.69|        1.04|       0.87|            0.8|\n",
      "| dezembro 2020|  1.35|    1.51|        1.46|      1.6|       0.92|             1.53|             1.41|             1.62|        1.09|       1.38|           1.85|\n",
      "|  janeiro 2021|  0.25|   -0.03|        0.36|      0.5|       0.26|             0.33|             0.44|             0.18|        0.24|       0.44|           0.25|\n",
      "|fevereiro 2021|  0.86|    1.41|        1.48|     0.77|       0.93|             0.73|              1.0|             0.38|        0.83|       0.92|           0.86|\n",
      "|    março 2021|  0.93|     0.8|        0.72|     0.62|       0.81|             1.18|              1.1|             0.78|        0.75|       1.33|           0.95|\n",
      "|    abril 2021|  0.31|     0.7|        0.75|     0.48|       0.09|             0.37|             0.38|             0.56|        0.14|       0.46|           0.19|\n",
      "|     maio 2021|  0.83|    0.48|         1.1|     0.76|       1.12|             0.79|             0.74|             0.87|        0.78|       0.93|           1.04|\n",
      "|    junho 2021|  0.53|    0.24|        0.59|     0.92|       0.86|             0.42|             0.59|             0.24|        0.53|       0.61|           0.79|\n",
      "|    julho 2021|  0.96|     0.9|        0.92|     0.97|       0.75|             0.71|             0.88|             0.63|        0.98|        1.6|           1.23|\n",
      "|   agosto 2021|  0.87|    0.75|        0.43|     0.66|        0.7|             0.43|              1.3|             0.66|        1.04|       1.21|           0.71|\n",
      "+--------------+------+--------+------------+---------+-----------+-----------------+-----------------+-----------------+------------+-----------+---------------+\n",
      "only showing top 20 rows\n",
      "\n"
     ]
    }
   ],
   "source": [
    "# Visualização do schema e tipo de dados\n",
    "df_ipca_est.show()"
   ]
  },
  {
   "cell_type": "code",
   "execution_count": 12,
   "id": "4fc51d4b-ac94-4739-b145-4bc15a26a338",
   "metadata": {},
   "outputs": [],
   "source": [
    "# Selecionando colunas para manter no data frame\n",
    "cols_to_keep = {'Mês', 'Brasil', 'Belo_Horizonte_MG', 'Grande_Vitória_ES', 'Rio_de_Janeiro_RJ', 'São_Paulo_SP'}\n",
    "# Selecionando colunas para exluir do data frame \n",
    "cols_to_drop = list(set(df_ipca_est.schema.names).difference(cols_to_keep))\n",
    "# Realizando drop das colunas não desejáveis\n",
    "df_ipca_4est = df_ipca_est.drop(*cols_to_drop)"
   ]
  },
  {
   "cell_type": "code",
   "execution_count": 13,
   "id": "f063643f-952f-4d4a-b3af-97dddd609f40",
   "metadata": {},
   "outputs": [
    {
     "name": "stdout",
     "output_type": "stream",
     "text": [
      "+--------------+------+-----------------+-----------------+-----------------+------------+\n",
      "|           Mês|Brasil|Belo_Horizonte_MG|Grande_Vitória_ES|Rio_de_Janeiro_RJ|São_Paulo_SP|\n",
      "+--------------+------+-----------------+-----------------+-----------------+------------+\n",
      "|  janeiro 2020|  0.21|              0.2|             0.29|             0.05|        0.33|\n",
      "|fevereiro 2020|  0.25|              0.5|             0.33|            -0.02|        0.23|\n",
      "|    março 2020|  0.07|             0.05|             0.12|             0.46|        0.09|\n",
      "|    abril 2020| -0.31|            -0.21|            -0.09|             0.18|       -0.37|\n",
      "|     maio 2020| -0.38|             -0.6|            -0.48|            -0.28|       -0.28|\n",
      "|    junho 2020|  0.26|             0.05|             0.56|            -0.01|        0.29|\n",
      "|    julho 2020|  0.36|             0.39|             0.21|             0.24|        0.24|\n",
      "|   agosto 2020|  0.24|             0.21|            -0.03|            -0.13|        0.31|\n",
      "| setembro 2020|  0.64|             0.76|             0.83|             0.62|        0.44|\n",
      "|  outubro 2020|  0.86|             1.08|             0.91|             0.59|        0.89|\n",
      "| novembro 2020|  0.89|             0.95|             0.97|             0.69|        1.04|\n",
      "| dezembro 2020|  1.35|             1.53|             1.41|             1.62|        1.09|\n",
      "|  janeiro 2021|  0.25|             0.33|             0.44|             0.18|        0.24|\n",
      "|fevereiro 2021|  0.86|             0.73|              1.0|             0.38|        0.83|\n",
      "|    março 2021|  0.93|             1.18|              1.1|             0.78|        0.75|\n",
      "|    abril 2021|  0.31|             0.37|             0.38|             0.56|        0.14|\n",
      "|     maio 2021|  0.83|             0.79|             0.74|             0.87|        0.78|\n",
      "|    junho 2021|  0.53|             0.42|             0.59|             0.24|        0.53|\n",
      "|    julho 2021|  0.96|             0.71|             0.88|             0.63|        0.98|\n",
      "|   agosto 2021|  0.87|             0.43|              1.3|             0.66|        1.04|\n",
      "| setembro 2021|  1.16|             1.34|             1.24|             1.22|        1.01|\n",
      "|  outubro 2021|  1.25|             1.22|             1.53|             1.16|        1.34|\n",
      "+--------------+------+-----------------+-----------------+-----------------+------------+\n",
      "\n"
     ]
    }
   ],
   "source": [
    "# Gerando visulização\n",
    "df_ipca_4est.show(100)"
   ]
  },
  {
   "cell_type": "code",
   "execution_count": 14,
   "id": "ce351f4b-c18f-447c-be50-8774f236c941",
   "metadata": {},
   "outputs": [],
   "source": [
    "# Adicionando as colunas ano e mes ao data frame e removendo a coluna Mês\n",
    "df_ipca_4est = df_ipca_4est.withColumn('mes', split(col('Mês'), ' ').getItem(0))\\\n",
    "                           .withColumn('ano', split(col('Mês'), ' ').getItem(1))\\\n",
    "                                             .withColumn('mes', when(col('mes') == 'janeiro', 1)\n",
    "                                             .when(col('mes') == 'fevereiro', 2)\n",
    "                                             .when(col('mes') == 'março', 3)\n",
    "                                             .when(col('mes') == 'abril', 4)\n",
    "                                             .when(col('mes') == 'maio', 5)\n",
    "                                             .when(col('mes') == 'junho', 6)\n",
    "                                             .when(col('mes') == 'julho', 7)\n",
    "                                             .when(col('mes') == 'agosto', 8)\n",
    "                                             .when(col('mes') == 'setembro', 9)\n",
    "                                             .when(col('mes') == 'outubro', 10)\n",
    "                                             .when(col('mes') == 'novembro', 11)\n",
    "                                             .when(col('mes') == 'dezembro', 12)\n",
    "                                             .otherwise(None))\n",
    "\n",
    "# Realizando drop das colunas não desejáveis\n",
    "df_ipca_4est = df_ipca_4est.drop('Mês')"
   ]
  },
  {
   "cell_type": "code",
   "execution_count": 15,
   "id": "9c61dc67-08c2-403d-881b-57fa5686e319",
   "metadata": {},
   "outputs": [
    {
     "name": "stdout",
     "output_type": "stream",
     "text": [
      "+------+-----------------+-----------------+-----------------+------------+---+----+\n",
      "|Brasil|Belo_Horizonte_MG|Grande_Vitória_ES|Rio_de_Janeiro_RJ|São_Paulo_SP|mes| ano|\n",
      "+------+-----------------+-----------------+-----------------+------------+---+----+\n",
      "|  0.21|              0.2|             0.29|             0.05|        0.33|  1|2020|\n",
      "|  0.25|              0.5|             0.33|            -0.02|        0.23|  2|2020|\n",
      "|  0.07|             0.05|             0.12|             0.46|        0.09|  3|2020|\n",
      "| -0.31|            -0.21|            -0.09|             0.18|       -0.37|  4|2020|\n",
      "| -0.38|             -0.6|            -0.48|            -0.28|       -0.28|  5|2020|\n",
      "|  0.26|             0.05|             0.56|            -0.01|        0.29|  6|2020|\n",
      "|  0.36|             0.39|             0.21|             0.24|        0.24|  7|2020|\n",
      "|  0.24|             0.21|            -0.03|            -0.13|        0.31|  8|2020|\n",
      "|  0.64|             0.76|             0.83|             0.62|        0.44|  9|2020|\n",
      "|  0.86|             1.08|             0.91|             0.59|        0.89| 10|2020|\n",
      "|  0.89|             0.95|             0.97|             0.69|        1.04| 11|2020|\n",
      "|  1.35|             1.53|             1.41|             1.62|        1.09| 12|2020|\n",
      "|  0.25|             0.33|             0.44|             0.18|        0.24|  1|2021|\n",
      "|  0.86|             0.73|              1.0|             0.38|        0.83|  2|2021|\n",
      "|  0.93|             1.18|              1.1|             0.78|        0.75|  3|2021|\n",
      "|  0.31|             0.37|             0.38|             0.56|        0.14|  4|2021|\n",
      "|  0.83|             0.79|             0.74|             0.87|        0.78|  5|2021|\n",
      "|  0.53|             0.42|             0.59|             0.24|        0.53|  6|2021|\n",
      "|  0.96|             0.71|             0.88|             0.63|        0.98|  7|2021|\n",
      "|  0.87|             0.43|              1.3|             0.66|        1.04|  8|2021|\n",
      "+------+-----------------+-----------------+-----------------+------------+---+----+\n",
      "only showing top 20 rows\n",
      "\n"
     ]
    }
   ],
   "source": [
    "# Gernado visualização\n",
    "df_ipca_4est.show()"
   ]
  },
  {
   "cell_type": "code",
   "execution_count": 16,
   "id": "d4920144-a169-4da6-a690-8a9f97227519",
   "metadata": {},
   "outputs": [],
   "source": [
    "# Criando uma falsa particação para poder ordenar os dados por ano e mês\n",
    "w1 = W.orderBy(col('ano'), col('mes'))\n",
    "# Usando a partição par criar a coluna ID com numeração correta\n",
    "df_ipca_4estId = df_ipca_4est.withColumn('id', row_number().over(w1))"
   ]
  },
  {
   "cell_type": "code",
   "execution_count": 17,
   "id": "ada77a8a-7157-49da-8f28-ee296ba6f409",
   "metadata": {},
   "outputs": [
    {
     "name": "stderr",
     "output_type": "stream",
     "text": [
      "21/11/23 20:04:50 WARN org.apache.spark.sql.execution.window.WindowExec: No Partition Defined for Window operation! Moving all data to a single partition, this can cause serious performance degradation.\n",
      "21/11/23 20:04:50 WARN org.apache.spark.sql.execution.window.WindowExec: No Partition Defined for Window operation! Moving all data to a single partition, this can cause serious performance degradation.\n",
      "21/11/23 20:04:50 WARN org.apache.spark.sql.execution.window.WindowExec: No Partition Defined for Window operation! Moving all data to a single partition, this can cause serious performance degradation.\n",
      "21/11/23 20:04:50 WARN org.apache.spark.sql.execution.window.WindowExec: No Partition Defined for Window operation! Moving all data to a single partition, this can cause serious performance degradation.\n"
     ]
    },
    {
     "name": "stdout",
     "output_type": "stream",
     "text": [
      "+------+-----------------+-----------------+-----------------+------------+---+----+---+\n",
      "|Brasil|Belo_Horizonte_MG|Grande_Vitória_ES|Rio_de_Janeiro_RJ|São_Paulo_SP|mes| ano| id|\n",
      "+------+-----------------+-----------------+-----------------+------------+---+----+---+\n",
      "|  0.21|              0.2|             0.29|             0.05|        0.33|  1|2020|  1|\n",
      "|  0.25|              0.5|             0.33|            -0.02|        0.23|  2|2020|  2|\n",
      "|  0.07|             0.05|             0.12|             0.46|        0.09|  3|2020|  3|\n",
      "| -0.31|            -0.21|            -0.09|             0.18|       -0.37|  4|2020|  4|\n",
      "| -0.38|             -0.6|            -0.48|            -0.28|       -0.28|  5|2020|  5|\n",
      "|  0.26|             0.05|             0.56|            -0.01|        0.29|  6|2020|  6|\n",
      "|  0.36|             0.39|             0.21|             0.24|        0.24|  7|2020|  7|\n",
      "|  0.24|             0.21|            -0.03|            -0.13|        0.31|  8|2020|  8|\n",
      "|  0.64|             0.76|             0.83|             0.62|        0.44|  9|2020|  9|\n",
      "|  0.86|             1.08|             0.91|             0.59|        0.89| 10|2020| 10|\n",
      "|  0.89|             0.95|             0.97|             0.69|        1.04| 11|2020| 11|\n",
      "|  1.35|             1.53|             1.41|             1.62|        1.09| 12|2020| 12|\n",
      "|  0.25|             0.33|             0.44|             0.18|        0.24|  1|2021| 13|\n",
      "|  0.86|             0.73|              1.0|             0.38|        0.83|  2|2021| 14|\n",
      "|  0.93|             1.18|              1.1|             0.78|        0.75|  3|2021| 15|\n",
      "|  0.31|             0.37|             0.38|             0.56|        0.14|  4|2021| 16|\n",
      "|  0.83|             0.79|             0.74|             0.87|        0.78|  5|2021| 17|\n",
      "|  0.53|             0.42|             0.59|             0.24|        0.53|  6|2021| 18|\n",
      "|  0.96|             0.71|             0.88|             0.63|        0.98|  7|2021| 19|\n",
      "|  0.87|             0.43|              1.3|             0.66|        1.04|  8|2021| 20|\n",
      "+------+-----------------+-----------------+-----------------+------------+---+----+---+\n",
      "only showing top 20 rows\n",
      "\n"
     ]
    }
   ],
   "source": [
    "# Gerando visualização\n",
    "df_ipca_4estId.show()"
   ]
  },
  {
   "cell_type": "code",
   "execution_count": 18,
   "id": "9dcfd535-e786-43a5-be9d-45d6fe86d27c",
   "metadata": {},
   "outputs": [
    {
     "name": "stderr",
     "output_type": "stream",
     "text": [
      "21/11/23 20:04:51 WARN org.apache.spark.sql.execution.window.WindowExec: No Partition Defined for Window operation! Moving all data to a single partition, this can cause serious performance degradation.\n",
      "21/11/23 20:04:51 WARN org.apache.spark.sql.execution.window.WindowExec: No Partition Defined for Window operation! Moving all data to a single partition, this can cause serious performance degradation.\n",
      "21/11/23 20:04:51 WARN org.apache.spark.sql.execution.window.WindowExec: No Partition Defined for Window operation! Moving all data to a single partition, this can cause serious performance degradation.\n",
      "21/11/23 20:04:51 WARN org.apache.spark.sql.execution.window.WindowExec: No Partition Defined for Window operation! Moving all data to a single partition, this can cause serious performance degradation.\n"
     ]
    },
    {
     "name": "stdout",
     "output_type": "stream",
     "text": [
      "+---+------+-----------------+-----------------+-----------------+------------+\n",
      "| id|Brasil|Belo_Horizonte_MG|Grande_Vitória_ES|Rio_de_Janeiro_RJ|São_Paulo_SP|\n",
      "+---+------+-----------------+-----------------+-----------------+------------+\n",
      "|  1|  0.21|              0.2|             0.29|             0.05|        0.33|\n",
      "|  2|  0.25|              0.5|             0.33|            -0.02|        0.23|\n",
      "|  3|  0.07|             0.05|             0.12|             0.46|        0.09|\n",
      "|  4| -0.31|            -0.21|            -0.09|             0.18|       -0.37|\n",
      "|  5| -0.38|             -0.6|            -0.48|            -0.28|       -0.28|\n",
      "|  6|  0.26|             0.05|             0.56|            -0.01|        0.29|\n",
      "|  7|  0.36|             0.39|             0.21|             0.24|        0.24|\n",
      "|  8|  0.24|             0.21|            -0.03|            -0.13|        0.31|\n",
      "|  9|  0.64|             0.76|             0.83|             0.62|        0.44|\n",
      "| 10|  0.86|             1.08|             0.91|             0.59|        0.89|\n",
      "| 11|  0.89|             0.95|             0.97|             0.69|        1.04|\n",
      "| 12|  1.35|             1.53|             1.41|             1.62|        1.09|\n",
      "| 13|  0.25|             0.33|             0.44|             0.18|        0.24|\n",
      "| 14|  0.86|             0.73|              1.0|             0.38|        0.83|\n",
      "| 15|  0.93|             1.18|              1.1|             0.78|        0.75|\n",
      "| 16|  0.31|             0.37|             0.38|             0.56|        0.14|\n",
      "| 17|  0.83|             0.79|             0.74|             0.87|        0.78|\n",
      "| 18|  0.53|             0.42|             0.59|             0.24|        0.53|\n",
      "| 19|  0.96|             0.71|             0.88|             0.63|        0.98|\n",
      "| 20|  0.87|             0.43|              1.3|             0.66|        1.04|\n",
      "+---+------+-----------------+-----------------+-----------------+------------+\n",
      "only showing top 20 rows\n",
      "\n"
     ]
    }
   ],
   "source": [
    "# Reordenando as colunas do dataframe\n",
    "df_ipca_4estId = df_ipca_4estId.select(col('id'), col('Brasil'), col('Belo_Horizonte_MG'), col('Grande_Vitória_ES'), col('Rio_de_Janeiro_RJ'), col('São_Paulo_SP'))\n",
    "# Gerando visualização\n",
    "df_ipca_4estId.show()"
   ]
  },
  {
   "cell_type": "markdown",
   "id": "5d6d21d7-cd14-4028-95ef-6b560b8163e9",
   "metadata": {},
   "source": [
    "# Agrupando de IPCA estadual e PIB nacional"
   ]
  },
  {
   "cell_type": "code",
   "execution_count": 19,
   "id": "c392db0a-c8fd-405e-a30c-ef952ce0e932",
   "metadata": {},
   "outputs": [],
   "source": [
    "# Realizando agrupamento dos dataframes por join entre tabelas\n",
    "df_ipca_pib = df_pib_sortId.join(df_ipca_4estId, on=['id'], how='inner')"
   ]
  },
  {
   "cell_type": "code",
   "execution_count": 20,
   "id": "205490b6-ecc4-4a48-afad-17d8ac3ab548",
   "metadata": {},
   "outputs": [
    {
     "name": "stderr",
     "output_type": "stream",
     "text": [
      "21/11/23 20:04:51 WARN org.apache.spark.sql.execution.window.WindowExec: No Partition Defined for Window operation! Moving all data to a single partition, this can cause serious performance degradation.\n",
      "21/11/23 20:04:51 WARN org.apache.spark.sql.execution.window.WindowExec: No Partition Defined for Window operation! Moving all data to a single partition, this can cause serious performance degradation.\n",
      "21/11/23 20:04:52 WARN org.apache.spark.sql.execution.window.WindowExec: No Partition Defined for Window operation! Moving all data to a single partition, this can cause serious performance degradation.\n",
      "21/11/23 20:04:52 WARN org.apache.spark.sql.execution.window.WindowExec: No Partition Defined for Window operation! Moving all data to a single partition, this can cause serious performance degradation.\n",
      "21/11/23 20:04:52 WARN org.apache.spark.sql.execution.window.WindowExec: No Partition Defined for Window operation! Moving all data to a single partition, this can cause serious performance degradation.\n",
      "21/11/23 20:04:52 WARN org.apache.spark.sql.execution.window.WindowExec: No Partition Defined for Window operation! Moving all data to a single partition, this can cause serious performance degradation.\n",
      "21/11/23 20:04:52 WARN org.apache.spark.sql.execution.window.WindowExec: No Partition Defined for Window operation! Moving all data to a single partition, this can cause serious performance degradation.\n",
      "21/11/23 20:04:52 WARN org.apache.spark.sql.execution.window.WindowExec: No Partition Defined for Window operation! Moving all data to a single partition, this can cause serious performance degradation.\n"
     ]
    },
    {
     "name": "stdout",
     "output_type": "stream",
     "text": [
      "+---+---+----+--------+------+-----------------+-----------------+-----------------+------------+\n",
      "| id|mes| ano|     PIB|Brasil|Belo_Horizonte_MG|Grande_Vitória_ES|Rio_de_Janeiro_RJ|São_Paulo_SP|\n",
      "+---+---+----+--------+------+-----------------+-----------------+-----------------+------------+\n",
      "|  1|  1|2020|617747.2|  0.21|              0.2|             0.29|             0.05|        0.33|\n",
      "|  2|  2|2020|609810.8|  0.25|              0.5|             0.33|            -0.02|        0.23|\n",
      "|  3|  3|2020|616335.3|  0.07|             0.05|             0.12|             0.46|        0.09|\n",
      "|  4|  4|2020|555387.4| -0.31|            -0.21|            -0.09|             0.18|       -0.37|\n",
      "|  5|  5|2020|561628.4| -0.38|             -0.6|            -0.48|            -0.28|       -0.28|\n",
      "|  6|  6|2020|591537.3|  0.26|             0.05|             0.56|            -0.01|        0.29|\n",
      "|  7|  7|2020|629700.9|  0.36|             0.39|             0.21|             0.24|        0.24|\n",
      "|  8|  8|2020|625101.4|  0.24|             0.21|            -0.03|            -0.13|        0.31|\n",
      "|  9|  9|2020|636933.0|  0.64|             0.76|             0.83|             0.62|        0.44|\n",
      "| 10| 10|2020|660409.1|  0.86|             1.08|             0.91|             0.59|        0.89|\n",
      "| 11| 11|2020|662599.5|  0.89|             0.95|             0.97|             0.69|        1.04|\n",
      "| 12| 12|2020|680491.7|  1.35|             1.53|             1.41|             1.62|        1.09|\n",
      "| 13|  1|2021|647092.5|  0.25|             0.33|             0.44|             0.18|        0.24|\n",
      "| 14|  2|2021|670296.5|  0.86|             0.73|              1.0|             0.38|        0.83|\n",
      "| 15|  3|2021|730633.7|  0.93|             1.18|              1.1|             0.78|        0.75|\n",
      "| 16|  4|2021|717796.8|  0.31|             0.37|             0.38|             0.56|        0.14|\n",
      "| 17|  5|2021|714313.1|  0.83|             0.79|             0.74|             0.87|        0.78|\n",
      "| 18|  6|2021|711254.2|  0.53|             0.42|             0.59|             0.24|        0.53|\n",
      "| 19|  7|2021|727346.1|  0.96|             0.71|             0.88|             0.63|        0.98|\n",
      "| 20|  8|2021|727121.7|  0.87|             0.43|              1.3|             0.66|        1.04|\n",
      "+---+---+----+--------+------+-----------------+-----------------+-----------------+------------+\n",
      "\n"
     ]
    },
    {
     "name": "stderr",
     "output_type": "stream",
     "text": [
      "21/11/23 20:04:52 WARN org.apache.spark.sql.execution.window.WindowExec: No Partition Defined for Window operation! Moving all data to a single partition, this can cause serious performance degradation.\n",
      "21/11/23 20:04:52 WARN org.apache.spark.sql.execution.window.WindowExec: No Partition Defined for Window operation! Moving all data to a single partition, this can cause serious performance degradation.\n"
     ]
    }
   ],
   "source": [
    "# Gerando visualização\n",
    "df_ipca_pib.show()"
   ]
  },
  {
   "cell_type": "code",
   "execution_count": 21,
   "id": "97ffaa9d-6603-4f91-846c-d00ae8bec608",
   "metadata": {},
   "outputs": [],
   "source": [
    "# Renomeando colunas para melhor identificação\n",
    "df_ipca_pib = (df_ipca_pib.withColumnRenamed('PIB','pib')\n",
    "                          .withColumnRenamed('Brasil','ipca_Brasil')\n",
    "                          .withColumnRenamed('Belo_Horizonte_MG','ipca_MG')\n",
    "                          .withColumnRenamed('Grande_Vitória_ES','ipca_ES')\n",
    "                          .withColumnRenamed('Rio_de_Janeiro_RJ','ipca_RJ')\n",
    "                          .withColumnRenamed('São_Paulo_SP','ipca_SP'))"
   ]
  },
  {
   "cell_type": "code",
   "execution_count": 22,
   "id": "57020227-9c0a-402d-b912-0b39da350135",
   "metadata": {},
   "outputs": [
    {
     "name": "stderr",
     "output_type": "stream",
     "text": [
      "21/11/23 20:04:52 WARN org.apache.spark.sql.execution.window.WindowExec: No Partition Defined for Window operation! Moving all data to a single partition, this can cause serious performance degradation.\n",
      "21/11/23 20:04:52 WARN org.apache.spark.sql.execution.window.WindowExec: No Partition Defined for Window operation! Moving all data to a single partition, this can cause serious performance degradation.\n",
      "21/11/23 20:04:53 WARN org.apache.spark.sql.execution.window.WindowExec: No Partition Defined for Window operation! Moving all data to a single partition, this can cause serious performance degradation.\n",
      "21/11/23 20:04:53 WARN org.apache.spark.sql.execution.window.WindowExec: No Partition Defined for Window operation! Moving all data to a single partition, this can cause serious performance degradation.\n",
      "21/11/23 20:04:53 WARN org.apache.spark.sql.execution.window.WindowExec: No Partition Defined for Window operation! Moving all data to a single partition, this can cause serious performance degradation.\n",
      "21/11/23 20:04:53 WARN org.apache.spark.sql.execution.window.WindowExec: No Partition Defined for Window operation! Moving all data to a single partition, this can cause serious performance degradation.\n",
      "21/11/23 20:04:53 WARN org.apache.spark.sql.execution.window.WindowExec: No Partition Defined for Window operation! Moving all data to a single partition, this can cause serious performance degradation.\n",
      "21/11/23 20:04:53 WARN org.apache.spark.sql.execution.window.WindowExec: No Partition Defined for Window operation! Moving all data to a single partition, this can cause serious performance degradation.\n"
     ]
    },
    {
     "name": "stdout",
     "output_type": "stream",
     "text": [
      "+---+---+----+--------+-----------+-------+-------+-------+-------+\n",
      "| id|mes| ano|     pib|ipca_Brasil|ipca_MG|ipca_ES|ipca_RJ|ipca_SP|\n",
      "+---+---+----+--------+-----------+-------+-------+-------+-------+\n",
      "|  1|  1|2020|617747.2|       0.21|    0.2|   0.29|   0.05|   0.33|\n",
      "|  2|  2|2020|609810.8|       0.25|    0.5|   0.33|  -0.02|   0.23|\n",
      "|  3|  3|2020|616335.3|       0.07|   0.05|   0.12|   0.46|   0.09|\n",
      "|  4|  4|2020|555387.4|      -0.31|  -0.21|  -0.09|   0.18|  -0.37|\n",
      "|  5|  5|2020|561628.4|      -0.38|   -0.6|  -0.48|  -0.28|  -0.28|\n",
      "|  6|  6|2020|591537.3|       0.26|   0.05|   0.56|  -0.01|   0.29|\n",
      "|  7|  7|2020|629700.9|       0.36|   0.39|   0.21|   0.24|   0.24|\n",
      "|  8|  8|2020|625101.4|       0.24|   0.21|  -0.03|  -0.13|   0.31|\n",
      "|  9|  9|2020|636933.0|       0.64|   0.76|   0.83|   0.62|   0.44|\n",
      "| 10| 10|2020|660409.1|       0.86|   1.08|   0.91|   0.59|   0.89|\n",
      "| 11| 11|2020|662599.5|       0.89|   0.95|   0.97|   0.69|   1.04|\n",
      "| 12| 12|2020|680491.7|       1.35|   1.53|   1.41|   1.62|   1.09|\n",
      "| 13|  1|2021|647092.5|       0.25|   0.33|   0.44|   0.18|   0.24|\n",
      "| 14|  2|2021|670296.5|       0.86|   0.73|    1.0|   0.38|   0.83|\n",
      "| 15|  3|2021|730633.7|       0.93|   1.18|    1.1|   0.78|   0.75|\n",
      "| 16|  4|2021|717796.8|       0.31|   0.37|   0.38|   0.56|   0.14|\n",
      "| 17|  5|2021|714313.1|       0.83|   0.79|   0.74|   0.87|   0.78|\n",
      "| 18|  6|2021|711254.2|       0.53|   0.42|   0.59|   0.24|   0.53|\n",
      "| 19|  7|2021|727346.1|       0.96|   0.71|   0.88|   0.63|   0.98|\n",
      "| 20|  8|2021|727121.7|       0.87|   0.43|    1.3|   0.66|   1.04|\n",
      "+---+---+----+--------+-----------+-------+-------+-------+-------+\n",
      "\n"
     ]
    },
    {
     "name": "stderr",
     "output_type": "stream",
     "text": [
      "21/11/23 20:04:53 WARN org.apache.spark.sql.execution.window.WindowExec: No Partition Defined for Window operation! Moving all data to a single partition, this can cause serious performance degradation.\n",
      "21/11/23 20:04:53 WARN org.apache.spark.sql.execution.window.WindowExec: No Partition Defined for Window operation! Moving all data to a single partition, this can cause serious performance degradation.\n"
     ]
    }
   ],
   "source": [
    "#Gerando visualização\n",
    "df_ipca_pib.show()"
   ]
  },
  {
   "cell_type": "markdown",
   "id": "d58242e7-831d-4130-9c8e-c31572d68d82",
   "metadata": {},
   "source": [
    "# Salvar o arquivo"
   ]
  },
  {
   "cell_type": "code",
   "execution_count": 24,
   "id": "4f3d9975-c04c-4cdf-9eb2-59b0ff5bc38a",
   "metadata": {},
   "outputs": [
    {
     "name": "stderr",
     "output_type": "stream",
     "text": [
      "21/11/23 20:06:40 WARN org.apache.spark.sql.execution.window.WindowExec: No Partition Defined for Window operation! Moving all data to a single partition, this can cause serious performance degradation.\n",
      "21/11/23 20:06:40 WARN org.apache.spark.sql.execution.window.WindowExec: No Partition Defined for Window operation! Moving all data to a single partition, this can cause serious performance degradation.\n",
      "21/11/23 20:06:41 WARN org.apache.spark.sql.execution.window.WindowExec: No Partition Defined for Window operation! Moving all data to a single partition, this can cause serious performance degradation.\n",
      "21/11/23 20:06:41 WARN org.apache.spark.sql.execution.window.WindowExec: No Partition Defined for Window operation! Moving all data to a single partition, this can cause serious performance degradation.\n",
      "21/11/23 20:06:41 WARN org.apache.spark.sql.execution.window.WindowExec: No Partition Defined for Window operation! Moving all data to a single partition, this can cause serious performance degradation.\n",
      "21/11/23 20:06:41 WARN org.apache.spark.sql.execution.window.WindowExec: No Partition Defined for Window operation! Moving all data to a single partition, this can cause serious performance degradation.\n",
      "21/11/23 20:06:41 WARN org.apache.spark.sql.execution.window.WindowExec: No Partition Defined for Window operation! Moving all data to a single partition, this can cause serious performance degradation.\n",
      "21/11/23 20:06:41 WARN org.apache.spark.sql.execution.window.WindowExec: No Partition Defined for Window operation! Moving all data to a single partition, this can cause serious performance degradation.\n",
      "21/11/23 20:06:41 WARN org.apache.spark.sql.execution.window.WindowExec: No Partition Defined for Window operation! Moving all data to a single partition, this can cause serious performance degradation.\n",
      "21/11/23 20:06:41 WARN org.apache.spark.sql.execution.window.WindowExec: No Partition Defined for Window operation! Moving all data to a single partition, this can cause serious performance degradation.\n",
      "                                                                                \r"
     ]
    }
   ],
   "source": [
    "# Salvando em formato parquet\n",
    "(df_ipca_pib.write.format(\"parquet\")\n",
    ".option(\"header\", \"true\")\n",
    ".option(\"inferschema\", \"true\")\n",
    ".save(\"gs://projeto_final_2021/parquet_to_bq/ipca_pib_nacional/\")\n",
    ")"
   ]
  }
 ],
 "metadata": {
  "kernelspec": {
   "display_name": "Python 3",
   "language": "python",
   "name": "python3"
  },
  "language_info": {
   "codemirror_mode": {
    "name": "ipython",
    "version": 3
   },
   "file_extension": ".py",
   "mimetype": "text/x-python",
   "name": "python",
   "nbconvert_exporter": "python",
   "pygments_lexer": "ipython3",
   "version": "3.8.12"
  }
 },
 "nbformat": 4,
 "nbformat_minor": 5
}