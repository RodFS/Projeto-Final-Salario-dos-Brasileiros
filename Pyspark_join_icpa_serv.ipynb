{
 "cells": [
  {
   "cell_type": "markdown",
   "id": "fa353cd0-3eae-4d4b-a6f3-33997a1047b0",
   "metadata": {},
   "source": [
    "# Importação de bibliotecas"
   ]
  },
  {
   "cell_type": "code",
   "execution_count": 1,
   "id": "2c8c45e3-e735-43ff-b7e2-67e0c5722cda",
   "metadata": {},
   "outputs": [],
   "source": [
    "import os\n",
    "os.environ['PYSPARK_SUBMIT_ARGS'] = '--jars /spark-avro_2.11:4.0.0.jar pyspark-shell' "
   ]
  },
  {
   "cell_type": "code",
   "execution_count": 2,
   "id": "dfb3f55f-2f9f-479c-a5d1-dcf2c34719d2",
   "metadata": {},
   "outputs": [],
   "source": [
    "# !git clone https://github.com/databricks/spark-avro.git"
   ]
  },
  {
   "cell_type": "code",
   "execution_count": 3,
   "id": "c4188e65-86c5-48a6-8865-7cbc2a3eb451",
   "metadata": {},
   "outputs": [],
   "source": [
    "!cd spark-avro/"
   ]
  },
  {
   "cell_type": "markdown",
   "id": "348ee071-6327-4879-8267-802a8263f3d5",
   "metadata": {},
   "source": [
    "# Criação da Spark Session"
   ]
  },
  {
   "cell_type": "code",
   "execution_count": 4,
   "id": "e2e53f09-4e55-4591-ad0f-c5ebf395ac9f",
   "metadata": {},
   "outputs": [],
   "source": [
    "spark2 = (SparkSession\n",
    "         .builder\n",
    "         .master('local')\n",
    "         .appName('Salario-brasileiro')\n",
    "         .config('spark.ui.port', '4050')\n",
    "         .config('spark.jars.packages', 'com.databricks:apache-avro_2.11:4.0.0')\n",
    "         .getOrCreate()\n",
    "        )"
   ]
  },
  {
   "cell_type": "code",
   "execution_count": 5,
   "id": "d835eb1f-736a-450b-bb6e-620cfddea138",
   "metadata": {},
   "outputs": [
    {
     "data": {
      "text/html": [
       "\n",
       "            <div>\n",
       "                <p><b>SparkSession - hive</b></p>\n",
       "                \n",
       "        <div>\n",
       "            <p><b>SparkContext</b></p>\n",
       "\n",
       "            <p><a href=\"http://pyspark-cluster-m.southamerica-east1-a.c.salario-brasileiro.internal:46013\">Spark UI</a></p>\n",
       "\n",
       "            <dl>\n",
       "              <dt>Version</dt>\n",
       "                <dd><code>v3.1.2</code></dd>\n",
       "              <dt>Master</dt>\n",
       "                <dd><code>yarn</code></dd>\n",
       "              <dt>AppName</dt>\n",
       "                <dd><code>PySparkShell</code></dd>\n",
       "            </dl>\n",
       "        </div>\n",
       "        \n",
       "            </div>\n",
       "        "
      ],
      "text/plain": [
       "<pyspark.sql.session.SparkSession at 0x7f0a455ba430>"
      ]
     },
     "execution_count": 5,
     "metadata": {},
     "output_type": "execute_result"
    }
   ],
   "source": [
    "spark2"
   ]
  },
  {
   "cell_type": "markdown",
   "id": "8b741ba6-858d-4289-9c25-819d3f416b9f",
   "metadata": {},
   "source": [
    "# Extração dos arquivos"
   ]
  },
  {
   "cell_type": "code",
   "execution_count": 6,
   "id": "000ca3f3-f3f2-4830-b82d-39157131d02f",
   "metadata": {},
   "outputs": [
    {
     "name": "stderr",
     "output_type": "stream",
     "text": [
      "                                                                                \r"
     ]
    }
   ],
   "source": [
    "df_ipca_pib_full = spark2.read.parquet('gs://projeto_final_2021/pandas_to_parquet/IPCA_parquet/df_IPCA_PIB_full.snappy')"
   ]
  },
  {
   "cell_type": "code",
   "execution_count": 7,
   "id": "87367d98-768b-418d-b82b-81bd372d7327",
   "metadata": {},
   "outputs": [
    {
     "name": "stderr",
     "output_type": "stream",
     "text": [
      "                                                                                \r"
     ]
    }
   ],
   "source": [
    "df_servidores = spark2.read.parquet('gs://projeto_final_2021/parquet_to_bq/df_serv2/*.parquet')"
   ]
  },
  {
   "cell_type": "code",
   "execution_count": 8,
   "id": "b9735f39-93ac-431a-ab9e-2bd87e081d40",
   "metadata": {},
   "outputs": [
    {
     "name": "stderr",
     "output_type": "stream",
     "text": [
      "[Stage 3:>                                                          (0 + 1) / 1]\r"
     ]
    },
    {
     "name": "stdout",
     "output_type": "stream",
     "text": [
      "+---+----+--------------------+--------------------+--------+--------------+------+\n",
      "|mes| ano|                nome|               cargo|situacao|salarioLiquido|estado|\n",
      "+---+----+--------------------+--------------------+--------+--------------+------+\n",
      "|  1|2020|   AARAO LOPES COSTA|                CABO|   ATIVO|       4668.11|    MG|\n",
      "|  1|2020|AARAO MARQUES DA ...|AGENTE DE SEGURAN...|   ATIVO|       4117.18|    MG|\n",
      "|  1|2020|  AARON DUARTE DALLA|ESPEC.EM POLITICA...|   ATIVO|      16217.44|    MG|\n",
      "|  1|2020|AARON FERRAREZ BO...|             SD 1 CL|   ATIVO|       3728.25|    MG|\n",
      "|  1|2020|AARON FRANCA TEOFILO|PROFESSOR DE EDUC...|   ATIVO|       3875.45|    MG|\n",
      "|  1|2020|ABADIA APARECIDA ...|AUXILIAR DE SERVI...|   ATIVO|       1338.45|    MG|\n",
      "|  1|2020|ABADIA APARECIDA ...|AUXILIAR DE SERVI...|   ATIVO|       1384.61|    MG|\n",
      "|  1|2020|ABADIA APARECIDA ...|PROFESSOR DE EDUC...|   ATIVO|       1438.16|    MG|\n",
      "|  1|2020|ABADIA APARECIDA ...|AUXILIAR DE SERVI...|   ATIVO|       1384.61|    MG|\n",
      "|  1|2020|ABADIA APARECIDA ...|PROFESSOR DE EDUC...|   ATIVO|       1775.47|    MG|\n",
      "+---+----+--------------------+--------------------+--------+--------------+------+\n",
      "only showing top 10 rows\n",
      "\n"
     ]
    },
    {
     "name": "stderr",
     "output_type": "stream",
     "text": [
      "                                                                                \r"
     ]
    }
   ],
   "source": [
    "df_servidores.show(10)"
   ]
  },
  {
   "cell_type": "code",
   "execution_count": 9,
   "id": "d74caf81-ddf7-4464-b7bc-242d06355ee2",
   "metadata": {},
   "outputs": [
    {
     "name": "stdout",
     "output_type": "stream",
     "text": [
      "+---+----+------+-----------+---------+--------------+------------------+------------------+-------------------+---------------+------------+-----------------+\n",
      "|mes| ano|estado|       item|IPCA_item|IPCA_VarMensal|IPCA_VarAcu_3Meses|IPCA_VarAcu_6Meses|IPCA_VarAcu_12Meses|IPCA_VarAcu_Ano|PIB_nacional|__index_level_0__|\n",
      "+---+----+------+-----------+---------+--------------+------------------+------------------+-------------------+---------------+------------+-----------------+\n",
      "|  1|2020|    MG|Índice_g...|      0.2|          0.21|              1.88|              2.05|               4.19|           0.21|    617747.2|                0|\n",
      "|  1|2020|    MG|Alimenta...|      0.6|          0.21|              1.88|              2.05|               4.19|           0.21|    617747.2|                1|\n",
      "|  1|2020|    MG|  Habitação|    -0.03|          0.21|              1.88|              2.05|               4.19|           0.21|    617747.2|                2|\n",
      "|  1|2020|    MG|Artigos_...|     0.01|          0.21|              1.88|              2.05|               4.19|           0.21|    617747.2|                3|\n",
      "|  1|2020|    MG|  Vestuário|    -0.46|          0.21|              1.88|              2.05|               4.19|           0.21|    617747.2|                4|\n",
      "|  1|2020|    MG|Transportes|     0.43|          0.21|              1.88|              2.05|               4.19|           0.21|    617747.2|                5|\n",
      "|  1|2020|    MG|Saúde_e_...|    -0.15|          0.21|              1.88|              2.05|               4.19|           0.21|    617747.2|                6|\n",
      "|  1|2020|    MG|Despesas...|     0.08|          0.21|              1.88|              2.05|               4.19|           0.21|    617747.2|                7|\n",
      "|  1|2020|    MG|   Educação|     0.31|          0.21|              1.88|              2.05|               4.19|           0.21|    617747.2|                8|\n",
      "|  1|2020|    MG|Comunicação|     0.24|          0.21|              1.88|              2.05|               4.19|           0.21|    617747.2|                9|\n",
      "+---+----+------+-----------+---------+--------------+------------------+------------------+-------------------+---------------+------------+-----------------+\n",
      "only showing top 10 rows\n",
      "\n"
     ]
    }
   ],
   "source": [
    "df_ipca_pib_full.show(10, truncate=11)"
   ]
  },
  {
   "cell_type": "code",
   "execution_count": 10,
   "id": "a754471b-9938-495d-8156-bb24115d5205",
   "metadata": {},
   "outputs": [],
   "source": [
    "# 7_424_797 (inicial)\n",
    "# 285_861_280 (on sem o estado)\n",
    "# 71_465_320 (on com o estado)"
   ]
  },
  {
   "cell_type": "code",
   "execution_count": 11,
   "id": "20b5b84c-57f1-4f9a-ad13-ac2a8d9150c3",
   "metadata": {},
   "outputs": [],
   "source": [
    "# 74_247_970 (df_serv nova)"
   ]
  },
  {
   "cell_type": "markdown",
   "id": "7b4bfe04-1ea3-45c6-a51e-4f2f9594b13d",
   "metadata": {},
   "source": [
    "# Concatenação das tabelas"
   ]
  },
  {
   "cell_type": "code",
   "execution_count": 12,
   "id": "a3be4a6b-febc-4da3-bccd-7de787690513",
   "metadata": {},
   "outputs": [],
   "source": [
    "df_salario = df_servidores.join(df_ipca_pib_full, on=['mes','ano', 'estado'])"
   ]
  },
  {
   "cell_type": "code",
   "execution_count": 13,
   "id": "d642dc47-40f3-4441-ada8-f1e1b6de04fd",
   "metadata": {},
   "outputs": [],
   "source": [
    "df_salario = df_salario.select('mes',\n",
    "                               'ano',\n",
    "                               'estado',\n",
    "                               'nome',\n",
    "                               'cargo',\n",
    "                               'situacao',\n",
    "                               'salarioLiquido',\n",
    "                               'item',\n",
    "                               'IPCA_item',\n",
    "                               'IPCA_VarMensal',\n",
    "                               'IPCA_VarAcu_3Meses',\n",
    "                               'IPCA_VarAcu_6Meses',\n",
    "                               'IPCA_VarAcu_12Meses',\n",
    "                               'IPCA_VarAcu_Ano',\n",
    "                               'PIB_nacional')"
   ]
  },
  {
   "cell_type": "code",
   "execution_count": 14,
   "id": "0780067d-0c08-44ca-90d2-5d6a4a30c02e",
   "metadata": {},
   "outputs": [
    {
     "name": "stderr",
     "output_type": "stream",
     "text": [
      "                                                                                \r"
     ]
    },
    {
     "name": "stdout",
     "output_type": "stream",
     "text": [
      "+---+----+------+--------------------+--------------------+--------+--------------+--------------------+---------+--------------+------------------+------------------+-------------------+---------------+------------+\n",
      "|mes| ano|estado|                nome|               cargo|situacao|salarioLiquido|                item|IPCA_item|IPCA_VarMensal|IPCA_VarAcu_3Meses|IPCA_VarAcu_6Meses|IPCA_VarAcu_12Meses|IPCA_VarAcu_Ano|PIB_nacional|\n",
      "+---+----+------+--------------------+--------------------+--------+--------------+--------------------+---------+--------------+------------------+------------------+-------------------+---------------+------------+\n",
      "|  1|2020|    MG|   AARAO LOPES COSTA|                CABO|   ATIVO|       4668.11|         Comunicação|     0.24|          0.21|              1.88|              2.05|               4.19|           0.21|    617747.2|\n",
      "|  1|2020|    MG|   AARAO LOPES COSTA|                CABO|   ATIVO|       4668.11|            Educação|     0.31|          0.21|              1.88|              2.05|               4.19|           0.21|    617747.2|\n",
      "|  1|2020|    MG|   AARAO LOPES COSTA|                CABO|   ATIVO|       4668.11|   Despesas_pessoais|     0.08|          0.21|              1.88|              2.05|               4.19|           0.21|    617747.2|\n",
      "|  1|2020|    MG|   AARAO LOPES COSTA|                CABO|   ATIVO|       4668.11|Saúde_e_cuidados_...|    -0.15|          0.21|              1.88|              2.05|               4.19|           0.21|    617747.2|\n",
      "|  1|2020|    MG|   AARAO LOPES COSTA|                CABO|   ATIVO|       4668.11|         Transportes|     0.43|          0.21|              1.88|              2.05|               4.19|           0.21|    617747.2|\n",
      "|  1|2020|    MG|   AARAO LOPES COSTA|                CABO|   ATIVO|       4668.11|           Vestuário|    -0.46|          0.21|              1.88|              2.05|               4.19|           0.21|    617747.2|\n",
      "|  1|2020|    MG|   AARAO LOPES COSTA|                CABO|   ATIVO|       4668.11|Artigos_de_residê...|     0.01|          0.21|              1.88|              2.05|               4.19|           0.21|    617747.2|\n",
      "|  1|2020|    MG|   AARAO LOPES COSTA|                CABO|   ATIVO|       4668.11|           Habitação|    -0.03|          0.21|              1.88|              2.05|               4.19|           0.21|    617747.2|\n",
      "|  1|2020|    MG|   AARAO LOPES COSTA|                CABO|   ATIVO|       4668.11|Alimentação_e_beb...|      0.6|          0.21|              1.88|              2.05|               4.19|           0.21|    617747.2|\n",
      "|  1|2020|    MG|   AARAO LOPES COSTA|                CABO|   ATIVO|       4668.11|        Índice_geral|      0.2|          0.21|              1.88|              2.05|               4.19|           0.21|    617747.2|\n",
      "|  1|2020|    MG|AARAO MARQUES DA ...|AGENTE DE SEGURAN...|   ATIVO|       4117.18|         Comunicação|     0.24|          0.21|              1.88|              2.05|               4.19|           0.21|    617747.2|\n",
      "|  1|2020|    MG|AARAO MARQUES DA ...|AGENTE DE SEGURAN...|   ATIVO|       4117.18|            Educação|     0.31|          0.21|              1.88|              2.05|               4.19|           0.21|    617747.2|\n",
      "|  1|2020|    MG|AARAO MARQUES DA ...|AGENTE DE SEGURAN...|   ATIVO|       4117.18|   Despesas_pessoais|     0.08|          0.21|              1.88|              2.05|               4.19|           0.21|    617747.2|\n",
      "|  1|2020|    MG|AARAO MARQUES DA ...|AGENTE DE SEGURAN...|   ATIVO|       4117.18|Saúde_e_cuidados_...|    -0.15|          0.21|              1.88|              2.05|               4.19|           0.21|    617747.2|\n",
      "|  1|2020|    MG|AARAO MARQUES DA ...|AGENTE DE SEGURAN...|   ATIVO|       4117.18|         Transportes|     0.43|          0.21|              1.88|              2.05|               4.19|           0.21|    617747.2|\n",
      "|  1|2020|    MG|AARAO MARQUES DA ...|AGENTE DE SEGURAN...|   ATIVO|       4117.18|           Vestuário|    -0.46|          0.21|              1.88|              2.05|               4.19|           0.21|    617747.2|\n",
      "|  1|2020|    MG|AARAO MARQUES DA ...|AGENTE DE SEGURAN...|   ATIVO|       4117.18|Artigos_de_residê...|     0.01|          0.21|              1.88|              2.05|               4.19|           0.21|    617747.2|\n",
      "|  1|2020|    MG|AARAO MARQUES DA ...|AGENTE DE SEGURAN...|   ATIVO|       4117.18|           Habitação|    -0.03|          0.21|              1.88|              2.05|               4.19|           0.21|    617747.2|\n",
      "|  1|2020|    MG|AARAO MARQUES DA ...|AGENTE DE SEGURAN...|   ATIVO|       4117.18|Alimentação_e_beb...|      0.6|          0.21|              1.88|              2.05|               4.19|           0.21|    617747.2|\n",
      "|  1|2020|    MG|AARAO MARQUES DA ...|AGENTE DE SEGURAN...|   ATIVO|       4117.18|        Índice_geral|      0.2|          0.21|              1.88|              2.05|               4.19|           0.21|    617747.2|\n",
      "+---+----+------+--------------------+--------------------+--------+--------------+--------------------+---------+--------------+------------------+------------------+-------------------+---------------+------------+\n",
      "only showing top 20 rows\n",
      "\n"
     ]
    }
   ],
   "source": [
    "df_salario.show()"
   ]
  },
  {
   "cell_type": "code",
   "execution_count": 15,
   "id": "457d01ba-09a2-465c-bb87-2b0d25685e19",
   "metadata": {},
   "outputs": [],
   "source": [
    "# ./bin/spark-submit --packages org.apache.spark:spark-avro_2.12:3.1.2 ..."
   ]
  },
  {
   "cell_type": "code",
   "execution_count": 16,
   "id": "a5be4938-3e04-4b2c-a443-7dbd50232928",
   "metadata": {},
   "outputs": [
    {
     "ename": "AnalysisException",
     "evalue": "Failed to find data source: avro. Avro is built-in but external data source module since Spark 2.4. Please deploy the application as per the deployment section of \"Apache Avro Data Source Guide\".",
     "output_type": "error",
     "traceback": [
      "\u001b[0;31m---------------------------------------------------------------------------\u001b[0m",
      "\u001b[0;31mAnalysisException\u001b[0m                         Traceback (most recent call last)",
      "\u001b[0;32m/tmp/ipykernel_2670/3768728424.py\u001b[0m in \u001b[0;36m<module>\u001b[0;34m\u001b[0m\n\u001b[0;32m----> 1\u001b[0;31m \u001b[0mdf_salario\u001b[0m\u001b[0;34m.\u001b[0m\u001b[0mwrite\u001b[0m\u001b[0;34m.\u001b[0m\u001b[0mformat\u001b[0m\u001b[0;34m(\u001b[0m\u001b[0;34m\"avro\"\u001b[0m\u001b[0;34m)\u001b[0m\u001b[0;34m.\u001b[0m\u001b[0moption\u001b[0m\u001b[0;34m(\u001b[0m\u001b[0;34m'compression'\u001b[0m\u001b[0;34m,\u001b[0m \u001b[0;34m'snappy'\u001b[0m\u001b[0;34m)\u001b[0m\u001b[0;34m.\u001b[0m\u001b[0msave\u001b[0m\u001b[0;34m(\u001b[0m\u001b[0;34m'gs://projeto_final_2021/parquet_to_bq/df_salario.avro'\u001b[0m\u001b[0;34m)\u001b[0m\u001b[0;34m\u001b[0m\u001b[0;34m\u001b[0m\u001b[0m\n\u001b[0m",
      "\u001b[0;32m/usr/lib/spark/python/pyspark/sql/readwriter.py\u001b[0m in \u001b[0;36msave\u001b[0;34m(self, path, format, mode, partitionBy, **options)\u001b[0m\n\u001b[1;32m   1107\u001b[0m             \u001b[0mself\u001b[0m\u001b[0;34m.\u001b[0m\u001b[0m_jwrite\u001b[0m\u001b[0;34m.\u001b[0m\u001b[0msave\u001b[0m\u001b[0;34m(\u001b[0m\u001b[0;34m)\u001b[0m\u001b[0;34m\u001b[0m\u001b[0;34m\u001b[0m\u001b[0m\n\u001b[1;32m   1108\u001b[0m         \u001b[0;32melse\u001b[0m\u001b[0;34m:\u001b[0m\u001b[0;34m\u001b[0m\u001b[0;34m\u001b[0m\u001b[0m\n\u001b[0;32m-> 1109\u001b[0;31m             \u001b[0mself\u001b[0m\u001b[0;34m.\u001b[0m\u001b[0m_jwrite\u001b[0m\u001b[0;34m.\u001b[0m\u001b[0msave\u001b[0m\u001b[0;34m(\u001b[0m\u001b[0mpath\u001b[0m\u001b[0;34m)\u001b[0m\u001b[0;34m\u001b[0m\u001b[0;34m\u001b[0m\u001b[0m\n\u001b[0m\u001b[1;32m   1110\u001b[0m \u001b[0;34m\u001b[0m\u001b[0m\n\u001b[1;32m   1111\u001b[0m     \u001b[0;34m@\u001b[0m\u001b[0msince\u001b[0m\u001b[0;34m(\u001b[0m\u001b[0;36m1.4\u001b[0m\u001b[0;34m)\u001b[0m\u001b[0;34m\u001b[0m\u001b[0;34m\u001b[0m\u001b[0m\n",
      "\u001b[0;32m/usr/lib/spark/python/lib/py4j-0.10.9-src.zip/py4j/java_gateway.py\u001b[0m in \u001b[0;36m__call__\u001b[0;34m(self, *args)\u001b[0m\n\u001b[1;32m   1302\u001b[0m \u001b[0;34m\u001b[0m\u001b[0m\n\u001b[1;32m   1303\u001b[0m         \u001b[0manswer\u001b[0m \u001b[0;34m=\u001b[0m \u001b[0mself\u001b[0m\u001b[0;34m.\u001b[0m\u001b[0mgateway_client\u001b[0m\u001b[0;34m.\u001b[0m\u001b[0msend_command\u001b[0m\u001b[0;34m(\u001b[0m\u001b[0mcommand\u001b[0m\u001b[0;34m)\u001b[0m\u001b[0;34m\u001b[0m\u001b[0;34m\u001b[0m\u001b[0m\n\u001b[0;32m-> 1304\u001b[0;31m         return_value = get_return_value(\n\u001b[0m\u001b[1;32m   1305\u001b[0m             answer, self.gateway_client, self.target_id, self.name)\n\u001b[1;32m   1306\u001b[0m \u001b[0;34m\u001b[0m\u001b[0m\n",
      "\u001b[0;32m/usr/lib/spark/python/pyspark/sql/utils.py\u001b[0m in \u001b[0;36mdeco\u001b[0;34m(*a, **kw)\u001b[0m\n\u001b[1;32m    115\u001b[0m                 \u001b[0;31m# Hide where the exception came from that shows a non-Pythonic\u001b[0m\u001b[0;34m\u001b[0m\u001b[0;34m\u001b[0m\u001b[0;34m\u001b[0m\u001b[0m\n\u001b[1;32m    116\u001b[0m                 \u001b[0;31m# JVM exception message.\u001b[0m\u001b[0;34m\u001b[0m\u001b[0;34m\u001b[0m\u001b[0;34m\u001b[0m\u001b[0m\n\u001b[0;32m--> 117\u001b[0;31m                 \u001b[0;32mraise\u001b[0m \u001b[0mconverted\u001b[0m \u001b[0;32mfrom\u001b[0m \u001b[0;32mNone\u001b[0m\u001b[0;34m\u001b[0m\u001b[0;34m\u001b[0m\u001b[0m\n\u001b[0m\u001b[1;32m    118\u001b[0m             \u001b[0;32melse\u001b[0m\u001b[0;34m:\u001b[0m\u001b[0;34m\u001b[0m\u001b[0;34m\u001b[0m\u001b[0m\n\u001b[1;32m    119\u001b[0m                 \u001b[0;32mraise\u001b[0m\u001b[0;34m\u001b[0m\u001b[0;34m\u001b[0m\u001b[0m\n",
      "\u001b[0;31mAnalysisException\u001b[0m: Failed to find data source: avro. Avro is built-in but external data source module since Spark 2.4. Please deploy the application as per the deployment section of \"Apache Avro Data Source Guide\"."
     ]
    }
   ],
   "source": [
    "df_salario.write.format(\"avro\").option('compression', 'snappy').save('gs://projeto_final_2021/parquet_to_bq/df_salario.avro')"
   ]
  },
  {
   "cell_type": "code",
   "execution_count": null,
   "id": "8a88fcd2-03d3-4e91-a956-d15199120efd",
   "metadata": {},
   "outputs": [],
   "source": []
  }
 ],
 "metadata": {
  "kernelspec": {
   "display_name": "PySpark",
   "language": "python",
   "name": "pyspark"
  },
  "language_info": {
   "codemirror_mode": {
    "name": "ipython",
    "version": 3
   },
   "file_extension": ".py",
   "mimetype": "text/x-python",
   "name": "python",
   "nbconvert_exporter": "python",
   "pygments_lexer": "ipython3",
   "version": "3.8.12"
  }
 },
 "nbformat": 4,
 "nbformat_minor": 5
}
