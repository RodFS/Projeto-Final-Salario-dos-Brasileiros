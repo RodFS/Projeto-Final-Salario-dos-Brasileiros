{
 "cells": [
  {
   "cell_type": "code",
   "execution_count": 1,
   "id": "04e426ee-a203-473b-9c2b-ef704fadfc91",
   "metadata": {},
   "outputs": [],
   "source": [
    "from pyspark.sql import SparkSession\n",
    "from pyspark.sql.functions import *\n",
    "from pyspark.sql.types import *\n",
    "from pyspark.sql.window import Window as W"
   ]
  },
  {
   "cell_type": "code",
   "execution_count": 2,
   "id": "7586355c-9586-4d3e-a1aa-af44ee20f4fc",
   "metadata": {},
   "outputs": [
    {
     "name": "stderr",
     "output_type": "stream",
     "text": [
      "Setting default log level to \"WARN\".\n",
      "To adjust logging level use sc.setLogLevel(newLevel). For SparkR, use setLogLevel(newLevel).\n",
      "21/11/27 18:40:09 WARN org.apache.spark.util.Utils: Service 'SparkUI' could not bind on port 4050. Attempting port 4051.\n",
      "21/11/27 18:40:09 WARN org.apache.spark.util.Utils: Service 'SparkUI' could not bind on port 4051. Attempting port 4052.\n"
     ]
    }
   ],
   "source": [
    "spark = (SparkSession.builder\n",
    "        .master(\"local\")\n",
    "        .appName(\"Pyspark_SP\")\n",
    "        .config(\"spark.ui.port\", \"4050\")\n",
    "        .getOrCreate()\n",
    "        )"
   ]
  },
  {
   "cell_type": "code",
   "execution_count": 3,
   "id": "d6c0ead0-7b2d-420f-a884-b4fac4d9cd59",
   "metadata": {},
   "outputs": [
    {
     "data": {
      "text/html": [
       "\n",
       "            <div>\n",
       "                <p><b>SparkSession - hive</b></p>\n",
       "                \n",
       "        <div>\n",
       "            <p><b>SparkContext</b></p>\n",
       "\n",
       "            <p><a href=\"http://pyspark-cluster-m.southamerica-east1-a.c.salario-brasileiro.internal:4052\">Spark UI</a></p>\n",
       "\n",
       "            <dl>\n",
       "              <dt>Version</dt>\n",
       "                <dd><code>v3.1.2</code></dd>\n",
       "              <dt>Master</dt>\n",
       "                <dd><code>local</code></dd>\n",
       "              <dt>AppName</dt>\n",
       "                <dd><code>Pyspark_SP</code></dd>\n",
       "            </dl>\n",
       "        </div>\n",
       "        \n",
       "            </div>\n",
       "        "
      ],
      "text/plain": [
       "<pyspark.sql.session.SparkSession at 0x7fed4d31cbb0>"
      ]
     },
     "execution_count": 3,
     "metadata": {},
     "output_type": "execute_result"
    }
   ],
   "source": [
    "spark"
   ]
  },
  {
   "cell_type": "code",
   "execution_count": 4,
   "id": "02aa13fe-3b28-427b-bdef-a5b5ec2b79ce",
   "metadata": {},
   "outputs": [
    {
     "name": "stderr",
     "output_type": "stream",
     "text": [
      "                                                                                \r"
     ]
    }
   ],
   "source": [
    "dfsp = spark.read.parquet(\"gs://projeto_final_2021/parquet_to_bq/SP/part-00000-4398f65e-4f0c-43ee-8346-9bad67a11f11-c000.snappy.parquet\")"
   ]
  },
  {
   "cell_type": "code",
   "execution_count": 5,
   "id": "e2834d35-397a-4471-95c6-f6fe6aeebf2a",
   "metadata": {},
   "outputs": [],
   "source": [
    "dfmg = spark.read.parquet(\"gs://projeto_final_2021/parquet_to_bq/MG/part-00000-9d8558ed-a2f8-4115-ba0f-29a4713d8605-c000.snappy.parquet\")"
   ]
  },
  {
   "cell_type": "code",
   "execution_count": 6,
   "id": "e2aa2ceb-bf35-4017-bc60-0d24b912ad10",
   "metadata": {},
   "outputs": [],
   "source": [
    "dfrj = spark.read.parquet(\"gs://projeto_final_2021/parquet_to_bq/RJ/part-00000-9403edb2-d06c-4fc2-aa5f-555a889b8f6f-c000.snappy.parquet\")"
   ]
  },
  {
   "cell_type": "code",
   "execution_count": 7,
   "id": "24690a9f-da92-41c7-9c52-3ad7ed2d930b",
   "metadata": {},
   "outputs": [],
   "source": [
    "dfes = spark.read.parquet(\"gs://projeto_final_2021/parquet_to_bq/ES/part-00000-9bdc9996-951c-4c96-b1ea-1bedfa62eee1-c000.snappy.parquet\")"
   ]
  },
  {
   "cell_type": "code",
   "execution_count": 8,
   "id": "c4eb84c7-e495-44b3-995d-8539ccc26423",
   "metadata": {},
   "outputs": [
    {
     "name": "stdout",
     "output_type": "stream",
     "text": [
      "+---+----+--------------------+--------------------+--------+--------------+------+\n",
      "|mes| ano|                nome|               cargo|situacao|salarioLiquido|estado|\n",
      "+---+----+--------------------+--------------------+--------+--------------+------+\n",
      "|  1|2020|ALESSANDRA SERAPO...| Sup. Adm Financeiro|   ATIVO|     3933.5598|    SP|\n",
      "|  1|2020|  ALINE DIAS MARTINS|          Analista I|   ATIVO|     3531.2703|    SP|\n",
      "|  1|2020| ANA MARIA M. CAIRES|Gestor(a) de Recu...|   ATIVO|       2947.29|    SP|\n",
      "|  1|2020|ANA PAULA DE BARR...|Sup. Relações Ins...|   ATIVO|     6716.3906|    SP|\n",
      "|  1|2020|ARMANDO DE ALMEID...|        Assessor III|   ATIVO|     5211.8105|    SP|\n",
      "+---+----+--------------------+--------------------+--------+--------------+------+\n",
      "only showing top 5 rows\n",
      "\n"
     ]
    },
    {
     "name": "stderr",
     "output_type": "stream",
     "text": [
      "                                                                                \r"
     ]
    }
   ],
   "source": [
    "dfsp.show(5)"
   ]
  },
  {
   "cell_type": "code",
   "execution_count": 9,
   "id": "2a2d4eb3-64bf-4806-8087-f83ba6c2048b",
   "metadata": {},
   "outputs": [
    {
     "name": "stdout",
     "output_type": "stream",
     "text": [
      "+--------------------+--------+--------------------+------------+--------------+----+---+------+\n",
      "|                nome|situacao|               cargo|salarioBruto|salarioLiquido| ano|mes|estado|\n",
      "+--------------------+--------+--------------------+------------+--------------+----+---+------+\n",
      "|   AARAO LOPES COSTA|   ATIVO|                CABO|      5692.0|       4668.11|2020|  1|    MG|\n",
      "|AARAO MARQUES DA ...|   ATIVO|AGENTE DE SEGURAN...|      4778.5|       4117.18|2020|  1|    MG|\n",
      "|  AARON DUARTE DALLA|   ATIVO|ESPEC.EM POLITICA...|     20490.7|      16217.44|2020|  1|    MG|\n",
      "|AARON FERRAREZ BO...|   ATIVO|             SD 1 CL|     4508.26|       3728.25|2020|  1|    MG|\n",
      "|AARON FRANCA TEOFILO|   ATIVO|PROFESSOR DE EDUC...|     3124.36|       3875.45|2020|  1|    MG|\n",
      "+--------------------+--------+--------------------+------------+--------------+----+---+------+\n",
      "only showing top 5 rows\n",
      "\n"
     ]
    },
    {
     "name": "stderr",
     "output_type": "stream",
     "text": [
      "                                                                                \r"
     ]
    }
   ],
   "source": [
    "dfmg.show(5)"
   ]
  },
  {
   "cell_type": "code",
   "execution_count": 10,
   "id": "a048baa1-1739-439b-a866-fb5f74ff14ea",
   "metadata": {},
   "outputs": [],
   "source": [
    "dfmg = dfmg.select(\"mes\",\"ano\",\"nome\",\"cargo\",\"situacao\",\"salarioLiquido\",\"estado\")"
   ]
  },
  {
   "cell_type": "code",
   "execution_count": 11,
   "id": "c261c492-6874-43d8-90a0-dbeb99ad9d0f",
   "metadata": {},
   "outputs": [
    {
     "name": "stdout",
     "output_type": "stream",
     "text": [
      "+---+----+--------------------+--------------------+--------+--------------+------+\n",
      "|mes| ano|                nome|               cargo|situacao|salarioLiquido|estado|\n",
      "+---+----+--------------------+--------------------+--------+--------------+------+\n",
      "|  1|2020|   AARAO LOPES COSTA|                CABO|   ATIVO|       4668.11|    MG|\n",
      "|  1|2020|AARAO MARQUES DA ...|AGENTE DE SEGURAN...|   ATIVO|       4117.18|    MG|\n",
      "|  1|2020|  AARON DUARTE DALLA|ESPEC.EM POLITICA...|   ATIVO|      16217.44|    MG|\n",
      "|  1|2020|AARON FERRAREZ BO...|             SD 1 CL|   ATIVO|       3728.25|    MG|\n",
      "|  1|2020|AARON FRANCA TEOFILO|PROFESSOR DE EDUC...|   ATIVO|       3875.45|    MG|\n",
      "+---+----+--------------------+--------------------+--------+--------------+------+\n",
      "only showing top 5 rows\n",
      "\n"
     ]
    }
   ],
   "source": [
    "dfmg.show(5)"
   ]
  },
  {
   "cell_type": "code",
   "execution_count": 12,
   "id": "b7f920bb-2917-4b97-8af7-313f52d75a36",
   "metadata": {},
   "outputs": [
    {
     "name": "stdout",
     "output_type": "stream",
     "text": [
      "+--------------------+--------+--------------------+---+----+--------------+------+\n",
      "|                nome|situacao|               cargo|Mes| ano|salarioLiquido|estado|\n",
      "+--------------------+--------+--------------------+---+----+--------------+------+\n",
      "|Adelimar C. Caeta...|   ATIVO|              PROF V|  1|2020|       2575.09|    ES|\n",
      "|Adelina de Jesus ...|   ATIVO| CONSELHEIRO TUTELAR|  1|2020|       6401.63|    ES|\n",
      "|Ademir Nogueira Lyra|   ATIVO|GR 1002 REF I - S...|  1|2020|        860.45|    ES|\n",
      "|Adenice Sanson de...|   ATIVO|              PROF V|  1|2020|       2938.73|    ES|\n",
      "|Adriana de F. R. ...|   ATIVO|              PROF V|  1|2020|       3319.12|    ES|\n",
      "|Adriana de Medeir...|   ATIVO|              PROF V|  1|2020|       5664.27|    ES|\n",
      "|Adriana Garcia M....|   ATIVO|              PROF V|  1|2020|       3666.43|    ES|\n",
      "|Adriana J. Ferrei...|   ATIVO|GR 1010 REF I - S...|  1|2020|       1315.93|    ES|\n",
      "|ADRIANA TEIXEIRA ...|   ATIVO|GR 1092 REF I - S...|  1|2020|        1314.1|    ES|\n",
      "|Adriane Nasciment...|   ATIVO|              PROF V|  1|2020|       1533.38|    ES|\n",
      "|Adriane Nasciment...|   ATIVO|              PROF V|  1|2020|       1336.54|    ES|\n",
      "|Adriano Cintra Co...|   ATIVO|GUARDA MUNICIPAL ...|  1|2020|       3534.13|    ES|\n",
      "|Adriano Edgar Sou...|   ATIVO|      C.C PADRÃO CC1|  1|2020|       4417.44|    ES|\n",
      "|Aida Gizela Trava...|   ATIVO|GR 500 REF I - Se...|  1|2020|         721.6|    ES|\n",
      "|Ailton Araujo Pei...|   ATIVO|GR 1014 REF I - S...|  1|2020|        1073.5|    ES|\n",
      "|Airton Sibien Rub...|   ATIVO|  PROCURADOR NIVEL I|  1|2020|       8117.11|    ES|\n",
      "|Alailce de Fatima...|   ATIVO|              PROF V|  1|2020|       1592.25|    ES|\n",
      "|Alair Fatima de Deus|   ATIVO|              PROF V|  1|2020|       1936.29|    ES|\n",
      "|Alda L. Dos Santo...|   ATIVO|GR 1092 REF I - S...|  1|2020|       1067.53|    ES|\n",
      "|Alda Ramos Rosa B...|   ATIVO|GR 1092 REF I - S...|  1|2020|       1529.94|    ES|\n",
      "+--------------------+--------+--------------------+---+----+--------------+------+\n",
      "only showing top 20 rows\n",
      "\n"
     ]
    }
   ],
   "source": [
    "dfes.show()"
   ]
  },
  {
   "cell_type": "code",
   "execution_count": 13,
   "id": "06ae1139-1d5d-43ef-a8b5-37d9dec165b0",
   "metadata": {},
   "outputs": [],
   "source": [
    "dfes = dfes.select(\"mes\",\"ano\",\"nome\",\"cargo\",\"situacao\",\"salarioLiquido\",\"estado\")"
   ]
  },
  {
   "cell_type": "code",
   "execution_count": 14,
   "id": "a9c938e7-f658-49b4-86eb-e414c6b7b1fa",
   "metadata": {},
   "outputs": [
    {
     "name": "stdout",
     "output_type": "stream",
     "text": [
      "+---+----+--------------------+--------------------+--------+--------------+------+\n",
      "|mes| ano|                nome|               cargo|situacao|salarioLiquido|estado|\n",
      "+---+----+--------------------+--------------------+--------+--------------+------+\n",
      "|  1|2020|Adelimar C. Caeta...|              PROF V|   ATIVO|       2575.09|    ES|\n",
      "|  1|2020|Adelina de Jesus ...| CONSELHEIRO TUTELAR|   ATIVO|       6401.63|    ES|\n",
      "|  1|2020|Ademir Nogueira Lyra|GR 1002 REF I - S...|   ATIVO|        860.45|    ES|\n",
      "|  1|2020|Adenice Sanson de...|              PROF V|   ATIVO|       2938.73|    ES|\n",
      "|  1|2020|Adriana de F. R. ...|              PROF V|   ATIVO|       3319.12|    ES|\n",
      "|  1|2020|Adriana de Medeir...|              PROF V|   ATIVO|       5664.27|    ES|\n",
      "|  1|2020|Adriana Garcia M....|              PROF V|   ATIVO|       3666.43|    ES|\n",
      "|  1|2020|Adriana J. Ferrei...|GR 1010 REF I - S...|   ATIVO|       1315.93|    ES|\n",
      "|  1|2020|ADRIANA TEIXEIRA ...|GR 1092 REF I - S...|   ATIVO|        1314.1|    ES|\n",
      "|  1|2020|Adriane Nasciment...|              PROF V|   ATIVO|       1533.38|    ES|\n",
      "|  1|2020|Adriane Nasciment...|              PROF V|   ATIVO|       1336.54|    ES|\n",
      "|  1|2020|Adriano Cintra Co...|GUARDA MUNICIPAL ...|   ATIVO|       3534.13|    ES|\n",
      "|  1|2020|Adriano Edgar Sou...|      C.C PADRÃO CC1|   ATIVO|       4417.44|    ES|\n",
      "|  1|2020|Aida Gizela Trava...|GR 500 REF I - Se...|   ATIVO|         721.6|    ES|\n",
      "|  1|2020|Ailton Araujo Pei...|GR 1014 REF I - S...|   ATIVO|        1073.5|    ES|\n",
      "|  1|2020|Airton Sibien Rub...|  PROCURADOR NIVEL I|   ATIVO|       8117.11|    ES|\n",
      "|  1|2020|Alailce de Fatima...|              PROF V|   ATIVO|       1592.25|    ES|\n",
      "|  1|2020|Alair Fatima de Deus|              PROF V|   ATIVO|       1936.29|    ES|\n",
      "|  1|2020|Alda L. Dos Santo...|GR 1092 REF I - S...|   ATIVO|       1067.53|    ES|\n",
      "|  1|2020|Alda Ramos Rosa B...|GR 1092 REF I - S...|   ATIVO|       1529.94|    ES|\n",
      "+---+----+--------------------+--------------------+--------+--------------+------+\n",
      "only showing top 20 rows\n",
      "\n"
     ]
    }
   ],
   "source": [
    "dfes.show()"
   ]
  },
  {
   "cell_type": "code",
   "execution_count": 15,
   "id": "f1174ffd-c4af-43da-8550-e3573ffe1d23",
   "metadata": {
    "tags": []
   },
   "outputs": [],
   "source": [
    "dfrj = dfrj.orderBy(\"ano\",\"mes\")"
   ]
  },
  {
   "cell_type": "code",
   "execution_count": 16,
   "id": "2358887a-5893-463c-a755-20f4744ef242",
   "metadata": {
    "tags": []
   },
   "outputs": [],
   "source": [
    "dfmg = dfmg.orderBy(\"ano\",\"mes\")"
   ]
  },
  {
   "cell_type": "code",
   "execution_count": 17,
   "id": "f8feb559-949b-4c09-8658-435d6e7907ba",
   "metadata": {},
   "outputs": [],
   "source": [
    "uniondf = dfsp.union(dfmg)\n",
    "uniondf = uniondf.union(dfes)\n",
    "uniondf = uniondf.union(dfrj)"
   ]
  },
  {
   "cell_type": "code",
   "execution_count": 18,
   "id": "78c20cb5-4de0-4a93-b5bf-c8aa40608135",
   "metadata": {},
   "outputs": [
    {
     "name": "stdout",
     "output_type": "stream",
     "text": [
      "root\n",
      " |-- mes: long (nullable = true)\n",
      " |-- ano: long (nullable = true)\n",
      " |-- nome: string (nullable = true)\n",
      " |-- cargo: string (nullable = true)\n",
      " |-- situacao: string (nullable = true)\n",
      " |-- salarioLiquido: double (nullable = true)\n",
      " |-- estado: string (nullable = true)\n",
      "\n"
     ]
    }
   ],
   "source": [
    "uniondf.printSchema()"
   ]
  },
  {
   "cell_type": "code",
   "execution_count": 19,
   "id": "07d19f44-8c56-406a-b27e-b6389a5b7ad9",
   "metadata": {},
   "outputs": [
    {
     "name": "stderr",
     "output_type": "stream",
     "text": [
      "                                                                                \r"
     ]
    },
    {
     "name": "stdout",
     "output_type": "stream",
     "text": [
      "+---+----+-----------------------------+-------------------------------+--------+------------------+------+\n",
      "|mes|ano |nome                         |cargo                          |situacao|salarioLiquido    |estado|\n",
      "+---+----+-----------------------------+-------------------------------+--------+------------------+------+\n",
      "|1  |2020|ALESSANDRA SERAPOMBA A. BRAYN|Sup. Adm Financeiro            |ATIVO   |3933.559814453125 |SP    |\n",
      "|1  |2020|ALINE DIAS MARTINS           |Analista I                     |ATIVO   |3531.270263671875 |SP    |\n",
      "|1  |2020|ANA MARIA M. CAIRES          |Gestor(a) de Recursos Humanos  |ATIVO   |2947.2900390625   |SP    |\n",
      "|1  |2020|ANA PAULA DE BARROS RODRIGUES|Sup. Relações Institucionais   |ATIVO   |6716.390625       |SP    |\n",
      "|1  |2020|ARMANDO DE ALMEIDA P.JUNIOR  |Assessor III                   |ATIVO   |5211.810546875    |SP    |\n",
      "|1  |2020|ARY SCAPIN JUNIOR            |Gerente de Projetos            |ATIVO   |5654.8388671875   |SP    |\n",
      "|1  |2020|BIANCA M. M. N. SILVA        |Analista II                    |ATIVO   |3971.2099609375   |SP    |\n",
      "|1  |2020|CAROLINA S. ATTILI           |Agente de Desenvolvimento Local|ATIVO   |2404.83984375     |SP    |\n",
      "|1  |2020|CINTIA G. SIQUEIRA CAMBRAIS  |Assistente II                  |ATIVO   |2781.51025390625  |SP    |\n",
      "|1  |2020|DAIANE FARO ZUNO             |Assessor II                    |ATIVO   |4023.33984375     |SP    |\n",
      "|1  |2020|DANIELA FREIRE SOARES        |Analista I                     |ATIVO   |-158.3701171875   |SP    |\n",
      "|1  |2020|EVERTON CARLOS PRATES        |Assessor III                   |ATIVO   |3465.409912109375 |SP    |\n",
      "|1  |2020|GLEICE AP. DOS SANTOS        |Agente de Desenvolvimento Local|ATIVO   |2430.18017578125  |SP    |\n",
      "|1  |2020|JESSICA S. CERQUEIRA         |Analista I                     |ATIVO   |3506.270263671875 |SP    |\n",
      "|1  |2020|JESSIKA P. FERNANDES         |Gerente de Projetos            |ATIVO   |5604.759765625    |SP    |\n",
      "|1  |2020|BRUNA PEREIRA PONTES         |Aprendiz                       |ATIVO   |1225.2999267578125|SP    |\n",
      "|1  |2020|FREDERICO ANASTACIO CELENTANO|Diretor Presidente             |ATIVO   |14520.3095703125  |SP    |\n",
      "|1  |2020|PAULO M. T. RIBEIRO          |Diretor                        |ATIVO   |14277.3701171875  |SP    |\n",
      "|1  |2020|JOSÉ CARLOS CALLEGARI        |Assessor III                   |ATIVO   |5107.5400390625   |SP    |\n",
      "|1  |2020|JULIANA CRISTINA ACOSTA      |Agente de Desenvolvimento Local|ATIVO   |2061.740234375    |SP    |\n",
      "+---+----+-----------------------------+-------------------------------+--------+------------------+------+\n",
      "only showing top 20 rows\n",
      "\n"
     ]
    }
   ],
   "source": [
    "uniondf.show(truncate=False)"
   ]
  },
  {
   "cell_type": "code",
   "execution_count": 20,
   "id": "474259db-3801-4ecc-8f00-ff518a7b261c",
   "metadata": {},
   "outputs": [],
   "source": [
    "uniondf = uniondf.withColumn(\"salarioLiquido\", round(uniondf[\"salarioLiquido\"], 2))"
   ]
  },
  {
   "cell_type": "code",
   "execution_count": 21,
   "id": "8d9b8842-3f61-45b9-9b78-e96cb3a72f56",
   "metadata": {},
   "outputs": [
    {
     "name": "stdout",
     "output_type": "stream",
     "text": [
      "+---+----+--------------------+--------------------+--------+--------------+------+\n",
      "|mes| ano|                nome|               cargo|situacao|salarioLiquido|estado|\n",
      "+---+----+--------------------+--------------------+--------+--------------+------+\n",
      "|  1|2020|Adelimar C. Caeta...|              PROF V|   ATIVO|       2575.09|    ES|\n",
      "|  1|2020|Adelina de Jesus ...| CONSELHEIRO TUTELAR|   ATIVO|       6401.63|    ES|\n",
      "|  1|2020|Ademir Nogueira Lyra|GR 1002 REF I - S...|   ATIVO|        860.45|    ES|\n",
      "|  1|2020|Adenice Sanson de...|              PROF V|   ATIVO|       2938.73|    ES|\n",
      "|  1|2020|Adriana de F. R. ...|              PROF V|   ATIVO|       3319.12|    ES|\n",
      "|  1|2020|Adriana de Medeir...|              PROF V|   ATIVO|       5664.27|    ES|\n",
      "|  1|2020|Adriana Garcia M....|              PROF V|   ATIVO|       3666.43|    ES|\n",
      "|  1|2020|Adriana J. Ferrei...|GR 1010 REF I - S...|   ATIVO|       1315.93|    ES|\n",
      "|  1|2020|ADRIANA TEIXEIRA ...|GR 1092 REF I - S...|   ATIVO|        1314.1|    ES|\n",
      "|  1|2020|Adriane Nasciment...|              PROF V|   ATIVO|       1533.38|    ES|\n",
      "|  1|2020|Adriane Nasciment...|              PROF V|   ATIVO|       1336.54|    ES|\n",
      "|  1|2020|Adriano Cintra Co...|GUARDA MUNICIPAL ...|   ATIVO|       3534.13|    ES|\n",
      "|  1|2020|Adriano Edgar Sou...|      C.C PADRÃO CC1|   ATIVO|       4417.44|    ES|\n",
      "|  1|2020|Aida Gizela Trava...|GR 500 REF I - Se...|   ATIVO|         721.6|    ES|\n",
      "|  1|2020|Ailton Araujo Pei...|GR 1014 REF I - S...|   ATIVO|        1073.5|    ES|\n",
      "|  1|2020|Airton Sibien Rub...|  PROCURADOR NIVEL I|   ATIVO|       8117.11|    ES|\n",
      "|  1|2020|Alailce de Fatima...|              PROF V|   ATIVO|       1592.25|    ES|\n",
      "|  1|2020|Alair Fatima de Deus|              PROF V|   ATIVO|       1936.29|    ES|\n",
      "|  1|2020|Alda L. Dos Santo...|GR 1092 REF I - S...|   ATIVO|       1067.53|    ES|\n",
      "|  1|2020|Alda Ramos Rosa B...|GR 1092 REF I - S...|   ATIVO|       1529.94|    ES|\n",
      "+---+----+--------------------+--------------------+--------+--------------+------+\n",
      "only showing top 20 rows\n",
      "\n"
     ]
    }
   ],
   "source": [
    "uniondf.filter(col(\"estado\") == \"ES\").show()"
   ]
  },
  {
   "cell_type": "code",
   "execution_count": 22,
   "id": "c99b49ff-7339-46c3-b9c2-00d56e88afea",
   "metadata": {},
   "outputs": [
    {
     "name": "stderr",
     "output_type": "stream",
     "text": [
      "                                                                                \r"
     ]
    },
    {
     "name": "stdout",
     "output_type": "stream",
     "text": [
      "+---+----+--------------------+--------------------+--------+--------------+------+\n",
      "|mes| ano|                nome|               cargo|situacao|salarioLiquido|estado|\n",
      "+---+----+--------------------+--------------------+--------+--------------+------+\n",
      "|  1|2020|ALESSANDRA SERAPO...| Sup. Adm Financeiro|   ATIVO|       3933.56|    SP|\n",
      "|  1|2020|  ALINE DIAS MARTINS|          Analista I|   ATIVO|       3531.27|    SP|\n",
      "|  1|2020| ANA MARIA M. CAIRES|Gestor(a) de Recu...|   ATIVO|       2947.29|    SP|\n",
      "|  1|2020|ANA PAULA DE BARR...|Sup. Relações Ins...|   ATIVO|       6716.39|    SP|\n",
      "|  1|2020|ARMANDO DE ALMEID...|        Assessor III|   ATIVO|       5211.81|    SP|\n",
      "|  1|2020|   ARY SCAPIN JUNIOR| Gerente de Projetos|   ATIVO|       5654.84|    SP|\n",
      "|  1|2020|BIANCA M. M. N. S...|         Analista II|   ATIVO|       3971.21|    SP|\n",
      "|  1|2020|  CAROLINA S. ATTILI|Agente de Desenvo...|   ATIVO|       2404.84|    SP|\n",
      "|  1|2020|CINTIA G. SIQUEIR...|       Assistente II|   ATIVO|       2781.51|    SP|\n",
      "|  1|2020|    DAIANE FARO ZUNO|         Assessor II|   ATIVO|       4023.34|    SP|\n",
      "|  1|2020|DANIELA FREIRE SO...|          Analista I|   ATIVO|       -158.37|    SP|\n",
      "|  1|2020|EVERTON CARLOS PR...|        Assessor III|   ATIVO|       3465.41|    SP|\n",
      "|  1|2020|GLEICE AP. DOS SA...|Agente de Desenvo...|   ATIVO|       2430.18|    SP|\n",
      "|  1|2020|JESSICA S. CERQUEIRA|          Analista I|   ATIVO|       3506.27|    SP|\n",
      "|  1|2020|JESSIKA P. FERNANDES| Gerente de Projetos|   ATIVO|       5604.76|    SP|\n",
      "|  1|2020|BRUNA PEREIRA PONTES|            Aprendiz|   ATIVO|        1225.3|    SP|\n",
      "|  1|2020|FREDERICO ANASTAC...|  Diretor Presidente|   ATIVO|      14520.31|    SP|\n",
      "|  1|2020| PAULO M. T. RIBEIRO|             Diretor|   ATIVO|      14277.37|    SP|\n",
      "|  1|2020|JOSÉ CARLOS CALLE...|        Assessor III|   ATIVO|       5107.54|    SP|\n",
      "|  1|2020|JULIANA CRISTINA ...|Agente de Desenvo...|   ATIVO|       2061.74|    SP|\n",
      "+---+----+--------------------+--------------------+--------+--------------+------+\n",
      "only showing top 20 rows\n",
      "\n"
     ]
    }
   ],
   "source": [
    "uniondf.show()"
   ]
  },
  {
   "cell_type": "code",
   "execution_count": 23,
   "id": "6daced9a-9d90-4aab-8210-3f1a51dd4acd",
   "metadata": {
    "tags": []
   },
   "outputs": [
    {
     "name": "stderr",
     "output_type": "stream",
     "text": [
      "                                                                                \r"
     ]
    }
   ],
   "source": [
    "(uniondf.write.format(\"parquet\")\n",
    ".option(\"header\", \"true\")\n",
    ".option(\"inferschema\", \"true\")\n",
    ".save(\"gs://projeto_final_2021/parquet_to_bq/df_serv2\")\n",
    ")"
   ]
  },
  {
   "cell_type": "code",
   "execution_count": 24,
   "id": "eebccc3e-3e2c-476e-801d-2e698f4117e9",
   "metadata": {},
   "outputs": [
    {
     "name": "stdout",
     "output_type": "stream",
     "text": [
      "+---+----+--------------------+--------------------+--------+--------------+------+\n",
      "|mes| ano|                nome|               cargo|situacao|salarioLiquido|estado|\n",
      "+---+----+--------------------+--------------------+--------+--------------+------+\n",
      "|  2|2021|ABEIGAIR DE ALENC...|    ENFERMEIRO - ESF|   ATIVO|       5672.84|    RJ|\n",
      "|  2|2021|ADAIL JULIO DO NA...|    GUARDA MUNICIPAL|   ATIVO|        7751.5|    RJ|\n",
      "|  2|2021|ADALBERTO CURVELO...|SUBSECRETÁRIO DE ...|   ATIVO|       3799.06|    RJ|\n",
      "|  2|2021|ADEILTON ALVES DE...|    GUARDA MUNICIPAL|   ATIVO|       1980.26|    RJ|\n",
      "|  2|2021|ADEMILTON DE OLIV...|  TRABALHADOR BRAÇAL|   ATIVO|       1986.65|    RJ|\n",
      "|  2|2021|ADILSON MACHADO M...|AUXILIAR DE ARTIFICE|   ATIVO|       3046.69|    RJ|\n",
      "|  2|2021|ADJANE BASILIO FA...|         PROFESSOR I|   ATIVO|       1172.24|    RJ|\n",
      "|  2|2021|ADRIANA APARECIDA...|AUXILIAR OPERACIO...|   ATIVO|        1696.2|    RJ|\n",
      "|  2|2021|ADRIANA CHAGAS DO...|AUXILIAR DE ENFER...|   ATIVO|       1772.16|    RJ|\n",
      "|  2|2021|ADRIANA DA CONCEI...|AUXILIAR ADMINIST...|   ATIVO|       1902.47|    RJ|\n",
      "|  2|2021|ADRIANA DE CARVAL...|         PROFESSOR I|   ATIVO|       2920.71|    RJ|\n",
      "|  2|2021|ADRIANA DE JESUS ...|          MERENDEIRA|   ATIVO|        499.31|    RJ|\n",
      "|  2|2021|ADRIANA DRUMMOND ...|MEDICO VETERINARI...|   ATIVO|        7192.5|    RJ|\n",
      "|  2|2021|ADRIANA FERREIRA ...|AUXILIAR DE SERVI...|   ATIVO|        637.84|    RJ|\n",
      "|  2|2021|ADRIANA MARIA DA ...|ASSESSOR EXECUTIV...|   ATIVO|       2035.93|    RJ|\n",
      "|  2|2021|ADRIANA MARIA ROD...|SERVIDOR CEDIDO O...|   ATIVO|        743.13|    RJ|\n",
      "|  2|2021|ADRIANA MARLEY FE...|AGENTE COMUNITARI...|   ATIVO|       1613.62|    RJ|\n",
      "|  2|2021|ADRIANA OLIVEIRA ...|         PROFESSOR I|   ATIVO|        698.28|    RJ|\n",
      "|  2|2021|ADRIANA OLIVEIRA ...|         PROFESSOR I|   ATIVO|          5.83|    RJ|\n",
      "|  2|2021|ADRIANA PINTO DE ...|SECRETÁRIO DE PLA...|   ATIVO|       7046.38|    RJ|\n",
      "+---+----+--------------------+--------------------+--------+--------------+------+\n",
      "only showing top 20 rows\n",
      "\n"
     ]
    }
   ],
   "source": [
    "uniondf.filter(uniondf.estado == \"RJ\").filter(uniondf.ano == 2021).filter(uniondf.mes == 2).show()"
   ]
  }
 ],
 "metadata": {
  "kernelspec": {
   "display_name": "Python 3",
   "language": "python",
   "name": "python3"
  },
  "language_info": {
   "codemirror_mode": {
    "name": "ipython",
    "version": 3
   },
   "file_extension": ".py",
   "mimetype": "text/x-python",
   "name": "python",
   "nbconvert_exporter": "python",
   "pygments_lexer": "ipython3",
   "version": "3.8.12"
  }
 },
 "nbformat": 4,
 "nbformat_minor": 5
}