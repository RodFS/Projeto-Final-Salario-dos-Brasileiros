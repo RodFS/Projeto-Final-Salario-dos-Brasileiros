{
 "cells": [
  {
   "cell_type": "code",
   "execution_count": 1,
   "id": "14f6645d-0169-49a4-9fdd-56090e33db8c",
   "metadata": {},
   "outputs": [],
   "source": [
    "from pyspark.sql import SparkSession\n",
    "from pyspark.sql.functions import *\n",
    "from pyspark.sql.types import *\n",
    "from pyspark.sql.window import Window as W"
   ]
  },
  {
   "cell_type": "code",
   "execution_count": 2,
   "id": "037b23b9-5574-424e-9f0a-4dc8822894ef",
   "metadata": {},
   "outputs": [],
   "source": [
    "spark = (SparkSession.builder\n",
    "        .master(\"local\")\n",
    "        .appName(\"PysparkSQL_ES\")\n",
    "        .config(\"spark.ui.port\", \"4051\")\n",
    "        .getOrCreate()\n",
    "        )"
   ]
  },
  {
   "cell_type": "code",
   "execution_count": 3,
   "id": "4d1a5558-c570-4dcc-9d20-777b06e89628",
   "metadata": {
    "tags": []
   },
   "outputs": [
    {
     "data": {
      "text/html": [
       "\n",
       "            <div>\n",
       "                <p><b>SparkSession - hive</b></p>\n",
       "                \n",
       "        <div>\n",
       "            <p><b>SparkContext</b></p>\n",
       "\n",
       "            <p><a href=\"http://pyspark-cluster-m.southamerica-east1-a.c.salario-brasileiro.internal:39233\">Spark UI</a></p>\n",
       "\n",
       "            <dl>\n",
       "              <dt>Version</dt>\n",
       "                <dd><code>v3.1.2</code></dd>\n",
       "              <dt>Master</dt>\n",
       "                <dd><code>yarn</code></dd>\n",
       "              <dt>AppName</dt>\n",
       "                <dd><code>PySparkShell</code></dd>\n",
       "            </dl>\n",
       "        </div>\n",
       "        \n",
       "            </div>\n",
       "        "
      ],
      "text/plain": [
       "<pyspark.sql.session.SparkSession at 0x7ff3d0ff6430>"
      ]
     },
     "execution_count": 3,
     "metadata": {},
     "output_type": "execute_result"
    }
   ],
   "source": [
    "spark"
   ]
  },
  {
   "cell_type": "code",
   "execution_count": 9,
   "id": "c17e33cb-54cd-4008-b6ee-3b6f3e6b252b",
   "metadata": {},
   "outputs": [],
   "source": [
    "df = (spark.read.format(\"parquet\")\n",
    "  .option(\"inferSchema\", \"true\")\n",
    "  .option(\"header\", \"true\")\n",
    "  .load(\"gs://projeto_final_2021/parquet_to_bq/ES/part-00000-9bdc9996-951c-4c96-b1ea-1bedfa62eee1-c000.snappy.parquet\")\n",
    "  .createOrReplaceTempView(\"es\")\n",
    "     )"
   ]
  },
  {
   "cell_type": "code",
   "execution_count": 10,
   "id": "b47e6219-1a16-42ca-a854-727db720ecbd",
   "metadata": {},
   "outputs": [
    {
     "name": "stdout",
     "output_type": "stream",
     "text": [
      "+--------------+---------+-------+\n",
      "|      col_name|data_type|comment|\n",
      "+--------------+---------+-------+\n",
      "|          nome|   string|   null|\n",
      "|      situacao|   string|   null|\n",
      "|         cargo|   string|   null|\n",
      "|           Mes|  tinyint|   null|\n",
      "|           ano| smallint|   null|\n",
      "|salarioLiquido|    float|   null|\n",
      "|        estado|   string|   null|\n",
      "+--------------+---------+-------+\n",
      "\n"
     ]
    }
   ],
   "source": [
    "spark.sql('DESCRIBE es').show(100)"
   ]
  },
  {
   "cell_type": "code",
   "execution_count": 34,
   "id": "291943bf-253a-49a8-9882-3a0f5fbfc5d9",
   "metadata": {},
   "outputs": [
    {
     "name": "stdout",
     "output_type": "stream",
     "text": [
      "+--------------------+--------+--------------------+---+----+--------------+------+\n",
      "|                nome|situacao|               cargo|Mes| ano|salarioLiquido|estado|\n",
      "+--------------------+--------+--------------------+---+----+--------------+------+\n",
      "|Adelimar C. Caeta...|   ATIVO|              PROF V|  1|2020|       2575.09|    ES|\n",
      "|Adelina de Jesus ...|   ATIVO| CONSELHEIRO TUTELAR|  1|2020|       6401.63|    ES|\n",
      "|Ademir Nogueira Lyra|   ATIVO|GR 1002 REF I - S...|  1|2020|        860.45|    ES|\n",
      "|Adenice Sanson de...|   ATIVO|              PROF V|  1|2020|       2938.73|    ES|\n",
      "|Adriana de F. R. ...|   ATIVO|              PROF V|  1|2020|       3319.12|    ES|\n",
      "|Adriana de Medeir...|   ATIVO|              PROF V|  1|2020|       5664.27|    ES|\n",
      "|Adriana Garcia M....|   ATIVO|              PROF V|  1|2020|       3666.43|    ES|\n",
      "|Adriana J. Ferrei...|   ATIVO|GR 1010 REF I - S...|  1|2020|       1315.93|    ES|\n",
      "|ADRIANA TEIXEIRA ...|   ATIVO|GR 1092 REF I - S...|  1|2020|        1314.1|    ES|\n",
      "|Adriane Nasciment...|   ATIVO|              PROF V|  1|2020|       1533.38|    ES|\n",
      "|Adriane Nasciment...|   ATIVO|              PROF V|  1|2020|       1336.54|    ES|\n",
      "|Adriano Cintra Co...|   ATIVO|GUARDA MUNICIPAL ...|  1|2020|       3534.13|    ES|\n",
      "|Adriano Edgar Sou...|   ATIVO|      C.C PADRÃO CC1|  1|2020|       4417.44|    ES|\n",
      "|Aida Gizela Trava...|   ATIVO|GR 500 REF I - Se...|  1|2020|         721.6|    ES|\n",
      "|Ailton Araujo Pei...|   ATIVO|GR 1014 REF I - S...|  1|2020|        1073.5|    ES|\n",
      "|Airton Sibien Rub...|   ATIVO|  PROCURADOR NIVEL I|  1|2020|       8117.11|    ES|\n",
      "|Alailce de Fatima...|   ATIVO|              PROF V|  1|2020|       1592.25|    ES|\n",
      "|Alair Fatima de Deus|   ATIVO|              PROF V|  1|2020|       1936.29|    ES|\n",
      "|Alda L. Dos Santo...|   ATIVO|GR 1092 REF I - S...|  1|2020|       1067.53|    ES|\n",
      "|Alda Ramos Rosa B...|   ATIVO|GR 1092 REF I - S...|  1|2020|       1529.94|    ES|\n",
      "+--------------------+--------+--------------------+---+----+--------------+------+\n",
      "only showing top 20 rows\n",
      "\n"
     ]
    }
   ],
   "source": [
    "spark.sql(\"SELECT * FROM es\").show()"
   ]
  },
  {
   "cell_type": "code",
   "execution_count": 6,
   "id": "1d63a22f-1ddf-45a9-82e2-d30d45933e85",
   "metadata": {},
   "outputs": [
    {
     "name": "stderr",
     "output_type": "stream",
     "text": [
      "[Stage 1:>                                                          (0 + 1) / 1]\r"
     ]
    },
    {
     "name": "stdout",
     "output_type": "stream",
     "text": [
      "+--------------------+--------------+\n",
      "|               cargo|Qtd_servidores|\n",
      "+--------------------+--------------+\n",
      "|GR 1034 REF I - S...|            26|\n",
      "|         Pensionista|         16847|\n",
      "|GR 1024 REF I - S...|           584|\n",
      "|GR 1016 REF I - S...|            16|\n",
      "|GR 1018 REF I - S...|            79|\n",
      "|GR 1020 REF I - S...|            46|\n",
      "|                   7|            48|\n",
      "|Classe NF I - Pad...|            76|\n",
      "|GR 1018 REF I - S...|           448|\n",
      "|                 CC1|            81|\n",
      "|GR 1090 REF I - S...|            21|\n",
      "|GR 1020 REF I - S...|            21|\n",
      "|GR 1092 REF I - S...|            17|\n",
      "| GR I SUB A - SEQ. 4|             5|\n",
      "|GR 1014 REF I - S...|           317|\n",
      "|GR 1028 REF I - S...|          6176|\n",
      "|                  11|            20|\n",
      "|Classe AF II - Pa...|            36|\n",
      "|GR 1002 REF I - S...|           978|\n",
      "|GUARDA MUNICIPAL ...|           780|\n",
      "+--------------------+--------------+\n",
      "only showing top 20 rows\n",
      "\n"
     ]
    },
    {
     "name": "stderr",
     "output_type": "stream",
     "text": [
      "                                                                                \r"
     ]
    }
   ],
   "source": [
    "#Quantidade de servidores por cargo\n",
    "\n",
    "spark.sql('''SELECT cargo, COUNT(nome) AS Qtd_servidores FROM es GROUP BY cargo''').show()"
   ]
  },
  {
   "cell_type": "code",
   "execution_count": 11,
   "id": "92f543a7-54cd-4e19-94fa-5d1092b8533c",
   "metadata": {},
   "outputs": [
    {
     "name": "stdout",
     "output_type": "stream",
     "text": [
      "+----+--------------------+--------------+\n",
      "| ano|               cargo|salarioLiquido|\n",
      "+----+--------------------+--------------+\n",
      "|2021|Classe NF III - P...|      15227.35|\n",
      "|2021|Classe NF II - Pa...|       11227.6|\n",
      "|2021|GR 1014 REF I - S...|      10724.59|\n",
      "|2021|Classe NF II - Pa...|      16654.94|\n",
      "|2021|  PROCURADOR NIVEL I|      14600.08|\n",
      "|2021|          Aposentado|      10931.72|\n",
      "|2021|Classe NF I - Pad...|      11658.31|\n",
      "|2021|       SUBSECRETÁRIO|      11685.98|\n",
      "|2021|       SUBSECRETÁRIO|      10044.49|\n",
      "|2021|Classe AF III - P...|      11945.73|\n",
      "|2021| PROCURADOR NIVEL VI|      14338.91|\n",
      "|2021|GR 1014 REF I - S...|      10737.49|\n",
      "|2021|          Aposentado|      12533.09|\n",
      "|2021|              PROF V|      10713.61|\n",
      "|2021|Classe AF III - P...|      22233.93|\n",
      "|2021|GR 1018 REF I - S...|      11462.63|\n",
      "|2021|Classe AF III - P...|      11411.75|\n",
      "|2021|             PROF VI|      10340.27|\n",
      "|2021|              PROF V|      11840.51|\n",
      "|2021|              PROF V|      10006.58|\n",
      "|2021|Classe NF III - P...|      12080.77|\n",
      "|2021|GR 1014 REF I - S...|      12118.34|\n",
      "|2021|Classe AF III - P...|      11752.28|\n",
      "|2021|  PROCURADOR NIVEL I|      11938.28|\n",
      "|2021|Classe NF II - Pa...|      12124.39|\n",
      "|2021|Classe AF III - P...|      12609.95|\n",
      "|2021|              PROF V|       12436.6|\n",
      "|2021|Classe NF III - P...|      10995.91|\n",
      "|2021|Classe AF III - P...|       14455.7|\n",
      "|2021|Classe AF III - P...|      12662.08|\n",
      "+----+--------------------+--------------+\n",
      "only showing top 30 rows\n",
      "\n"
     ]
    }
   ],
   "source": [
    "# Verificar ano, cargo e salario maior que 10000 no ano de 2021\n",
    "spark.sql(\"\"\"\n",
    "SELECT\n",
    "    ano, cargo, salarioLiquido \n",
    "FROM \n",
    "    es\n",
    "WHERE\n",
    "    salarioLiquido > 10000 AND ano = 2021\n",
    "\n",
    "\"\"\").show(30)"
   ]
  },
  {
   "cell_type": "code",
   "execution_count": 12,
   "id": "663dc246-0b61-450a-a8b7-9b37a18353ca",
   "metadata": {},
   "outputs": [
    {
     "name": "stdout",
     "output_type": "stream",
     "text": [
      "+--------+-------------+----+---+\n",
      "|   cargo|media_salario| ano|mes|\n",
      "+--------+-------------+----+---+\n",
      "| PROF IV|      2000.99|2020|  1|\n",
      "|  PROF I|      2119.61|2020|  1|\n",
      "|PROF VII|      4036.03|2020|  1|\n",
      "| PROF VI|       2999.7|2020|  1|\n",
      "| PROF II|      2317.45|2020|  1|\n",
      "|  PROF V|      2409.09|2020|  1|\n",
      "| PROF VI|      2750.52|2020|  2|\n",
      "|PROF VII|      3658.14|2020|  2|\n",
      "|  PROF I|      1678.09|2020|  2|\n",
      "| PROF IV|      1767.16|2020|  2|\n",
      "| PROF II|      1826.56|2020|  2|\n",
      "|  PROF V|       2023.4|2020|  2|\n",
      "|PROF VII|      4053.19|2020|  3|\n",
      "| PROF VI|      2785.37|2020|  3|\n",
      "| PROF II|      2121.49|2020|  3|\n",
      "|  PROF I|      1941.23|2020|  3|\n",
      "|  PROF V|      2352.87|2020|  3|\n",
      "| PROF IV|      1952.06|2020|  3|\n",
      "| PROF VI|      2986.67|2020|  4|\n",
      "| PROF IV|      2091.45|2020|  4|\n",
      "+--------+-------------+----+---+\n",
      "only showing top 20 rows\n",
      "\n"
     ]
    }
   ],
   "source": [
    "#Média salarial dos servidores no cargo de professor durante o decorrer do ano de 2020\n",
    "spark.sql(\n",
    "\"\"\"\n",
    "SELECT\n",
    "    cargo,\n",
    "    ROUND(AVG(salarioLiquido),2) AS media_salario,\n",
    "    ano,\n",
    "    mes \n",
    "FROM\n",
    "    es\n",
    "WHERE\n",
    "    cargo LIKE \"%PROF%\" AND ano == 2020\n",
    "GROUP BY\n",
    "    mes, ano, cargo\n",
    "ORDER BY\n",
    "    mes\n",
    "\"\"\"\n",
    ").show(truncate=50)"
   ]
  },
  {
   "cell_type": "code",
   "execution_count": 14,
   "id": "c7e3cd63-339a-4195-bc64-aa238f447d58",
   "metadata": {},
   "outputs": [
    {
     "name": "stderr",
     "output_type": "stream",
     "text": [
      "[Stage 15:>                                                         (0 + 1) / 1]\r"
     ]
    },
    {
     "name": "stdout",
     "output_type": "stream",
     "text": [
      "+--------------------+-------------------+\n",
      "|               cargo|media_salario_cargo|\n",
      "+--------------------+-------------------+\n",
      "|GR 437 REF I - Se...|             563.11|\n",
      "|GR 500 REF I - Se...|             645.23|\n",
      "| Estagiário Superior|             696.01|\n",
      "|GR 486 REF I - Se...|             741.44|\n",
      "|GR 1003 REF I - S...|             893.98|\n",
      "+--------------------+-------------------+\n",
      "\n"
     ]
    },
    {
     "name": "stderr",
     "output_type": "stream",
     "text": [
      "                                                                                \r"
     ]
    }
   ],
   "source": [
    "#Top 5 menores médias salariais por cargo \n",
    "spark.sql(\"SELECT cargo, ROUND(AVG(salarioLiquido),2) AS media_salario_cargo FROM es GROUP BY cargo ORDER BY media_salario_cargo limit 5\").show()"
   ]
  },
  {
   "cell_type": "code",
   "execution_count": 17,
   "id": "6aa35bd0-1f02-4cb5-a4e0-11a13704f440",
   "metadata": {},
   "outputs": [
    {
     "name": "stdout",
     "output_type": "stream",
     "text": [
      "+----+---------------+\n",
      "| ano|count(situacao)|\n",
      "+----+---------------+\n",
      "|2020|         185090|\n",
      "|2021|          93175|\n",
      "+----+---------------+\n",
      "\n"
     ]
    }
   ],
   "source": [
    "#Descobrir o número total de registros de cada ano\n",
    "spark.sql(\"select ano, count(situacao) from es group by ano\").show() "
   ]
  },
  {
   "cell_type": "code",
   "execution_count": 37,
   "id": "4c1facdc-2c3c-43a9-ab20-dc0981203144",
   "metadata": {},
   "outputs": [
    {
     "name": "stdout",
     "output_type": "stream",
     "text": [
      "+--------------------+-------------+----+---+--------+\n",
      "|               cargo|media_salario| ano|mes|situacao|\n",
      "+--------------------+-------------+----+---+--------+\n",
      "|GR 1002 REF I - S...|      4835.47|2021|  1|   ATIVO|\n",
      "|GR 1024 REF I - S...|      1548.73|2021|  1|   ATIVO|\n",
      "|GR 1090 REF I - S...|      2370.12|2021|  1|   ATIVO|\n",
      "|GR 1016 REF I - S...|      1464.41|2021|  1|   ATIVO|\n",
      "|GR 1034 REF I - S...|      3321.12|2021|  1|   ATIVO|\n",
      "|                   8|      3236.15|2021|  1|   ATIVO|\n",
      "|GR 1002 REF I - S...|      2035.17|2021|  1|   ATIVO|\n",
      "|GR 1032 REF I - S...|      4877.03|2021|  1|   ATIVO|\n",
      "|GUARDA MUNICIPAL ...|       3104.6|2021|  1|   ATIVO|\n",
      "|GR 586 REF I - Se...|      3189.96|2021|  1|   ATIVO|\n",
      "|Classe NF III - P...|      8235.19|2021|  1|   ATIVO|\n",
      "|Classe NF III - P...|      4820.02|2021|  1|   ATIVO|\n",
      "|GUARDA MUNICIPAL ...|      4170.62|2021|  1|   ATIVO|\n",
      "|                   9|      7541.87|2021|  1|   ATIVO|\n",
      "|GR 1014 REF I - S...|      1815.32|2021|  1|   ATIVO|\n",
      "|GR 1002 REF I - S...|      1836.79|2021|  1|   ATIVO|\n",
      "|GR 1092 REF I - S...|      2105.31|2021|  1|   ATIVO|\n",
      "|GR 1022 REF I - S...|      1531.71|2021|  1|   ATIVO|\n",
      "|GR 1090 REF I - S...|      2229.47|2021|  1|   ATIVO|\n",
      "|GR 589 REF I - Se...|      7195.12|2021|  1|   ATIVO|\n",
      "+--------------------+-------------+----+---+--------+\n",
      "only showing top 20 rows\n",
      "\n"
     ]
    }
   ],
   "source": [
    "#média salarial de servidores ativos no ano de 2021.\n",
    "spark.sql(\n",
    "\"\"\"\n",
    "SELECT\n",
    "    cargo,\n",
    "    ROUND(AVG(salarioLiquido),2) AS media_salario,\n",
    "    ano,\n",
    "    mes,\n",
    "    situacao\n",
    "FROM\n",
    "    es\n",
    "WHERE\n",
    "    situacao = \"ATIVO\" AND ano = 2021\n",
    "GROUP BY\n",
    "    mes, ano, cargo, situacao\n",
    "ORDER BY\n",
    "    mes\n",
    "\"\"\"\n",
    ").show()"
   ]
  }
 ],
 "metadata": {
  "kernelspec": {
   "display_name": "PySpark",
   "language": "python",
   "name": "pyspark"
  },
  "language_info": {
   "codemirror_mode": {
    "name": "ipython",
    "version": 3
   },
   "file_extension": ".py",
   "mimetype": "text/x-python",
   "name": "python",
   "nbconvert_exporter": "python",
   "pygments_lexer": "ipython3",
   "version": "3.8.12"
  }
 },
 "nbformat": 4,
 "nbformat_minor": 5
}