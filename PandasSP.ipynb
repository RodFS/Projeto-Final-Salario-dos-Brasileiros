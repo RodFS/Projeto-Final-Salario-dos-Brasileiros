{
 "cells": [
  {
   "cell_type": "markdown",
   "id": "91a0a76a-acb5-42c0-aba0-92fb67fc35e6",
   "metadata": {
    "jp-MarkdownHeadingCollapsed": true,
    "tags": []
   },
   "source": [
    "# INSTALAÇÃO DO PANDERA"
   ]
  },
  {
   "cell_type": "code",
   "execution_count": 1,
   "id": "f6c9622f-8bb3-44a6-82ed-6e005bd2896f",
   "metadata": {},
   "outputs": [
    {
     "name": "stdout",
     "output_type": "stream",
     "text": [
      "Requirement already satisfied: pandera in /opt/conda/lib/python3.7/site-packages (0.8.0)\n",
      "Requirement already satisfied: wrapt in /opt/conda/lib/python3.7/site-packages (from pandera) (1.13.3)\n",
      "Requirement already satisfied: typing-inspect>=0.6.0 in /opt/conda/lib/python3.7/site-packages (from pandera) (0.7.1)\n",
      "Requirement already satisfied: numpy>=1.9.0 in /opt/conda/lib/python3.7/site-packages (from pandera) (1.19.5)\n",
      "Requirement already satisfied: typing-extensions>=3.7.4.3 in /opt/conda/lib/python3.7/site-packages (from pandera) (3.10.0.2)\n",
      "Requirement already satisfied: pyarrow in /opt/conda/lib/python3.7/site-packages (from pandera) (6.0.0)\n",
      "Requirement already satisfied: packaging>=20.0 in /opt/conda/lib/python3.7/site-packages (from pandera) (21.0)\n",
      "Requirement already satisfied: pandas-stubs in /opt/conda/lib/python3.7/site-packages (from pandera) (1.2.0.38)\n",
      "Requirement already satisfied: pandas>=1.0 in /opt/conda/lib/python3.7/site-packages (from pandera) (1.3.4)\n",
      "Requirement already satisfied: pyparsing>=2.0.2 in /opt/conda/lib/python3.7/site-packages (from packaging>=20.0->pandera) (3.0.4)\n",
      "Requirement already satisfied: python-dateutil>=2.7.3 in /opt/conda/lib/python3.7/site-packages (from pandas>=1.0->pandera) (2.8.2)\n",
      "Requirement already satisfied: pytz>=2017.3 in /opt/conda/lib/python3.7/site-packages (from pandas>=1.0->pandera) (2021.3)\n",
      "Requirement already satisfied: mypy-extensions>=0.3.0 in /opt/conda/lib/python3.7/site-packages (from typing-inspect>=0.6.0->pandera) (0.4.3)\n",
      "Requirement already satisfied: six>=1.5 in /opt/conda/lib/python3.7/site-packages (from python-dateutil>=2.7.3->pandas>=1.0->pandera) (1.16.0)\n",
      "Note: you may need to restart the kernel to use updated packages.\n"
     ]
    }
   ],
   "source": [
    "pip install pandera"
   ]
  },
  {
   "cell_type": "markdown",
   "id": "92cfccac-6f0e-4b54-a95b-df4f6225706f",
   "metadata": {
    "jp-MarkdownHeadingCollapsed": true,
    "tags": []
   },
   "source": [
    "# IMPORTAÇÃO BIBLIOTECAS"
   ]
  },
  {
   "cell_type": "code",
   "execution_count": 2,
   "id": "4bf3dd9f-8932-4455-b7b2-211eb968208c",
   "metadata": {},
   "outputs": [],
   "source": [
    "import pandas as pd\n",
    "import pandera as pa"
   ]
  },
  {
   "cell_type": "markdown",
   "id": "c752a631-303e-4170-9a33-ee8c8b1a9445",
   "metadata": {
    "jp-MarkdownHeadingCollapsed": true,
    "tags": []
   },
   "source": [
    "# IMPORTAÇÃO DE TABELAS DE SP DOS ANOS DE 2020 E 2021"
   ]
  },
  {
   "cell_type": "markdown",
   "id": "855fa244-cb96-499f-a8d5-96c18669c826",
   "metadata": {
    "jp-MarkdownHeadingCollapsed": true,
    "tags": []
   },
   "source": [
    "  ## PRIMEIRA TABELA\n",
    "  \n",
    " No arquivo de Excel de SP, do ano de 2020, foi verificado que não havia uma tabela geral como no arquivo do ano de 2021. Para dar continuidade é preciso concatenar as tabelas de cada aba deste arquivo excel."
   ]
  },
  {
   "cell_type": "code",
   "execution_count": 3,
   "id": "dc331633-eaac-401d-b9a9-cb3e701c081c",
   "metadata": {},
   "outputs": [],
   "source": [
    "#CAMINHO DO ARQUIVO\n",
    "xls = pd.ExcelFile('gs://projeto_final_2021/entrada/SP/folhas-de-pagamento-da-administracao-indireta-2020.xlsx')\n",
    "\n",
    "#CRIAÇÃO DO DATAFRAME\n",
    "df = pd.DataFrame()\n",
    "\n",
    "#CONCATENAÇÃO DE TODAS AS TABELAS (ANO DE 2020) POR MEIO DE UM LOOP\n",
    "for i in range(0,20):\n",
    "    tabela = pd.read_excel(xls, sheet_name=i)\n",
    "    df = pd.concat([df, tabela], axis=0, ignore_index=True)\n",
    "\n",
    "#COM SHEET_NAME FOI POSSÍVEL CHAMAR CADA ABA DO EXCEL POR MEIO DE ÍNDICES\n",
    "#AXIS = 0 INDICA QUE A CONCATENAÇÃO SERÁ FEITA PELO EIXO X (LINHAS)"
   ]
  },
  {
   "cell_type": "markdown",
   "id": "619c4c28-e5b8-4a18-af4f-760ea8ae7b7f",
   "metadata": {
    "jp-MarkdownHeadingCollapsed": true,
    "tags": []
   },
   "source": [
    "  ## SEGUNDA TABELA\n",
    "  \n",
    " Neste arquivo de Excel de SP do ano de 2021, como mencionado anteriormente, há um arquivo geral para ser selecionado entre algumas das abas presente no arquivo."
   ]
  },
  {
   "cell_type": "code",
   "execution_count": 4,
   "id": "e9dac9bc-5bdd-4b4c-99d2-e1a84982ea7e",
   "metadata": {},
   "outputs": [],
   "source": [
    "#CAMINHO DO ARQUIVO\n",
    "xls2 = pd.ExcelFile('gs://projeto_final_2021/entrada/SP/entes-unificadosateagosto2021.xlsx')\n",
    "\n",
    "#TABELA (ANO DE 2021) PARA DATAFRAME\n",
    "df2 = pd.read_excel(xls2, sheet_name=0)"
   ]
  },
  {
   "cell_type": "markdown",
   "id": "543cc711-f956-4be0-8320-5bfc1260a4de",
   "metadata": {
    "jp-MarkdownHeadingCollapsed": true,
    "tags": []
   },
   "source": [
    "# CONCATENAÇÃO DE TABELAS DOS ANOS 2020 E 2021"
   ]
  },
  {
   "cell_type": "markdown",
   "id": "c1fe2f65-beb6-4474-b6e4-48cea3231d43",
   "metadata": {
    "jp-MarkdownHeadingCollapsed": true,
    "tags": []
   },
   "source": [
    " ## INCONSISTÊNCIA ENCONTRADA\n",
    "\n",
    "Foi observado que há \"espaço\" antes do no nome de algumas das colunas no df2. Isso será solucionado alterando o nome de cada uma dessas colunas. Primeiro foi preciso tratar destas inconsistências antes de dar procedimento."
   ]
  },
  {
   "cell_type": "code",
   "execution_count": 5,
   "id": "298dd3be-a3a3-49d6-a948-49e96288831f",
   "metadata": {},
   "outputs": [
    {
     "data": {
      "text/plain": [
       " EMPRESA                 object\n",
       " MÊS                      int64\n",
       " ANO                      int64\n",
       " NOME                    object\n",
       " CARGO                   object\n",
       " LOTAÇÃO                 object\n",
       "ADMISSÃO                 object\n",
       " NASCIMENTO             float64\n",
       " VENCIMENTOS             object\n",
       " ENCARGOS                object\n",
       " BENEFÍCIOS              object\n",
       " OUTRAS REMUNERAÇÕES     object\n",
       "VÍNCULO                  object\n",
       "DETALHE VÍNCULO          object\n",
       "LIMINAR                  object\n",
       "Unnamed: 15              object\n",
       "dtype: object"
      ]
     },
     "execution_count": 5,
     "metadata": {},
     "output_type": "execute_result"
    }
   ],
   "source": [
    "#COMPARANDO NOME DAS COLUNAS\n",
    "#df.dtypes\n",
    "df2.dtypes"
   ]
  },
  {
   "cell_type": "code",
   "execution_count": 6,
   "id": "74fecca5-3413-4f88-9664-4f4283df656e",
   "metadata": {},
   "outputs": [],
   "source": [
    "#ELIMINANDO INCONSISTÊNCIAS NO NOME DAS COLUNAS\n",
    "df2.rename(columns={\n",
    "    ' EMPRESA':'EMPRESA',\n",
    "    ' MÊS':'MÊS',\n",
    "    ' ANO':'ANO',\n",
    "    ' NOME':'NOME',\n",
    "    ' CARGO':'CARGO',\n",
    "    ' LOTAÇÃO':'LOTAÇÃO',\n",
    "    ' NASCIMENTO':'NASCIMENTO',\n",
    "    ' VENCIMENTOS':'VENCIMENTOS',\n",
    "    ' ENCARGOS':'ENCARGOS',\n",
    "    ' BENEFÍCIOS':'BENEFÍCIOS',\n",
    "    ' OUTRAS REMUNERAÇÕES':'OUTRAS REMUNERAÇÕES'\n",
    "}, inplace=True)"
   ]
  },
  {
   "cell_type": "markdown",
   "id": "5b414b2c-2ef0-4ecd-9250-d5ee37762fd5",
   "metadata": {
    "jp-MarkdownHeadingCollapsed": true,
    "tags": []
   },
   "source": [
    " ## CONCATENAÇÃO"
   ]
  },
  {
   "cell_type": "code",
   "execution_count": 7,
   "id": "739a93bd-dd1f-4de0-82e2-413c1f25b424",
   "metadata": {},
   "outputs": [],
   "source": [
    "df_tds = pd.concat([df,df2], axis=0, ignore_index=True)"
   ]
  },
  {
   "cell_type": "code",
   "execution_count": 8,
   "id": "d96301a9-ff69-4406-810d-ef44008e25dc",
   "metadata": {
    "tags": []
   },
   "outputs": [
    {
     "data": {
      "text/html": [
       "<div>\n",
       "<style scoped>\n",
       "    .dataframe tbody tr th:only-of-type {\n",
       "        vertical-align: middle;\n",
       "    }\n",
       "\n",
       "    .dataframe tbody tr th {\n",
       "        vertical-align: top;\n",
       "    }\n",
       "\n",
       "    .dataframe thead th {\n",
       "        text-align: right;\n",
       "    }\n",
       "</style>\n",
       "<table border=\"1\" class=\"dataframe\">\n",
       "  <thead>\n",
       "    <tr style=\"text-align: right;\">\n",
       "      <th></th>\n",
       "      <th>EMPRESA</th>\n",
       "      <th>MÊS</th>\n",
       "      <th>ANO</th>\n",
       "      <th>NOME</th>\n",
       "      <th>CARGO</th>\n",
       "      <th>LOTAÇÃO</th>\n",
       "      <th>ADMISSÃO</th>\n",
       "      <th>NASCIMENTO</th>\n",
       "      <th>VENCIMENTOS</th>\n",
       "      <th>ENCARGOS</th>\n",
       "      <th>BENEFÍCIOS</th>\n",
       "      <th>OUTRAS REMUNERAÇÕES</th>\n",
       "      <th>VÍNCULO</th>\n",
       "      <th>DETALHE VÍNCULO</th>\n",
       "      <th>LIMINAR</th>\n",
       "      <th>Unnamed: 15</th>\n",
       "    </tr>\n",
       "  </thead>\n",
       "  <tbody>\n",
       "    <tr>\n",
       "      <th>0</th>\n",
       "      <td>ADESAMPA</td>\n",
       "      <td>1</td>\n",
       "      <td>2020</td>\n",
       "      <td>ALESSANDRA SERAPOMBA A. BRAYN</td>\n",
       "      <td>Sup. Adm Financeiro</td>\n",
       "      <td>SEDE</td>\n",
       "      <td>2019-02-06 00:00:00</td>\n",
       "      <td>1974.0</td>\n",
       "      <td>5964.83</td>\n",
       "      <td>2656.28</td>\n",
       "      <td>625.01</td>\n",
       "      <td>0</td>\n",
       "      <td>CLT: contrato por tempo indeterminado</td>\n",
       "      <td>Não concursado ocupante de cargo em comissão</td>\n",
       "      <td>-</td>\n",
       "      <td>NaN</td>\n",
       "    </tr>\n",
       "    <tr>\n",
       "      <th>1</th>\n",
       "      <td>ADESAMPA</td>\n",
       "      <td>1</td>\n",
       "      <td>2020</td>\n",
       "      <td>ALINE DIAS MARTINS</td>\n",
       "      <td>Analista I</td>\n",
       "      <td>SEDE</td>\n",
       "      <td>2018-04-02 00:00:00</td>\n",
       "      <td>1987.0</td>\n",
       "      <td>4906.81</td>\n",
       "      <td>2152.8</td>\n",
       "      <td>777.26</td>\n",
       "      <td>0</td>\n",
       "      <td>CLT: contrato por tempo indeterminado</td>\n",
       "      <td>Não concursado NÃO ocupante de cargo em comissão</td>\n",
       "      <td>-</td>\n",
       "      <td>NaN</td>\n",
       "    </tr>\n",
       "    <tr>\n",
       "      <th>2</th>\n",
       "      <td>ADESAMPA</td>\n",
       "      <td>1</td>\n",
       "      <td>2020</td>\n",
       "      <td>ANA MARIA M. CAIRES</td>\n",
       "      <td>Gestor(a) de Recursos Humanos</td>\n",
       "      <td>SEDE</td>\n",
       "      <td>2016-03-14 00:00:00</td>\n",
       "      <td>1961.0</td>\n",
       "      <td>4439.44</td>\n",
       "      <td>2466.83</td>\n",
       "      <td>974.68</td>\n",
       "      <td>0</td>\n",
       "      <td>CLT: contrato por tempo indeterminado</td>\n",
       "      <td>Não concursado NÃO ocupante de cargo em comissão</td>\n",
       "      <td>-</td>\n",
       "      <td>NaN</td>\n",
       "    </tr>\n",
       "    <tr>\n",
       "      <th>3</th>\n",
       "      <td>ADESAMPA</td>\n",
       "      <td>1</td>\n",
       "      <td>2020</td>\n",
       "      <td>ANA PAULA DE BARROS RODRIGUES</td>\n",
       "      <td>Sup. Relações Institucionais</td>\n",
       "      <td>SEDE</td>\n",
       "      <td>2019-02-04 00:00:00</td>\n",
       "      <td>1982.0</td>\n",
       "      <td>10613.94</td>\n",
       "      <td>4843.8</td>\n",
       "      <td>946.25</td>\n",
       "      <td>0</td>\n",
       "      <td>CLT: contrato por tempo indeterminado</td>\n",
       "      <td>Não concursado ocupante de cargo em comissão</td>\n",
       "      <td>-</td>\n",
       "      <td>NaN</td>\n",
       "    </tr>\n",
       "    <tr>\n",
       "      <th>4</th>\n",
       "      <td>ADESAMPA</td>\n",
       "      <td>1</td>\n",
       "      <td>2020</td>\n",
       "      <td>ARMANDO DE ALMEIDA P.JUNIOR</td>\n",
       "      <td>Assessor III</td>\n",
       "      <td>SEDE</td>\n",
       "      <td>2018-08-01 00:00:00</td>\n",
       "      <td>1982.0</td>\n",
       "      <td>8027.08</td>\n",
       "      <td>3588</td>\n",
       "      <td>772.73</td>\n",
       "      <td>0</td>\n",
       "      <td>CLT: contrato por tempo indeterminado</td>\n",
       "      <td>Não concursado ocupante de cargo em comissão</td>\n",
       "      <td>-</td>\n",
       "      <td>NaN</td>\n",
       "    </tr>\n",
       "    <tr>\n",
       "      <th>...</th>\n",
       "      <td>...</td>\n",
       "      <td>...</td>\n",
       "      <td>...</td>\n",
       "      <td>...</td>\n",
       "      <td>...</td>\n",
       "      <td>...</td>\n",
       "      <td>...</td>\n",
       "      <td>...</td>\n",
       "      <td>...</td>\n",
       "      <td>...</td>\n",
       "      <td>...</td>\n",
       "      <td>...</td>\n",
       "      <td>...</td>\n",
       "      <td>...</td>\n",
       "      <td>...</td>\n",
       "      <td>...</td>\n",
       "    </tr>\n",
       "    <tr>\n",
       "      <th>491432</th>\n",
       "      <td>TMSP</td>\n",
       "      <td>8</td>\n",
       "      <td>2021</td>\n",
       "      <td>RICARDO MASSAHAKU FUKUDA</td>\n",
       "      <td>PROFESSOR DE ORQUESTRA</td>\n",
       "      <td>Diretoria de Formação</td>\n",
       "      <td>2013-05-17 00:00:00</td>\n",
       "      <td>1963.0</td>\n",
       "      <td>0</td>\n",
       "      <td>0</td>\n",
       "      <td>431.86</td>\n",
       "      <td>0</td>\n",
       "      <td>Servidor público cedido por outro ente: Servid...</td>\n",
       "      <td>Concursado NÃO ocupante de cargo em comissão</td>\n",
       "      <td>-</td>\n",
       "      <td>NaN</td>\n",
       "    </tr>\n",
       "    <tr>\n",
       "      <th>491433</th>\n",
       "      <td>TMSP</td>\n",
       "      <td>8</td>\n",
       "      <td>2021</td>\n",
       "      <td>ROBERTO ALVES RODRIGUES DE ARAUJO</td>\n",
       "      <td>PROFESSOR DE ORQUESTRA</td>\n",
       "      <td>Diretoria de Formação</td>\n",
       "      <td>2013-05-17 00:00:00</td>\n",
       "      <td>1964.0</td>\n",
       "      <td>0</td>\n",
       "      <td>0</td>\n",
       "      <td>431.86</td>\n",
       "      <td>0</td>\n",
       "      <td>Servidor público cedido por outro ente: Servid...</td>\n",
       "      <td>Concursado NÃO ocupante de cargo em comissão</td>\n",
       "      <td>-</td>\n",
       "      <td>NaN</td>\n",
       "    </tr>\n",
       "    <tr>\n",
       "      <th>491434</th>\n",
       "      <td>TMSP</td>\n",
       "      <td>8</td>\n",
       "      <td>2021</td>\n",
       "      <td>SAMANTHA VALENCIO</td>\n",
       "      <td>ASSESSOR TECNICO</td>\n",
       "      <td>Gabinete do Diretor</td>\n",
       "      <td>2021-04-07 00:00:00</td>\n",
       "      <td>1983.0</td>\n",
       "      <td>880.74</td>\n",
       "      <td>0</td>\n",
       "      <td>979.76</td>\n",
       "      <td>0</td>\n",
       "      <td>Servidor público cedido por outro ente: Servid...</td>\n",
       "      <td>Não concursado ocupante de cargo em comissão</td>\n",
       "      <td>-</td>\n",
       "      <td>NaN</td>\n",
       "    </tr>\n",
       "    <tr>\n",
       "      <th>491435</th>\n",
       "      <td>TMSP</td>\n",
       "      <td>8</td>\n",
       "      <td>2021</td>\n",
       "      <td>VIVIANE BITTENCOURT</td>\n",
       "      <td>SUPERVISOR TECNICO II</td>\n",
       "      <td>Supervisão de Recursos Humanos</td>\n",
       "      <td>2017-10-26 00:00:00</td>\n",
       "      <td>1974.0</td>\n",
       "      <td>876.64</td>\n",
       "      <td>0</td>\n",
       "      <td>938.7</td>\n",
       "      <td>0</td>\n",
       "      <td>Servidor público cedido por outro ente: Servid...</td>\n",
       "      <td>Não concursado ocupante de cargo em comissão</td>\n",
       "      <td>-</td>\n",
       "      <td>NaN</td>\n",
       "    </tr>\n",
       "    <tr>\n",
       "      <th>491436</th>\n",
       "      <td>TMSP</td>\n",
       "      <td>8</td>\n",
       "      <td>2021</td>\n",
       "      <td>YARA GONCALVES DE MELO</td>\n",
       "      <td>ASS. GESTÃO POLÍTICAS PÚBLICAS</td>\n",
       "      <td>Diretoria de Formação</td>\n",
       "      <td>2018-04-09 00:00:00</td>\n",
       "      <td>1970.0</td>\n",
       "      <td>256.68</td>\n",
       "      <td>0</td>\n",
       "      <td>1000.3</td>\n",
       "      <td>0</td>\n",
       "      <td>Servidor público cedido por outro ente: Servid...</td>\n",
       "      <td>Concursado NÃO ocupante de cargo em comissão</td>\n",
       "      <td>-</td>\n",
       "      <td>NaN</td>\n",
       "    </tr>\n",
       "  </tbody>\n",
       "</table>\n",
       "<p>491437 rows × 16 columns</p>\n",
       "</div>"
      ],
      "text/plain": [
       "         EMPRESA  MÊS   ANO                               NOME  \\\n",
       "0       ADESAMPA    1  2020      ALESSANDRA SERAPOMBA A. BRAYN   \n",
       "1       ADESAMPA    1  2020                 ALINE DIAS MARTINS   \n",
       "2       ADESAMPA    1  2020                ANA MARIA M. CAIRES   \n",
       "3       ADESAMPA    1  2020      ANA PAULA DE BARROS RODRIGUES   \n",
       "4       ADESAMPA    1  2020        ARMANDO DE ALMEIDA P.JUNIOR   \n",
       "...          ...  ...   ...                                ...   \n",
       "491432      TMSP    8  2021           RICARDO MASSAHAKU FUKUDA   \n",
       "491433      TMSP    8  2021  ROBERTO ALVES RODRIGUES DE ARAUJO   \n",
       "491434      TMSP    8  2021                  SAMANTHA VALENCIO   \n",
       "491435      TMSP    8  2021                VIVIANE BITTENCOURT   \n",
       "491436      TMSP    8  2021             YARA GONCALVES DE MELO   \n",
       "\n",
       "                                 CARGO                         LOTAÇÃO  \\\n",
       "0                  Sup. Adm Financeiro                            SEDE   \n",
       "1                           Analista I                            SEDE   \n",
       "2        Gestor(a) de Recursos Humanos                            SEDE   \n",
       "3         Sup. Relações Institucionais                            SEDE   \n",
       "4                         Assessor III                            SEDE   \n",
       "...                                ...                             ...   \n",
       "491432          PROFESSOR DE ORQUESTRA           Diretoria de Formação   \n",
       "491433          PROFESSOR DE ORQUESTRA           Diretoria de Formação   \n",
       "491434                ASSESSOR TECNICO             Gabinete do Diretor   \n",
       "491435           SUPERVISOR TECNICO II  Supervisão de Recursos Humanos   \n",
       "491436  ASS. GESTÃO POLÍTICAS PÚBLICAS           Diretoria de Formação   \n",
       "\n",
       "                   ADMISSÃO  NASCIMENTO VENCIMENTOS ENCARGOS BENEFÍCIOS  \\\n",
       "0       2019-02-06 00:00:00      1974.0     5964.83  2656.28     625.01   \n",
       "1       2018-04-02 00:00:00      1987.0     4906.81   2152.8     777.26   \n",
       "2       2016-03-14 00:00:00      1961.0     4439.44  2466.83     974.68   \n",
       "3       2019-02-04 00:00:00      1982.0    10613.94   4843.8     946.25   \n",
       "4       2018-08-01 00:00:00      1982.0     8027.08     3588     772.73   \n",
       "...                     ...         ...         ...      ...        ...   \n",
       "491432  2013-05-17 00:00:00      1963.0           0        0     431.86   \n",
       "491433  2013-05-17 00:00:00      1964.0           0        0     431.86   \n",
       "491434  2021-04-07 00:00:00      1983.0      880.74        0     979.76   \n",
       "491435  2017-10-26 00:00:00      1974.0      876.64        0      938.7   \n",
       "491436  2018-04-09 00:00:00      1970.0      256.68        0     1000.3   \n",
       "\n",
       "       OUTRAS REMUNERAÇÕES                                            VÍNCULO  \\\n",
       "0                        0              CLT: contrato por tempo indeterminado   \n",
       "1                        0              CLT: contrato por tempo indeterminado   \n",
       "2                        0              CLT: contrato por tempo indeterminado   \n",
       "3                        0              CLT: contrato por tempo indeterminado   \n",
       "4                        0              CLT: contrato por tempo indeterminado   \n",
       "...                    ...                                                ...   \n",
       "491432                   0  Servidor público cedido por outro ente: Servid...   \n",
       "491433                   0  Servidor público cedido por outro ente: Servid...   \n",
       "491434                   0  Servidor público cedido por outro ente: Servid...   \n",
       "491435                   0  Servidor público cedido por outro ente: Servid...   \n",
       "491436                   0  Servidor público cedido por outro ente: Servid...   \n",
       "\n",
       "                                         DETALHE VÍNCULO LIMINAR Unnamed: 15  \n",
       "0           Não concursado ocupante de cargo em comissão       -         NaN  \n",
       "1       Não concursado NÃO ocupante de cargo em comissão       -         NaN  \n",
       "2       Não concursado NÃO ocupante de cargo em comissão       -         NaN  \n",
       "3           Não concursado ocupante de cargo em comissão       -         NaN  \n",
       "4           Não concursado ocupante de cargo em comissão       -         NaN  \n",
       "...                                                  ...     ...         ...  \n",
       "491432      Concursado NÃO ocupante de cargo em comissão       -         NaN  \n",
       "491433      Concursado NÃO ocupante de cargo em comissão       -         NaN  \n",
       "491434      Não concursado ocupante de cargo em comissão       -         NaN  \n",
       "491435      Não concursado ocupante de cargo em comissão       -         NaN  \n",
       "491436      Concursado NÃO ocupante de cargo em comissão       -         NaN  \n",
       "\n",
       "[491437 rows x 16 columns]"
      ]
     },
     "execution_count": 8,
     "metadata": {},
     "output_type": "execute_result"
    }
   ],
   "source": [
    "df_tds"
   ]
  },
  {
   "cell_type": "markdown",
   "id": "579f28ab-4ab3-4355-9b62-e3b0b79a8ef4",
   "metadata": {
    "tags": []
   },
   "source": [
    "# LIMPEZA"
   ]
  },
  {
   "cell_type": "markdown",
   "id": "3ad17932-f84c-46ed-9be9-63b35462a85f",
   "metadata": {
    "tags": []
   },
   "source": [
    "## COLUNA IMPREVISTA\n",
    "\n",
    "Não era prevista a existência da coluna \"Unnamed: 15\", por essa razão será descartada."
   ]
  },
  {
   "cell_type": "code",
   "execution_count": 9,
   "id": "1faf8dcf-272b-46ad-9d0b-ab4dbb0ec1d9",
   "metadata": {},
   "outputs": [],
   "source": [
    "df_tds.drop('Unnamed: 15', axis=1, inplace=True)"
   ]
  },
  {
   "cell_type": "markdown",
   "id": "0b95e062-346b-4b54-b991-e56f97ad7cf2",
   "metadata": {
    "tags": []
   },
   "source": [
    "## VERIFICANDO INCONSISTÊNCIAS NOS DADOS\n",
    "\n",
    "Por conta de divergências no data frame foi necessário que o tipo de dado de todas as colunas fossem convertidos em string para então serem tratados."
   ]
  },
  {
   "cell_type": "code",
   "execution_count": 10,
   "id": "abd020fc-1c0e-4b8e-960b-7199a6af6d51",
   "metadata": {},
   "outputs": [],
   "source": [
    "df_tds = df_tds.astype(str)"
   ]
  },
  {
   "cell_type": "code",
   "execution_count": 11,
   "id": "73f78f6a-0dd2-4da2-a2c5-8a92e6b1fb9f",
   "metadata": {},
   "outputs": [
    {
     "data": {
      "text/plain": [
       "EMPRESA                0\n",
       "MÊS                    0\n",
       "ANO                    0\n",
       "NOME                   0\n",
       "CARGO                  0\n",
       "LOTAÇÃO                0\n",
       "ADMISSÃO               0\n",
       "NASCIMENTO             0\n",
       "VENCIMENTOS            0\n",
       "ENCARGOS               0\n",
       "BENEFÍCIOS             0\n",
       "OUTRAS REMUNERAÇÕES    0\n",
       "VÍNCULO                0\n",
       "DETALHE VÍNCULO        0\n",
       "LIMINAR                0\n",
       "dtype: int64"
      ]
     },
     "execution_count": 11,
     "metadata": {},
     "output_type": "execute_result"
    }
   ],
   "source": [
    "#VERIFICAÇÃO DE DADOS NULOS NO DF\n",
    "df_tds.isna().sum()"
   ]
  },
  {
   "cell_type": "markdown",
   "id": "5714e6e8-349a-45f5-848e-07ce38211977",
   "metadata": {},
   "source": [
    "Nesta etapa do processo é preciso ser feito a análise dos dados de todas as colunas presentes no DF"
   ]
  },
  {
   "cell_type": "code",
   "execution_count": 12,
   "id": "89eab85f-c544-4a99-9600-3c51da117bcd",
   "metadata": {
    "collapsed": true,
    "jupyter": {
     "outputs_hidden": true
    },
    "tags": []
   },
   "outputs": [
    {
     "data": {
      "text/plain": [
       "['1900.0',\n",
       " '1929.0',\n",
       " '1931.0',\n",
       " '1933.0',\n",
       " '1934.0',\n",
       " '1935.0',\n",
       " '1936.0',\n",
       " '1937.0',\n",
       " '1938.0',\n",
       " '1939.0',\n",
       " '1940.0',\n",
       " '1941.0',\n",
       " '1942.0',\n",
       " '1943.0',\n",
       " '1944.0',\n",
       " '1945.0',\n",
       " '1946.0',\n",
       " '1947.0',\n",
       " '1948.0',\n",
       " '1949.0',\n",
       " '1950.0',\n",
       " '1951.0',\n",
       " '1952.0',\n",
       " '1953.0',\n",
       " '1954.0',\n",
       " '1955.0',\n",
       " '1956.0',\n",
       " '1957.0',\n",
       " '1958.0',\n",
       " '1959.0',\n",
       " '1960.0',\n",
       " '1961.0',\n",
       " '1962.0',\n",
       " '1963.0',\n",
       " '1964.0',\n",
       " '1965.0',\n",
       " '1966.0',\n",
       " '1967.0',\n",
       " '1968.0',\n",
       " '1969.0',\n",
       " '1970.0',\n",
       " '1971.0',\n",
       " '1972.0',\n",
       " '1973.0',\n",
       " '1974.0',\n",
       " '1975.0',\n",
       " '1976.0',\n",
       " '1977.0',\n",
       " '1978.0',\n",
       " '1979.0',\n",
       " '1980.0',\n",
       " '1981.0',\n",
       " '1982.0',\n",
       " '1983.0',\n",
       " '1984.0',\n",
       " '1985.0',\n",
       " '1986.0',\n",
       " '1987.0',\n",
       " '1988.0',\n",
       " '1989.0',\n",
       " '1990.0',\n",
       " '1991.0',\n",
       " '1992.0',\n",
       " '1993.0',\n",
       " '1994.0',\n",
       " '1995.0',\n",
       " '1996.0',\n",
       " '1997.0',\n",
       " '1998.0',\n",
       " '1999.0',\n",
       " '2000.0',\n",
       " '2001.0',\n",
       " '2002.0',\n",
       " '2003.0',\n",
       " '2004.0',\n",
       " '2019.0',\n",
       " 'nan']"
      ]
     },
     "execution_count": 12,
     "metadata": {},
     "output_type": "execute_result"
    }
   ],
   "source": [
    "sorted(pd.unique(df_tds['NASCIMENTO']))\n",
    "#pd.unique(df_tds['NASCIMENTO'])"
   ]
  },
  {
   "cell_type": "markdown",
   "id": "b5e9685a-dea7-4bae-9e87-ea04e21167f7",
   "metadata": {
    "tags": []
   },
   "source": [
    "## SOLUCIONANDO INCONSISTÊNCIAS"
   ]
  },
  {
   "cell_type": "raw",
   "id": "45ef3dae-f9ef-4a2a-81ac-9f761d3e9002",
   "metadata": {
    "tags": []
   },
   "source": [
    "**INCONSISTÊNCIAS ENCONTRADAS:**\n",
    "\n",
    "NOME: ' FABIANA MARTINS CORREA', '-'\n",
    "\n",
    "CARGO: '-', '-PROFESSOR DE ENSINO TECNICO - NIVEL I'\n",
    "\n",
    "ADMISSÃO: somente ano de 2021 com dados inteiros '43950'\n",
    "\n",
    "NASCIMENTO: dados como float, 'nan'\n",
    "\n",
    "VENCIMENTOS: números com casas decimais separadas por vírgula, diversos zeros e negativos,' R$-', ' R$-   ', '-R$9,75', '0', '-0.22' \n",
    "\n",
    "ENCARGOS: ' R$-', ' R$-   ', '-1', '-R$2.980,65', '0'\n",
    "\n",
    "BENEFÍCIOS: ' R$-   ', '-0.01', '-1002.63', '-R$272,65', '0'\n",
    "\n",
    "OUTRAS REMUNERAÇÕES: ' ', ' R$-   ', '-1192.29', '-397.43', '0', '0.03'\n",
    "\n",
    "VÍNCULO: 'nan'\n",
    "\n",
    "DETALHE VÍNCULO: 'nan'\n",
    "\n",
    "LIMINAR: '-','[nome e vencimentos ocultos por liminar]', '[nome oculto por liminar]', '[vencimentos oculto por liminar]', 'nan'"
   ]
  },
  {
   "cell_type": "markdown",
   "id": "a5f01a44-1c81-4d5f-bcc5-2b97966a36ba",
   "metadata": {
    "jp-MarkdownHeadingCollapsed": true,
    "tags": []
   },
   "source": [
    "### NOME"
   ]
  },
  {
   "cell_type": "markdown",
   "id": "7f507c13-0761-4555-881d-06a5cec9012b",
   "metadata": {},
   "source": [
    "Foi observado que havia espaço em apenas um nome nesta coluna, que foi solucionado da seguinte maneira:"
   ]
  },
  {
   "cell_type": "code",
   "execution_count": 13,
   "id": "7976a75b-c2f5-4b03-8e55-081a15e1776d",
   "metadata": {
    "tags": []
   },
   "outputs": [],
   "source": [
    "df_tds.NOME.replace(' FABIANA MARTINS CORREA', 'FABIANA MARTINS CORREA', inplace=True)"
   ]
  },
  {
   "cell_type": "markdown",
   "id": "abfff751-0212-4555-bd97-0372ab195924",
   "metadata": {
    "jp-MarkdownHeadingCollapsed": true,
    "tags": []
   },
   "source": [
    "### CARGO"
   ]
  },
  {
   "cell_type": "markdown",
   "id": "8d982654-60a6-432f-9b67-94e7c58fa94a",
   "metadata": {},
   "source": [
    "Foi observado que havia somente um caso de hífen no início de um cargo nesta coluna, que foi solucionado da seguinte maneira:"
   ]
  },
  {
   "cell_type": "code",
   "execution_count": 14,
   "id": "a215fe28-fde2-4cb3-903a-f08f88b52207",
   "metadata": {},
   "outputs": [],
   "source": [
    "df_tds.CARGO.replace('-PROFESSOR DE ENSINO TECNICO - NIVEL I', 'PROFESSOR DE ENSINO TECNICO - NIVEL I', inplace=True)"
   ]
  },
  {
   "cell_type": "markdown",
   "id": "4146db58-6943-4796-b575-a6c79ac6c5e6",
   "metadata": {
    "jp-MarkdownHeadingCollapsed": true,
    "tags": []
   },
   "source": [
    "### ADMISSÃO"
   ]
  },
  {
   "cell_type": "code",
   "execution_count": 15,
   "id": "2afb839d-850a-438b-910c-07e4f80107a3",
   "metadata": {},
   "outputs": [],
   "source": [
    "df_tds.loc[df_tds.ANO == \"2021\", ['ADMISSÃO']] = pd.NA"
   ]
  },
  {
   "cell_type": "markdown",
   "id": "dcae4199-692c-4403-acc9-22c885c05521",
   "metadata": {
    "jp-MarkdownHeadingCollapsed": true,
    "tags": []
   },
   "source": [
    "### NASCIMENTO"
   ]
  },
  {
   "cell_type": "markdown",
   "id": "c69985b9-1ee3-4fbe-bfd4-0fc2c784ab3c",
   "metadata": {},
   "source": [
    "ESCREVER"
   ]
  },
  {
   "cell_type": "code",
   "execution_count": 16,
   "id": "502f5458-3070-4ee2-b08b-d16207201024",
   "metadata": {},
   "outputs": [],
   "source": [
    "df_tds[\"NASCIMENTO\"] = [f[:4] for f in df_tds.loc[:,'NASCIMENTO']]\n",
    "df_tds[\"NASCIMENTO\"] = df_tds[\"NASCIMENTO\"].map(lambda x: x.replace(\"nan\",\"0\"))"
   ]
  },
  {
   "cell_type": "markdown",
   "id": "c12b6245-d985-462a-bf7b-c36907c481ca",
   "metadata": {
    "jp-MarkdownHeadingCollapsed": true,
    "tags": []
   },
   "source": [
    "### VENCIMENTOS"
   ]
  },
  {
   "cell_type": "markdown",
   "id": "035814b4-27bc-42d1-a05b-a0be24abcc35",
   "metadata": {},
   "source": [
    "ESCREVER"
   ]
  },
  {
   "cell_type": "code",
   "execution_count": 17,
   "id": "a1d879c8-1e9d-4587-a305-f9cbcbbcb796",
   "metadata": {
    "tags": []
   },
   "outputs": [],
   "source": [
    "df_tds[\"VENCIMENTOS\"] = [f.strip(\"R\\$\").strip(\"-R\\$\").strip(\" R\\$-\").strip(\" R\\$-   \").strip(\" \") for f in df_tds.loc[:,'VENCIMENTOS']]\n",
    "df_tds[\"VENCIMENTOS\"] = df_tds[\"VENCIMENTOS\"].map(lambda x: x if not \",\" in x else x.replace(\".\",\"\").replace(\",\",\".\"))"
   ]
  },
  {
   "cell_type": "markdown",
   "id": "d537d21f-0b62-4ff6-9055-15214d5fbe86",
   "metadata": {
    "jp-MarkdownHeadingCollapsed": true,
    "tags": []
   },
   "source": [
    "### ENCARGOS"
   ]
  },
  {
   "cell_type": "markdown",
   "id": "d5307901-b8b2-41f0-9638-75d42f7855a7",
   "metadata": {},
   "source": [
    "ESCREVER"
   ]
  },
  {
   "cell_type": "code",
   "execution_count": 18,
   "id": "028abdea-8a9b-4dab-a036-5b7d78046b0a",
   "metadata": {},
   "outputs": [],
   "source": [
    "df_tds[\"ENCARGOS\"] = [f.strip(\"R\\$\").strip(\"-R\\$\").strip(\" R\\$-\").strip(\" R\\$-   \").strip(\" \") for f in df_tds.loc[:,'ENCARGOS']]\n",
    "df_tds[\"ENCARGOS\"] = df_tds[\"ENCARGOS\"].map(lambda x: x if not \",\" in x else x.replace(\".\",\"\").replace(\",\",\".\"))"
   ]
  },
  {
   "cell_type": "markdown",
   "id": "db86da21-8b58-4797-a0c3-a7a266b3edc5",
   "metadata": {
    "jp-MarkdownHeadingCollapsed": true,
    "tags": []
   },
   "source": [
    "### BENEFÍCIOS"
   ]
  },
  {
   "cell_type": "markdown",
   "id": "8dd1d17e-d4fc-4e2b-8a8e-fd36bc38ccf7",
   "metadata": {},
   "source": [
    "ESCREVER"
   ]
  },
  {
   "cell_type": "code",
   "execution_count": 19,
   "id": "65e328c0-c1d3-4a01-a478-80802098c9ce",
   "metadata": {},
   "outputs": [],
   "source": [
    "df_tds[\"BENEFÍCIOS\"] = [f.strip(\"R\\$\").strip(\"-R\\$\").strip(\" R\\$-\").strip(\" R\\$-   \").strip(\" \") for f in df_tds.loc[:,'BENEFÍCIOS']]\n",
    "df_tds[\"BENEFÍCIOS\"] = df_tds[\"BENEFÍCIOS\"].map(lambda x: x if not \",\" in x else x.replace(\".\",\"\").replace(\",\",\".\"))"
   ]
  },
  {
   "cell_type": "markdown",
   "id": "0c75409c-dd89-4939-8437-070a03727cbe",
   "metadata": {
    "jp-MarkdownHeadingCollapsed": true,
    "tags": []
   },
   "source": [
    "### OUTRAS REMUNERAÇÕES"
   ]
  },
  {
   "cell_type": "markdown",
   "id": "98f27304-7712-4c6b-8123-5328d7952760",
   "metadata": {},
   "source": [
    "ESCREVER"
   ]
  },
  {
   "cell_type": "code",
   "execution_count": 20,
   "id": "4fdffaed-56af-40fb-bec9-06a295b22b4c",
   "metadata": {},
   "outputs": [],
   "source": [
    "df_tds[\"OUTRAS REMUNERAÇÕES\"] = [f.strip(\"R\\$\").strip(\"-R\\$\").strip(\" R\\$-\").strip(\" R\\$-   \").strip(\" \") for f in df_tds.loc[:,'OUTRAS REMUNERAÇÕES']]\n",
    "df_tds[\"OUTRAS REMUNERAÇÕES\"] = df_tds[\"OUTRAS REMUNERAÇÕES\"].map(lambda x: x if not \",\" in x else x.replace(\".\",\"\").replace(\",\",\".\"))"
   ]
  },
  {
   "cell_type": "markdown",
   "id": "c3177ac3-e12f-47a1-b51a-47487d49154b",
   "metadata": {
    "jp-MarkdownHeadingCollapsed": true,
    "tags": []
   },
   "source": [
    "### LIMINAR"
   ]
  },
  {
   "cell_type": "markdown",
   "id": "78facef7-5ea3-4981-9b0f-bc521007b395",
   "metadata": {},
   "source": [
    "ESCREVER"
   ]
  },
  {
   "cell_type": "code",
   "execution_count": 21,
   "id": "cb7aa79d-80c4-4d99-a229-bb894a99e389",
   "metadata": {},
   "outputs": [],
   "source": [
    "df_tds[\"LIMINAR\"] = [f.strip(\"[\").strip(\"]\") for f in df_tds.loc[:,'LIMINAR']]"
   ]
  },
  {
   "cell_type": "markdown",
   "id": "8f0a6208-5bbd-4e10-b8ac-27255b21b931",
   "metadata": {
    "tags": []
   },
   "source": [
    "### TRANFORMANDO \"-\", \"nan\", \"\", \" \" EM DADOS NULOS"
   ]
  },
  {
   "cell_type": "code",
   "execution_count": 22,
   "id": "65112c46-1a7f-44d5-8710-c91ebca81b3e",
   "metadata": {},
   "outputs": [],
   "source": [
    "df_tds.replace(['-','nan','',' '], pd.NA, inplace=True)"
   ]
  },
  {
   "cell_type": "markdown",
   "id": "d0c61438-4267-4f36-84c9-6c14f5104fda",
   "metadata": {
    "jp-MarkdownHeadingCollapsed": true,
    "tags": []
   },
   "source": [
    "# TRANSFORMAÇÃO DE DADOS"
   ]
  },
  {
   "cell_type": "code",
   "execution_count": 23,
   "id": "84d0e167-013e-42f2-b24c-2677b794321f",
   "metadata": {},
   "outputs": [
    {
     "data": {
      "text/plain": [
       "EMPRESA                object\n",
       "MÊS                    object\n",
       "ANO                    object\n",
       "NOME                   object\n",
       "CARGO                  object\n",
       "LOTAÇÃO                object\n",
       "ADMISSÃO               object\n",
       "NASCIMENTO             object\n",
       "VENCIMENTOS            object\n",
       "ENCARGOS               object\n",
       "BENEFÍCIOS             object\n",
       "OUTRAS REMUNERAÇÕES    object\n",
       "VÍNCULO                object\n",
       "DETALHE VÍNCULO        object\n",
       "LIMINAR                object\n",
       "dtype: object"
      ]
     },
     "execution_count": 23,
     "metadata": {},
     "output_type": "execute_result"
    }
   ],
   "source": [
    "df_tds.dtypes"
   ]
  },
  {
   "cell_type": "code",
   "execution_count": 24,
   "id": "3984ac2a-b087-4e7b-ac78-a81119470197",
   "metadata": {},
   "outputs": [],
   "source": [
    "#TRANSFORMAR COLUNAS PARA INT\n",
    "colunas_int = [\"MÊS\",\"ANO\",\"NASCIMENTO\"]\n",
    "\n",
    "for C in colunas_int:\n",
    "    df_tds[C] = pd.to_numeric(df_tds[C])\n",
    "    \n",
    "#COLUNAS PARA FLOAT\n",
    "colunas_float = [\"VENCIMENTOS\",\"ENCARGOS\",\"BENEFÍCIOS\",\"OUTRAS REMUNERAÇÕES\"]\n",
    "\n",
    "for C in colunas_float:\n",
    "    df_tds[C] = pd.to_numeric(df_tds[C])\n",
    "\n",
    "#COLUNA PARA DATATIME\n",
    "df_tds[\"ADMISSÃO\"] = pd.to_datetime(df_tds[\"ADMISSÃO\"])\n"
   ]
  },
  {
   "cell_type": "code",
   "execution_count": 25,
   "id": "d5d03fe1-4478-46ac-b5d3-a8eae9bc29c1",
   "metadata": {},
   "outputs": [
    {
     "data": {
      "text/plain": [
       "EMPRESA                        object\n",
       "MÊS                             int64\n",
       "ANO                             int64\n",
       "NOME                           object\n",
       "CARGO                          object\n",
       "LOTAÇÃO                        object\n",
       "ADMISSÃO               datetime64[ns]\n",
       "NASCIMENTO                      int64\n",
       "VENCIMENTOS                   float64\n",
       "ENCARGOS                      float64\n",
       "BENEFÍCIOS                    float64\n",
       "OUTRAS REMUNERAÇÕES           float64\n",
       "VÍNCULO                        object\n",
       "DETALHE VÍNCULO                object\n",
       "LIMINAR                        object\n",
       "dtype: object"
      ]
     },
     "execution_count": 25,
     "metadata": {},
     "output_type": "execute_result"
    }
   ],
   "source": [
    "df_tds.dtypes"
   ]
  },
  {
   "cell_type": "markdown",
   "id": "38043f13-2d45-45cd-9436-a1bb72d05b7c",
   "metadata": {
    "tags": []
   },
   "source": [
    "# PANDERA"
   ]
  },
  {
   "cell_type": "code",
   "execution_count": 26,
   "id": "3b532a44-6154-47ff-bbe3-02dfffdb5e75",
   "metadata": {},
   "outputs": [],
   "source": [
    "schema = pa.DataFrameSchema(\n",
    "    columns = {\n",
    "        \"EMPRESA\":pa.Column(pa.String,pa.Check.str_length(2,15)),\n",
    "        \"MÊS\":pa.Column(pa.Int),\n",
    "        \"ANO\":pa.Column(pa.Int),\n",
    "        \"NOME\":pa.Column(pa.String,pa.Check.str_length(0,150), nullable=True),\n",
    "        \"CARGO\":pa.Column(pa.String,pa.Check.str_length(0,100), nullable=True),\n",
    "        \"LOTAÇÃO\":pa.Column(pa.String,pa.Check.str_length(0,100), nullable=True),\n",
    "        \"ADMISSÃO\":pa.Column(pa.DateTime, nullable=True),\n",
    "        \"NASCIMENTO\":pa.Column(pa.Int, nullable=True),\n",
    "        \"VENCIMENTOS\":pa.Column(pa.Float, nullable=True),\n",
    "        \"ENCARGOS\":pa.Column(pa.Float, nullable=True),\n",
    "        \"BENEFÍCIOS\":pa.Column(pa.Float, nullable=True),\n",
    "        \"OUTRAS REMUNERAÇÕES\":pa.Column(pa.Float, nullable=True),\n",
    "        \"VÍNCULO\":pa.Column(pa.String,pa.Check.str_length(0,100), nullable=True),\n",
    "        \"DETALHE VÍNCULO\":pa.Column(pa.String,pa.Check.str_length(0,100), nullable=True),\n",
    "        \"LIMINAR\":pa.Column(pa.String,pa.Check.str_length(0,100), nullable=True)\n",
    "    }\n",
    ")"
   ]
  },
  {
   "cell_type": "code",
   "execution_count": 27,
   "id": "2953d53e-0b97-4073-a0ce-aea8907f835f",
   "metadata": {
    "tags": []
   },
   "outputs": [
    {
     "data": {
      "text/html": [
       "<div>\n",
       "<style scoped>\n",
       "    .dataframe tbody tr th:only-of-type {\n",
       "        vertical-align: middle;\n",
       "    }\n",
       "\n",
       "    .dataframe tbody tr th {\n",
       "        vertical-align: top;\n",
       "    }\n",
       "\n",
       "    .dataframe thead th {\n",
       "        text-align: right;\n",
       "    }\n",
       "</style>\n",
       "<table border=\"1\" class=\"dataframe\">\n",
       "  <thead>\n",
       "    <tr style=\"text-align: right;\">\n",
       "      <th></th>\n",
       "      <th>EMPRESA</th>\n",
       "      <th>MÊS</th>\n",
       "      <th>ANO</th>\n",
       "      <th>NOME</th>\n",
       "      <th>CARGO</th>\n",
       "      <th>LOTAÇÃO</th>\n",
       "      <th>ADMISSÃO</th>\n",
       "      <th>NASCIMENTO</th>\n",
       "      <th>VENCIMENTOS</th>\n",
       "      <th>ENCARGOS</th>\n",
       "      <th>BENEFÍCIOS</th>\n",
       "      <th>OUTRAS REMUNERAÇÕES</th>\n",
       "      <th>VÍNCULO</th>\n",
       "      <th>DETALHE VÍNCULO</th>\n",
       "      <th>LIMINAR</th>\n",
       "    </tr>\n",
       "  </thead>\n",
       "  <tbody>\n",
       "    <tr>\n",
       "      <th>0</th>\n",
       "      <td>ADESAMPA</td>\n",
       "      <td>1</td>\n",
       "      <td>2020</td>\n",
       "      <td>ALESSANDRA SERAPOMBA A. BRAYN</td>\n",
       "      <td>Sup. Adm Financeiro</td>\n",
       "      <td>SEDE</td>\n",
       "      <td>2019-02-06</td>\n",
       "      <td>1974</td>\n",
       "      <td>5964.83</td>\n",
       "      <td>2656.28</td>\n",
       "      <td>625.01</td>\n",
       "      <td>0.0</td>\n",
       "      <td>CLT: contrato por tempo indeterminado</td>\n",
       "      <td>Não concursado ocupante de cargo em comissão</td>\n",
       "      <td>&lt;NA&gt;</td>\n",
       "    </tr>\n",
       "    <tr>\n",
       "      <th>1</th>\n",
       "      <td>ADESAMPA</td>\n",
       "      <td>1</td>\n",
       "      <td>2020</td>\n",
       "      <td>ALINE DIAS MARTINS</td>\n",
       "      <td>Analista I</td>\n",
       "      <td>SEDE</td>\n",
       "      <td>2018-04-02</td>\n",
       "      <td>1987</td>\n",
       "      <td>4906.81</td>\n",
       "      <td>2152.80</td>\n",
       "      <td>777.26</td>\n",
       "      <td>0.0</td>\n",
       "      <td>CLT: contrato por tempo indeterminado</td>\n",
       "      <td>Não concursado NÃO ocupante de cargo em comissão</td>\n",
       "      <td>&lt;NA&gt;</td>\n",
       "    </tr>\n",
       "    <tr>\n",
       "      <th>2</th>\n",
       "      <td>ADESAMPA</td>\n",
       "      <td>1</td>\n",
       "      <td>2020</td>\n",
       "      <td>ANA MARIA M. CAIRES</td>\n",
       "      <td>Gestor(a) de Recursos Humanos</td>\n",
       "      <td>SEDE</td>\n",
       "      <td>2016-03-14</td>\n",
       "      <td>1961</td>\n",
       "      <td>4439.44</td>\n",
       "      <td>2466.83</td>\n",
       "      <td>974.68</td>\n",
       "      <td>0.0</td>\n",
       "      <td>CLT: contrato por tempo indeterminado</td>\n",
       "      <td>Não concursado NÃO ocupante de cargo em comissão</td>\n",
       "      <td>&lt;NA&gt;</td>\n",
       "    </tr>\n",
       "    <tr>\n",
       "      <th>3</th>\n",
       "      <td>ADESAMPA</td>\n",
       "      <td>1</td>\n",
       "      <td>2020</td>\n",
       "      <td>ANA PAULA DE BARROS RODRIGUES</td>\n",
       "      <td>Sup. Relações Institucionais</td>\n",
       "      <td>SEDE</td>\n",
       "      <td>2019-02-04</td>\n",
       "      <td>1982</td>\n",
       "      <td>10613.94</td>\n",
       "      <td>4843.80</td>\n",
       "      <td>946.25</td>\n",
       "      <td>0.0</td>\n",
       "      <td>CLT: contrato por tempo indeterminado</td>\n",
       "      <td>Não concursado ocupante de cargo em comissão</td>\n",
       "      <td>&lt;NA&gt;</td>\n",
       "    </tr>\n",
       "    <tr>\n",
       "      <th>4</th>\n",
       "      <td>ADESAMPA</td>\n",
       "      <td>1</td>\n",
       "      <td>2020</td>\n",
       "      <td>ARMANDO DE ALMEIDA P.JUNIOR</td>\n",
       "      <td>Assessor III</td>\n",
       "      <td>SEDE</td>\n",
       "      <td>2018-08-01</td>\n",
       "      <td>1982</td>\n",
       "      <td>8027.08</td>\n",
       "      <td>3588.00</td>\n",
       "      <td>772.73</td>\n",
       "      <td>0.0</td>\n",
       "      <td>CLT: contrato por tempo indeterminado</td>\n",
       "      <td>Não concursado ocupante de cargo em comissão</td>\n",
       "      <td>&lt;NA&gt;</td>\n",
       "    </tr>\n",
       "    <tr>\n",
       "      <th>...</th>\n",
       "      <td>...</td>\n",
       "      <td>...</td>\n",
       "      <td>...</td>\n",
       "      <td>...</td>\n",
       "      <td>...</td>\n",
       "      <td>...</td>\n",
       "      <td>...</td>\n",
       "      <td>...</td>\n",
       "      <td>...</td>\n",
       "      <td>...</td>\n",
       "      <td>...</td>\n",
       "      <td>...</td>\n",
       "      <td>...</td>\n",
       "      <td>...</td>\n",
       "      <td>...</td>\n",
       "    </tr>\n",
       "    <tr>\n",
       "      <th>491432</th>\n",
       "      <td>TMSP</td>\n",
       "      <td>8</td>\n",
       "      <td>2021</td>\n",
       "      <td>RICARDO MASSAHAKU FUKUDA</td>\n",
       "      <td>PROFESSOR DE ORQUESTRA</td>\n",
       "      <td>Diretoria de Formação</td>\n",
       "      <td>NaT</td>\n",
       "      <td>1963</td>\n",
       "      <td>0.00</td>\n",
       "      <td>0.00</td>\n",
       "      <td>431.86</td>\n",
       "      <td>0.0</td>\n",
       "      <td>Servidor público cedido por outro ente: Servid...</td>\n",
       "      <td>Concursado NÃO ocupante de cargo em comissão</td>\n",
       "      <td>&lt;NA&gt;</td>\n",
       "    </tr>\n",
       "    <tr>\n",
       "      <th>491433</th>\n",
       "      <td>TMSP</td>\n",
       "      <td>8</td>\n",
       "      <td>2021</td>\n",
       "      <td>ROBERTO ALVES RODRIGUES DE ARAUJO</td>\n",
       "      <td>PROFESSOR DE ORQUESTRA</td>\n",
       "      <td>Diretoria de Formação</td>\n",
       "      <td>NaT</td>\n",
       "      <td>1964</td>\n",
       "      <td>0.00</td>\n",
       "      <td>0.00</td>\n",
       "      <td>431.86</td>\n",
       "      <td>0.0</td>\n",
       "      <td>Servidor público cedido por outro ente: Servid...</td>\n",
       "      <td>Concursado NÃO ocupante de cargo em comissão</td>\n",
       "      <td>&lt;NA&gt;</td>\n",
       "    </tr>\n",
       "    <tr>\n",
       "      <th>491434</th>\n",
       "      <td>TMSP</td>\n",
       "      <td>8</td>\n",
       "      <td>2021</td>\n",
       "      <td>SAMANTHA VALENCIO</td>\n",
       "      <td>ASSESSOR TECNICO</td>\n",
       "      <td>Gabinete do Diretor</td>\n",
       "      <td>NaT</td>\n",
       "      <td>1983</td>\n",
       "      <td>880.74</td>\n",
       "      <td>0.00</td>\n",
       "      <td>979.76</td>\n",
       "      <td>0.0</td>\n",
       "      <td>Servidor público cedido por outro ente: Servid...</td>\n",
       "      <td>Não concursado ocupante de cargo em comissão</td>\n",
       "      <td>&lt;NA&gt;</td>\n",
       "    </tr>\n",
       "    <tr>\n",
       "      <th>491435</th>\n",
       "      <td>TMSP</td>\n",
       "      <td>8</td>\n",
       "      <td>2021</td>\n",
       "      <td>VIVIANE BITTENCOURT</td>\n",
       "      <td>SUPERVISOR TECNICO II</td>\n",
       "      <td>Supervisão de Recursos Humanos</td>\n",
       "      <td>NaT</td>\n",
       "      <td>1974</td>\n",
       "      <td>876.64</td>\n",
       "      <td>0.00</td>\n",
       "      <td>938.70</td>\n",
       "      <td>0.0</td>\n",
       "      <td>Servidor público cedido por outro ente: Servid...</td>\n",
       "      <td>Não concursado ocupante de cargo em comissão</td>\n",
       "      <td>&lt;NA&gt;</td>\n",
       "    </tr>\n",
       "    <tr>\n",
       "      <th>491436</th>\n",
       "      <td>TMSP</td>\n",
       "      <td>8</td>\n",
       "      <td>2021</td>\n",
       "      <td>YARA GONCALVES DE MELO</td>\n",
       "      <td>ASS. GESTÃO POLÍTICAS PÚBLICAS</td>\n",
       "      <td>Diretoria de Formação</td>\n",
       "      <td>NaT</td>\n",
       "      <td>1970</td>\n",
       "      <td>256.68</td>\n",
       "      <td>0.00</td>\n",
       "      <td>1000.30</td>\n",
       "      <td>0.0</td>\n",
       "      <td>Servidor público cedido por outro ente: Servid...</td>\n",
       "      <td>Concursado NÃO ocupante de cargo em comissão</td>\n",
       "      <td>&lt;NA&gt;</td>\n",
       "    </tr>\n",
       "  </tbody>\n",
       "</table>\n",
       "<p>491437 rows × 15 columns</p>\n",
       "</div>"
      ],
      "text/plain": [
       "         EMPRESA  MÊS   ANO                               NOME  \\\n",
       "0       ADESAMPA    1  2020      ALESSANDRA SERAPOMBA A. BRAYN   \n",
       "1       ADESAMPA    1  2020                 ALINE DIAS MARTINS   \n",
       "2       ADESAMPA    1  2020                ANA MARIA M. CAIRES   \n",
       "3       ADESAMPA    1  2020      ANA PAULA DE BARROS RODRIGUES   \n",
       "4       ADESAMPA    1  2020        ARMANDO DE ALMEIDA P.JUNIOR   \n",
       "...          ...  ...   ...                                ...   \n",
       "491432      TMSP    8  2021           RICARDO MASSAHAKU FUKUDA   \n",
       "491433      TMSP    8  2021  ROBERTO ALVES RODRIGUES DE ARAUJO   \n",
       "491434      TMSP    8  2021                  SAMANTHA VALENCIO   \n",
       "491435      TMSP    8  2021                VIVIANE BITTENCOURT   \n",
       "491436      TMSP    8  2021             YARA GONCALVES DE MELO   \n",
       "\n",
       "                                 CARGO                         LOTAÇÃO  \\\n",
       "0                  Sup. Adm Financeiro                            SEDE   \n",
       "1                           Analista I                            SEDE   \n",
       "2        Gestor(a) de Recursos Humanos                            SEDE   \n",
       "3         Sup. Relações Institucionais                            SEDE   \n",
       "4                         Assessor III                            SEDE   \n",
       "...                                ...                             ...   \n",
       "491432          PROFESSOR DE ORQUESTRA           Diretoria de Formação   \n",
       "491433          PROFESSOR DE ORQUESTRA           Diretoria de Formação   \n",
       "491434                ASSESSOR TECNICO             Gabinete do Diretor   \n",
       "491435           SUPERVISOR TECNICO II  Supervisão de Recursos Humanos   \n",
       "491436  ASS. GESTÃO POLÍTICAS PÚBLICAS           Diretoria de Formação   \n",
       "\n",
       "         ADMISSÃO  NASCIMENTO  VENCIMENTOS  ENCARGOS  BENEFÍCIOS  \\\n",
       "0      2019-02-06        1974      5964.83   2656.28      625.01   \n",
       "1      2018-04-02        1987      4906.81   2152.80      777.26   \n",
       "2      2016-03-14        1961      4439.44   2466.83      974.68   \n",
       "3      2019-02-04        1982     10613.94   4843.80      946.25   \n",
       "4      2018-08-01        1982      8027.08   3588.00      772.73   \n",
       "...           ...         ...          ...       ...         ...   \n",
       "491432        NaT        1963         0.00      0.00      431.86   \n",
       "491433        NaT        1964         0.00      0.00      431.86   \n",
       "491434        NaT        1983       880.74      0.00      979.76   \n",
       "491435        NaT        1974       876.64      0.00      938.70   \n",
       "491436        NaT        1970       256.68      0.00     1000.30   \n",
       "\n",
       "        OUTRAS REMUNERAÇÕES  \\\n",
       "0                       0.0   \n",
       "1                       0.0   \n",
       "2                       0.0   \n",
       "3                       0.0   \n",
       "4                       0.0   \n",
       "...                     ...   \n",
       "491432                  0.0   \n",
       "491433                  0.0   \n",
       "491434                  0.0   \n",
       "491435                  0.0   \n",
       "491436                  0.0   \n",
       "\n",
       "                                                  VÍNCULO  \\\n",
       "0                   CLT: contrato por tempo indeterminado   \n",
       "1                   CLT: contrato por tempo indeterminado   \n",
       "2                   CLT: contrato por tempo indeterminado   \n",
       "3                   CLT: contrato por tempo indeterminado   \n",
       "4                   CLT: contrato por tempo indeterminado   \n",
       "...                                                   ...   \n",
       "491432  Servidor público cedido por outro ente: Servid...   \n",
       "491433  Servidor público cedido por outro ente: Servid...   \n",
       "491434  Servidor público cedido por outro ente: Servid...   \n",
       "491435  Servidor público cedido por outro ente: Servid...   \n",
       "491436  Servidor público cedido por outro ente: Servid...   \n",
       "\n",
       "                                         DETALHE VÍNCULO LIMINAR  \n",
       "0           Não concursado ocupante de cargo em comissão    <NA>  \n",
       "1       Não concursado NÃO ocupante de cargo em comissão    <NA>  \n",
       "2       Não concursado NÃO ocupante de cargo em comissão    <NA>  \n",
       "3           Não concursado ocupante de cargo em comissão    <NA>  \n",
       "4           Não concursado ocupante de cargo em comissão    <NA>  \n",
       "...                                                  ...     ...  \n",
       "491432      Concursado NÃO ocupante de cargo em comissão    <NA>  \n",
       "491433      Concursado NÃO ocupante de cargo em comissão    <NA>  \n",
       "491434      Não concursado ocupante de cargo em comissão    <NA>  \n",
       "491435      Não concursado ocupante de cargo em comissão    <NA>  \n",
       "491436      Concursado NÃO ocupante de cargo em comissão    <NA>  \n",
       "\n",
       "[491437 rows x 15 columns]"
      ]
     },
     "execution_count": 27,
     "metadata": {},
     "output_type": "execute_result"
    }
   ],
   "source": [
    "schema.validate(df_tds)"
   ]
  },
  {
   "cell_type": "markdown",
   "id": "eb3b9633-73c4-4eff-ade1-0fb17250fa96",
   "metadata": {
    "tags": []
   },
   "source": [
    "# OTIMIZAÇÃO DE MEMÓRIA"
   ]
  },
  {
   "cell_type": "code",
   "execution_count": 33,
   "id": "3327f7e8-087b-459c-9b75-e6ac5f21b691",
   "metadata": {},
   "outputs": [],
   "source": [
    "df_obj = df_tds.select_dtypes('object')"
   ]
  },
  {
   "cell_type": "code",
   "execution_count": null,
   "id": "fd4b2b01-266d-4848-9ef1-2cb6ecc0f2e3",
   "metadata": {},
   "outputs": [],
   "source": [
    "# Instanciando um novo DF\n",
    "converted_obj = pd.DataFrame()\n",
    "# Iterar em cada coluna no DF de dtype = OBJECT\n",
    "for col in df_obj.columns:\n",
    "    # Contar numero de valores unicos\n",
    "    num_unique_values = len(df_obj[col].unique())\n",
    "    # Contar o numero total de valores\n",
    "    num_total_values = len(df_obj[col])\n",
    "    # Se os valores unicos forem menores que 50% do total...\n",
    "    if num_unique_values / num_total_values < 0.5:\n",
    "        converted_obj.loc[:,col] = df_obj[col].astype('category')\n",
    "    # Se nao forem, permanecem os mesmos."
   ]
  },
  {
   "cell_type": "code",
   "execution_count": 31,
   "id": "e5b73814-081c-4b19-966b-a7a5b130d36f",
   "metadata": {},
   "outputs": [],
   "source": [
    "#OTIMIZAR COLUNAS STR\n",
    "colunas_str = [\"EMPRESA\",\"NOME\",\"CARGO\",\"LOTAÇÃO\",\"VÍNCULO\",\"DETALHE VÍNCULO\",\"LIMINAR\"]\n",
    "\n",
    "for C in colunas_int:\n",
    "    df_tds[C] = pd.to_numeric(df_tds[C], downcast='unsigned')\n",
    "\n",
    "#OTIMIZAR COLUNAS INT\n",
    "colunas_int = [\"MÊS\",\"ANO\",\"NASCIMENTO\"]\n",
    "\n",
    "for C in colunas_int:\n",
    "    df_tds[C] = pd.to_numeric(df_tds[C], downcast='unsigned')\n",
    "    \n",
    "#OTIMIZAR COLUNAS FLOAT\n",
    "colunas_float = [\"VENCIMENTOS\",\"ENCARGOS\",\"BENEFÍCIOS\",\"OUTRAS REMUNERAÇÕES\"]\n",
    "\n",
    "for C in colunas_float:\n",
    "    df_tds[C] = pd.to_numeric(df_tds[C], downcast='unsigned')"
   ]
  },
  {
   "cell_type": "code",
   "execution_count": 32,
   "id": "a69077a0-12df-4f65-b1d5-1aa3f5d21460",
   "metadata": {},
   "outputs": [
    {
     "data": {
      "text/plain": [
       "EMPRESA                        object\n",
       "MÊS                             uint8\n",
       "ANO                            uint16\n",
       "NOME                           object\n",
       "CARGO                          object\n",
       "LOTAÇÃO                        object\n",
       "ADMISSÃO               datetime64[ns]\n",
       "NASCIMENTO                     uint16\n",
       "VENCIMENTOS                   float64\n",
       "ENCARGOS                      float64\n",
       "BENEFÍCIOS                    float64\n",
       "OUTRAS REMUNERAÇÕES           float64\n",
       "VÍNCULO                        object\n",
       "DETALHE VÍNCULO                object\n",
       "LIMINAR                        object\n",
       "dtype: object"
      ]
     },
     "execution_count": 32,
     "metadata": {},
     "output_type": "execute_result"
    }
   ],
   "source": [
    "df_tds.dtypes"
   ]
  },
  {
   "cell_type": "markdown",
   "id": "eda3b4e7-fb6a-491e-9fd5-2b20c293ffe7",
   "metadata": {
    "jp-MarkdownHeadingCollapsed": true,
    "tags": []
   },
   "source": [
    "# Exportação para extensão Parquet"
   ]
  },
  {
   "cell_type": "code",
   "execution_count": 30,
   "id": "7c2676f0-a605-4207-abc4-054c8a525908",
   "metadata": {},
   "outputs": [],
   "source": [
    "#df.to_parquet"
   ]
  }
 ],
 "metadata": {
  "environment": {
   "kernel": "python3",
   "name": "tf2-gpu.2-6.m84",
   "type": "gcloud",
   "uri": "gcr.io/deeplearning-platform-release/tf2-gpu.2-6:m84"
  },
  "kernelspec": {
   "display_name": "Python 3",
   "language": "python",
   "name": "python3"
  },
  "language_info": {
   "codemirror_mode": {
    "name": "ipython",
    "version": 3
   },
   "file_extension": ".py",
   "mimetype": "text/x-python",
   "name": "python",
   "nbconvert_exporter": "python",
   "pygments_lexer": "ipython3",
   "version": "3.7.12"
  },
  "toc-autonumbering": true,
  "toc-showcode": false,
  "toc-showmarkdowntxt": true
 },
 "nbformat": 4,
 "nbformat_minor": 5
}
