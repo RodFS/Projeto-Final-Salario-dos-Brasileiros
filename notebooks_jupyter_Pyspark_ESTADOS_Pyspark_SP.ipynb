{
 "cells": [
  {
   "cell_type": "markdown",
   "id": "813bbd82-7f48-458f-8228-5faaeb24c4cc",
   "metadata": {},
   "source": [
    "# IMPORTAÇÃO DAS BIBLIOTECAS"
   ]
  },
  {
   "cell_type": "code",
   "execution_count": 1,
   "id": "5d931f0d-707b-4144-b3c5-82823a6a3cc2",
   "metadata": {},
   "outputs": [],
   "source": [
    "from pyspark.sql import SparkSession\n",
    "from pyspark.sql.functions import *\n",
    "from pyspark.sql.types import *\n",
    "from pyspark.sql.window import Window as W"
   ]
  },
  {
   "cell_type": "markdown",
   "id": "564878f0-eaec-4b34-8844-a3af8e8f1815",
   "metadata": {},
   "source": [
    "# CRIAÇÃO DA SPARK SESSION"
   ]
  },
  {
   "cell_type": "code",
   "execution_count": null,
   "id": "dccbd539-fb4f-43a1-a8ba-6ff67f12c065",
   "metadata": {},
   "outputs": [],
   "source": [
    "spark = (SparkSession.builder\n",
    "        .master(\"local\")\n",
    "        .appName(\"Pyspark_SP\")\n",
    "        .config(\"spark.ui.port\", \"4050\")\n",
    "        .getOrCreate()\n",
    "        )"
   ]
  },
  {
   "cell_type": "code",
   "execution_count": 3,
   "id": "45c29d35-c482-425a-8112-56a2cfd02299",
   "metadata": {},
   "outputs": [
    {
     "data": {
      "text/html": [
       "\n",
       "            <div>\n",
       "                <p><b>SparkSession - hive</b></p>\n",
       "                \n",
       "        <div>\n",
       "            <p><b>SparkContext</b></p>\n",
       "\n",
       "            <p><a href=\"http://pyspark-cluster-m.southamerica-east1-a.c.salario-brasileiro.internal:4054\">Spark UI</a></p>\n",
       "\n",
       "            <dl>\n",
       "              <dt>Version</dt>\n",
       "                <dd><code>v3.1.2</code></dd>\n",
       "              <dt>Master</dt>\n",
       "                <dd><code>local</code></dd>\n",
       "              <dt>AppName</dt>\n",
       "                <dd><code>Pyspark_SP</code></dd>\n",
       "            </dl>\n",
       "        </div>\n",
       "        \n",
       "            </div>\n",
       "        "
      ],
      "text/plain": [
       "<pyspark.sql.session.SparkSession at 0x7f15f51b3be0>"
      ]
     },
     "execution_count": 3,
     "metadata": {},
     "output_type": "execute_result"
    }
   ],
   "source": [
    "spark"
   ]
  },
  {
   "cell_type": "markdown",
   "id": "e03ab8e6-48f8-4bd5-8c35-ca4e94e061a9",
   "metadata": {},
   "source": [
    "# EXTRAÇÃO DE DADOS DE SP"
   ]
  },
  {
   "cell_type": "code",
   "execution_count": 24,
   "id": "8384fe54-e2a0-4fb8-9dc4-ba83b9994821",
   "metadata": {
    "tags": []
   },
   "outputs": [],
   "source": [
    "df_SP = spark.read.parquet(\"gs://projeto_final_2021/pandas_to_parquet/SP_parquet/df_SP.snappy\")"
   ]
  },
  {
   "cell_type": "code",
   "execution_count": 25,
   "id": "052aa70f-337a-44e2-be54-b4a488b22269",
   "metadata": {},
   "outputs": [
    {
     "name": "stdout",
     "output_type": "stream",
     "text": [
      "+--------+---+----+--------------------+--------------------+--------------+-------------------+----------+-----------+--------+----------+-------------------+--------------------+--------------------+-------+\n",
      "| EMPRESA|MÊS| ANO|                NOME|               CARGO|       LOTAÇÃO|           ADMISSÃO|NASCIMENTO|VENCIMENTOS|ENCARGOS|BENEFÍCIOS|OUTRAS_REMUNERAÇÕES|             VÍNCULO|     DETALHE_VÍNCULO|LIMINAR|\n",
      "+--------+---+----+--------------------+--------------------+--------------+-------------------+----------+-----------+--------+----------+-------------------+--------------------+--------------------+-------+\n",
      "|ADESAMPA|  1|2020|ALESSANDRA SERAPO...| Sup. Adm Financeiro|          SEDE|2019-02-06 00:00:00|      1974|    5964.83| 2656.28|    625.01|                0.0|CLT: contrato por...|Não concursado oc...|   null|\n",
      "|ADESAMPA|  1|2020|  ALINE DIAS MARTINS|          Analista I|          SEDE|2018-04-02 00:00:00|      1987|    4906.81|  2152.8|    777.26|                0.0|CLT: contrato por...|Não concursado NÃ...|   null|\n",
      "|ADESAMPA|  1|2020| ANA MARIA M. CAIRES|Gestor(a) de Recu...|          SEDE|2016-03-14 00:00:00|      1961|    4439.44| 2466.83|    974.68|                0.0|CLT: contrato por...|Não concursado NÃ...|   null|\n",
      "|ADESAMPA|  1|2020|ANA PAULA DE BARR...|Sup. Relações Ins...|          SEDE|2019-02-04 00:00:00|      1982|   10613.94|  4843.8|    946.25|                0.0|CLT: contrato por...|Não concursado oc...|   null|\n",
      "|ADESAMPA|  1|2020|ARMANDO DE ALMEID...|        Assessor III|          SEDE|2018-08-01 00:00:00|      1982|    8027.08|  3588.0|    772.73|                0.0|CLT: contrato por...|Não concursado oc...|   null|\n",
      "|ADESAMPA|  1|2020|   ARY SCAPIN JUNIOR| Gerente de Projetos|          SEDE|2018-10-01 00:00:00|      1961|    9053.81|  4126.2|    727.23|                0.0|CLT: contrato por...|Não concursado oc...|   null|\n",
      "|ADESAMPA|  1|2020|BIANCA M. M. N. S...|         Analista II|          SEDE|2018-04-09 00:00:00|      1987|    6414.81|  2870.4|     426.8|                0.0|CLT: contrato por...|Não concursado NÃ...|   null|\n",
      "|ADESAMPA|  1|2020|  CAROLINA S. ATTILI|Agente de Desenvo...|    VILA MARIA|2017-02-20 00:00:00|      1990|    2524.14|  1076.4|     957.1|                0.0|CLT: contrato por...|Não concursado NÃ...|   null|\n",
      "|ADESAMPA|  1|2020|CINTIA G. SIQUEIR...|       Assistente II|          SEDE|2019-10-29 00:00:00|      1987|    2739.78|  1076.4|   1118.13|                0.0|CLT: contrato por...|Não concursado NÃ...|   null|\n",
      "|ADESAMPA|  1|2020|    DAIANE FARO ZUNO|         Assessor II|          SEDE|2019-06-03 00:00:00|      1973|    6466.94|  2870.4|     426.8|                0.0|CLT: contrato por...|Não concursado oc...|   null|\n",
      "|ADESAMPA|  1|2020|DANIELA FREIRE SO...|          Analista I|          SEDE|2016-05-16 00:00:00|      1989|     2023.7| 2607.28|    425.21|                0.0|CLT: contrato por...|Não concursado NÃ...|   null|\n",
      "|ADESAMPA|  1|2020|EVERTON CARLOS PR...|        Assessor III|          SEDE|2016-04-01 00:00:00|      1976|    6698.02|  3890.2|    657.59|                0.0|CLT: contrato por...|Não concursado oc...|   null|\n",
      "|ADESAMPA|  1|2020|GLEICE AP. DOS SA...|Agente de Desenvo...|ITAIM PAULISTA|2017-02-03 00:00:00|      1987|    2711.34|  1076.4|    795.24|                0.0|CLT: contrato por...|Não concursado NÃ...|   null|\n",
      "|ADESAMPA|  1|2020|JESSICA S. CERQUEIRA|          Analista I|          SEDE|2016-06-01 00:00:00|      1992|    4906.81|  2152.8|    752.26|                0.0|CLT: contrato por...|Não concursado NÃ...|   null|\n",
      "|ADESAMPA|  1|2020|JESSIKA P. FERNANDES| Gerente de Projetos|          SEDE|2018-04-18 00:00:00|      1991|    9053.81|  4126.2|    677.15|                0.0|CLT: contrato por...|Não concursado oc...|   null|\n",
      "|ADESAMPA|  1|2020|BRUNA PEREIRA PONTES|            Aprendiz|          SEDE|2019-03-18 00:00:00|      2001|     893.54|  296.12|    627.88|                0.0|       CLT: aprendiz|Não concursado NÃ...|   null|\n",
      "|ADESAMPA|  1|2020|FREDERICO ANASTAC...|  Diretor Presidente|          SEDE|2018-12-11 00:00:00|      1971|   14520.31|     0.0|       0.0|                0.0|Estatutário: dire...|Não concursado oc...|   null|\n",
      "|ADESAMPA|  1|2020| PAULO M. T. RIBEIRO|             Diretor|          SEDE|2018-04-11 00:00:00|      1972|   13899.58|     0.0|    377.79|                0.0|Estatutário: dire...|Não concursado oc...|   null|\n",
      "|ADESAMPA|  1|2020|JOSÉ CARLOS CALLE...|        Assessor III|          SEDE|2018-03-12 00:00:00|      1985|    7922.81|  3588.0|    772.73|                0.0|CLT: contrato por...|Não concursado oc...|   null|\n",
      "|ADESAMPA|  1|2020|JULIANA CRISTINA ...|Agente de Desenvo...|          SEDE|2019-05-02 00:00:00|      1990|    2711.34|  1076.4|     426.8|                0.0|CLT: contrato por...|Não concursado NÃ...|   null|\n",
      "+--------+---+----+--------------------+--------------------+--------------+-------------------+----------+-----------+--------+----------+-------------------+--------------------+--------------------+-------+\n",
      "only showing top 20 rows\n",
      "\n"
     ]
    }
   ],
   "source": [
    "df_SP.show()"
   ]
  },
  {
   "cell_type": "code",
   "execution_count": 26,
   "id": "546ab694-291d-41ec-96dc-d6d5d4953132",
   "metadata": {},
   "outputs": [
    {
     "name": "stdout",
     "output_type": "stream",
     "text": [
      "root\n",
      " |-- EMPRESA: string (nullable = true)\n",
      " |-- MÊS: byte (nullable = true)\n",
      " |-- ANO: short (nullable = true)\n",
      " |-- NOME: string (nullable = true)\n",
      " |-- CARGO: string (nullable = true)\n",
      " |-- LOTAÇÃO: string (nullable = true)\n",
      " |-- ADMISSÃO: timestamp (nullable = true)\n",
      " |-- NASCIMENTO: short (nullable = true)\n",
      " |-- VENCIMENTOS: float (nullable = true)\n",
      " |-- ENCARGOS: float (nullable = true)\n",
      " |-- BENEFÍCIOS: float (nullable = true)\n",
      " |-- OUTRAS_REMUNERAÇÕES: float (nullable = true)\n",
      " |-- VÍNCULO: string (nullable = true)\n",
      " |-- DETALHE_VÍNCULO: string (nullable = true)\n",
      " |-- LIMINAR: string (nullable = true)\n",
      "\n"
     ]
    }
   ],
   "source": [
    "df_SP.printSchema()"
   ]
  },
  {
   "cell_type": "markdown",
   "id": "8e55f123-e2d9-4c87-9c5d-e54d1015e5f4",
   "metadata": {
    "toc-hr-collapsed": true
   },
   "source": [
    "# ORDENANDO, CRIANDO E ALTERANDO COLUNAS\n",
    "\n",
    "Etapa importante para a futura concatenação de ambos os estados."
   ]
  },
  {
   "cell_type": "code",
   "execution_count": 27,
   "id": "a5ec1c41-2fde-4c21-a11f-9aa7618dbdcd",
   "metadata": {},
   "outputs": [
    {
     "data": {
      "text/plain": [
       "['EMPRESA',\n",
       " 'MÊS',\n",
       " 'ANO',\n",
       " 'NOME',\n",
       " 'CARGO',\n",
       " 'LOTAÇÃO',\n",
       " 'ADMISSÃO',\n",
       " 'NASCIMENTO',\n",
       " 'VENCIMENTOS',\n",
       " 'ENCARGOS',\n",
       " 'BENEFÍCIOS',\n",
       " 'OUTRAS_REMUNERAÇÕES',\n",
       " 'VÍNCULO',\n",
       " 'DETALHE_VÍNCULO',\n",
       " 'LIMINAR']"
      ]
     },
     "execution_count": 27,
     "metadata": {},
     "output_type": "execute_result"
    }
   ],
   "source": [
    "df_SP.schema.names"
   ]
  },
  {
   "cell_type": "markdown",
   "id": "5ce9f643-d83d-4906-bf6b-65529d60bd73",
   "metadata": {},
   "source": [
    "## CRIAÇÃO DA COLUNA SALARIOLIQUIDO"
   ]
  },
  {
   "cell_type": "code",
   "execution_count": 28,
   "id": "427021a2-0564-48ff-a760-8129b3ed3aec",
   "metadata": {},
   "outputs": [],
   "source": [
    "df_SP = df_SP.fillna(0, subset=['BENEFÍCIOS', 'ENCARGOS'])\n",
    "df_SP = df_SP.withColumn(\"salarioLiquido\",col(\"VENCIMENTOS\") + col(\"BENEFÍCIOS\") - col(\"ENCARGOS\"))"
   ]
  },
  {
   "cell_type": "markdown",
   "id": "aacc398d-0479-43f2-8b38-53b50ed753d1",
   "metadata": {},
   "source": [
    "## FILTRANDO COLUNAS NECESSÁRIAS PARA ANÁLISE\n",
    "\n",
    "Nesta etapa foi necessário criar a coluna de estado para futuras análises"
   ]
  },
  {
   "cell_type": "code",
   "execution_count": 29,
   "id": "42f1fe4b-8ab0-4f75-ad8e-c3f7e189cb35",
   "metadata": {},
   "outputs": [],
   "source": [
    "coletar_colunas = {'MÊS','ANO','NOME','CARGO','VÍNCULO','salarioLiquido'}\n",
    "\n",
    "remover_colunas = list(set(df_SP.schema.names).difference(coletar_colunas))\n",
    "\n",
    "valor = 'SP'\n",
    "\n",
    "df_novo = df_SP.drop(*remover_colunas).withColumn('Estado', lit(valor).cast('string'))"
   ]
  },
  {
   "cell_type": "markdown",
   "id": "ef71267f-a4d8-4aae-8e99-e2a442eecf23",
   "metadata": {},
   "source": [
    "## PADRONIZANDO NOME DAS COLUNAS"
   ]
  },
  {
   "cell_type": "code",
   "execution_count": 30,
   "id": "859ed0a1-4d1a-4d41-bca4-69ff584139c2",
   "metadata": {},
   "outputs": [],
   "source": [
    "#Alterar nome da coluna\n",
    "df_novo = (df_novo.withColumnRenamed('MÊS', 'mes')\n",
    "        .withColumnRenamed('ANO', 'ano')\n",
    "        .withColumnRenamed('NOME', 'nome')\n",
    "        .withColumnRenamed('CARGO', 'cargo')\n",
    "        .withColumnRenamed('VÍNCULO', 'situacao')\n",
    "        .withColumnRenamed('Estado', 'estado')\n",
    ")"
   ]
  },
  {
   "cell_type": "markdown",
   "id": "f8cbfa44-b80e-4582-ae44-ba3df47001b8",
   "metadata": {},
   "source": [
    "## PADRONIZANDO DADOS DA COLUNA SITUACAO"
   ]
  },
  {
   "cell_type": "code",
   "execution_count": 31,
   "id": "e15c002c-01ff-477b-883e-e46891ef5633",
   "metadata": {},
   "outputs": [
    {
     "name": "stdout",
     "output_type": "stream",
     "text": [
      "+---+----+--------------------+--------------------+--------------------+--------------+------+\n",
      "|mes| ano|                nome|               cargo|            situacao|salarioLiquido|estado|\n",
      "+---+----+--------------------+--------------------+--------------------+--------------+------+\n",
      "|  1|2020|ALESSANDRA SERAPO...| Sup. Adm Financeiro|CLT: contrato por...|     3933.5598|    SP|\n",
      "|  1|2020|  ALINE DIAS MARTINS|          Analista I|CLT: contrato por...|     3531.2703|    SP|\n",
      "|  1|2020| ANA MARIA M. CAIRES|Gestor(a) de Recu...|CLT: contrato por...|       2947.29|    SP|\n",
      "|  1|2020|ANA PAULA DE BARR...|Sup. Relações Ins...|CLT: contrato por...|     6716.3906|    SP|\n",
      "|  1|2020|ARMANDO DE ALMEID...|        Assessor III|CLT: contrato por...|     5211.8105|    SP|\n",
      "|  1|2020|   ARY SCAPIN JUNIOR| Gerente de Projetos|CLT: contrato por...|      5654.839|    SP|\n",
      "|  1|2020|BIANCA M. M. N. S...|         Analista II|CLT: contrato por...|       3971.21|    SP|\n",
      "|  1|2020|  CAROLINA S. ATTILI|Agente de Desenvo...|CLT: contrato por...|     2404.8398|    SP|\n",
      "|  1|2020|CINTIA G. SIQUEIR...|       Assistente II|CLT: contrato por...|     2781.5103|    SP|\n",
      "|  1|2020|    DAIANE FARO ZUNO|         Assessor II|CLT: contrato por...|     4023.3398|    SP|\n",
      "|  1|2020|DANIELA FREIRE SO...|          Analista I|CLT: contrato por...|    -158.37012|    SP|\n",
      "|  1|2020|EVERTON CARLOS PR...|        Assessor III|CLT: contrato por...|       3465.41|    SP|\n",
      "|  1|2020|GLEICE AP. DOS SA...|Agente de Desenvo...|CLT: contrato por...|     2430.1802|    SP|\n",
      "|  1|2020|JESSICA S. CERQUEIRA|          Analista I|CLT: contrato por...|     3506.2703|    SP|\n",
      "|  1|2020|JESSIKA P. FERNANDES| Gerente de Projetos|CLT: contrato por...|       5604.76|    SP|\n",
      "|  1|2020|BRUNA PEREIRA PONTES|            Aprendiz|       CLT: aprendiz|     1225.2999|    SP|\n",
      "|  1|2020|FREDERICO ANASTAC...|  Diretor Presidente|Estatutário: dire...|      14520.31|    SP|\n",
      "|  1|2020| PAULO M. T. RIBEIRO|             Diretor|Estatutário: dire...|      14277.37|    SP|\n",
      "|  1|2020|JOSÉ CARLOS CALLE...|        Assessor III|CLT: contrato por...|       5107.54|    SP|\n",
      "|  1|2020|JULIANA CRISTINA ...|Agente de Desenvo...|CLT: contrato por...|     2061.7402|    SP|\n",
      "+---+----+--------------------+--------------------+--------------------+--------------+------+\n",
      "only showing top 20 rows\n",
      "\n"
     ]
    }
   ],
   "source": [
    "df_novo.show()"
   ]
  },
  {
   "cell_type": "code",
   "execution_count": 38,
   "id": "5049a5d3-c467-4ca6-86bb-9cc60db65b63",
   "metadata": {},
   "outputs": [
    {
     "name": "stdout",
     "output_type": "stream",
     "text": [
      "+---+---+----+-----+--------+--------------+------+\n",
      "|mes|ano|nome|cargo|situacao|salarioLiquido|estado|\n",
      "+---+---+----+-----+--------+--------------+------+\n",
      "+---+---+----+-----+--------+--------------+------+\n",
      "\n"
     ]
    }
   ],
   "source": [
    "df_novo.filter(col(\"situacao\").isNull()).show()"
   ]
  },
  {
   "cell_type": "code",
   "execution_count": 35,
   "id": "c693e043-cf17-4ca7-96f9-d12fa23845da",
   "metadata": {},
   "outputs": [],
   "source": [
    "df_novo = (df_novo.withColumn(\"situacao\",\n",
    "                             when(col(\"situacao\") == \"Desligado\", \"INATIVO\")\n",
    "                             .when(col(\"situacao\") == \"Aposentado\", \"INATIVO\")\n",
    "                             .when(col(\"situacao\").isNull(), \"OUTRO\")\n",
    "                             .otherwise(\"ATIVO\")\n",
    "                             )\n",
    "          )"
   ]
  },
  {
   "cell_type": "markdown",
   "id": "b37b90a3-6c5c-4147-9ee0-53577323fd34",
   "metadata": {},
   "source": [
    "## ORDENANDO COLUNAS"
   ]
  },
  {
   "cell_type": "code",
   "execution_count": 39,
   "id": "681bee5a-3753-4552-9f28-5d69397fc271",
   "metadata": {},
   "outputs": [
    {
     "data": {
      "text/plain": [
       "['mes', 'ano', 'nome', 'cargo', 'situacao', 'salarioLiquido', 'estado']"
      ]
     },
     "execution_count": 39,
     "metadata": {},
     "output_type": "execute_result"
    }
   ],
   "source": [
    "df_novo.schema.names"
   ]
  },
  {
   "cell_type": "code",
   "execution_count": 40,
   "id": "ed0a952e-3f59-48df-bcc4-9c4486e38008",
   "metadata": {},
   "outputs": [],
   "source": [
    "df_novo = df_novo.select('mes','ano','nome','cargo','situacao','salarioLiquido','estado')"
   ]
  },
  {
   "cell_type": "markdown",
   "id": "b2fceea0-65ef-48c1-9eed-30849048aaa6",
   "metadata": {},
   "source": [
    "# VISUALIZAÇÃO TABELA FINAL DE SP"
   ]
  },
  {
   "cell_type": "code",
   "execution_count": 41,
   "id": "ccc8495f-2ceb-470f-94da-339d6fb5b8f0",
   "metadata": {},
   "outputs": [
    {
     "name": "stdout",
     "output_type": "stream",
     "text": [
      "+---+----+--------------------+--------------------+--------+--------------+------+\n",
      "|mes| ano|                nome|               cargo|situacao|salarioLiquido|estado|\n",
      "+---+----+--------------------+--------------------+--------+--------------+------+\n",
      "|  1|2020|ALESSANDRA SERAPO...| Sup. Adm Financeiro|   ATIVO|     3933.5598|    SP|\n",
      "|  1|2020|  ALINE DIAS MARTINS|          Analista I|   ATIVO|     3531.2703|    SP|\n",
      "|  1|2020| ANA MARIA M. CAIRES|Gestor(a) de Recu...|   ATIVO|       2947.29|    SP|\n",
      "|  1|2020|ANA PAULA DE BARR...|Sup. Relações Ins...|   ATIVO|     6716.3906|    SP|\n",
      "|  1|2020|ARMANDO DE ALMEID...|        Assessor III|   ATIVO|     5211.8105|    SP|\n",
      "|  1|2020|   ARY SCAPIN JUNIOR| Gerente de Projetos|   ATIVO|      5654.839|    SP|\n",
      "|  1|2020|BIANCA M. M. N. S...|         Analista II|   ATIVO|       3971.21|    SP|\n",
      "|  1|2020|  CAROLINA S. ATTILI|Agente de Desenvo...|   ATIVO|     2404.8398|    SP|\n",
      "|  1|2020|CINTIA G. SIQUEIR...|       Assistente II|   ATIVO|     2781.5103|    SP|\n",
      "|  1|2020|    DAIANE FARO ZUNO|         Assessor II|   ATIVO|     4023.3398|    SP|\n",
      "|  1|2020|DANIELA FREIRE SO...|          Analista I|   ATIVO|    -158.37012|    SP|\n",
      "|  1|2020|EVERTON CARLOS PR...|        Assessor III|   ATIVO|       3465.41|    SP|\n",
      "|  1|2020|GLEICE AP. DOS SA...|Agente de Desenvo...|   ATIVO|     2430.1802|    SP|\n",
      "|  1|2020|JESSICA S. CERQUEIRA|          Analista I|   ATIVO|     3506.2703|    SP|\n",
      "|  1|2020|JESSIKA P. FERNANDES| Gerente de Projetos|   ATIVO|       5604.76|    SP|\n",
      "|  1|2020|BRUNA PEREIRA PONTES|            Aprendiz|   ATIVO|     1225.2999|    SP|\n",
      "|  1|2020|FREDERICO ANASTAC...|  Diretor Presidente|   ATIVO|      14520.31|    SP|\n",
      "|  1|2020| PAULO M. T. RIBEIRO|             Diretor|   ATIVO|      14277.37|    SP|\n",
      "|  1|2020|JOSÉ CARLOS CALLE...|        Assessor III|   ATIVO|       5107.54|    SP|\n",
      "|  1|2020|JULIANA CRISTINA ...|Agente de Desenvo...|   ATIVO|     2061.7402|    SP|\n",
      "+---+----+--------------------+--------------------+--------+--------------+------+\n",
      "only showing top 20 rows\n",
      "\n"
     ]
    }
   ],
   "source": [
    "df_novo.show()"
   ]
  },
  {
   "cell_type": "markdown",
   "id": "05cf49bc-59e1-4e53-94a1-a86803673066",
   "metadata": {},
   "source": [
    "# EXPORTAÇÃO DO ARQUIVO"
   ]
  },
  {
   "cell_type": "code",
   "execution_count": 42,
   "id": "118376c0-594e-4f76-a478-af30220cd2c5",
   "metadata": {
    "tags": []
   },
   "outputs": [
    {
     "name": "stderr",
     "output_type": "stream",
     "text": [
      "                                                                                \r"
     ]
    }
   ],
   "source": [
    "(df_novo.write.format(\"parquet\")\n",
    ".option(\"header\", \"true\")\n",
    ".option(\"inferschema\", \"true\")\n",
    ".save(\"gs://projeto_final_2021/parquet_to_bq/SP\")\n",
    ")"
   ]
  }
 ],
 "metadata": {
  "kernelspec": {
   "display_name": "Python 3",
   "language": "python",
   "name": "python3"
  },
  "language_info": {
   "codemirror_mode": {
    "name": "ipython",
    "version": 3
   },
   "file_extension": ".py",
   "mimetype": "text/x-python",
   "name": "python",
   "nbconvert_exporter": "python",
   "pygments_lexer": "ipython3",
   "version": "3.8.12"
  },
  "toc-autonumbering": true,
  "toc-showmarkdowntxt": false
 },
 "nbformat": 4,
 "nbformat_minor": 5
}